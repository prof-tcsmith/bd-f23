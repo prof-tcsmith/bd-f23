{
 "cells": [
  {
   "attachments": {},
   "cell_type": "markdown",
   "metadata": {},
   "source": [
    "## U37870238 A2-Cassandra Python Programming\n",
    "#### Sri Venkata Likhitha Duggi"
   ]
  },
  {
   "attachments": {},
   "cell_type": "markdown",
   "metadata": {},
   "source": [
    "Import packages"
   ]
  },
  {
   "cell_type": "code",
   "execution_count": 1,
   "metadata": {},
   "outputs": [],
   "source": [
    "import pandas as pd\n",
    "from cassandra.cluster import Cluster"
   ]
  },
  {
   "attachments": {},
   "cell_type": "markdown",
   "metadata": {},
   "source": [
    "### Create a session connected to Cassandra Cluster"
   ]
  },
  {
   "cell_type": "code",
   "execution_count": 2,
   "metadata": {},
   "outputs": [],
   "source": [
    "clstr = Cluster()\n",
    "session = clstr.connect()"
   ]
  },
  {
   "attachments": {},
   "cell_type": "markdown",
   "metadata": {},
   "source": [
    "### Use session to 'talk' to cassandra"
   ]
  },
  {
   "cell_type": "code",
   "execution_count": 3,
   "metadata": {},
   "outputs": [
    {
     "data": {
      "text/plain": [
       "<cassandra.cluster.ResultSet at 0x7fc8703ea510>"
      ]
     },
     "execution_count": 3,
     "metadata": {},
     "output_type": "execute_result"
    }
   ],
   "source": [
    "session.execute(\"DROP KEYSPACE IF EXISTS bd23\")"
   ]
  },
  {
   "attachments": {},
   "cell_type": "markdown",
   "metadata": {},
   "source": [
    "Checking all keyspaces present"
   ]
  },
  {
   "cell_type": "code",
   "execution_count": 4,
   "metadata": {},
   "outputs": [
    {
     "name": "stdout",
     "output_type": "stream",
     "text": [
      "system\n",
      "system_auth\n",
      "system_distributed\n",
      "system_schema\n",
      "system_traces\n",
      "system_views\n",
      "system_virtual_schema\n",
      "w04python\n"
     ]
    }
   ],
   "source": [
    "rows = session.execute(\"desc keyspaces\")\n",
    "for row in rows:\n",
    "    print(f\"{row[0]}\")"
   ]
  },
  {
   "attachments": {},
   "cell_type": "markdown",
   "metadata": {},
   "source": [
    "### Question 5 - Creating bd23 keyspace"
   ]
  },
  {
   "cell_type": "code",
   "execution_count": 5,
   "metadata": {},
   "outputs": [
    {
     "data": {
      "text/plain": [
       "<cassandra.cluster.ResultSet at 0x7fc8487d2a50>"
      ]
     },
     "execution_count": 5,
     "metadata": {},
     "output_type": "execute_result"
    }
   ],
   "source": [
    "session.execute(\"CREATE KEYSPACE IF NOT EXISTS bd23 WITH REPLICATION = {'class':'SimpleStrategy', 'replication_factor':2}\")"
   ]
  },
  {
   "cell_type": "code",
   "execution_count": 6,
   "metadata": {},
   "outputs": [
    {
     "name": "stdout",
     "output_type": "stream",
     "text": [
      "bd23\n",
      "system\n",
      "system_auth\n",
      "system_distributed\n",
      "system_schema\n",
      "system_traces\n",
      "system_views\n",
      "system_virtual_schema\n",
      "w04python\n"
     ]
    }
   ],
   "source": [
    "rows = session.execute(\"desc keyspaces\")\n",
    "for row in rows:\n",
    "    print(f\"{row[0]}\")"
   ]
  },
  {
   "attachments": {},
   "cell_type": "markdown",
   "metadata": {},
   "source": [
    "### Question 6 - CREATE INVENTORY TABLE"
   ]
  },
  {
   "cell_type": "code",
   "execution_count": 8,
   "metadata": {},
   "outputs": [
    {
     "data": {
      "text/plain": [
       "<cassandra.cluster.ResultSet at 0x7fc8487c5e90>"
      ]
     },
     "execution_count": 8,
     "metadata": {},
     "output_type": "execute_result"
    }
   ],
   "source": [
    "# Create a table for inventory\n",
    "session.execute(\"\"\"\n",
    "    CREATE TABLE IF NOT EXISTS bd23.inventory (\n",
    "        SKU TEXT,\n",
    "        name TEXT,\n",
    "        description TEXT,\n",
    "        warehouse_num INT,\n",
    "        PRIMARY KEY(SKU)\n",
    "    )\n",
    "\"\"\")"
   ]
  },
  {
   "attachments": {},
   "cell_type": "markdown",
   "metadata": {},
   "source": [
    "### Question 7 - LOAD DATA"
   ]
  },
  {
   "cell_type": "code",
   "execution_count": 9,
   "metadata": {},
   "outputs": [],
   "source": [
    "# Insert data in the table\n",
    "data = [\n",
    "    (\"SKU1\", \"Books\", \"Long Notebooks\", 123),\n",
    "    (\"SKU2\", \"Printer\", \"Laser Color printer\", 124),\n",
    "    (\"SKU3\", \"Sofa\", \"Five Seater L shaped sofa set\", 125),\n",
    "    (\"SKU4\", \"Microwave\", \"Grill Microwave oven\", 126),\n",
    "    (\"SKU5\", \"Table\", \"Multipurpose table\", 123),\n",
    "    (\"SKU6\", \"Chair\", \"Foldable chair with laptop stand\", 123)\n",
    "]\n",
    "\n",
    "for product in data:\n",
    "    session.execute(\"INSERT INTO bd23.inventory (SKU, name, description, warehouse_num) VALUES (%s, %s, %s, %s)\", product)\n"
   ]
  },
  {
   "cell_type": "code",
   "execution_count": 10,
   "metadata": {},
   "outputs": [
    {
     "name": "stdout",
     "output_type": "stream",
     "text": [
      "All Entries in the Inventory Table:\n",
      "Row(sku='SKU1', description='Long Notebooks', name='Books', warehouse_num=123)\n",
      "Row(sku='SKU2', description='Laser Color printer', name='Printer', warehouse_num=124)\n",
      "Row(sku='SKU5', description='Multipurpose table', name='Table', warehouse_num=123)\n",
      "Row(sku='SKU4', description='Grill Microwave oven', name='Microwave', warehouse_num=126)\n",
      "Row(sku='SKU6', description='Foldable chair with laptop stand', name='Chair', warehouse_num=123)\n",
      "Row(sku='SKU3', description='Five Seater L shaped sofa set', name='Sofa', warehouse_num=125)\n"
     ]
    }
   ],
   "source": [
    "# Query and print all entries in the inventory table\n",
    "query = session.execute(\"SELECT * FROM bd23.inventory\")\n",
    "\n",
    "print(\"All Entries in the Inventory Table:\")\n",
    "for row in query:\n",
    "    print(row)\n"
   ]
  },
  {
   "attachments": {},
   "cell_type": "markdown",
   "metadata": {},
   "source": [
    "### Question 8 - Searching for products located at warehouse_num = 123"
   ]
  },
  {
   "cell_type": "code",
   "execution_count": 11,
   "metadata": {},
   "outputs": [
    {
     "name": "stdout",
     "output_type": "stream",
     "text": [
      "Row(sku='SKU1', description='Long Notebooks', name='Books', warehouse_num=123)\n",
      "Row(sku='SKU5', description='Multipurpose table', name='Table', warehouse_num=123)\n",
      "Row(sku='SKU6', description='Foldable chair with laptop stand', name='Chair', warehouse_num=123)\n"
     ]
    }
   ],
   "source": [
    "# Query for products in warehouse_num 123\n",
    "query = session.execute(\"SELECT * FROM bd23.inventory WHERE warehouse_num = 123 ALLOW FILTERING\")\n",
    "\n",
    "for row in query:\n",
    "    print(row)\n"
   ]
  },
  {
   "cell_type": "code",
   "execution_count": null,
   "metadata": {},
   "outputs": [],
   "source": []
  }
 ],
 "metadata": {
  "kernelspec": {
   "display_name": "bd",
   "language": "python",
   "name": "python3"
  },
  "language_info": {
   "codemirror_mode": {
    "name": "ipython",
    "version": 3
   },
   "file_extension": ".py",
   "mimetype": "text/x-python",
   "name": "python",
   "nbconvert_exporter": "python",
   "pygments_lexer": "ipython3",
   "version": "3.11.4"
  },
  "orig_nbformat": 4
 },
 "nbformat": 4,
 "nbformat_minor": 2
}
