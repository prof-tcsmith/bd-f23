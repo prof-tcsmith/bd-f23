{
 "cells": [
  {
   "cell_type": "markdown",
   "metadata": {},
   "source": [
    "## Mid term Assignment Cassandra"
   ]
  },
  {
   "cell_type": "markdown",
   "metadata": {},
   "source": [
    "## Submitted by Aarsha Joji"
   ]
  },
  {
   "cell_type": "markdown",
   "metadata": {},
   "source": [
    "### Import packages"
   ]
  },
  {
   "cell_type": "code",
   "execution_count": 2,
   "metadata": {},
   "outputs": [],
   "source": [
    "import pandas as pd\n",
    "from cassandra.cluster import Cluster"
   ]
  },
  {
   "cell_type": "markdown",
   "metadata": {},
   "source": [
    "### Create a session connection to Cassandra cluster"
   ]
  },
  {
   "cell_type": "code",
   "execution_count": 3,
   "metadata": {},
   "outputs": [],
   "source": [
    "clstr = Cluster()\n",
    "session = clstr.connect()"
   ]
  },
  {
   "cell_type": "markdown",
   "metadata": {},
   "source": [
    "### Use session to 'talk' to cassandra"
   ]
  },
  {
   "cell_type": "code",
   "execution_count": 4,
   "metadata": {},
   "outputs": [
    {
     "data": {
      "text/plain": [
       "<cassandra.cluster.ResultSet at 0x7f97005a4790>"
      ]
     },
     "execution_count": 4,
     "metadata": {},
     "output_type": "execute_result"
    }
   ],
   "source": [
    "session.execute(\"DROP KEYSPACE IF EXISTS sond\")"
   ]
  },
  {
   "cell_type": "code",
   "execution_count": 5,
   "metadata": {},
   "outputs": [
    {
     "name": "stdout",
     "output_type": "stream",
     "text": [
      "bd23\n",
      "stu\n",
      "system\n",
      "system_auth\n",
      "system_distributed\n",
      "system_schema\n",
      "system_traces\n",
      "system_views\n",
      "system_virtual_schema\n"
     ]
    }
   ],
   "source": [
    "rows = session.execute(\"desc keyspaces\")\n",
    "for row in rows:\n",
    "    print(f\"{row[0]}\")"
   ]
  },
  {
   "cell_type": "markdown",
   "metadata": {},
   "source": [
    "### Create a keyspace - song"
   ]
  },
  {
   "cell_type": "code",
   "execution_count": 6,
   "metadata": {},
   "outputs": [
    {
     "data": {
      "text/plain": [
       "<cassandra.cluster.ResultSet at 0x7f9701fd6210>"
      ]
     },
     "execution_count": 6,
     "metadata": {},
     "output_type": "execute_result"
    }
   ],
   "source": [
    "session.execute(\"\"\"\n",
    "    CREATE KEYSPACE IF NOT EXISTS song WITH REPLICATION = {\n",
    "        'class':'SimpleStrategy', \n",
    "        'replication_factor':3\n",
    "    }\n",
    "\"\"\")"
   ]
  },
  {
   "cell_type": "code",
   "execution_count": 7,
   "metadata": {},
   "outputs": [
    {
     "name": "stdout",
     "output_type": "stream",
     "text": [
      "bd23\n",
      "song\n",
      "stu\n",
      "system\n",
      "system_auth\n",
      "system_distributed\n",
      "system_schema\n",
      "system_traces\n",
      "system_views\n",
      "system_virtual_schema\n"
     ]
    }
   ],
   "source": [
    "rows = session.execute(\"desc keyspaces\")\n",
    "for row in rows:\n",
    "    print(f\"{row[0]}\")"
   ]
  },
  {
   "cell_type": "markdown",
   "metadata": {},
   "source": [
    "### Create a Music table for testing"
   ]
  },
  {
   "cell_type": "code",
   "execution_count": 8,
   "metadata": {},
   "outputs": [
    {
     "data": {
      "text/plain": [
       "<cassandra.cluster.ResultSet at 0x7f96c6aa5450>"
      ]
     },
     "execution_count": 8,
     "metadata": {},
     "output_type": "execute_result"
    }
   ],
   "source": [
    "session.execute(\"\"\"\n",
    "CREATE TABLE IF NOT EXISTS song.music ( \n",
    "    songid INT, \n",
    "    title TEXT, \n",
    "    duration INT, \n",
    "    genre TEXT, \n",
    "    PRIMARY KEY(songid)\n",
    ");\n",
    "\"\"\")"
   ]
  },
  {
   "cell_type": "markdown",
   "metadata": {},
   "source": [
    "### Load data"
   ]
  },
  {
   "cell_type": "code",
   "execution_count": 9,
   "metadata": {},
   "outputs": [
    {
     "data": {
      "text/html": [
       "<div>\n",
       "<style scoped>\n",
       "    .dataframe tbody tr th:only-of-type {\n",
       "        vertical-align: middle;\n",
       "    }\n",
       "\n",
       "    .dataframe tbody tr th {\n",
       "        vertical-align: top;\n",
       "    }\n",
       "\n",
       "    .dataframe thead th {\n",
       "        text-align: right;\n",
       "    }\n",
       "</style>\n",
       "<table border=\"1\" class=\"dataframe\">\n",
       "  <thead>\n",
       "    <tr style=\"text-align: right;\">\n",
       "      <th></th>\n",
       "      <th>songid</th>\n",
       "      <th>title</th>\n",
       "      <th>duration</th>\n",
       "      <th>genre</th>\n",
       "    </tr>\n",
       "  </thead>\n",
       "  <tbody>\n",
       "    <tr>\n",
       "      <th>0</th>\n",
       "      <td>1</td>\n",
       "      <td>'beetle'</td>\n",
       "      <td>300</td>\n",
       "      <td>'pop'</td>\n",
       "    </tr>\n",
       "    <tr>\n",
       "      <th>1</th>\n",
       "      <td>2</td>\n",
       "      <td>'army'</td>\n",
       "      <td>305</td>\n",
       "      <td>'rock'</td>\n",
       "    </tr>\n",
       "    <tr>\n",
       "      <th>2</th>\n",
       "      <td>3</td>\n",
       "      <td>'queen'</td>\n",
       "      <td>306</td>\n",
       "      <td>'classical'</td>\n",
       "    </tr>\n",
       "    <tr>\n",
       "      <th>3</th>\n",
       "      <td>4</td>\n",
       "      <td>'love'</td>\n",
       "      <td>306</td>\n",
       "      <td>'country'</td>\n",
       "    </tr>\n",
       "    <tr>\n",
       "      <th>4</th>\n",
       "      <td>5</td>\n",
       "      <td>'king'</td>\n",
       "      <td>300</td>\n",
       "      <td>'pop'</td>\n",
       "    </tr>\n",
       "  </tbody>\n",
       "</table>\n",
       "</div>"
      ],
      "text/plain": [
       "   songid     title  duration        genre\n",
       "0       1  'beetle'       300        'pop'\n",
       "1       2    'army'       305       'rock'\n",
       "2       3   'queen'       306  'classical'\n",
       "3       4    'love'       306    'country'\n",
       "4       5    'king'       300        'pop'"
      ]
     },
     "execution_count": 9,
     "metadata": {},
     "output_type": "execute_result"
    }
   ],
   "source": [
    "df = pd.read_csv('songcollection.csv')\n",
    "df"
   ]
  },
  {
   "cell_type": "code",
   "execution_count": 10,
   "metadata": {},
   "outputs": [
    {
     "name": "stdout",
     "output_type": "stream",
     "text": [
      "songid = 1, title ='beetle', duration = 300, genre = 'pop'\n",
      "songid = 2, title ='army', duration = 305, genre = 'rock'\n",
      "songid = 3, title ='queen', duration = 306, genre = 'classical'\n",
      "songid = 4, title ='love', duration = 306, genre = 'country'\n",
      "songid = 5, title ='king', duration = 300, genre = 'pop'\n"
     ]
    }
   ],
   "source": [
    "for index, row in df.iterrows():\n",
    "    print(f\"songid = {row.songid}, title ={row.title}, duration = {row.duration}, genre = {row.genre}\")"
   ]
  },
  {
   "cell_type": "code",
   "execution_count": 11,
   "metadata": {},
   "outputs": [
    {
     "name": "stdout",
     "output_type": "stream",
     "text": [
      "\n",
      "        INSERT INTO song.music (songid, title, duration, genre)     \n",
      "        VALUES (1, 'beetle', 300, 'pop');\n",
      "        \n",
      "\n",
      "        INSERT INTO song.music (songid, title, duration, genre)     \n",
      "        VALUES (2, 'army', 305, 'rock');\n",
      "        \n",
      "\n",
      "        INSERT INTO song.music (songid, title, duration, genre)     \n",
      "        VALUES (3, 'queen', 306, 'classical');\n",
      "        \n",
      "\n",
      "        INSERT INTO song.music (songid, title, duration, genre)     \n",
      "        VALUES (4, 'love', 306, 'country');\n",
      "        \n",
      "\n",
      "        INSERT INTO song.music (songid, title, duration, genre)     \n",
      "        VALUES (5, 'king', 300, 'pop');\n",
      "        \n"
     ]
    }
   ],
   "source": [
    "for index, row in df.iterrows():\n",
    "    print(f\"\"\"\n",
    "        INSERT INTO song.music (songid, title, duration, genre)     \n",
    "        VALUES ({row.songid}, {row.title}, {row.duration}, {row.genre});\n",
    "        \"\"\"\n",
    "    )\n",
    "    session.execute(f\"\"\"\n",
    "        INSERT INTO song.music (songid, title, duration, genre)     \n",
    "        VALUES ({row.songid}, {row.title}, {row.duration}, {row.genre});\n",
    "        \"\"\"\n",
    "    )"
   ]
  },
  {
   "cell_type": "code",
   "execution_count": 13,
   "metadata": {},
   "outputs": [
    {
     "name": "stdout",
     "output_type": "stream",
     "text": [
      "songid=5, title=king, duration=300, genre=pop\n",
      "songid=1, title=beetle, duration=300, genre=pop\n",
      "songid=2, title=army, duration=305, genre=rock\n",
      "songid=4, title=love, duration=306, genre=country\n",
      "songid=3, title=queen, duration=306, genre=classical\n"
     ]
    }
   ],
   "source": [
    "rows = session.execute(\"select (songid, title, duration, genre) from song.music\")\n",
    "for row in rows:\n",
    "    print(f\"songid={row[0][0]}, title={row[0][1]}, duration={row[0][2]}, genre={row[0][3]}\")"
   ]
  },
  {
   "cell_type": "markdown",
   "metadata": {},
   "source": [
    "### Adding a new Record"
   ]
  },
  {
   "cell_type": "markdown",
   "metadata": {},
   "source": [
    "### I am adding a total of four records into the existing dataset"
   ]
  },
  {
   "cell_type": "code",
   "execution_count": 17,
   "metadata": {},
   "outputs": [
    {
     "data": {
      "text/plain": [
       "<cassandra.cluster.ResultSet at 0x7f96c7c13b10>"
      ]
     },
     "execution_count": 17,
     "metadata": {},
     "output_type": "execute_result"
    }
   ],
   "source": [
    "session.execute(f\"\"\"\n",
    "INSERT INTO song.music (songid, title, duration, genre)     \n",
    "    VALUES (6,'mother', 309, 'classical');\n",
    "\"\"\"\n",
    ")"
   ]
  },
  {
   "cell_type": "code",
   "execution_count": 32,
   "metadata": {},
   "outputs": [
    {
     "data": {
      "text/plain": [
       "<cassandra.cluster.ResultSet at 0x7f96c4c64dd0>"
      ]
     },
     "execution_count": 32,
     "metadata": {},
     "output_type": "execute_result"
    }
   ],
   "source": [
    "session.execute(f\"\"\"\n",
    "INSERT INTO song.music (songid, title, duration, genre)     \n",
    "    VALUES (7,'prince', 310, 'pop');\n",
    "\"\"\"\n",
    ")\n",
    "\n",
    "session.execute(f\"\"\"\n",
    "INSERT INTO song.music (songid, title, duration, genre)     \n",
    "    VALUES (8,'people', 305, 'rock');\n",
    "\"\"\"\n",
    ")\n",
    "\n",
    "session.execute(f\"\"\"\n",
    "INSERT INTO song.music (songid, title, duration, genre)     \n",
    "    VALUES (9,'stoppable', 300, 'country');\n",
    "\"\"\"\n",
    ")"
   ]
  },
  {
   "cell_type": "code",
   "execution_count": 33,
   "metadata": {},
   "outputs": [
    {
     "name": "stdout",
     "output_type": "stream",
     "text": [
      "songid=5, title=king, duration=300, genre=pop\n",
      "songid=1, title=beetle, duration=300, genre=pop\n",
      "songid=8, title=people, duration=305, genre=rock\n",
      "songid=2, title=army, duration=305, genre=rock\n",
      "songid=4, title=love, duration=306, genre=country\n",
      "songid=7, title=prince, duration=310, genre=pop\n",
      "songid=6, title=mother, duration=309, genre=classical\n",
      "songid=9, title=stoppable, duration=300, genre=country\n",
      "songid=3, title=queen, duration=306, genre=classical\n"
     ]
    }
   ],
   "source": [
    "rows = session.execute(\"select (songid, title, duration, genre) from song.music\")\n",
    "for row in rows:\n",
    "    print(f\"songid={row[0][0]}, title={row[0][1]}, duration={row[0][2]}, genre={row[0][3]}\")"
   ]
  },
  {
   "cell_type": "markdown",
   "metadata": {},
   "source": [
    "### Deleting a record\n"
   ]
  },
  {
   "cell_type": "markdown",
   "metadata": {},
   "source": [
    "### Deleting the records with songid =3 and songid =4"
   ]
  },
  {
   "cell_type": "code",
   "execution_count": 35,
   "metadata": {},
   "outputs": [
    {
     "data": {
      "text/plain": [
       "<cassandra.cluster.ResultSet at 0x7f96c6ab01d0>"
      ]
     },
     "execution_count": 35,
     "metadata": {},
     "output_type": "execute_result"
    }
   ],
   "source": [
    "session.execute(f\"\"\"\n",
    "Delete from song.music\n",
    "where songid = 3                             \n",
    "\"\"\"\n",
    ")"
   ]
  },
  {
   "cell_type": "code",
   "execution_count": 36,
   "metadata": {},
   "outputs": [
    {
     "name": "stdout",
     "output_type": "stream",
     "text": [
      "songid=5, title=king, duration=300, genre=pop\n",
      "songid=1, title=beetle, duration=300, genre=pop\n",
      "songid=8, title=people, duration=305, genre=rock\n",
      "songid=2, title=army, duration=305, genre=rock\n",
      "songid=4, title=love, duration=306, genre=country\n",
      "songid=7, title=prince, duration=310, genre=pop\n",
      "songid=6, title=mother, duration=309, genre=classical\n",
      "songid=9, title=stoppable, duration=300, genre=country\n"
     ]
    }
   ],
   "source": [
    "rows = session.execute(\"select (songid, title, duration, genre) from song.music\")\n",
    "for row in rows:\n",
    "    print(f\"songid={row[0][0]}, title={row[0][1]}, duration={row[0][2]}, genre={row[0][3]}\")"
   ]
  },
  {
   "cell_type": "code",
   "execution_count": 39,
   "metadata": {},
   "outputs": [
    {
     "data": {
      "text/plain": [
       "<cassandra.cluster.ResultSet at 0x7f96c4cc00d0>"
      ]
     },
     "execution_count": 39,
     "metadata": {},
     "output_type": "execute_result"
    }
   ],
   "source": [
    "session.execute(f\"\"\"\n",
    "Delete from song.music\n",
    "where songid = 4                            \n",
    "\"\"\"\n",
    ")"
   ]
  },
  {
   "cell_type": "code",
   "execution_count": 40,
   "metadata": {},
   "outputs": [
    {
     "name": "stdout",
     "output_type": "stream",
     "text": [
      "songid=5, title=king, duration=300, genre=pop\n",
      "songid=1, title=beetle, duration=300, genre=pop\n",
      "songid=8, title=people, duration=305, genre=rock\n",
      "songid=2, title=army, duration=305, genre=rock\n",
      "songid=7, title=prince, duration=310, genre=pop\n",
      "songid=6, title=mother, duration=309, genre=classical\n",
      "songid=9, title=stoppable, duration=302, genre=country\n"
     ]
    }
   ],
   "source": [
    "rows = session.execute(\"select (songid, title, duration, genre) from song.music\")\n",
    "for row in rows:\n",
    "    print(f\"songid={row[0][0]}, title={row[0][1]}, duration={row[0][2]}, genre={row[0][3]}\")"
   ]
  },
  {
   "cell_type": "markdown",
   "metadata": {},
   "source": [
    "### updating an existing record"
   ]
  },
  {
   "cell_type": "markdown",
   "metadata": {},
   "source": [
    "#### Updatin the record to set duration to 302 from singid = 9"
   ]
  },
  {
   "cell_type": "code",
   "execution_count": 37,
   "metadata": {},
   "outputs": [
    {
     "data": {
      "text/plain": [
       "<cassandra.cluster.ResultSet at 0x7f96c4cfb610>"
      ]
     },
     "execution_count": 37,
     "metadata": {},
     "output_type": "execute_result"
    }
   ],
   "source": [
    "session.execute(f\"\"\"\n",
    "update song.music\n",
    "set duration = 302\n",
    "where songid = 9                            \n",
    "\"\"\"\n",
    ")"
   ]
  },
  {
   "cell_type": "code",
   "execution_count": 38,
   "metadata": {},
   "outputs": [
    {
     "name": "stdout",
     "output_type": "stream",
     "text": [
      "songid=5, title=king, duration=300, genre=pop\n",
      "songid=1, title=beetle, duration=300, genre=pop\n",
      "songid=8, title=people, duration=305, genre=rock\n",
      "songid=2, title=army, duration=305, genre=rock\n",
      "songid=4, title=love, duration=306, genre=country\n",
      "songid=7, title=prince, duration=310, genre=pop\n",
      "songid=6, title=mother, duration=309, genre=classical\n",
      "songid=9, title=stoppable, duration=302, genre=country\n"
     ]
    }
   ],
   "source": [
    "rows = session.execute(\"select (songid, title, duration, genre) from song.music\")\n",
    "for row in rows:\n",
    "    print(f\"songid={row[0][0]}, title={row[0][1]}, duration={row[0][2]}, genre={row[0][3]}\")"
   ]
  },
  {
   "cell_type": "markdown",
   "metadata": {},
   "source": [
    "#### Updating the record to set title to country for singid = 7"
   ]
  },
  {
   "cell_type": "code",
   "execution_count": 41,
   "metadata": {},
   "outputs": [
    {
     "data": {
      "text/plain": [
       "<cassandra.cluster.ResultSet at 0x7f96c4c568d0>"
      ]
     },
     "execution_count": 41,
     "metadata": {},
     "output_type": "execute_result"
    }
   ],
   "source": [
    "session.execute(f\"\"\"\n",
    "update song.music\n",
    "set genre = 'country'\n",
    "where songid = 7                            \n",
    "\"\"\"\n",
    ")"
   ]
  },
  {
   "cell_type": "code",
   "execution_count": 42,
   "metadata": {},
   "outputs": [
    {
     "name": "stdout",
     "output_type": "stream",
     "text": [
      "songid=5, title=king, duration=300, genre=pop\n",
      "songid=1, title=beetle, duration=300, genre=pop\n",
      "songid=8, title=people, duration=305, genre=rock\n",
      "songid=2, title=army, duration=305, genre=rock\n",
      "songid=7, title=prince, duration=310, genre=country\n",
      "songid=6, title=mother, duration=309, genre=classical\n",
      "songid=9, title=stoppable, duration=302, genre=country\n"
     ]
    }
   ],
   "source": [
    "rows = session.execute(\"select (songid, title, duration, genre) from song.music\")\n",
    "for row in rows:\n",
    "    print(f\"songid={row[0][0]}, title={row[0][1]}, duration={row[0][2]}, genre={row[0][3]}\")"
   ]
  },
  {
   "cell_type": "markdown",
   "metadata": {},
   "source": [
    "#### Updatin the record to set genre as country from singid = 2"
   ]
  },
  {
   "cell_type": "code",
   "execution_count": 43,
   "metadata": {},
   "outputs": [
    {
     "data": {
      "text/plain": [
       "<cassandra.cluster.ResultSet at 0x7f96c6a7ab90>"
      ]
     },
     "execution_count": 43,
     "metadata": {},
     "output_type": "execute_result"
    }
   ],
   "source": [
    "session.execute(f\"\"\"\n",
    "update song.music\n",
    "set genre = 'country'\n",
    "where songid = 2                            \n",
    "\"\"\"\n",
    ")"
   ]
  },
  {
   "cell_type": "code",
   "execution_count": 44,
   "metadata": {},
   "outputs": [
    {
     "name": "stdout",
     "output_type": "stream",
     "text": [
      "songid=5, title=king, duration=300, genre=pop\n",
      "songid=1, title=beetle, duration=300, genre=pop\n",
      "songid=8, title=people, duration=305, genre=rock\n",
      "songid=2, title=army, duration=305, genre=country\n",
      "songid=7, title=prince, duration=310, genre=country\n",
      "songid=6, title=mother, duration=309, genre=classical\n",
      "songid=9, title=stoppable, duration=302, genre=country\n"
     ]
    }
   ],
   "source": [
    "rows = session.execute(\"select (songid, title, duration, genre) from song.music\")\n",
    "for row in rows:\n",
    "    print(f\"songid={row[0][0]}, title={row[0][1]}, duration={row[0][2]}, genre={row[0][3]}\")"
   ]
  }
 ],
 "metadata": {
  "kernelspec": {
   "display_name": "bd",
   "language": "python",
   "name": "python3"
  },
  "language_info": {
   "codemirror_mode": {
    "name": "ipython",
    "version": 3
   },
   "file_extension": ".py",
   "mimetype": "text/x-python",
   "name": "python",
   "nbconvert_exporter": "python",
   "pygments_lexer": "ipython3",
   "version": "3.11.5"
  },
  "orig_nbformat": 4
 },
 "nbformat": 4,
 "nbformat_minor": 2
}
