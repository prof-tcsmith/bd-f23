{
 "cells": [
  {
   "cell_type": "code",
   "execution_count": 47,
   "metadata": {},
   "outputs": [],
   "source": [
    "import pandas as pd\n",
    "from cassandra.cluster import Cluster\n",
    "clstr = Cluster()\n",
    "session = clstr.connect()"
   ]
  },
  {
   "cell_type": "code",
   "execution_count": 58,
   "metadata": {},
   "outputs": [
    {
     "data": {
      "text/plain": [
       "<cassandra.cluster.ResultSet at 0x7f45c03f3a60>"
      ]
     },
     "execution_count": 58,
     "metadata": {},
     "output_type": "execute_result"
    }
   ],
   "source": [
    "session.execute(\"CREATE KEYSPACE IF NOT EXISTS exam WITH REPLICATION = {'class':'SimpleStrategy', 'replication_factor':2}\")"
   ]
  },
  {
   "cell_type": "code",
   "execution_count": 59,
   "metadata": {},
   "outputs": [
    {
     "data": {
      "text/plain": [
       "<cassandra.cluster.ResultSet at 0x7f45c065b190>"
      ]
     },
     "execution_count": 59,
     "metadata": {},
     "output_type": "execute_result"
    }
   ],
   "source": [
    "\n",
    "\n",
    "session.execute(\"\"\"\n",
    "CREATE TABLE IF NOT EXISTS exam.song (\n",
    "    song_id INT, \n",
    "    title TEXT, \n",
    "    duration INT, \n",
    "    genre TEXT, \n",
    "    PRIMARY KEY(genre,song_id)\n",
    ");\n",
    "\"\"\")"
   ]
  },
  {
   "cell_type": "code",
   "execution_count": 60,
   "metadata": {},
   "outputs": [
    {
     "data": {
      "text/html": [
       "<div>\n",
       "<style scoped>\n",
       "    .dataframe tbody tr th:only-of-type {\n",
       "        vertical-align: middle;\n",
       "    }\n",
       "\n",
       "    .dataframe tbody tr th {\n",
       "        vertical-align: top;\n",
       "    }\n",
       "\n",
       "    .dataframe thead th {\n",
       "        text-align: right;\n",
       "    }\n",
       "</style>\n",
       "<table border=\"1\" class=\"dataframe\">\n",
       "  <thead>\n",
       "    <tr style=\"text-align: right;\">\n",
       "      <th></th>\n",
       "      <th>song_id</th>\n",
       "      <th>title</th>\n",
       "      <th>duration</th>\n",
       "      <th>genre</th>\n",
       "    </tr>\n",
       "  </thead>\n",
       "  <tbody>\n",
       "    <tr>\n",
       "      <th>0</th>\n",
       "      <td>1000</td>\n",
       "      <td>'Tim'</td>\n",
       "      <td>95</td>\n",
       "      <td>'pop'</td>\n",
       "    </tr>\n",
       "    <tr>\n",
       "      <th>1</th>\n",
       "      <td>1001</td>\n",
       "      <td>'John'</td>\n",
       "      <td>97</td>\n",
       "      <td>'rock'</td>\n",
       "    </tr>\n",
       "    <tr>\n",
       "      <th>2</th>\n",
       "      <td>1002</td>\n",
       "      <td>'Jane'</td>\n",
       "      <td>89</td>\n",
       "      <td>'classic'</td>\n",
       "    </tr>\n",
       "    <tr>\n",
       "      <th>3</th>\n",
       "      <td>1003</td>\n",
       "      <td>'Betty'</td>\n",
       "      <td>78</td>\n",
       "      <td>'country'</td>\n",
       "    </tr>\n",
       "    <tr>\n",
       "      <th>4</th>\n",
       "      <td>1004</td>\n",
       "      <td>'Jim'</td>\n",
       "      <td>65</td>\n",
       "      <td>'pop'</td>\n",
       "    </tr>\n",
       "    <tr>\n",
       "      <th>5</th>\n",
       "      <td>1005</td>\n",
       "      <td>'Frank'</td>\n",
       "      <td>97</td>\n",
       "      <td>'rock'</td>\n",
       "    </tr>\n",
       "    <tr>\n",
       "      <th>6</th>\n",
       "      <td>1006</td>\n",
       "      <td>'Judy'</td>\n",
       "      <td>83</td>\n",
       "      <td>'classic'</td>\n",
       "    </tr>\n",
       "  </tbody>\n",
       "</table>\n",
       "</div>"
      ],
      "text/plain": [
       "   song_id    title  duration      genre\n",
       "0     1000    'Tim'        95     'pop' \n",
       "1     1001   'John'        97     'rock'\n",
       "2     1002   'Jane'        89  'classic'\n",
       "3     1003  'Betty'        78  'country'\n",
       "4     1004    'Jim'        65      'pop'\n",
       "5     1005  'Frank'        97     'rock'\n",
       "6     1006   'Judy'        83  'classic'"
      ]
     },
     "execution_count": 60,
     "metadata": {},
     "output_type": "execute_result"
    }
   ],
   "source": [
    "df = pd.read_csv('w04.csv')\n",
    "df"
   ]
  },
  {
   "cell_type": "code",
   "execution_count": 66,
   "metadata": {},
   "outputs": [
    {
     "name": "stdout",
     "output_type": "stream",
     "text": [
      "song_id = 1000, title ='Tim', duration = 95,genre = 'pop' \n",
      "song_id = 1001, title ='John', duration = 97,genre = 'rock'\n",
      "song_id = 1002, title ='Jane', duration = 89,genre = 'classic'\n",
      "song_id = 1003, title ='Betty', duration = 78,genre = 'country'\n",
      "song_id = 1004, title ='Jim', duration = 65,genre = 'pop'\n",
      "song_id = 1005, title ='Frank', duration = 97,genre = 'rock'\n",
      "song_id = 1006, title ='Judy', duration = 83,genre = 'classic'\n"
     ]
    }
   ],
   "source": [
    "for index, row in df.iterrows():\n",
    "    print(f\"song_id = {row.song_id}, title ={row.title}, duration = {row.duration},genre = {row.genre}\")"
   ]
  },
  {
   "cell_type": "code",
   "execution_count": 67,
   "metadata": {},
   "outputs": [
    {
     "name": "stdout",
     "output_type": "stream",
     "text": [
      "\n",
      "        INSERT INTO exam.song(song_id,title,duration, genre)     \n",
      "        VALUES (1000, 'Tim', 95, 'pop' );\n",
      "        \n"
     ]
    },
    {
     "ename": "SyntaxException",
     "evalue": "<Error from server: code=2000 [Syntax error in CQL query] message=\"line 3:15 mismatched input 'VALUES' expecting '(' (...title,duration, genre)            VALUES [VALUES]...)\">",
     "output_type": "error",
     "traceback": [
      "\u001b[0;31m---------------------------------------------------------------------------\u001b[0m",
      "\u001b[0;31mSyntaxException\u001b[0m                           Traceback (most recent call last)",
      "Cell \u001b[0;32mIn[67], line 7\u001b[0m\n\u001b[1;32m      1\u001b[0m \u001b[39mfor\u001b[39;00m index, row \u001b[39min\u001b[39;00m df\u001b[39m.\u001b[39miterrows():\n\u001b[1;32m      2\u001b[0m     \u001b[39mprint\u001b[39m(\u001b[39mf\u001b[39m\u001b[39m\"\"\"\u001b[39m\n\u001b[1;32m      3\u001b[0m \u001b[39m        INSERT INTO exam.song(song_id,title,duration, genre)     \u001b[39m\n\u001b[1;32m      4\u001b[0m \u001b[39m        VALUES (\u001b[39m\u001b[39m{\u001b[39;00mrow\u001b[39m.\u001b[39msong_id\u001b[39m}\u001b[39;00m\u001b[39m, \u001b[39m\u001b[39m{\u001b[39;00mrow\u001b[39m.\u001b[39mtitle\u001b[39m}\u001b[39;00m\u001b[39m, \u001b[39m\u001b[39m{\u001b[39;00mrow\u001b[39m.\u001b[39mduration\u001b[39m}\u001b[39;00m\u001b[39m, \u001b[39m\u001b[39m{\u001b[39;00mrow\u001b[39m.\u001b[39mgenre\u001b[39m}\u001b[39;00m\u001b[39m);\u001b[39m\n\u001b[1;32m      5\u001b[0m \u001b[39m        \u001b[39m\u001b[39m\"\"\"\u001b[39m\n\u001b[1;32m      6\u001b[0m     )\n\u001b[0;32m----> 7\u001b[0m     session\u001b[39m.\u001b[39;49mexecute(\u001b[39mf\u001b[39;49m\u001b[39m\"\"\"\u001b[39;49m\n\u001b[1;32m      8\u001b[0m \u001b[39m        INSERT INTO exam.song(song_id,title,duration, genre)    \u001b[39;49m\n\u001b[1;32m      9\u001b[0m \u001b[39m        VALUES VALUES (\u001b[39;49m\u001b[39m{\u001b[39;49;00mrow\u001b[39m.\u001b[39;49msong_id\u001b[39m}\u001b[39;49;00m\u001b[39m, \u001b[39;49m\u001b[39m{\u001b[39;49;00mrow\u001b[39m.\u001b[39;49mtitle\u001b[39m}\u001b[39;49;00m\u001b[39m, \u001b[39;49m\u001b[39m{\u001b[39;49;00mrow\u001b[39m.\u001b[39;49mduration\u001b[39m}\u001b[39;49;00m\u001b[39m, \u001b[39;49m\u001b[39m{\u001b[39;49;00mrow\u001b[39m.\u001b[39;49mgenre\u001b[39m}\u001b[39;49;00m\u001b[39m);;\u001b[39;49m\n\u001b[1;32m     10\u001b[0m \u001b[39m        \u001b[39;49m\u001b[39m\"\"\"\u001b[39;49m\n\u001b[1;32m     11\u001b[0m     )\n",
      "File \u001b[0;32m~/miniconda3/lib/python3.10/site-packages/cassandra/cluster.py:2618\u001b[0m, in \u001b[0;36mcassandra.cluster.Session.execute\u001b[0;34m()\u001b[0m\n",
      "File \u001b[0;32m~/miniconda3/lib/python3.10/site-packages/cassandra/cluster.py:4894\u001b[0m, in \u001b[0;36mcassandra.cluster.ResponseFuture.result\u001b[0;34m()\u001b[0m\n",
      "\u001b[0;31mSyntaxException\u001b[0m: <Error from server: code=2000 [Syntax error in CQL query] message=\"line 3:15 mismatched input 'VALUES' expecting '(' (...title,duration, genre)            VALUES [VALUES]...)\">"
     ]
    }
   ],
   "source": [
    "for index, row in df.iterrows():\n",
    "    print(f\"\"\"\n",
    "        INSERT INTO exam.song(song_id,title,duration, genre)     \n",
    "        VALUES ({row.song_id}, {row.title}, {row.duration}, {row.genre});\n",
    "        \"\"\"\n",
    "    )\n",
    "    session.execute(f\"\"\"\n",
    "        INSERT INTO exam.song(song_id,title,duration, genre)    \n",
    "        VALUES VALUES ({row.song_id}, {row.title}, {row.duration}, {row.genre});;\n",
    "        \"\"\"\n",
    "    )"
   ]
  }
 ],
 "metadata": {
  "kernelspec": {
   "display_name": "base",
   "language": "python",
   "name": "python3"
  },
  "language_info": {
   "codemirror_mode": {
    "name": "ipython",
    "version": 3
   },
   "file_extension": ".py",
   "mimetype": "text/x-python",
   "name": "python",
   "nbconvert_exporter": "python",
   "pygments_lexer": "ipython3",
   "version": "3.10.10"
  },
  "orig_nbformat": 4
 },
 "nbformat": 4,
 "nbformat_minor": 2
}
