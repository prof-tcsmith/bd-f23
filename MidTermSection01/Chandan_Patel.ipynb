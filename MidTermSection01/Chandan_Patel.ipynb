{
 "cells": [
  {
   "cell_type": "markdown",
   "metadata": {},
   "source": []
  },
  {
   "attachments": {},
   "cell_type": "markdown",
   "metadata": {},
   "source": [
    "# Mid-term Exam - Section2\n",
    "\n",
    "# Name: Chandan Patel\n",
    "\n"
   ]
  },
  {
   "attachments": {},
   "cell_type": "markdown",
   "metadata": {},
   "source": [
    "### Import packages"
   ]
  },
  {
   "cell_type": "code",
   "execution_count": 2,
   "metadata": {},
   "outputs": [],
   "source": [
    "import pandas as pd\n",
    "from cassandra.cluster import Cluster"
   ]
  },
  {
   "attachments": {},
   "cell_type": "markdown",
   "metadata": {},
   "source": [
    "### Create a session connection to Cassandra cluster"
   ]
  },
  {
   "cell_type": "code",
   "execution_count": 3,
   "metadata": {},
   "outputs": [],
   "source": [
    "clstr = Cluster()\n",
    "session = clstr.connect()"
   ]
  },
  {
   "attachments": {},
   "cell_type": "markdown",
   "metadata": {},
   "source": [
    "### Use session to 'talk' to cassandra"
   ]
  },
  {
   "attachments": {},
   "cell_type": "markdown",
   "metadata": {},
   "source": [
    "# step 1: checking for existing keyspaces, if found drop it and create the new one"
   ]
  },
  {
   "cell_type": "code",
   "execution_count": 4,
   "metadata": {},
   "outputs": [
    {
     "data": {
      "text/plain": [
       "<cassandra.cluster.ResultSet at 0x7f4a4fe180d0>"
      ]
     },
     "execution_count": 4,
     "metadata": {},
     "output_type": "execute_result"
    }
   ],
   "source": [
    "session.execute(\"DROP KEYSPACE IF EXISTS midterm_chandan\")"
   ]
  },
  {
   "cell_type": "code",
   "execution_count": 5,
   "metadata": {},
   "outputs": [
    {
     "name": "stdout",
     "output_type": "stream",
     "text": [
      "bd23\n",
      "system\n",
      "system_auth\n",
      "system_distributed\n",
      "system_schema\n",
      "system_traces\n",
      "system_views\n",
      "system_virtual_schema\n"
     ]
    }
   ],
   "source": [
    "rows = session.execute(\"desc keyspaces\") ## chaeck the existing keyspaces and list them\n",
    "for row in rows:\n",
    "    print(f\"{row[0]}\")"
   ]
  },
  {
   "cell_type": "code",
   "execution_count": 6,
   "metadata": {},
   "outputs": [
    {
     "data": {
      "text/plain": [
       "<cassandra.cluster.ResultSet at 0x7f4a4fe4e110>"
      ]
     },
     "execution_count": 6,
     "metadata": {},
     "output_type": "execute_result"
    }
   ],
   "source": [
    "session.execute(\"\"\"\n",
    "    CREATE KEYSPACE IF NOT EXISTS midterm_chandan WITH REPLICATION = {\n",
    "        'class':'SimpleStrategy', \n",
    "        'replication_factor':3\n",
    "    }\n",
    "\"\"\")"
   ]
  },
  {
   "cell_type": "code",
   "execution_count": 7,
   "metadata": {},
   "outputs": [
    {
     "name": "stdout",
     "output_type": "stream",
     "text": [
      "bd23\n",
      "midterm_chandan\n",
      "system\n",
      "system_auth\n",
      "system_distributed\n",
      "system_schema\n",
      "system_traces\n",
      "system_views\n",
      "system_virtual_schema\n"
     ]
    }
   ],
   "source": [
    "rows = session.execute(\"desc keyspaces\") ## checking if the keyspace created\n",
    "for row in rows:\n",
    "    print(f\"{row[0]}\")"
   ]
  },
  {
   "attachments": {},
   "cell_type": "markdown",
   "metadata": {},
   "source": [
    "# step 2: create a Song table to store song information"
   ]
  },
  {
   "cell_type": "code",
   "execution_count": 8,
   "metadata": {},
   "outputs": [
    {
     "data": {
      "text/plain": [
       "<cassandra.cluster.ResultSet at 0x7f4a4e365e90>"
      ]
     },
     "execution_count": 8,
     "metadata": {},
     "output_type": "execute_result"
    }
   ],
   "source": [
    "session.execute(\"\"\"\n",
    "CREATE TABLE IF NOT EXISTS midterm_chandan.Song ( \n",
    "    song_id INT, \n",
    "    title TEXT, \n",
    "    duration INT, \n",
    "    genre TEXT,\n",
    "    PRIMARY KEY(song_id, genre)   \n",
    ");\n",
    "\"\"\")  ## assigned primary key as song_id and genre. Where song_id will serve as partition key (partition by song_id 's) and genre will be helpful in creating a column grouping and sorting"
   ]
  },
  {
   "attachments": {},
   "cell_type": "markdown",
   "metadata": {},
   "source": [
    "# step3: Loading the data and featuring the same before inserting into the table"
   ]
  },
  {
   "attachments": {},
   "cell_type": "markdown",
   "metadata": {},
   "source": [
    "### Load data"
   ]
  },
  {
   "cell_type": "code",
   "execution_count": 10,
   "metadata": {},
   "outputs": [
    {
     "data": {
      "text/html": [
       "<div>\n",
       "<style scoped>\n",
       "    .dataframe tbody tr th:only-of-type {\n",
       "        vertical-align: middle;\n",
       "    }\n",
       "\n",
       "    .dataframe tbody tr th {\n",
       "        vertical-align: top;\n",
       "    }\n",
       "\n",
       "    .dataframe thead th {\n",
       "        text-align: right;\n",
       "    }\n",
       "</style>\n",
       "<table border=\"1\" class=\"dataframe\">\n",
       "  <thead>\n",
       "    <tr style=\"text-align: right;\">\n",
       "      <th></th>\n",
       "      <th>song_id</th>\n",
       "      <th>title</th>\n",
       "      <th>duration</th>\n",
       "      <th>genre</th>\n",
       "    </tr>\n",
       "  </thead>\n",
       "  <tbody>\n",
       "    <tr>\n",
       "      <th>0</th>\n",
       "      <td>1000</td>\n",
       "      <td>'love u like anything'</td>\n",
       "      <td>250</td>\n",
       "      <td>'melody'</td>\n",
       "    </tr>\n",
       "    <tr>\n",
       "      <th>1</th>\n",
       "      <td>1001</td>\n",
       "      <td>'old days'</td>\n",
       "      <td>200</td>\n",
       "      <td>'jazz'</td>\n",
       "    </tr>\n",
       "    <tr>\n",
       "      <th>2</th>\n",
       "      <td>1002</td>\n",
       "      <td>'miss u'</td>\n",
       "      <td>290</td>\n",
       "      <td>'melody'</td>\n",
       "    </tr>\n",
       "    <tr>\n",
       "      <th>3</th>\n",
       "      <td>1003</td>\n",
       "      <td>'shaam mastani'</td>\n",
       "      <td>300</td>\n",
       "      <td>'gazal'</td>\n",
       "    </tr>\n",
       "    <tr>\n",
       "      <th>4</th>\n",
       "      <td>1003</td>\n",
       "      <td>'Rock night'</td>\n",
       "      <td>280</td>\n",
       "      <td>'rock'</td>\n",
       "    </tr>\n",
       "    <tr>\n",
       "      <th>5</th>\n",
       "      <td>1005</td>\n",
       "      <td>'pop songs by lucky'</td>\n",
       "      <td>270</td>\n",
       "      <td>'jazz'</td>\n",
       "    </tr>\n",
       "    <tr>\n",
       "      <th>6</th>\n",
       "      <td>1001</td>\n",
       "      <td>'music of passion'</td>\n",
       "      <td>290</td>\n",
       "      <td>'instrumental'</td>\n",
       "    </tr>\n",
       "    <tr>\n",
       "      <th>7</th>\n",
       "      <td>1007</td>\n",
       "      <td>'Hello world'</td>\n",
       "      <td>150</td>\n",
       "      <td>'melody'</td>\n",
       "    </tr>\n",
       "  </tbody>\n",
       "</table>\n",
       "</div>"
      ],
      "text/plain": [
       "   song_id                   title  duration           genre\n",
       "0     1000  'love u like anything'       250        'melody'\n",
       "1     1001              'old days'       200          'jazz'\n",
       "2     1002                'miss u'       290        'melody'\n",
       "3     1003         'shaam mastani'       300         'gazal'\n",
       "4     1003            'Rock night'       280          'rock'\n",
       "5     1005    'pop songs by lucky'       270          'jazz'\n",
       "6     1001      'music of passion'       290  'instrumental'\n",
       "7     1007           'Hello world'       150        'melody'"
      ]
     },
     "execution_count": 10,
     "metadata": {},
     "output_type": "execute_result"
    }
   ],
   "source": [
    "df = pd.read_csv('data.csv')\n",
    "df"
   ]
  },
  {
   "cell_type": "code",
   "execution_count": 11,
   "metadata": {},
   "outputs": [
    {
     "name": "stdout",
     "output_type": "stream",
     "text": [
      "song_id = 1000, title ='love u like anything', duration = 250, genre = 'melody'\n",
      "song_id = 1001, title ='old days', duration = 200, genre = 'jazz'\n",
      "song_id = 1002, title ='miss u', duration = 290, genre = 'melody'\n",
      "song_id = 1003, title ='shaam mastani', duration = 300, genre = 'gazal'\n",
      "song_id = 1003, title ='Rock night', duration = 280, genre = 'rock'\n",
      "song_id = 1005, title ='pop songs by lucky', duration = 270, genre = 'jazz'\n",
      "song_id = 1001, title ='music of passion', duration = 290, genre = 'instrumental'\n",
      "song_id = 1007, title ='Hello world', duration = 150, genre = 'melody'\n"
     ]
    }
   ],
   "source": [
    "for index, row in df.iterrows():  ## print and check each row of the data\n",
    "    print(f\"song_id = {row.song_id}, title ={row.title}, duration = {row.duration}, genre = {row.genre}\")"
   ]
  },
  {
   "attachments": {},
   "cell_type": "markdown",
   "metadata": {},
   "source": [
    "## Step 4: Inserting data into the song table"
   ]
  },
  {
   "cell_type": "code",
   "execution_count": 12,
   "metadata": {},
   "outputs": [
    {
     "name": "stdout",
     "output_type": "stream",
     "text": [
      "\n",
      "        INSERT INTO midterm_chandan.song (song_id, title, duration, genre)     \n",
      "        VALUES (1000, 'love u like anything', 250, 'melody');\n",
      "        \n",
      "\n",
      "        INSERT INTO midterm_chandan.song (song_id, title, duration, genre)     \n",
      "        VALUES (1001, 'old days', 200, 'jazz');\n",
      "        \n",
      "\n",
      "        INSERT INTO midterm_chandan.song (song_id, title, duration, genre)     \n",
      "        VALUES (1002, 'miss u', 290, 'melody');\n",
      "        \n",
      "\n",
      "        INSERT INTO midterm_chandan.song (song_id, title, duration, genre)     \n",
      "        VALUES (1003, 'shaam mastani', 300, 'gazal');\n",
      "        \n",
      "\n",
      "        INSERT INTO midterm_chandan.song (song_id, title, duration, genre)     \n",
      "        VALUES (1003, 'Rock night', 280, 'rock');\n",
      "        \n",
      "\n",
      "        INSERT INTO midterm_chandan.song (song_id, title, duration, genre)     \n",
      "        VALUES (1005, 'pop songs by lucky', 270, 'jazz');\n",
      "        \n",
      "\n",
      "        INSERT INTO midterm_chandan.song (song_id, title, duration, genre)     \n",
      "        VALUES (1001, 'music of passion', 290, 'instrumental');\n",
      "        \n",
      "\n",
      "        INSERT INTO midterm_chandan.song (song_id, title, duration, genre)     \n",
      "        VALUES (1007, 'Hello world', 150, 'melody');\n",
      "        \n"
     ]
    }
   ],
   "source": [
    "for index, row in df.iterrows():\n",
    "    print(f\"\"\"\n",
    "        INSERT INTO midterm_chandan.song (song_id, title, duration, genre)     \n",
    "        VALUES ({row.song_id}, {row.title}, {row.duration}, {row.genre});\n",
    "        \"\"\"\n",
    "    )\n",
    "    session.execute(f\"\"\"\n",
    "        INSERT INTO midterm_chandan.song (song_id, title, duration, genre)     \n",
    "        VALUES ({row.song_id}, {row.title}, {row.duration}, {row.genre});\n",
    "        \"\"\"\n",
    "    )"
   ]
  },
  {
   "attachments": {},
   "cell_type": "markdown",
   "metadata": {},
   "source": [
    "# Discussion: From the above code we have inserted all the data into the song table by iterating each row of df and inserting into the table"
   ]
  },
  {
   "attachments": {},
   "cell_type": "markdown",
   "metadata": {},
   "source": [
    "# step 5: Adding a record into the table"
   ]
  },
  {
   "cell_type": "code",
   "execution_count": 15,
   "metadata": {},
   "outputs": [
    {
     "name": "stdout",
     "output_type": "stream",
     "text": [
      "song_id=1007, title=Hello world, duration=150, genre=melody\n",
      "song_id=1005, title=pop songs by lucky, duration=270, genre=jazz\n",
      "song_id=1001, title=music of passion, duration=290, genre=instrumental\n",
      "song_id=1001, title=old days, duration=200, genre=jazz\n",
      "song_id=1003, title=shaam mastani, duration=300, genre=gazal\n",
      "song_id=1003, title=Rock night, duration=280, genre=rock\n",
      "song_id=1002, title=miss u, duration=290, genre=melody\n",
      "song_id=1000, title=love u like anything, duration=250, genre=melody\n",
      "song_id=1010, title=I know you, duration=230, genre=rock\n"
     ]
    }
   ],
   "source": [
    "session.execute(f\"\"\"\n",
    "        INSERT INTO midterm_chandan.song (song_id, title, duration, genre)     \n",
    "        VALUES (1010,'I know you', 230, 'rock');\n",
    "        \"\"\"\n",
    ")\n",
    "rows = session.execute(\"select (song_id, title, duration, genre) from midterm_chandan.song\")\n",
    "for row in rows:\n",
    "    print(f\"song_id={row[0][0]}, title={row[0][1]}, duration={row[0][2]}, genre={row[0][3]}\")"
   ]
  },
  {
   "attachments": {},
   "cell_type": "markdown",
   "metadata": {},
   "source": [
    "# Discussion: Using above code we added one more row to the song table"
   ]
  },
  {
   "attachments": {},
   "cell_type": "markdown",
   "metadata": {},
   "source": [
    "# Step 6: Modify/Update the existing record"
   ]
  },
  {
   "cell_type": "code",
   "execution_count": 21,
   "metadata": {},
   "outputs": [],
   "source": [
    "\n",
    "rows = session.execute(\"update midterm_chandan.song set title = 'best place' where song_id= 1010 and genre = 'rock'\") ## update function"
   ]
  },
  {
   "cell_type": "code",
   "execution_count": 22,
   "metadata": {},
   "outputs": [
    {
     "name": "stdout",
     "output_type": "stream",
     "text": [
      "song_id=1007, title=Hello world, duration=150, genre=melody\n",
      "song_id=1005, title=pop songs by lucky, duration=270, genre=jazz\n",
      "song_id=1001, title=music of passion, duration=290, genre=instrumental\n",
      "song_id=1001, title=old days, duration=200, genre=jazz\n",
      "song_id=1003, title=shaam mastani, duration=300, genre=gazal\n",
      "song_id=1003, title=Rock night, duration=280, genre=rock\n",
      "song_id=1002, title=miss u, duration=290, genre=melody\n",
      "song_id=1000, title=love u like anything, duration=250, genre=melody\n",
      "song_id=1010, title=best place, duration=230, genre=rock\n"
     ]
    }
   ],
   "source": [
    "rows = session.execute(\"select (song_id, title, duration, genre) from midterm_chandan.song\")\n",
    "for row in rows:\n",
    "    print(f\"song_id={row[0][0]}, title={row[0][1]}, duration={row[0][2]}, genre={row[0][3]}\")\n"
   ]
  },
  {
   "attachments": {},
   "cell_type": "markdown",
   "metadata": {},
   "source": [
    "# Discussion:  updated the existing record in the above code"
   ]
  },
  {
   "attachments": {},
   "cell_type": "markdown",
   "metadata": {},
   "source": [
    "## step 7: Delete the record"
   ]
  },
  {
   "cell_type": "code",
   "execution_count": 25,
   "metadata": {},
   "outputs": [],
   "source": [
    "rows = session.execute(\"DELETE from midterm_chandan.song where song_id= 1010 and genre = 'rock'\")\n",
    "for row in rows:\n",
    "    print(f\"{row[0][0]}, {row[0][1]}, {row[0][2]}\")"
   ]
  },
  {
   "cell_type": "code",
   "execution_count": 27,
   "metadata": {},
   "outputs": [
    {
     "name": "stdout",
     "output_type": "stream",
     "text": [
      "song_id=1007, title=Hello world, duration=150, genre=melody\n",
      "song_id=1005, title=pop songs by lucky, duration=270, genre=jazz\n",
      "song_id=1001, title=music of passion, duration=290, genre=instrumental\n",
      "song_id=1001, title=old days, duration=200, genre=jazz\n",
      "song_id=1003, title=shaam mastani, duration=300, genre=gazal\n",
      "song_id=1003, title=Rock night, duration=280, genre=rock\n",
      "song_id=1002, title=miss u, duration=290, genre=melody\n",
      "song_id=1000, title=love u like anything, duration=250, genre=melody\n"
     ]
    }
   ],
   "source": [
    "rows = session.execute(\"select (song_id, title, duration, genre) from midterm_chandan.song\")\n",
    "for row in rows:\n",
    "    print(f\"song_id={row[0][0]}, title={row[0][1]}, duration={row[0][2]}, genre={row[0][3]}\")\n",
    "    "
   ]
  },
  {
   "attachments": {},
   "cell_type": "markdown",
   "metadata": {},
   "source": [
    "# Discussion\n",
    "\n",
    "In the above code we have demostrated all the CRUD operations for the song table, where we demonstrated the insert, update, delete functions above. By this way we can manage the keyspaces (database) and song table for the firm. We have selected this keyspaces because song id will provide the partition and genre will sort the columns in that song_id partition which will help in filtering data acroos nodes. "
   ]
  },
  {
   "cell_type": "markdown",
   "metadata": {},
   "source": []
  }
 ],
 "metadata": {
  "kernelspec": {
   "display_name": "base",
   "language": "python",
   "name": "python3"
  },
  "language_info": {
   "codemirror_mode": {
    "name": "ipython",
    "version": 3
   },
   "file_extension": ".py",
   "mimetype": "text/x-python",
   "name": "python",
   "nbconvert_exporter": "python",
   "pygments_lexer": "ipython3",
   "version": "3.11.5"
  },
  "orig_nbformat": 4,
  "vscode": {
   "interpreter": {
    "hash": "c774f5f42cb3e70515ef7cb909d9051370cc09a28b296d74902002ebc2249cb4"
   }
  }
 },
 "nbformat": 4,
 "nbformat_minor": 2
}
