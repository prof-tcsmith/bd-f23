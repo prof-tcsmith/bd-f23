{
 "cells": [
  {
   "attachments": {},
   "cell_type": "markdown",
   "metadata": {},
   "source": [
    "In the below code I am importing different libraries for our code to work. The pandas library is imported for python and we are importing cluster to create a session connection to cassandra cluster."
   ]
  },
  {
   "cell_type": "code",
   "execution_count": 3,
   "metadata": {},
   "outputs": [],
   "source": [
    "import pandas as pd\n",
    "from cassandra.cluster import Cluster"
   ]
  },
  {
   "attachments": {},
   "cell_type": "markdown",
   "metadata": {},
   "source": [
    "In the below code I am creating a session connection so that I can be able to connect to the cassandra cluster."
   ]
  },
  {
   "cell_type": "code",
   "execution_count": 4,
   "metadata": {},
   "outputs": [],
   "source": [
    "clstr = Cluster()\n",
    "session = clstr.connect()"
   ]
  },
  {
   "attachments": {},
   "cell_type": "markdown",
   "metadata": {},
   "source": [
    "In the below code I am creating a key space with a replication factor of 2. I am using the class called simple strategy which means that the first replica on a node determined by the partitioner. and additionally replicas are placed on the next nodes clockwise in the ring without considering topology. Here the replication factor of 2 implies that the each every data is replicated in once. The data will be available once in a primary node and once in a secondary node where the data is replicated. \n",
    "\n",
    "The keyspace here is defined as the outermost object in a cassandra cluster that controls how data replicated on nodes."
   ]
  },
  {
   "cell_type": "code",
   "execution_count": 6,
   "metadata": {},
   "outputs": [
    {
     "data": {
      "text/plain": [
       "<cassandra.cluster.ResultSet at 0x7f7c8ecbe7a0>"
      ]
     },
     "execution_count": 6,
     "metadata": {},
     "output_type": "execute_result"
    }
   ],
   "source": [
    "session.execute(\"\"\"\n",
    "    CREATE KEYSPACE IF NOT EXISTS w04python WITH REPLICATION = {\n",
    "        'class':'SimpleStrategy', \n",
    "        'replication_factor':2\n",
    "    }\n",
    "\"\"\")"
   ]
  },
  {
   "attachments": {},
   "cell_type": "markdown",
   "metadata": {},
   "source": [
    "In the below code I have created a table in w04python directory where we have created our keyspace.  As per the instructions on the midterm question I have added SongID which should be unique and should be an integer. So I have provided datatype of int to the SongID. Accordingly I have added title, Duration of the song and Genre to the table."
   ]
  },
  {
   "cell_type": "code",
   "execution_count": 9,
   "metadata": {},
   "outputs": [
    {
     "data": {
      "text/plain": [
       "<cassandra.cluster.ResultSet at 0x7f7c52d3e920>"
      ]
     },
     "execution_count": 9,
     "metadata": {},
     "output_type": "execute_result"
    }
   ],
   "source": [
    "session.execute(\"\"\"\n",
    "CREATE TABLE IF NOT EXISTS w04python.songs (\n",
    "       SongID int,\n",
    "       Title text,\n",
    "       Duration_in_secs int,\n",
    "       Genre text,\n",
    "       PRIMARY KEY (SongID)\n",
    ");\n",
    "\"\"\")"
   ]
  },
  {
   "attachments": {},
   "cell_type": "markdown",
   "metadata": {},
   "source": [
    "The below is the code to insert data into the table which is successful and apart from this I have added 4 songs. The updating and deleting will be followed in the next code"
   ]
  },
  {
   "cell_type": "code",
   "execution_count": 15,
   "metadata": {},
   "outputs": [],
   "source": [
    "insert_query = \"\"\"\n",
    "              INSERT INTO w04python.songs (SongID, Title, Duration_in_secs, Genre)     \n",
    "              VALUES (1, 'despacito', 350,'romcom');\n",
    "\n",
    "              INSERT INTO w04python.songs (SongID, Title, Duration_in_secs, Genre)     \n",
    "              VALUES (2, 'rockabye', 420,'romcom');\n",
    "\n",
    "              INSERT INTO w04python.songs (SongID, Title, Duration_in_secs, Genre)     \n",
    "              VALUES (3, 'edshareen', 550,'romcom');\n",
    "\n",
    "              INSERT INTO w04python.songs (SongID, Title, Duration_in_secs, Genre)     \n",
    "              VALUES (4, 'international love', 450,'romcom');\n",
    "\n",
    "              \"\"\""
   ]
  },
  {
   "attachments": {},
   "cell_type": "markdown",
   "metadata": {},
   "source": [
    "In the code below I have updated the genre where the songID is 1"
   ]
  },
  {
   "cell_type": "code",
   "execution_count": 17,
   "metadata": {},
   "outputs": [],
   "source": [
    "update_query = \"\"\"\n",
    "               UPDATE w04python.songs\n",
    "               SET Genre = funny\n",
    "               WHERE SongID = 1\n",
    "               \"\"\"\n",
    "               "
   ]
  },
  {
   "attachments": {},
   "cell_type": "markdown",
   "metadata": {},
   "source": [
    "In the below code I have deleted the row which has the songID =1"
   ]
  },
  {
   "cell_type": "code",
   "execution_count": 18,
   "metadata": {},
   "outputs": [],
   "source": [
    "Delete_query = \"\"\"\n",
    "               DELETE w04python.songs\n",
    "               WHERE SongID = 1\n",
    "               \"\"\""
   ]
  }
 ],
 "metadata": {
  "kernelspec": {
   "display_name": "base",
   "language": "python",
   "name": "python3"
  },
  "language_info": {
   "codemirror_mode": {
    "name": "ipython",
    "version": 3
   },
   "file_extension": ".py",
   "mimetype": "text/x-python",
   "name": "python",
   "nbconvert_exporter": "python",
   "pygments_lexer": "ipython3",
   "version": "3.10.13"
  },
  "orig_nbformat": 4
 },
 "nbformat": 4,
 "nbformat_minor": 2
}
