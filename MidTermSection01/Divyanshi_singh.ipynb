{
 "cells": [
  {
   "cell_type": "markdown",
   "metadata": {},
   "source": [
    "# MidtermSection01"
   ]
  },
  {
   "cell_type": "code",
   "execution_count": null,
   "metadata": {},
   "outputs": [],
   "source": [
    "### In this assignment we are going to perform the following tasks:\n",
    "### 1.create a keyspace name bdmt\n",
    "### 2.create a table name Song_list\n",
    "### 3.Insert values into the table\n",
    "### 4.update an existing record\n",
    "### 5.deleting an existing record"
   ]
  },
  {
   "cell_type": "markdown",
   "metadata": {},
   "source": [
    "## Import Packages"
   ]
  },
  {
   "cell_type": "code",
   "execution_count": 1,
   "metadata": {},
   "outputs": [],
   "source": [
    "import pandas as pd\n",
    "from cassandra.cluster import Cluster"
   ]
  },
  {
   "cell_type": "markdown",
   "metadata": {},
   "source": [
    "### Create a session connection to Cassandra cluster"
   ]
  },
  {
   "cell_type": "code",
   "execution_count": 2,
   "metadata": {},
   "outputs": [],
   "source": [
    "clstr = Cluster()\n",
    "session = clstr.connect()"
   ]
  },
  {
   "cell_type": "markdown",
   "metadata": {},
   "source": [
    "### Use session to 'talk' to cassandra"
   ]
  },
  {
   "cell_type": "code",
   "execution_count": 3,
   "metadata": {},
   "outputs": [
    {
     "data": {
      "text/plain": [
       "<cassandra.cluster.ResultSet at 0x7f3269ded310>"
      ]
     },
     "execution_count": 3,
     "metadata": {},
     "output_type": "execute_result"
    }
   ],
   "source": [
    "session.execute(\"DROP KEYSPACE IF EXISTS bdmt\")"
   ]
  },
  {
   "cell_type": "code",
   "execution_count": 6,
   "metadata": {},
   "outputs": [
    {
     "name": "stdout",
     "output_type": "stream",
     "text": [
      "system\n",
      "system_auth\n",
      "system_distributed\n",
      "system_schema\n",
      "system_traces\n",
      "system_views\n",
      "system_virtual_schema\n",
      "w04python\n"
     ]
    }
   ],
   "source": [
    "rows = session.execute(\"desc keyspaces\")\n",
    "for row in rows:\n",
    "    print(f\"{row[0]}\")"
   ]
  },
  {
   "cell_type": "markdown",
   "metadata": {},
   "source": [
    "Creating a keyspace bdmt : In the below query we are checking for the bdmt keyspace and if it doesn't exist then the code will create a keyspace named bdtm"
   ]
  },
  {
   "cell_type": "code",
   "execution_count": 7,
   "metadata": {},
   "outputs": [
    {
     "data": {
      "text/plain": [
       "<cassandra.cluster.ResultSet at 0x7f326a3379d0>"
      ]
     },
     "execution_count": 7,
     "metadata": {},
     "output_type": "execute_result"
    }
   ],
   "source": [
    "session.execute(\"\"\"\n",
    "    CREATE KEYSPACE IF NOT EXISTS bdmt WITH REPLICATION = {\n",
    "        'class':'SimpleStrategy', \n",
    "        'replication_factor':2\n",
    "    }\n",
    "\"\"\")"
   ]
  },
  {
   "cell_type": "code",
   "execution_count": 8,
   "metadata": {},
   "outputs": [
    {
     "name": "stdout",
     "output_type": "stream",
     "text": [
      "bdmt\n",
      "system\n",
      "system_auth\n",
      "system_distributed\n",
      "system_schema\n",
      "system_traces\n",
      "system_views\n",
      "system_virtual_schema\n",
      "w04python\n"
     ]
    }
   ],
   "source": [
    "rows = session.execute(\"desc keyspaces\")\n",
    "for row in rows:\n",
    "    print(f\"{row[0]}\")"
   ]
  },
  {
   "cell_type": "markdown",
   "metadata": {},
   "source": [
    "## Create a Table"
   ]
  },
  {
   "cell_type": "code",
   "execution_count": 9,
   "metadata": {},
   "outputs": [
    {
     "data": {
      "text/plain": [
       "<cassandra.cluster.ResultSet at 0x7f32a4665750>"
      ]
     },
     "execution_count": 9,
     "metadata": {},
     "output_type": "execute_result"
    }
   ],
   "source": [
    "session.execute(\"\"\"\n",
    "CREATE TABLE IF NOT EXISTS bdmt.Song_list ( \n",
    "    song_id INT, \n",
    "    title TEXT, \n",
    "    duration DURATION,\n",
    "    genre TEXT, \n",
    "    PRIMARY KEY(title, genre, song_id)\n",
    ");\n",
    "\"\"\")"
   ]
  },
  {
   "cell_type": "markdown",
   "metadata": {},
   "source": [
    "## Load Data"
   ]
  },
  {
   "cell_type": "code",
   "execution_count": 10,
   "metadata": {},
   "outputs": [
    {
     "data": {
      "text/html": [
       "<div>\n",
       "<style scoped>\n",
       "    .dataframe tbody tr th:only-of-type {\n",
       "        vertical-align: middle;\n",
       "    }\n",
       "\n",
       "    .dataframe tbody tr th {\n",
       "        vertical-align: top;\n",
       "    }\n",
       "\n",
       "    .dataframe thead th {\n",
       "        text-align: right;\n",
       "    }\n",
       "</style>\n",
       "<table border=\"1\" class=\"dataframe\">\n",
       "  <thead>\n",
       "    <tr style=\"text-align: right;\">\n",
       "      <th></th>\n",
       "      <th>title</th>\n",
       "      <th>genre</th>\n",
       "      <th>song_id</th>\n",
       "      <th>duration</th>\n",
       "    </tr>\n",
       "  </thead>\n",
       "  <tbody>\n",
       "    <tr>\n",
       "      <th>0</th>\n",
       "      <td>'10 Famous Gibson SG Players and their Guitars'</td>\n",
       "      <td>'rock'</td>\n",
       "      <td>1</td>\n",
       "      <td>150s</td>\n",
       "    </tr>\n",
       "    <tr>\n",
       "      <th>1</th>\n",
       "      <td>'Avant-Garde'</td>\n",
       "      <td>'classical'</td>\n",
       "      <td>2</td>\n",
       "      <td>90s</td>\n",
       "    </tr>\n",
       "    <tr>\n",
       "      <th>2</th>\n",
       "      <td>'Americana'</td>\n",
       "      <td>'country'</td>\n",
       "      <td>3</td>\n",
       "      <td>50s</td>\n",
       "    </tr>\n",
       "    <tr>\n",
       "      <th>3</th>\n",
       "      <td>'Baroque'</td>\n",
       "      <td>'pop'</td>\n",
       "      <td>4</td>\n",
       "      <td>35s</td>\n",
       "    </tr>\n",
       "    <tr>\n",
       "      <th>4</th>\n",
       "      <td>'Britpop'</td>\n",
       "      <td>'pop'</td>\n",
       "      <td>5</td>\n",
       "      <td>45s</td>\n",
       "    </tr>\n",
       "    <tr>\n",
       "      <th>5</th>\n",
       "      <td>'American Traditional Rock'</td>\n",
       "      <td>'rock'</td>\n",
       "      <td>6</td>\n",
       "      <td>20s</td>\n",
       "    </tr>\n",
       "  </tbody>\n",
       "</table>\n",
       "</div>"
      ],
      "text/plain": [
       "                                             title        genre  song_id  \\\n",
       "0  '10 Famous Gibson SG Players and their Guitars'       'rock'        1   \n",
       "1                                    'Avant-Garde'  'classical'        2   \n",
       "2                                      'Americana'    'country'        3   \n",
       "3                                        'Baroque'        'pop'        4   \n",
       "4                                        'Britpop'        'pop'        5   \n",
       "5                      'American Traditional Rock'       'rock'        6   \n",
       "\n",
       "  duration  \n",
       "0     150s  \n",
       "1      90s  \n",
       "2      50s  \n",
       "3      35s  \n",
       "4      45s  \n",
       "5      20s  "
      ]
     },
     "execution_count": 10,
     "metadata": {},
     "output_type": "execute_result"
    }
   ],
   "source": [
    "df = pd.read_csv('songs.csv')\n",
    "df"
   ]
  },
  {
   "cell_type": "code",
   "execution_count": 11,
   "metadata": {},
   "outputs": [
    {
     "name": "stdout",
     "output_type": "stream",
     "text": [
      "title = '10 Famous Gibson SG Players and their Guitars', genre ='rock', song_id = 1, duration = 150s\n",
      "title = 'Avant-Garde', genre ='classical', song_id = 2, duration = 90s\n",
      "title = 'Americana', genre ='country', song_id = 3, duration = 50s\n",
      "title = 'Baroque', genre ='pop', song_id = 4, duration = 35s\n",
      "title = 'Britpop', genre ='pop', song_id = 5, duration = 45s\n",
      "title = 'American Traditional Rock', genre ='rock', song_id = 6, duration = 20s\n"
     ]
    }
   ],
   "source": [
    "for index, row in df.iterrows():\n",
    "    print(f\"title = {row.title}, genre ={row.genre}, song_id = {row.song_id}, duration = {row.duration}\")"
   ]
  },
  {
   "cell_type": "markdown",
   "metadata": {},
   "source": [
    "## Insert the value into the table"
   ]
  },
  {
   "cell_type": "code",
   "execution_count": 14,
   "metadata": {},
   "outputs": [
    {
     "name": "stdout",
     "output_type": "stream",
     "text": [
      "\n",
      "        INSERT INTO bdmt.Song_list(title, genre, song_id, duration)     \n",
      "        VALUES ('10 Famous Gibson SG Players and their Guitars', 'rock', 1, 150s);\n",
      "        \n",
      "\n",
      "        INSERT INTO bdmt.Song_list(title, genre, song_id, duration)     \n",
      "        VALUES ('Avant-Garde', 'classical', 2, 90s);\n",
      "        \n",
      "\n",
      "        INSERT INTO bdmt.Song_list(title, genre, song_id, duration)     \n",
      "        VALUES ('Americana', 'country', 3, 50s);\n",
      "        \n",
      "\n",
      "        INSERT INTO bdmt.Song_list(title, genre, song_id, duration)     \n",
      "        VALUES ('Baroque', 'pop', 4, 35s);\n",
      "        \n",
      "\n",
      "        INSERT INTO bdmt.Song_list(title, genre, song_id, duration)     \n",
      "        VALUES ('Britpop', 'pop', 5, 45s);\n",
      "        \n",
      "\n",
      "        INSERT INTO bdmt.Song_list(title, genre, song_id, duration)     \n",
      "        VALUES ('American Traditional Rock', 'rock', 6, 20s);\n",
      "        \n"
     ]
    }
   ],
   "source": [
    "for index, row in df.iterrows():\n",
    "    print(f\"\"\"\n",
    "        INSERT INTO bdmt.Song_list(title, genre, song_id, duration)     \n",
    "        VALUES ({row.title}, {row.genre}, {row.song_id}, {row.duration});\n",
    "        \"\"\"\n",
    "    )\n",
    "    session.execute(f\"\"\"\n",
    "        INSERT INTO bdmt.Song_list (title, genre, song_id, duration)     \n",
    "        VALUES ({row.title}, {row.genre}, {row.song_id}, {row.duration});\n",
    "        \"\"\"\n",
    "    )"
   ]
  },
  {
   "cell_type": "code",
   "execution_count": 17,
   "metadata": {},
   "outputs": [
    {
     "name": "stdout",
     "output_type": "stream",
     "text": [
      "title=10 Famous Gibson SG Players and their Guitars, genre=rock, song_id=1, duration=0mo0d150000000000ns\n",
      "title=Baroque, genre=pop, song_id=4, duration=0mo0d35000000000ns\n",
      "title=Avant-Garde, genre=classical, song_id=2, duration=0mo0d90000000000ns\n",
      "title=Britpop, genre=pop, song_id=5, duration=0mo0d45000000000ns\n",
      "title=Americana, genre=country, song_id=3, duration=0mo0d50000000000ns\n",
      "title=American Traditional Rock, genre=rock, song_id=6, duration=0mo0d20000000000ns\n"
     ]
    }
   ],
   "source": [
    "rows = session.execute(\"select (title, genre, song_id, duration) from bdmt.Song_list\")\n",
    "for row in rows:\n",
    "    print(f\"title={row[0][0]}, genre={row[0][1]}, song_id={row[0][2]}, duration={row[0][3]}\")\n"
   ]
  },
  {
   "cell_type": "markdown",
   "metadata": {},
   "source": [
    "## Adding a Record to the table"
   ]
  },
  {
   "cell_type": "code",
   "execution_count": null,
   "metadata": {},
   "outputs": [],
   "source": []
  }
 ],
 "metadata": {
  "kernelspec": {
   "display_name": "bd",
   "language": "python",
   "name": "python3"
  },
  "language_info": {
   "codemirror_mode": {
    "name": "ipython",
    "version": 3
   },
   "file_extension": ".py",
   "mimetype": "text/x-python",
   "name": "python",
   "nbconvert_exporter": "python",
   "pygments_lexer": "ipython3",
   "version": "3.11.5"
  },
  "orig_nbformat": 4
 },
 "nbformat": 4,
 "nbformat_minor": 2
}
