{
 "cells": [
  {
   "cell_type": "markdown",
   "metadata": {},
   "source": [
    "# HARITHA KARNA - MIDTERM NOTES\n",
    "Here I created the Songs table and inserted the data into it. Upon insertion of the we performend the operations of Insert ,delete and update upon this table in Cassandra"
   ]
  },
  {
   "cell_type": "code",
   "execution_count": 1,
   "metadata": {},
   "outputs": [],
   "source": [
    "#Importing the Packages\n",
    "import pandas as pd\n",
    "from cassandra.cluster import Cluster"
   ]
  },
  {
   "attachments": {},
   "cell_type": "markdown",
   "metadata": {},
   "source": [
    "### Creating a session for the cassandra Cluster "
   ]
  },
  {
   "cell_type": "code",
   "execution_count": 2,
   "metadata": {},
   "outputs": [],
   "source": [
    "clstr = Cluster()\n",
    "session = clstr.connect()"
   ]
  },
  {
   "attachments": {},
   "cell_type": "markdown",
   "metadata": {},
   "source": [
    "Using the session to communicate with cassandra"
   ]
  },
  {
   "cell_type": "code",
   "execution_count": 3,
   "metadata": {},
   "outputs": [
    {
     "data": {
      "text/plain": [
       "<cassandra.cluster.ResultSet at 0x7fc2d9ff2200>"
      ]
     },
     "execution_count": 3,
     "metadata": {},
     "output_type": "execute_result"
    }
   ],
   "source": [
    "session.execute(\"DROP KEYSPACE IF EXISTS Songs\")"
   ]
  },
  {
   "cell_type": "code",
   "execution_count": 4,
   "metadata": {},
   "outputs": [
    {
     "name": "stdout",
     "output_type": "stream",
     "text": [
      "bd23\n",
      "midterm1\n",
      "system\n",
      "system_auth\n",
      "system_distributed\n",
      "system_schema\n",
      "system_traces\n",
      "system_views\n",
      "system_virtual_schema\n",
      "w04python\n"
     ]
    }
   ],
   "source": [
    "rows = session.execute(\"desc keyspaces\")\n",
    "for row in rows:\n",
    "    print(f\"{row[0]}\")"
   ]
  },
  {
   "cell_type": "code",
   "execution_count": 5,
   "metadata": {},
   "outputs": [
    {
     "data": {
      "text/plain": [
       "<cassandra.cluster.ResultSet at 0x7fc2da154310>"
      ]
     },
     "execution_count": 5,
     "metadata": {},
     "output_type": "execute_result"
    }
   ],
   "source": [
    "session.execute(\"\"\"\n",
    "    CREATE KEYSPACE IF NOT EXISTS Songs WITH REPLICATION = {\n",
    "        'class':'SimpleStrategy', \n",
    "        'replication_factor':5\n",
    "    }\n",
    "\"\"\")"
   ]
  },
  {
   "cell_type": "code",
   "execution_count": 6,
   "metadata": {},
   "outputs": [
    {
     "name": "stdout",
     "output_type": "stream",
     "text": [
      "bd23\n",
      "midterm1\n",
      "songs\n",
      "system\n",
      "system_auth\n",
      "system_distributed\n",
      "system_schema\n",
      "system_traces\n",
      "system_views\n",
      "system_virtual_schema\n",
      "w04python\n"
     ]
    }
   ],
   "source": [
    "rows = session.execute(\"desc keyspaces\")\n",
    "for row in rows:\n",
    "    print(f\"{row[0]}\")"
   ]
  },
  {
   "cell_type": "code",
   "execution_count": 7,
   "metadata": {},
   "outputs": [
    {
     "data": {
      "text/plain": [
       "<cassandra.cluster.ResultSet at 0x7fc2a01c6350>"
      ]
     },
     "execution_count": 7,
     "metadata": {},
     "output_type": "execute_result"
    }
   ],
   "source": [
    "session.execute(\"\"\"\n",
    "CREATE TABLE IF NOT EXISTS Songs.s(\n",
    "    ID INT ,\n",
    "    TITLE TEXT ,\n",
    "    DURATION INT,\n",
    "    GENRE TEXT,\n",
    "    PRIMARY KEY(ID)\n",
    ");\n",
    "\"\"\")"
   ]
  },
  {
   "cell_type": "code",
   "execution_count": 8,
   "metadata": {},
   "outputs": [
    {
     "name": "stdout",
     "output_type": "stream",
     "text": [
      "bd23\n",
      "midterm1\n",
      "songs\n",
      "system\n",
      "system_auth\n",
      "system_distributed\n",
      "system_schema\n",
      "system_traces\n",
      "system_views\n",
      "system_virtual_schema\n",
      "w04python\n"
     ]
    }
   ],
   "source": [
    "rows = session.execute(\"desc keyspaces\")\n",
    "for row in rows:\n",
    "    print(f\"{row[0]}\")"
   ]
  },
  {
   "cell_type": "code",
   "execution_count": 9,
   "metadata": {},
   "outputs": [
    {
     "data": {
      "text/html": [
       "<div>\n",
       "<style scoped>\n",
       "    .dataframe tbody tr th:only-of-type {\n",
       "        vertical-align: middle;\n",
       "    }\n",
       "\n",
       "    .dataframe tbody tr th {\n",
       "        vertical-align: top;\n",
       "    }\n",
       "\n",
       "    .dataframe thead th {\n",
       "        text-align: right;\n",
       "    }\n",
       "</style>\n",
       "<table border=\"1\" class=\"dataframe\">\n",
       "  <thead>\n",
       "    <tr style=\"text-align: right;\">\n",
       "      <th></th>\n",
       "      <th>ID</th>\n",
       "      <th>TITLE</th>\n",
       "      <th>DURATION</th>\n",
       "      <th>GENRE</th>\n",
       "    </tr>\n",
       "  </thead>\n",
       "  <tbody>\n",
       "    <tr>\n",
       "      <th>0</th>\n",
       "      <td>1234</td>\n",
       "      <td>'Style'</td>\n",
       "      <td>300</td>\n",
       "      <td>'Pop'</td>\n",
       "    </tr>\n",
       "    <tr>\n",
       "      <th>1</th>\n",
       "      <td>2345</td>\n",
       "      <td>'Lover'</td>\n",
       "      <td>400</td>\n",
       "      <td>'Pop'</td>\n",
       "    </tr>\n",
       "    <tr>\n",
       "      <th>2</th>\n",
       "      <td>9999</td>\n",
       "      <td>'Vishsa'</td>\n",
       "      <td>1000</td>\n",
       "      <td>'Classical'</td>\n",
       "    </tr>\n",
       "    <tr>\n",
       "      <th>3</th>\n",
       "      <td>7</td>\n",
       "      <td>'Narast'</td>\n",
       "      <td>450</td>\n",
       "      <td>'Classical'</td>\n",
       "    </tr>\n",
       "    <tr>\n",
       "      <th>4</th>\n",
       "      <td>2121</td>\n",
       "      <td>'River'</td>\n",
       "      <td>200</td>\n",
       "      <td>'Country'</td>\n",
       "    </tr>\n",
       "    <tr>\n",
       "      <th>5</th>\n",
       "      <td>5555</td>\n",
       "      <td>'Delilah'</td>\n",
       "      <td>899</td>\n",
       "      <td>'Country'</td>\n",
       "    </tr>\n",
       "  </tbody>\n",
       "</table>\n",
       "</div>"
      ],
      "text/plain": [
       "     ID      TITLE  DURATION        GENRE\n",
       "0  1234    'Style'       300        'Pop'\n",
       "1  2345    'Lover'       400        'Pop'\n",
       "2  9999   'Vishsa'      1000  'Classical'\n",
       "3     7   'Narast'       450  'Classical'\n",
       "4  2121    'River'       200    'Country'\n",
       "5  5555  'Delilah'       899    'Country'"
      ]
     },
     "execution_count": 9,
     "metadata": {},
     "output_type": "execute_result"
    }
   ],
   "source": [
    "df = pd.read_csv('Songs.csv')\n",
    "df"
   ]
  },
  {
   "cell_type": "code",
   "execution_count": 10,
   "metadata": {},
   "outputs": [
    {
     "name": "stdout",
     "output_type": "stream",
     "text": [
      "ID = 1234, TITLE ='Style', DURATION = 300, GENRE = 'Pop'\n",
      "ID = 2345, TITLE ='Lover', DURATION = 400, GENRE = 'Pop'\n",
      "ID = 9999, TITLE ='Vishsa', DURATION = 1000, GENRE = 'Classical'\n",
      "ID = 7, TITLE ='Narast', DURATION = 450, GENRE = 'Classical'\n",
      "ID = 2121, TITLE ='River', DURATION = 200, GENRE = 'Country'\n",
      "ID = 5555, TITLE ='Delilah', DURATION = 899, GENRE = 'Country'\n"
     ]
    }
   ],
   "source": [
    "for index, row in df.iterrows():\n",
    "    print(f\"ID = {row.ID}, TITLE ={row.TITLE}, DURATION = {row.DURATION}, GENRE = {row.GENRE}\")"
   ]
  },
  {
   "attachments": {},
   "cell_type": "markdown",
   "metadata": {},
   "source": [
    "### INSERTION OF DATA"
   ]
  },
  {
   "cell_type": "code",
   "execution_count": 11,
   "metadata": {},
   "outputs": [
    {
     "name": "stdout",
     "output_type": "stream",
     "text": [
      "\n",
      "        INSERT INTO Songs.s (ID,TITLE,DURATION,GENRE)     \n",
      "        VALUES (1234, 'Style', 300, 'Pop');       \n",
      "\n",
      "        INSERT INTO Songs.s (ID,TITLE,DURATION,GENRE)     \n",
      "        VALUES (2345, 'Lover', 400, 'Pop');       \n",
      "\n",
      "        INSERT INTO Songs.s (ID,TITLE,DURATION,GENRE)     \n",
      "        VALUES (9999, 'Vishsa', 1000, 'Classical');       \n",
      "\n",
      "        INSERT INTO Songs.s (ID,TITLE,DURATION,GENRE)     \n",
      "        VALUES (7, 'Narast', 450, 'Classical');       \n",
      "\n",
      "        INSERT INTO Songs.s (ID,TITLE,DURATION,GENRE)     \n",
      "        VALUES (2121, 'River', 200, 'Country');       \n",
      "\n",
      "        INSERT INTO Songs.s (ID,TITLE,DURATION,GENRE)     \n",
      "        VALUES (5555, 'Delilah', 899, 'Country');       \n"
     ]
    }
   ],
   "source": [
    "for index, row in df.iterrows():\n",
    "    print(f\"\"\"\n",
    "        INSERT INTO Songs.s (ID,TITLE,DURATION,GENRE)     \n",
    "        VALUES ({row[0]}, {row[1]}, {row[2]}, {row[3]});       \"\"\"\n",
    "    )\n",
    "    session.execute(f\"\"\"\n",
    "        INSERT INTO Songs.s  (ID,TITLE,DURATION,GENRE)     \n",
    "        VALUES ({row[0]}, {row[1]}, {row[2]}, {row[3]});\n",
    "        \"\"\"\n",
    "    )\n",
    "    "
   ]
  },
  {
   "attachments": {},
   "cell_type": "markdown",
   "metadata": {},
   "source": [
    "### UPDATE RECORD"
   ]
  },
  {
   "cell_type": "code",
   "execution_count": 12,
   "metadata": {},
   "outputs": [
    {
     "name": "stdout",
     "output_type": "stream",
     "text": [
      "ID=2121, TITLE=River, DURATION=200, GENRE=Country\n",
      "ID=2345, TITLE=Lover, DURATION=400, GENRE=Pop\n",
      "ID=9999, TITLE=Vishsa, DURATION=1000, GENRE=Classical\n",
      "ID=5555, TITLE=Delilah, DURATION=899, GENRE=Country\n",
      "ID=7, TITLE=Narast, DURATION=450, GENRE=Classical\n",
      "ID=1234, TITLE=Style, DURATION=300, GENRE=Pop\n"
     ]
    }
   ],
   "source": [
    "rows = session.execute(\"select (ID, TITLE, DURATION, GENRE) from Songs.s\")\n",
    "for row in rows:\n",
    "    print(f\"ID={row[0][0]}, TITLE={row[0][1]}, DURATION={row[0][2]}, GENRE={row[0][3]}\")"
   ]
  },
  {
   "cell_type": "code",
   "execution_count": 13,
   "metadata": {},
   "outputs": [
    {
     "data": {
      "text/plain": [
       "<cassandra.cluster.ResultSet at 0x7fc29f5cc280>"
      ]
     },
     "execution_count": 13,
     "metadata": {},
     "output_type": "execute_result"
    }
   ],
   "source": [
    "new_TITLE='hii'\n",
    "new_ID=7\n",
    "session.execute(\"UPDATE Songs.s SET TITLE=%s WHERE ID = %s\", (new_TITLE,new_ID))"
   ]
  },
  {
   "cell_type": "code",
   "execution_count": 14,
   "metadata": {},
   "outputs": [
    {
     "name": "stdout",
     "output_type": "stream",
     "text": [
      "ID=2121, TITLE=River, DURATION=200, GENRE=Country\n",
      "ID=2345, TITLE=Lover, DURATION=400, GENRE=Pop\n",
      "ID=9999, TITLE=Vishsa, DURATION=1000, GENRE=Classical\n",
      "ID=5555, TITLE=Delilah, DURATION=899, GENRE=Country\n",
      "ID=7, TITLE=hii, DURATION=450, GENRE=Classical\n",
      "ID=1234, TITLE=Style, DURATION=300, GENRE=Pop\n"
     ]
    }
   ],
   "source": [
    "rows = session.execute(\"select (ID, TITLE, DURATION, GENRE) from Songs.s\")\n",
    "for row in rows:\n",
    "    print(f\"ID={row[0][0]}, TITLE={row[0][1]}, DURATION={row[0][2]}, GENRE={row[0][3]}\")"
   ]
  },
  {
   "attachments": {},
   "cell_type": "markdown",
   "metadata": {},
   "source": [
    "### DELETE RECORD"
   ]
  },
  {
   "cell_type": "code",
   "execution_count": 15,
   "metadata": {},
   "outputs": [
    {
     "data": {
      "text/plain": [
       "<cassandra.cluster.ResultSet at 0x7fc29f6051e0>"
      ]
     },
     "execution_count": 15,
     "metadata": {},
     "output_type": "execute_result"
    }
   ],
   "source": [
    "session.execute(\"DELETE FROM Songs.s where ID= 2121 \")"
   ]
  },
  {
   "cell_type": "code",
   "execution_count": 16,
   "metadata": {},
   "outputs": [
    {
     "name": "stdout",
     "output_type": "stream",
     "text": [
      "ID=2345, TITLE=Lover, DURATION=400, GENRE=Pop\n",
      "ID=9999, TITLE=Vishsa, DURATION=1000, GENRE=Classical\n",
      "ID=5555, TITLE=Delilah, DURATION=899, GENRE=Country\n",
      "ID=7, TITLE=hii, DURATION=450, GENRE=Classical\n",
      "ID=1234, TITLE=Style, DURATION=300, GENRE=Pop\n"
     ]
    }
   ],
   "source": [
    "rows = session.execute(\"select (ID, TITLE, DURATION, GENRE) from Songs.s\")\n",
    "for row in rows:\n",
    "    print(f\"ID={row[0][0]}, TITLE={row[0][1]}, DURATION={row[0][2]}, GENRE={row[0][3]}\")"
   ]
  },
  {
   "cell_type": "code",
   "execution_count": null,
   "metadata": {},
   "outputs": [],
   "source": []
  },
  {
   "cell_type": "code",
   "execution_count": null,
   "metadata": {},
   "outputs": [],
   "source": []
  }
 ],
 "metadata": {
  "kernelspec": {
   "display_name": "base",
   "language": "python",
   "name": "python3"
  },
  "language_info": {
   "codemirror_mode": {
    "name": "ipython",
    "version": 3
   },
   "file_extension": ".py",
   "mimetype": "text/x-python",
   "name": "python",
   "nbconvert_exporter": "python",
   "pygments_lexer": "ipython3",
   "version": "3.10.10"
  },
  "orig_nbformat": 4
 },
 "nbformat": 4,
 "nbformat_minor": 2
}
