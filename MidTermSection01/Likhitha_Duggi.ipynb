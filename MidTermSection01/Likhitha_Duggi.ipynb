{
 "cells": [
  {
   "attachments": {},
   "cell_type": "markdown",
   "metadata": {},
   "source": [
    "# SRI VENKATA LIKHITHA DUGGI _ MIDTERM DOCUMENT\n",
    "### QUESTION - 2\n",
    "\n",
    "In this notebook, I will create a songs table which has the fields: song_id, title, duration in seconds, and genre.\n",
    "Datatypes are as follows:\n",
    "song_id, duration - int\n",
    "title, genre - text\n",
    "\n",
    "I will demonstrate 3 functionalities - insert data, update a record, delete records."
   ]
  },
  {
   "attachments": {},
   "cell_type": "markdown",
   "metadata": {},
   "source": [
    "### Import packages"
   ]
  },
  {
   "cell_type": "code",
   "execution_count": 1,
   "metadata": {},
   "outputs": [],
   "source": [
    "from cassandra.cluster import Cluster"
   ]
  },
  {
   "cell_type": "markdown",
   "metadata": {},
   "source": [
    "### Create a session connection to Cassandra cluster"
   ]
  },
  {
   "cell_type": "code",
   "execution_count": 2,
   "metadata": {},
   "outputs": [],
   "source": [
    "clstr = Cluster()\n",
    "session = clstr.connect()"
   ]
  },
  {
   "attachments": {},
   "cell_type": "markdown",
   "metadata": {},
   "source": [
    "### Use session to 'talk' to cassandra"
   ]
  },
  {
   "cell_type": "code",
   "execution_count": 3,
   "metadata": {},
   "outputs": [
    {
     "data": {
      "text/plain": [
       "<cassandra.cluster.ResultSet at 0x7fa29422ba90>"
      ]
     },
     "execution_count": 3,
     "metadata": {},
     "output_type": "execute_result"
    }
   ],
   "source": [
    "session.execute(\"DROP KEYSPACE IF EXISTS exam\")"
   ]
  },
  {
   "cell_type": "code",
   "execution_count": 4,
   "metadata": {},
   "outputs": [
    {
     "name": "stdout",
     "output_type": "stream",
     "text": [
      "bd23\n",
      "system\n",
      "system_auth\n",
      "system_distributed\n",
      "system_schema\n",
      "system_traces\n",
      "system_views\n",
      "system_virtual_schema\n",
      "w04\n",
      "w04python\n"
     ]
    }
   ],
   "source": [
    "# Checking all keyspaces that are present\n",
    "rows = session.execute(\"desc keyspaces\")\n",
    "for row in rows:\n",
    "    print(f\"{row[0]}\")"
   ]
  },
  {
   "cell_type": "code",
   "execution_count": 5,
   "metadata": {},
   "outputs": [
    {
     "data": {
      "text/plain": [
       "<cassandra.cluster.ResultSet at 0x7fa295922610>"
      ]
     },
     "execution_count": 5,
     "metadata": {},
     "output_type": "execute_result"
    }
   ],
   "source": [
    "session.execute(\"CREATE KEYSPACE IF NOT EXISTS exam WITH REPLICATION = {'class':'SimpleStrategy', 'replication_factor':2}\")"
   ]
  },
  {
   "cell_type": "code",
   "execution_count": 6,
   "metadata": {},
   "outputs": [
    {
     "name": "stdout",
     "output_type": "stream",
     "text": [
      "bd23\n",
      "exam\n",
      "system\n",
      "system_auth\n",
      "system_distributed\n",
      "system_schema\n",
      "system_traces\n",
      "system_views\n",
      "system_virtual_schema\n",
      "w04\n",
      "w04python\n"
     ]
    }
   ],
   "source": [
    "# Checking if the exam keyspace has been created\n",
    "rows = session.execute(\"desc keyspaces\")\n",
    "for row in rows:\n",
    "    print(f\"{row[0]}\")"
   ]
  },
  {
   "attachments": {},
   "cell_type": "markdown",
   "metadata": {},
   "source": [
    "## Create Table"
   ]
  },
  {
   "cell_type": "code",
   "execution_count": 7,
   "metadata": {},
   "outputs": [
    {
     "data": {
      "text/plain": [
       "<cassandra.cluster.ResultSet at 0x7fa2958e5610>"
      ]
     },
     "execution_count": 7,
     "metadata": {},
     "output_type": "execute_result"
    }
   ],
   "source": [
    "# Create a table for inventory\n",
    "session.execute(\"\"\"\n",
    "    CREATE TABLE IF NOT EXISTS exam.songs (\n",
    "        song_id INT,\n",
    "        title TEXT,\n",
    "        duration INT,\n",
    "        genre TEXT,\n",
    "        PRIMARY KEY(song_id)\n",
    "    )\n",
    "\"\"\")"
   ]
  },
  {
   "cell_type": "markdown",
   "metadata": {},
   "source": [
    "### INSERT DATA"
   ]
  },
  {
   "cell_type": "code",
   "execution_count": 8,
   "metadata": {},
   "outputs": [],
   "source": [
    "data = [\n",
    "    (1, \"Desi Girl\", 195, \"pop\"),\n",
    "    (2, \"Love Story\", 234, \"rock\"),\n",
    "    (3, \"Goodbye\", 185, \"classical\"),\n",
    "    (4, \"Samajavaragamana\", 179, \"classical\"),\n",
    "    (5, \"Wake up sid\", 125, \"country\"),\n",
    "   \n",
    "]\n",
    "\n",
    "for song in data:\n",
    "    session.execute(\"INSERT INTO exam.songs (song_id, title, duration, genre) VALUES (%s, %s, %s, %s)\", song)"
   ]
  },
  {
   "attachments": {},
   "cell_type": "markdown",
   "metadata": {},
   "source": [
    "Print all the rows in the table"
   ]
  },
  {
   "cell_type": "code",
   "execution_count": 9,
   "metadata": {},
   "outputs": [
    {
     "name": "stdout",
     "output_type": "stream",
     "text": [
      "song_id = 5, title = Wake up sid, duration = 125, genre = country\n",
      "song_id = 1, title = Desi Girl, duration = 195, genre = pop\n",
      "song_id = 2, title = Love Story, duration = 234, genre = rock\n",
      "song_id = 4, title = Samajavaragamana, duration = 179, genre = classical\n",
      "song_id = 3, title = Goodbye, duration = 185, genre = classical\n"
     ]
    }
   ],
   "source": [
    "rows = session.execute(\"select (song_id, title, duration, genre) from exam.songs\")\n",
    "for row in rows:\n",
    "    print(f\"song_id = {row[0][0]}, title = {row[0][1]}, duration = {row[0][2]}, genre = {row[0][3]}\")\n"
   ]
  },
  {
   "attachments": {},
   "cell_type": "markdown",
   "metadata": {},
   "source": [
    "### UPDATE RECORD\n",
    "\n",
    "I am updating the first song's genre from pop to country"
   ]
  },
  {
   "cell_type": "code",
   "execution_count": 10,
   "metadata": {},
   "outputs": [
    {
     "data": {
      "text/plain": [
       "<cassandra.cluster.ResultSet at 0x7fa2b42204d0>"
      ]
     },
     "execution_count": 10,
     "metadata": {},
     "output_type": "execute_result"
    }
   ],
   "source": [
    "new_genre=\"country\"\n",
    "new_song_id = 1\n",
    "session.execute(\"UPDATE exam.songs SET GENRE=%s WHERE song_id = %s\",(new_genre,new_song_id))"
   ]
  },
  {
   "cell_type": "code",
   "execution_count": 11,
   "metadata": {},
   "outputs": [
    {
     "name": "stdout",
     "output_type": "stream",
     "text": [
      "song_id = 5, title = Wake up sid, duration = 125, genre = country\n",
      "song_id = 1, title = Desi Girl, duration = 195, genre = country\n",
      "song_id = 2, title = Love Story, duration = 234, genre = rock\n",
      "song_id = 4, title = Samajavaragamana, duration = 179, genre = classical\n",
      "song_id = 3, title = Goodbye, duration = 185, genre = classical\n"
     ]
    }
   ],
   "source": [
    "# Displaying records in table\n",
    "rows = session.execute(\"select (song_id, title, duration, genre) from exam.songs\")\n",
    "for row in rows:\n",
    "    print(f\"song_id = {row[0][0]}, title = {row[0][1]}, duration = {row[0][2]}, genre = {row[0][3]}\")\n"
   ]
  },
  {
   "attachments": {},
   "cell_type": "markdown",
   "metadata": {},
   "source": [
    "### DELETE A RECORD\n",
    "\n",
    "I am deleting all songs that belong to country genre"
   ]
  },
  {
   "cell_type": "code",
   "execution_count": 12,
   "metadata": {},
   "outputs": [],
   "source": [
    "genre_to_del = \"country\"\n",
    "result = session.execute (\"SELECT song_id from exam.songs where genre = %s ALLOW FILTERING\",(genre_to_del,))\n",
    "\n",
    "for row in result:\n",
    "    son_del = row.song_id\n",
    "    session.execute(\"DELETE FROM exam.songs where song_id=%s\",(son_del,))"
   ]
  },
  {
   "cell_type": "code",
   "execution_count": 13,
   "metadata": {},
   "outputs": [
    {
     "name": "stdout",
     "output_type": "stream",
     "text": [
      "song_id = 2, title = Love Story, duration = 234, genre = rock\n",
      "song_id = 4, title = Samajavaragamana, duration = 179, genre = classical\n",
      "song_id = 3, title = Goodbye, duration = 185, genre = classical\n"
     ]
    }
   ],
   "source": [
    "# Displaying records in table\n",
    "rows = session.execute(\"select (song_id, title, duration, genre) from exam.songs\")\n",
    "for row in rows:\n",
    "    print(f\"song_id = {row[0][0]}, title = {row[0][1]}, duration = {row[0][2]}, genre = {row[0][3]}\")\n"
   ]
  },
  {
   "cell_type": "code",
   "execution_count": null,
   "metadata": {},
   "outputs": [],
   "source": []
  }
 ],
 "metadata": {
  "kernelspec": {
   "display_name": "base",
   "language": "python",
   "name": "python3"
  },
  "language_info": {
   "codemirror_mode": {
    "name": "ipython",
    "version": 3
   },
   "file_extension": ".py",
   "mimetype": "text/x-python",
   "name": "python",
   "nbconvert_exporter": "python",
   "pygments_lexer": "ipython3",
   "version": "3.11.4"
  },
  "orig_nbformat": 4
 },
 "nbformat": 4,
 "nbformat_minor": 2
}
