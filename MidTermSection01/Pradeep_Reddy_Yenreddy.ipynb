{
 "cells": [
  {
   "cell_type": "markdown",
   "metadata": {},
   "source": []
  },
  {
   "cell_type": "markdown",
   "metadata": {},
   "source": [
    "## Midterm Question-2 Easy Level - Pradeep Reddy Yenreddy"
   ]
  },
  {
   "attachments": {},
   "cell_type": "markdown",
   "metadata": {},
   "source": [
    "### Import packages"
   ]
  },
  {
   "cell_type": "code",
   "execution_count": 1,
   "metadata": {},
   "outputs": [],
   "source": [
    "import pandas as pd\n",
    "from cassandra.cluster import Cluster"
   ]
  },
  {
   "attachments": {},
   "cell_type": "markdown",
   "metadata": {},
   "source": [
    "### Create a session connection to Cassandra cluster"
   ]
  },
  {
   "cell_type": "code",
   "execution_count": 2,
   "metadata": {},
   "outputs": [],
   "source": [
    "clstr = Cluster()\n",
    "session = clstr.connect()"
   ]
  },
  {
   "attachments": {},
   "cell_type": "markdown",
   "metadata": {},
   "source": [
    "### Use session to 'talk' to cassandra"
   ]
  },
  {
   "cell_type": "markdown",
   "metadata": {},
   "source": [
    "I am trying to add keyspace bdmid. Dropping the bdmid if exists already"
   ]
  },
  {
   "cell_type": "code",
   "execution_count": 4,
   "metadata": {},
   "outputs": [
    {
     "data": {
      "text/plain": [
       "<cassandra.cluster.ResultSet at 0x7f62b42ebd50>"
      ]
     },
     "execution_count": 4,
     "metadata": {},
     "output_type": "execute_result"
    }
   ],
   "source": [
    "session.execute(\"DROP KEYSPACE IF EXISTS bdmid\")"
   ]
  },
  {
   "cell_type": "markdown",
   "metadata": {},
   "source": [
    "Finding all the keyspaces available"
   ]
  },
  {
   "cell_type": "code",
   "execution_count": 5,
   "metadata": {},
   "outputs": [
    {
     "name": "stdout",
     "output_type": "stream",
     "text": [
      "system\n",
      "system_auth\n",
      "system_distributed\n",
      "system_schema\n",
      "system_traces\n",
      "system_views\n",
      "system_virtual_schema\n"
     ]
    }
   ],
   "source": [
    "rows = session.execute(\"desc keyspaces\")\n",
    "for row in rows:\n",
    "    print(f\"{row[0]}\")"
   ]
  },
  {
   "cell_type": "markdown",
   "metadata": {},
   "source": [
    "Now creating bdmid keyspace with replication factor 3. I want the data to be replicated in three nodes. so selected replication factor as 3"
   ]
  },
  {
   "cell_type": "code",
   "execution_count": 6,
   "metadata": {},
   "outputs": [
    {
     "data": {
      "text/plain": [
       "<cassandra.cluster.ResultSet at 0x7f62b42fb210>"
      ]
     },
     "execution_count": 6,
     "metadata": {},
     "output_type": "execute_result"
    }
   ],
   "source": [
    "session.execute(\"\"\"\n",
    "    CREATE KEYSPACE IF NOT EXISTS bdmid WITH REPLICATION = {\n",
    "        'class':'SimpleStrategy', \n",
    "        'replication_factor':3\n",
    "    }\n",
    "\"\"\")"
   ]
  },
  {
   "cell_type": "markdown",
   "metadata": {},
   "source": [
    "Now checking whether our keyspace is created or not"
   ]
  },
  {
   "cell_type": "code",
   "execution_count": 7,
   "metadata": {},
   "outputs": [
    {
     "name": "stdout",
     "output_type": "stream",
     "text": [
      "bdmid\n",
      "system\n",
      "system_auth\n",
      "system_distributed\n",
      "system_schema\n",
      "system_traces\n",
      "system_views\n",
      "system_virtual_schema\n"
     ]
    }
   ],
   "source": [
    "rows = session.execute(\"desc keyspaces\")\n",
    "for row in rows:\n",
    "    print(f\"{row[0]}\")"
   ]
  },
  {
   "cell_type": "markdown",
   "metadata": {},
   "source": [
    "Create a table named Songs containing fields  SongID, Title, Duration, Genre with Primary key as SongID"
   ]
  },
  {
   "cell_type": "code",
   "execution_count": 8,
   "metadata": {},
   "outputs": [
    {
     "data": {
      "text/plain": [
       "<cassandra.cluster.ResultSet at 0x7f62b5886dd0>"
      ]
     },
     "execution_count": 8,
     "metadata": {},
     "output_type": "execute_result"
    }
   ],
   "source": [
    "session.execute(\"\"\"\n",
    "CREATE TABLE IF NOT EXISTS bdmid.Songs ( \n",
    "    SongID INT, \n",
    "    Title TEXT, \n",
    "    Duration INT, \n",
    "    Genre TEXT,\n",
    "    PRIMARY KEY(SongID)\n",
    ");\n",
    "\"\"\")"
   ]
  },
  {
   "cell_type": "markdown",
   "metadata": {},
   "source": [
    "### Loading  data from CSV to Data Frame df"
   ]
  },
  {
   "cell_type": "markdown",
   "metadata": {},
   "source": [
    "I have created a csv file with name Songs. I have added data to csv file and now I am loading file data into dataframe df."
   ]
  },
  {
   "cell_type": "code",
   "execution_count": 11,
   "metadata": {},
   "outputs": [
    {
     "data": {
      "text/html": [
       "<div>\n",
       "<style scoped>\n",
       "    .dataframe tbody tr th:only-of-type {\n",
       "        vertical-align: middle;\n",
       "    }\n",
       "\n",
       "    .dataframe tbody tr th {\n",
       "        vertical-align: top;\n",
       "    }\n",
       "\n",
       "    .dataframe thead th {\n",
       "        text-align: right;\n",
       "    }\n",
       "</style>\n",
       "<table border=\"1\" class=\"dataframe\">\n",
       "  <thead>\n",
       "    <tr style=\"text-align: right;\">\n",
       "      <th></th>\n",
       "      <th>SongID</th>\n",
       "      <th>Title</th>\n",
       "      <th>Duration</th>\n",
       "      <th>Genre</th>\n",
       "    </tr>\n",
       "  </thead>\n",
       "  <tbody>\n",
       "    <tr>\n",
       "      <th>0</th>\n",
       "      <td>1</td>\n",
       "      <td>'Shape_of_You'</td>\n",
       "      <td>300</td>\n",
       "      <td>'POP'</td>\n",
       "    </tr>\n",
       "    <tr>\n",
       "      <th>1</th>\n",
       "      <td>2</td>\n",
       "      <td>'Let_Me_Love_you'</td>\n",
       "      <td>325</td>\n",
       "      <td>'ROCK'</td>\n",
       "    </tr>\n",
       "    <tr>\n",
       "      <th>2</th>\n",
       "      <td>3</td>\n",
       "      <td>'I_Wanna_Fly'</td>\n",
       "      <td>180</td>\n",
       "      <td>'Classical'</td>\n",
       "    </tr>\n",
       "    <tr>\n",
       "      <th>3</th>\n",
       "      <td>4</td>\n",
       "      <td>'Blinding_Lights'</td>\n",
       "      <td>420</td>\n",
       "      <td>'ROCK'</td>\n",
       "    </tr>\n",
       "    <tr>\n",
       "      <th>4</th>\n",
       "      <td>5</td>\n",
       "      <td>'Natu_Natu'</td>\n",
       "      <td>480</td>\n",
       "      <td>'POP'</td>\n",
       "    </tr>\n",
       "    <tr>\n",
       "      <th>5</th>\n",
       "      <td>6</td>\n",
       "      <td>'Hookabar'</td>\n",
       "      <td>500</td>\n",
       "      <td>'Classical'</td>\n",
       "    </tr>\n",
       "  </tbody>\n",
       "</table>\n",
       "</div>"
      ],
      "text/plain": [
       "   SongID              Title  Duration        Genre\n",
       "0       1     'Shape_of_You'       300        'POP'\n",
       "1       2  'Let_Me_Love_you'       325       'ROCK'\n",
       "2       3      'I_Wanna_Fly'       180  'Classical'\n",
       "3       4  'Blinding_Lights'       420       'ROCK'\n",
       "4       5        'Natu_Natu'       480        'POP'\n",
       "5       6         'Hookabar'       500  'Classical'"
      ]
     },
     "execution_count": 11,
     "metadata": {},
     "output_type": "execute_result"
    }
   ],
   "source": [
    "df = pd.read_csv('Songs.csv')\n",
    "df"
   ]
  },
  {
   "cell_type": "markdown",
   "metadata": {},
   "source": [
    "printing the dataframe with row and index"
   ]
  },
  {
   "cell_type": "code",
   "execution_count": 12,
   "metadata": {},
   "outputs": [
    {
     "name": "stdout",
     "output_type": "stream",
     "text": [
      "SongID = 1, Title ='Shape_of_You', Duration = 300, Genre = 'POP'\n",
      "SongID = 2, Title ='Let_Me_Love_you', Duration = 325, Genre = 'ROCK'\n",
      "SongID = 3, Title ='I_Wanna_Fly', Duration = 180, Genre = 'Classical'\n",
      "SongID = 4, Title ='Blinding_Lights', Duration = 420, Genre = 'ROCK'\n",
      "SongID = 5, Title ='Natu_Natu', Duration = 480, Genre = 'POP'\n",
      "SongID = 6, Title ='Hookabar', Duration = 500, Genre = 'Classical'\n"
     ]
    }
   ],
   "source": [
    "for index, row in df.iterrows():\n",
    "    print(f\"SongID = {row.SongID}, Title ={row.Title}, Duration = {row.Duration}, Genre = {row.Genre}\")"
   ]
  },
  {
   "cell_type": "markdown",
   "metadata": {},
   "source": [
    "## Insertion"
   ]
  },
  {
   "cell_type": "markdown",
   "metadata": {},
   "source": [
    "Inserting the values to the bdmid.Songs table"
   ]
  },
  {
   "cell_type": "code",
   "execution_count": 13,
   "metadata": {},
   "outputs": [
    {
     "name": "stdout",
     "output_type": "stream",
     "text": [
      "\n",
      "        INSERT INTO bdmid.Songs (SongID, Title, Duration, Genre)     \n",
      "        VALUES (1, 'Shape_of_You', 300, 'POP');\n",
      "        \n",
      "\n",
      "        INSERT INTO bdmid.Songs (SongID, Title, Duration, Genre)     \n",
      "        VALUES (2, 'Let_Me_Love_you', 325, 'ROCK');\n",
      "        \n",
      "\n",
      "        INSERT INTO bdmid.Songs (SongID, Title, Duration, Genre)     \n",
      "        VALUES (3, 'I_Wanna_Fly', 180, 'Classical');\n",
      "        \n",
      "\n",
      "        INSERT INTO bdmid.Songs (SongID, Title, Duration, Genre)     \n",
      "        VALUES (4, 'Blinding_Lights', 420, 'ROCK');\n",
      "        \n",
      "\n",
      "        INSERT INTO bdmid.Songs (SongID, Title, Duration, Genre)     \n",
      "        VALUES (5, 'Natu_Natu', 480, 'POP');\n",
      "        \n",
      "\n",
      "        INSERT INTO bdmid.Songs (SongID, Title, Duration, Genre)     \n",
      "        VALUES (6, 'Hookabar', 500, 'Classical');\n",
      "        \n"
     ]
    }
   ],
   "source": [
    "for index, row in df.iterrows():\n",
    "    print(f\"\"\"\n",
    "        INSERT INTO bdmid.Songs (SongID, Title, Duration, Genre)     \n",
    "        VALUES ({row.SongID}, {row.Title}, {row.Duration}, {row.Genre});\n",
    "        \"\"\"\n",
    "    )\n",
    "    session.execute(f\"\"\"\n",
    "        INSERT INTO bdmid.Songs (SongID, Title, Duration, Genre)     \n",
    "        VALUES ({row.SongID}, {row.Title}, {row.Duration}, {row.Genre});\n",
    "        \"\"\"\n",
    "    )"
   ]
  },
  {
   "cell_type": "markdown",
   "metadata": {},
   "source": [
    "Querying the table by filtering the data with primary key(SongID)"
   ]
  },
  {
   "cell_type": "code",
   "execution_count": 15,
   "metadata": {},
   "outputs": [
    {
     "name": "stdout",
     "output_type": "stream",
     "text": [
      "3, I_Wanna_Fly, 180, Classical\n"
     ]
    }
   ],
   "source": [
    "rows = session.execute(\"select (SongID, Title, Duration, Genre) from bdmid.Songs where SongID = 3\")\n",
    "for row in rows:\n",
    "    print(f\"{row[0][0]}, {row[0][1]}, {row[0][2]}, {row[0][3]}\")"
   ]
  },
  {
   "cell_type": "markdown",
   "metadata": {},
   "source": [
    "## Update Query"
   ]
  },
  {
   "cell_type": "markdown",
   "metadata": {},
   "source": [
    "Writing update query to update the song title of the song with SongID 5"
   ]
  },
  {
   "cell_type": "code",
   "execution_count": 16,
   "metadata": {},
   "outputs": [
    {
     "data": {
      "text/plain": [
       "<cassandra.cluster.ResultSet at 0x7f62b4334710>"
      ]
     },
     "execution_count": 16,
     "metadata": {},
     "output_type": "execute_result"
    }
   ],
   "source": [
    "session.execute(f\"\"\"\n",
    "        Update bdmid.Songs set Title='Hello_World' where     \n",
    "        SongID= 5;\n",
    "        \"\"\"\n",
    "    )"
   ]
  },
  {
   "cell_type": "markdown",
   "metadata": {},
   "source": [
    "Printing  the song with SongID 5 to see the title is updated"
   ]
  },
  {
   "cell_type": "code",
   "execution_count": 18,
   "metadata": {},
   "outputs": [
    {
     "name": "stdout",
     "output_type": "stream",
     "text": [
      "5, Hello_World, 480, POP\n"
     ]
    }
   ],
   "source": [
    "rows = session.execute(\"select (SongID, Title, Duration, Genre) from bdmid.Songs where SongID = 5\")\n",
    "for row in rows:\n",
    "    print(f\"{row[0][0]}, {row[0][1]}, {row[0][2]}, {row[0][3]}\")"
   ]
  },
  {
   "cell_type": "markdown",
   "metadata": {},
   "source": [
    "## Delete query"
   ]
  },
  {
   "cell_type": "markdown",
   "metadata": {},
   "source": [
    "Deleting song with SongID=6"
   ]
  },
  {
   "cell_type": "code",
   "execution_count": 19,
   "metadata": {},
   "outputs": [
    {
     "data": {
      "text/plain": [
       "<cassandra.cluster.ResultSet at 0x7f62b43572d0>"
      ]
     },
     "execution_count": 19,
     "metadata": {},
     "output_type": "execute_result"
    }
   ],
   "source": [
    "session.execute(f\"\"\"\n",
    "        Delete from bdmid.Songs where     \n",
    "        SongID=6;\n",
    "        \"\"\"\n",
    "    )"
   ]
  },
  {
   "cell_type": "markdown",
   "metadata": {},
   "source": [
    "Printing the values of the table. We could see that SongID 6 is removed from the table"
   ]
  },
  {
   "cell_type": "code",
   "execution_count": 21,
   "metadata": {},
   "outputs": [
    {
     "name": "stdout",
     "output_type": "stream",
     "text": [
      "5, Hello_World, 480, POP\n",
      "1, Shape_of_You, 300, POP\n",
      "2, Let_Me_Love_you, 325, ROCK\n",
      "4, Blinding_Lights, 420, ROCK\n",
      "3, I_Wanna_Fly, 180, Classical\n"
     ]
    }
   ],
   "source": [
    "rows = session.execute(\"select (SongID, Title, Duration, Genre) from bdmid.Songs\")\n",
    "for row in rows:\n",
    "    print(f\"{row[0][0]}, {row[0][1]}, {row[0][2]}, {row[0][3]}\")"
   ]
  }
 ],
 "metadata": {
  "kernelspec": {
   "display_name": "base",
   "language": "python",
   "name": "python3"
  },
  "language_info": {
   "codemirror_mode": {
    "name": "ipython",
    "version": 3
   },
   "file_extension": ".py",
   "mimetype": "text/x-python",
   "name": "python",
   "nbconvert_exporter": "python",
   "pygments_lexer": "ipython3",
   "version": "3.11.5"
  },
  "orig_nbformat": 4,
  "vscode": {
   "interpreter": {
    "hash": "c774f5f42cb3e70515ef7cb909d9051370cc09a28b296d74902002ebc2249cb4"
   }
  }
 },
 "nbformat": 4,
 "nbformat_minor": 2
}
