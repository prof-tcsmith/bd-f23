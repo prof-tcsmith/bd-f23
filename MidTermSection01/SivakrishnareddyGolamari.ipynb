{
 "cells": [
  {
   "cell_type": "markdown",
   "metadata": {},
   "source": [
    "# Assignment 2\n"
   ]
  },
  {
   "cell_type": "code",
   "execution_count": 94,
   "metadata": {},
   "outputs": [],
   "source": [
    "import pandas as pd\n",
    "from cassandra.cluster import Cluster"
   ]
  },
  {
   "cell_type": "code",
   "execution_count": 95,
   "metadata": {},
   "outputs": [],
   "source": [
    "clstr = Cluster()\n",
    "session = clstr.connect()"
   ]
  },
  {
   "cell_type": "code",
   "execution_count": 96,
   "metadata": {},
   "outputs": [
    {
     "data": {
      "text/plain": [
       "<cassandra.cluster.ResultSet at 0x7ff6a8726090>"
      ]
     },
     "execution_count": 96,
     "metadata": {},
     "output_type": "execute_result"
    }
   ],
   "source": [
    "session.execute(\"DROP KEYSPACE IF EXISTS bd23\")"
   ]
  },
  {
   "cell_type": "code",
   "execution_count": 97,
   "metadata": {},
   "outputs": [
    {
     "name": "stdout",
     "output_type": "stream",
     "text": [
      "system\n",
      "system_auth\n",
      "system_distributed\n",
      "system_schema\n",
      "system_traces\n",
      "system_views\n",
      "system_virtual_schema\n",
      "w04python\n"
     ]
    }
   ],
   "source": [
    "rows = session.execute(\"desc keyspaces\")\n",
    "for row in rows:\n",
    "    print(f\"{row[0]}\")"
   ]
  },
  {
   "cell_type": "code",
   "execution_count": 98,
   "metadata": {},
   "outputs": [
    {
     "data": {
      "text/plain": [
       "<cassandra.cluster.ResultSet at 0x7ff6a872e650>"
      ]
     },
     "execution_count": 98,
     "metadata": {},
     "output_type": "execute_result"
    }
   ],
   "source": [
    "session.execute(\"CREATE KEYSPACE IF NOT EXISTS bd23 WITH REPLICATION = {'class':'SimpleStrategy', 'replication_factor':2}\")"
   ]
  },
  {
   "cell_type": "code",
   "execution_count": 99,
   "metadata": {},
   "outputs": [
    {
     "data": {
      "text/plain": [
       "<cassandra.cluster.ResultSet at 0x7ff6c058ea10>"
      ]
     },
     "execution_count": 99,
     "metadata": {},
     "output_type": "execute_result"
    }
   ],
   "source": [
    "session.execute(\"\"\"\n",
    "CREATE TABLE IF NOT EXISTS bd23.inventory ( \n",
    "    SKU INT, \n",
    "    name TEXT, \n",
    "    description TEXT, \n",
    "    warehouse_num INT,\n",
    "    PRIMARY KEY(SKU)\n",
    ");\n",
    "\"\"\")"
   ]
  },
  {
   "cell_type": "code",
   "execution_count": 100,
   "metadata": {},
   "outputs": [
    {
     "data": {
      "text/html": [
       "<div>\n",
       "<style scoped>\n",
       "    .dataframe tbody tr th:only-of-type {\n",
       "        vertical-align: middle;\n",
       "    }\n",
       "\n",
       "    .dataframe tbody tr th {\n",
       "        vertical-align: top;\n",
       "    }\n",
       "\n",
       "    .dataframe thead th {\n",
       "        text-align: right;\n",
       "    }\n",
       "</style>\n",
       "<table border=\"1\" class=\"dataframe\">\n",
       "  <thead>\n",
       "    <tr style=\"text-align: right;\">\n",
       "      <th></th>\n",
       "      <th>SKU</th>\n",
       "      <th>name</th>\n",
       "      <th>description</th>\n",
       "      <th>warehouse_num</th>\n",
       "    </tr>\n",
       "  </thead>\n",
       "  <tbody>\n",
       "    <tr>\n",
       "      <th>0</th>\n",
       "      <td>1</td>\n",
       "      <td>Aceclofenac</td>\n",
       "      <td>Aceclofenac is used for the treatment of pain</td>\n",
       "      <td>10</td>\n",
       "    </tr>\n",
       "    <tr>\n",
       "      <th>1</th>\n",
       "      <td>2</td>\n",
       "      <td>Moxikind-CV 625</td>\n",
       "      <td>Moxikind-CV 625 Tablet is used in the treatmen...</td>\n",
       "      <td>25</td>\n",
       "    </tr>\n",
       "    <tr>\n",
       "      <th>2</th>\n",
       "      <td>3</td>\n",
       "      <td>Cefixime 200</td>\n",
       "      <td>Cefixime is used to treat certain infections c...</td>\n",
       "      <td>123</td>\n",
       "    </tr>\n",
       "    <tr>\n",
       "      <th>3</th>\n",
       "      <td>4</td>\n",
       "      <td>Pantop 40</td>\n",
       "      <td>Used for the diagnosis or treatment of Gastro-...</td>\n",
       "      <td>123</td>\n",
       "    </tr>\n",
       "    <tr>\n",
       "      <th>4</th>\n",
       "      <td>5</td>\n",
       "      <td>Rabicer dsr</td>\n",
       "      <td>Rabicer DSR 30mg/20mg Capsule is a combination...</td>\n",
       "      <td>25</td>\n",
       "    </tr>\n",
       "    <tr>\n",
       "      <th>5</th>\n",
       "      <td>6</td>\n",
       "      <td>Dolo 650</td>\n",
       "      <td>Dolo 650 tablet is used to lower fever and tre...</td>\n",
       "      <td>567</td>\n",
       "    </tr>\n",
       "  </tbody>\n",
       "</table>\n",
       "</div>"
      ],
      "text/plain": [
       "   SKU             name                                        description  \\\n",
       "0    1      Aceclofenac      Aceclofenac is used for the treatment of pain   \n",
       "1    2  Moxikind-CV 625  Moxikind-CV 625 Tablet is used in the treatmen...   \n",
       "2    3     Cefixime 200  Cefixime is used to treat certain infections c...   \n",
       "3    4        Pantop 40  Used for the diagnosis or treatment of Gastro-...   \n",
       "4    5      Rabicer dsr  Rabicer DSR 30mg/20mg Capsule is a combination...   \n",
       "5    6         Dolo 650  Dolo 650 tablet is used to lower fever and tre...   \n",
       "\n",
       "   warehouse_num  \n",
       "0             10  \n",
       "1             25  \n",
       "2            123  \n",
       "3            123  \n",
       "4             25  \n",
       "5            567  "
      ]
     },
     "execution_count": 100,
     "metadata": {},
     "output_type": "execute_result"
    }
   ],
   "source": [
    "df = pd.read_csv('./Inventory-Information.csv')\n",
    "df"
   ]
  },
  {
   "cell_type": "code",
   "execution_count": 101,
   "metadata": {},
   "outputs": [
    {
     "name": "stdout",
     "output_type": "stream",
     "text": [
      "SKU = 1, name =Aceclofenac,  description= Aceclofenac is used for the treatment of pain, warehouse_num = 10\n",
      "SKU = 2, name =Moxikind-CV 625,  description= Moxikind-CV 625 Tablet is used in the treatment of Bacterial infections, warehouse_num = 25\n",
      "SKU = 3, name =Cefixime 200,  description= Cefixime is used to treat certain infections caused by bacteria such as bronchitis (infection of the airway tubes leading to the lungs), warehouse_num = 123\n",
      "SKU = 4, name =Pantop 40,  description= Used for the diagnosis or treatment of Gastro-esophageal reflux disease -Heartburn -Euophagus -inflammation -Stomach ulcers, warehouse_num = 123\n",
      "SKU = 5, name =Rabicer dsr,  description= Rabicer DSR 30mg/20mg Capsule is a combination medicine used to treat gastroesophageal reflux disease (Acid reflux) and peptic ulcer disease, warehouse_num = 25\n",
      "SKU = 6, name =Dolo 650,  description= Dolo 650 tablet is used to lower fever and treat a variety of pain including toothaches -headaches -migraines -muscular aches , warehouse_num = 567\n"
     ]
    }
   ],
   "source": [
    "for index, row in df.iterrows():\n",
    "    print(f\"SKU = {row.SKU}, name ={row['name']},  description= {row.description}, warehouse_num = {row.warehouse_num}\")"
   ]
  },
  {
   "cell_type": "code",
   "execution_count": 102,
   "metadata": {},
   "outputs": [
    {
     "name": "stdout",
     "output_type": "stream",
     "text": [
      "\n",
      "        INSERT INTO bd23.inventory (SKU, name, description, warehouse_num)     \n",
      "        VALUES (1, 'Aceclofenac', 'Aceclofenac is used for the treatment of pain', 10);\n",
      "        \n",
      "\n",
      "        INSERT INTO bd23.inventory (SKU, name, description, warehouse_num)     \n",
      "        VALUES (2, 'Moxikind-CV 625', 'Moxikind-CV 625 Tablet is used in the treatment of Bacterial infections', 25);\n",
      "        \n",
      "\n",
      "        INSERT INTO bd23.inventory (SKU, name, description, warehouse_num)     \n",
      "        VALUES (3, 'Cefixime 200', 'Cefixime is used to treat certain infections caused by bacteria such as bronchitis (infection of the airway tubes leading to the lungs)', 123);\n",
      "        \n",
      "\n",
      "        INSERT INTO bd23.inventory (SKU, name, description, warehouse_num)     \n",
      "        VALUES (4, 'Pantop 40', 'Used for the diagnosis or treatment of Gastro-esophageal reflux disease -Heartburn -Euophagus -inflammation -Stomach ulcers', 123);\n",
      "        \n",
      "\n",
      "        INSERT INTO bd23.inventory (SKU, name, description, warehouse_num)     \n",
      "        VALUES (5, 'Rabicer dsr', 'Rabicer DSR 30mg/20mg Capsule is a combination medicine used to treat gastroesophageal reflux disease (Acid reflux) and peptic ulcer disease', 25);\n",
      "        \n",
      "\n",
      "        INSERT INTO bd23.inventory (SKU, name, description, warehouse_num)     \n",
      "        VALUES (6, 'Dolo 650', 'Dolo 650 tablet is used to lower fever and treat a variety of pain including toothaches -headaches -migraines -muscular aches ', 567);\n",
      "        \n"
     ]
    }
   ],
   "source": [
    "for index, row in df.iterrows():\n",
    "    print(f\"\"\"\n",
    "        INSERT INTO bd23.inventory (SKU, name, description, warehouse_num)     \n",
    "        VALUES ({row[0]}, '{row[1]}', '{row[2]}', {row[3]});\n",
    "        \"\"\"\n",
    "    )\n",
    "    session.execute(f\"\"\"\n",
    "        INSERT INTO bd23.inventory (SKU, name, description, warehouse_num)     \n",
    "        VALUES ({row[0]}, '{row[1]}', '{row[2]}', {row[3]});\n",
    "        \"\"\"\n",
    "    )\n"
   ]
  },
  {
   "cell_type": "code",
   "execution_count": 103,
   "metadata": {},
   "outputs": [
    {
     "data": {
      "text/plain": [
       "<cassandra.cluster.ResultSet at 0x7ff6a8734790>"
      ]
     },
     "execution_count": 103,
     "metadata": {},
     "output_type": "execute_result"
    }
   ],
   "source": [
    "indeing= \"CREATE INDEX index_warehouse_num ON bd23.inventory (warehouse_num);\"\n",
    "session.execute(indeing)"
   ]
  },
  {
   "cell_type": "code",
   "execution_count": 104,
   "metadata": {},
   "outputs": [
    {
     "name": "stdout",
     "output_type": "stream",
     "text": [
      "SKU=5, name=Rabicer dsr, description=Rabicer DSR 30mg/20mg Capsule is a combination medicine used to treat gastroesophageal reflux disease (Acid reflux) and peptic ulcer disease, warehouse_num=25\n",
      "SKU=1, name=Aceclofenac, description=Aceclofenac is used for the treatment of pain, warehouse_num=10\n",
      "SKU=2, name=Moxikind-CV 625, description=Moxikind-CV 625 Tablet is used in the treatment of Bacterial infections, warehouse_num=25\n",
      "SKU=4, name=Pantop 40, description=Used for the diagnosis or treatment of Gastro-esophageal reflux disease -Heartburn -Euophagus -inflammation -Stomach ulcers, warehouse_num=123\n",
      "SKU=6, name=Dolo 650, description=Dolo 650 tablet is used to lower fever and treat a variety of pain including toothaches -headaches -migraines -muscular aches , warehouse_num=567\n",
      "SKU=3, name=Cefixime 200, description=Cefixime is used to treat certain infections caused by bacteria such as bronchitis (infection of the airway tubes leading to the lungs), warehouse_num=123\n"
     ]
    }
   ],
   "source": [
    "rows = session.execute(\"select (SKU, name, description, warehouse_num) from bd23.inventory\")\n",
    "for row in rows:\n",
    "    print(f\"SKU={row[0][0]}, name={row[0][1]}, description={row[0][2]}, warehouse_num={row[0][3]}\")\n"
   ]
  },
  {
   "cell_type": "code",
   "execution_count": 105,
   "metadata": {},
   "outputs": [
    {
     "name": "stdout",
     "output_type": "stream",
     "text": [
      "SKU=4, name=Pantop 40, description=Used for the diagnosis or treatment of Gastro-esophageal reflux disease -Heartburn -Euophagus -inflammation -Stomach ulcers, warehouse_num=123\n",
      "SKU=3, name=Cefixime 200, description=Cefixime is used to treat certain infections caused by bacteria such as bronchitis (infection of the airway tubes leading to the lungs), warehouse_num=123\n"
     ]
    }
   ],
   "source": [
    "rows = session.execute(\"select (SKU, name, description, warehouse_num) from bd23.inventory  where warehouse_num = 123 \")\n",
    "for row in rows:\n",
    "    print(f\"SKU={row[0][0]}, name={row[0][1]}, description={row[0][2]}, warehouse_num={row[0][3]}\")\n"
   ]
  },
  {
   "cell_type": "code",
   "execution_count": null,
   "metadata": {},
   "outputs": [],
   "source": []
  },
  {
   "cell_type": "code",
   "execution_count": null,
   "metadata": {},
   "outputs": [],
   "source": []
  },
  {
   "cell_type": "code",
   "execution_count": null,
   "metadata": {},
   "outputs": [],
   "source": []
  },
  {
   "cell_type": "code",
   "execution_count": null,
   "metadata": {},
   "outputs": [],
   "source": []
  },
  {
   "cell_type": "code",
   "execution_count": null,
   "metadata": {},
   "outputs": [],
   "source": []
  },
  {
   "cell_type": "code",
   "execution_count": null,
   "metadata": {},
   "outputs": [],
   "source": []
  },
  {
   "cell_type": "code",
   "execution_count": null,
   "metadata": {},
   "outputs": [],
   "source": []
  },
  {
   "cell_type": "code",
   "execution_count": null,
   "metadata": {},
   "outputs": [],
   "source": []
  },
  {
   "cell_type": "code",
   "execution_count": null,
   "metadata": {},
   "outputs": [],
   "source": []
  },
  {
   "cell_type": "code",
   "execution_count": null,
   "metadata": {},
   "outputs": [],
   "source": []
  },
  {
   "cell_type": "code",
   "execution_count": null,
   "metadata": {},
   "outputs": [],
   "source": []
  },
  {
   "cell_type": "code",
   "execution_count": null,
   "metadata": {},
   "outputs": [],
   "source": []
  },
  {
   "cell_type": "code",
   "execution_count": null,
   "metadata": {},
   "outputs": [],
   "source": []
  },
  {
   "cell_type": "code",
   "execution_count": null,
   "metadata": {},
   "outputs": [],
   "source": []
  },
  {
   "cell_type": "code",
   "execution_count": null,
   "metadata": {},
   "outputs": [],
   "source": []
  },
  {
   "cell_type": "code",
   "execution_count": null,
   "metadata": {},
   "outputs": [],
   "source": []
  },
  {
   "cell_type": "code",
   "execution_count": null,
   "metadata": {},
   "outputs": [],
   "source": []
  }
 ],
 "metadata": {
  "kernelspec": {
   "display_name": "bd",
   "language": "python",
   "name": "python3"
  },
  "language_info": {
   "codemirror_mode": {
    "name": "ipython",
    "version": 3
   },
   "file_extension": ".py",
   "mimetype": "text/x-python",
   "name": "python",
   "nbconvert_exporter": "python",
   "pygments_lexer": "ipython3",
   "version": "3.11.5"
  },
  "orig_nbformat": 4
 },
 "nbformat": 4,
 "nbformat_minor": 2
}
