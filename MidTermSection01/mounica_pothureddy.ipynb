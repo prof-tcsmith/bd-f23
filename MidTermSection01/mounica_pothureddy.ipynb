{
 "cells": [
  {
   "cell_type": "markdown",
   "metadata": {},
   "source": [
    "## MID TERM ASSIGNMENT\n",
    "\n",
    "\n",
    "#### Author:Mounica Pothureddy"
   ]
  },
  {
   "cell_type": "markdown",
   "metadata": {},
   "source": [
    "##### In this assignment, I am trying to implement a database in casssandra to store the songs information. It provides details about Song_ID, Title, Duration and the Genre of the song. Because of this it will be easy to store all songs in a single database and to retrive, modify and update the song information at any time. "
   ]
  },
  {
   "cell_type": "markdown",
   "metadata": {},
   "source": [
    "### Import packages"
   ]
  },
  {
   "cell_type": "code",
   "execution_count": 1,
   "metadata": {},
   "outputs": [],
   "source": [
    "import pandas as pd\n",
    "from cassandra.cluster import Cluster"
   ]
  },
  {
   "cell_type": "markdown",
   "metadata": {},
   "source": [
    "### Create a session connection to Cassandra cluster"
   ]
  },
  {
   "cell_type": "code",
   "execution_count": 2,
   "metadata": {},
   "outputs": [],
   "source": [
    "clstr = Cluster()\n",
    "session = clstr.connect()"
   ]
  },
  {
   "cell_type": "markdown",
   "metadata": {},
   "source": [
    "### Use session to 'talk' to cassandra"
   ]
  },
  {
   "cell_type": "code",
   "execution_count": 3,
   "metadata": {},
   "outputs": [
    {
     "data": {
      "text/plain": [
       "<cassandra.cluster.ResultSet at 0x7f353bf2ec20>"
      ]
     },
     "execution_count": 3,
     "metadata": {},
     "output_type": "execute_result"
    }
   ],
   "source": [
    "session.execute(\"DROP KEYSPACE IF EXISTS mid_term_mounica\")"
   ]
  },
  {
   "cell_type": "markdown",
   "metadata": {},
   "source": [
    "### Checking the existing keyspaces"
   ]
  },
  {
   "cell_type": "code",
   "execution_count": 4,
   "metadata": {},
   "outputs": [
    {
     "name": "stdout",
     "output_type": "stream",
     "text": [
      "bd23\n",
      "system\n",
      "system_auth\n",
      "system_distributed\n",
      "system_schema\n",
      "system_traces\n",
      "system_views\n",
      "system_virtual_schema\n",
      "w04python\n"
     ]
    }
   ],
   "source": [
    "rows = session.execute(\"desc keyspaces\")\n",
    "for row in rows:\n",
    "    print(f\"{row[0]}\")"
   ]
  },
  {
   "cell_type": "markdown",
   "metadata": {},
   "source": [
    "### Create the keyspace and replication factor as 5. The replication factor is important as it replicates the data in other nodes and if there is any failure in master node the other nodes where copies of data is present help to get the data."
   ]
  },
  {
   "cell_type": "code",
   "execution_count": 5,
   "metadata": {},
   "outputs": [
    {
     "data": {
      "text/plain": [
       "<cassandra.cluster.ResultSet at 0x7f353c04e3e0>"
      ]
     },
     "execution_count": 5,
     "metadata": {},
     "output_type": "execute_result"
    }
   ],
   "source": [
    "session.execute(\"\"\"\n",
    "    CREATE KEYSPACE IF NOT EXISTS mid_term_mounica WITH REPLICATION = {\n",
    "        'class':'SimpleStrategy', \n",
    "        'replication_factor':5\n",
    "    }\n",
    "\"\"\")"
   ]
  },
  {
   "cell_type": "markdown",
   "metadata": {},
   "source": [
    "### So, here we can see that the new keyspace is created"
   ]
  },
  {
   "cell_type": "code",
   "execution_count": 21,
   "metadata": {},
   "outputs": [
    {
     "name": "stdout",
     "output_type": "stream",
     "text": [
      "bd23\n",
      "mid_term_mounica\n",
      "system\n",
      "system_auth\n",
      "system_distributed\n",
      "system_schema\n",
      "system_traces\n",
      "system_views\n",
      "system_virtual_schema\n",
      "w04python\n"
     ]
    }
   ],
   "source": [
    "rows = session.execute(\"desc keyspaces\")\n",
    "for row in rows:\n",
    "    print(f\"{row[0]}\")"
   ]
  },
  {
   "cell_type": "markdown",
   "metadata": {},
   "source": [
    "### Load data\n",
    "\n",
    "\n",
    "#### Here, I am taking the Song_ID as the primary key to distinguish between each record. So, this column has unique values"
   ]
  },
  {
   "cell_type": "code",
   "execution_count": 11,
   "metadata": {},
   "outputs": [
    {
     "data": {
      "text/plain": [
       "<cassandra.cluster.ResultSet at 0x7f34f2e7f490>"
      ]
     },
     "execution_count": 11,
     "metadata": {},
     "output_type": "execute_result"
    }
   ],
   "source": [
    "session.execute(\"\"\"\n",
    "CREATE TABLE IF NOT EXISTS mid_term_mounica.song_db ( \n",
    "    Song_ID INT, \n",
    "    Title TEXT, \n",
    "    Duration INT, \n",
    "    Genre TEXT,\n",
    "    PRIMARY KEY(Song_ID)\n",
    ");\n",
    "\"\"\")"
   ]
  },
  {
   "cell_type": "markdown",
   "metadata": {},
   "source": [
    "### I used CSV to store the data and I am reading and storing it in df dataframe"
   ]
  },
  {
   "cell_type": "code",
   "execution_count": 7,
   "metadata": {},
   "outputs": [
    {
     "data": {
      "text/html": [
       "<div>\n",
       "<style scoped>\n",
       "    .dataframe tbody tr th:only-of-type {\n",
       "        vertical-align: middle;\n",
       "    }\n",
       "\n",
       "    .dataframe tbody tr th {\n",
       "        vertical-align: top;\n",
       "    }\n",
       "\n",
       "    .dataframe thead th {\n",
       "        text-align: right;\n",
       "    }\n",
       "</style>\n",
       "<table border=\"1\" class=\"dataframe\">\n",
       "  <thead>\n",
       "    <tr style=\"text-align: right;\">\n",
       "      <th></th>\n",
       "      <th>Song_ID</th>\n",
       "      <th>Title</th>\n",
       "      <th>Duration</th>\n",
       "      <th>Genre</th>\n",
       "    </tr>\n",
       "  </thead>\n",
       "  <tbody>\n",
       "    <tr>\n",
       "      <th>0</th>\n",
       "      <td>1</td>\n",
       "      <td>'SongTitle1'</td>\n",
       "      <td>120</td>\n",
       "      <td>'pop'</td>\n",
       "    </tr>\n",
       "    <tr>\n",
       "      <th>1</th>\n",
       "      <td>2</td>\n",
       "      <td>'SongTitle2'</td>\n",
       "      <td>140</td>\n",
       "      <td>'rock'</td>\n",
       "    </tr>\n",
       "    <tr>\n",
       "      <th>2</th>\n",
       "      <td>3</td>\n",
       "      <td>'SongTitle3'</td>\n",
       "      <td>130</td>\n",
       "      <td>'classical'</td>\n",
       "    </tr>\n",
       "    <tr>\n",
       "      <th>3</th>\n",
       "      <td>4</td>\n",
       "      <td>'SongTitle4'</td>\n",
       "      <td>110</td>\n",
       "      <td>'country'</td>\n",
       "    </tr>\n",
       "    <tr>\n",
       "      <th>4</th>\n",
       "      <td>5</td>\n",
       "      <td>'SongTitle5'</td>\n",
       "      <td>160</td>\n",
       "      <td>'pop'</td>\n",
       "    </tr>\n",
       "  </tbody>\n",
       "</table>\n",
       "</div>"
      ],
      "text/plain": [
       "   Song_ID         Title  Duration        Genre\n",
       "0        1  'SongTitle1'       120        'pop'\n",
       "1        2  'SongTitle2'       140       'rock'\n",
       "2        3  'SongTitle3'       130  'classical'\n",
       "3        4  'SongTitle4'       110    'country'\n",
       "4        5  'SongTitle5'       160        'pop'"
      ]
     },
     "execution_count": 7,
     "metadata": {},
     "output_type": "execute_result"
    }
   ],
   "source": [
    "df = pd.read_csv('Song_information.csv')\n",
    "df"
   ]
  },
  {
   "cell_type": "markdown",
   "metadata": {},
   "source": [
    "### Checking each row data"
   ]
  },
  {
   "cell_type": "code",
   "execution_count": 8,
   "metadata": {},
   "outputs": [
    {
     "name": "stdout",
     "output_type": "stream",
     "text": [
      " Song_ID= 1, Title ='SongTitle1', l_name = 120, course = 'pop'\n",
      " Song_ID= 2, Title ='SongTitle2', l_name = 140, course = 'rock'\n",
      " Song_ID= 3, Title ='SongTitle3', l_name = 130, course = 'classical'\n",
      " Song_ID= 4, Title ='SongTitle4', l_name = 110, course = 'country'\n",
      " Song_ID= 5, Title ='SongTitle5', l_name = 160, course = 'pop'\n"
     ]
    }
   ],
   "source": [
    "for index, row in df.iterrows():\n",
    "    print(f\" Song_ID= {row.Song_ID}, Title ={row.Title}, l_name = {row.Duration}, course = {row.Genre}\")"
   ]
  },
  {
   "cell_type": "markdown",
   "metadata": {},
   "source": [
    "### Inserting into table"
   ]
  },
  {
   "cell_type": "code",
   "execution_count": 13,
   "metadata": {},
   "outputs": [
    {
     "name": "stdout",
     "output_type": "stream",
     "text": [
      "\n",
      "        INSERT INTO mid_term_mounica.song_db(Song_ID, Title, Duration, Genre)     \n",
      "        VALUES (1, 'SongTitle1', 120, 'pop');\n",
      "        \n",
      "\n",
      "        INSERT INTO mid_term_mounica.song_db(Song_ID, Title, Duration, Genre)     \n",
      "        VALUES (2, 'SongTitle2', 140, 'rock');\n",
      "        \n",
      "\n",
      "        INSERT INTO mid_term_mounica.song_db(Song_ID, Title, Duration, Genre)     \n",
      "        VALUES (3, 'SongTitle3', 130, 'classical');\n",
      "        \n",
      "\n",
      "        INSERT INTO mid_term_mounica.song_db(Song_ID, Title, Duration, Genre)     \n",
      "        VALUES (4, 'SongTitle4', 110, 'country');\n",
      "        \n",
      "\n",
      "        INSERT INTO mid_term_mounica.song_db(Song_ID, Title, Duration, Genre)     \n",
      "        VALUES (5, 'SongTitle5', 160, 'pop');\n",
      "        \n"
     ]
    }
   ],
   "source": [
    "for index, row in df.iterrows():\n",
    "    print(f\"\"\"\n",
    "        INSERT INTO mid_term_mounica.song_db(Song_ID, Title, Duration, Genre)     \n",
    "        VALUES ({row.Song_ID}, {row.Title}, {row.Duration}, {row.Genre});\n",
    "        \"\"\"\n",
    "    )\n",
    "    session.execute(f\"\"\"\n",
    "        INSERT INTO mid_term_mounica.song_db(Song_ID, Title, Duration,Genre)     \n",
    "        VALUES ({row.Song_ID}, {row.Title}, {row.Duration}, {row.Genre});\n",
    "        \"\"\"\n",
    "    )"
   ]
  },
  {
   "cell_type": "markdown",
   "metadata": {},
   "source": [
    "### Now, I want to update a row in the database where Song_ID=2. I want to get the duration updated to 170 from 140. If we want to update information about any of the songs this actually helps."
   ]
  },
  {
   "cell_type": "code",
   "execution_count": 15,
   "metadata": {},
   "outputs": [
    {
     "data": {
      "text/plain": [
       "<cassandra.cluster.ResultSet at 0x7f35019fa350>"
      ]
     },
     "execution_count": 15,
     "metadata": {},
     "output_type": "execute_result"
    }
   ],
   "source": [
    "session.execute(f\"\"\"UPDATE mid_term_mounica.song_db SET Duration=170 where Song_ID=2\"\"\")"
   ]
  },
  {
   "cell_type": "markdown",
   "metadata": {},
   "source": [
    "### I am now checking if the data is updated or not in the database. "
   ]
  },
  {
   "cell_type": "code",
   "execution_count": 17,
   "metadata": {},
   "outputs": [
    {
     "name": "stdout",
     "output_type": "stream",
     "text": [
      "Row(song_id=5, duration=160, genre='pop', title='SongTitle5')\n",
      "Row(song_id=1, duration=120, genre='pop', title='SongTitle1')\n",
      "Row(song_id=2, duration=170, genre='rock', title='SongTitle2')\n",
      "Row(song_id=4, duration=110, genre='country', title='SongTitle4')\n",
      "Row(song_id=3, duration=130, genre='classical', title='SongTitle3')\n"
     ]
    }
   ],
   "source": [
    "row=session.execute(\"\"\"select * from mid_term_mounica.song_db\"\"\");\n",
    "for i in row:\n",
    "    print(i)"
   ]
  },
  {
   "cell_type": "markdown",
   "metadata": {},
   "source": [
    "### Sometimes, we may need to remove some old data. So, here I am trying to delete a row of data where Song_ID=5"
   ]
  },
  {
   "cell_type": "code",
   "execution_count": 18,
   "metadata": {},
   "outputs": [],
   "source": [
    "session.execute(\"\"\"DELETE FROM mid_term_mounica.song_db where Song_ID=5\"\"\");"
   ]
  },
  {
   "cell_type": "markdown",
   "metadata": {},
   "source": [
    "### Checking if that row of data is deleted or not"
   ]
  },
  {
   "cell_type": "code",
   "execution_count": 19,
   "metadata": {},
   "outputs": [
    {
     "name": "stdout",
     "output_type": "stream",
     "text": [
      "Row(song_id=1, duration=120, genre='pop', title='SongTitle1')\n",
      "Row(song_id=2, duration=170, genre='rock', title='SongTitle2')\n",
      "Row(song_id=4, duration=110, genre='country', title='SongTitle4')\n",
      "Row(song_id=3, duration=130, genre='classical', title='SongTitle3')\n"
     ]
    }
   ],
   "source": [
    "row=session.execute(\"\"\"select * from mid_term_mounica.song_db\"\"\");\n",
    "for i in row:\n",
    "    print(i)"
   ]
  },
  {
   "cell_type": "markdown",
   "metadata": {},
   "source": [
    "### So, I have created a database with songs information with fields Song_ID, Title, Duration, Genre. In this way, we can create a database in cassandra and use the replications factor to store and retrive the data"
   ]
  }
 ],
 "metadata": {
  "kernelspec": {
   "display_name": "base",
   "language": "python",
   "name": "python3"
  },
  "language_info": {
   "codemirror_mode": {
    "name": "ipython",
    "version": 3
   },
   "file_extension": ".py",
   "mimetype": "text/x-python",
   "name": "python",
   "nbconvert_exporter": "python",
   "pygments_lexer": "ipython3",
   "version": "3.10.12"
  },
  "orig_nbformat": 4
 },
 "nbformat": 4,
 "nbformat_minor": 2
}
