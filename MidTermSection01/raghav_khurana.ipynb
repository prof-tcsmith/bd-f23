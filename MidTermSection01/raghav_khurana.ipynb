{
 "cells": [
  {
   "attachments": {},
   "cell_type": "markdown",
   "metadata": {},
   "source": [
    "## Midterm Submission, by Raghav Khurana\n",
    "### Question 2"
   ]
  },
  {
   "attachments": {},
   "cell_type": "markdown",
   "metadata": {},
   "source": [
    "#### The objective of this exercise is to create an extension to an existing song database system. Below I will create a table in cassandra to store song information. "
   ]
  },
  {
   "attachments": {},
   "cell_type": "markdown",
   "metadata": {},
   "source": [
    "##### The first step would be to import the required libraries so that we can use the python notebook and spin up a cassandra server. "
   ]
  },
  {
   "cell_type": "code",
   "execution_count": 37,
   "metadata": {},
   "outputs": [],
   "source": [
    "import pandas as pd\n",
    "from cassandra.cluster import Cluster"
   ]
  },
  {
   "attachments": {},
   "cell_type": "markdown",
   "metadata": {},
   "source": [
    "##### Once the libraries are imported, we will create an object of the cluster and then create a session object 'session' to conncect to the cluster. "
   ]
  },
  {
   "cell_type": "code",
   "execution_count": 38,
   "metadata": {},
   "outputs": [],
   "source": [
    "clstr = Cluster()\n",
    "session = clstr.connect()"
   ]
  },
  {
   "attachments": {},
   "cell_type": "markdown",
   "metadata": {},
   "source": [
    "##### I will create a keyspace 'midterm' for this exercise. \n",
    "##### First, I will check if a keyspace called midterm already exists and then drop if it exists. "
   ]
  },
  {
   "cell_type": "code",
   "execution_count": 39,
   "metadata": {},
   "outputs": [
    {
     "data": {
      "text/plain": [
       "<cassandra.cluster.ResultSet at 0x7ff81c585d90>"
      ]
     },
     "execution_count": 39,
     "metadata": {},
     "output_type": "execute_result"
    }
   ],
   "source": [
    "session.execute(\"DROP KEYSPACE IF EXISTS midterm\")"
   ]
  },
  {
   "attachments": {},
   "cell_type": "markdown",
   "metadata": {},
   "source": [
    "##### Now, I am just verifying what keyspaces exist by using the desc keyspaces command and printing the output. "
   ]
  },
  {
   "cell_type": "code",
   "execution_count": 40,
   "metadata": {},
   "outputs": [
    {
     "name": "stdout",
     "output_type": "stream",
     "text": [
      "bd23\n",
      "system\n",
      "system_auth\n",
      "system_distributed\n",
      "system_schema\n",
      "system_traces\n",
      "system_views\n",
      "system_virtual_schema\n"
     ]
    }
   ],
   "source": [
    "rows = session.execute(\"desc keyspaces\")\n",
    "for row in rows:\n",
    "    print(f\"{row[0]}\")"
   ]
  },
  {
   "cell_type": "markdown",
   "metadata": {},
   "source": []
  },
  {
   "attachments": {},
   "cell_type": "markdown",
   "metadata": {},
   "source": [
    "##### Now that we have made sure there isn't a keyspace called 'midterm', we can create one with replication factor as 5 since we are using the cassandra 5 node server. \n",
    "\n",
    "##### Using a 5 node server is not necessary for this application since we don't really have enough data to warrant it. "
   ]
  },
  {
   "cell_type": "code",
   "execution_count": 41,
   "metadata": {},
   "outputs": [
    {
     "data": {
      "text/plain": [
       "<cassandra.cluster.ResultSet at 0x7ff81cd79590>"
      ]
     },
     "execution_count": 41,
     "metadata": {},
     "output_type": "execute_result"
    }
   ],
   "source": [
    "session.execute(\"\"\"\n",
    "    CREATE KEYSPACE IF NOT EXISTS midterm WITH REPLICATION = {\n",
    "        'class':'SimpleStrategy', \n",
    "        'replication_factor':5\n",
    "    }\n",
    "\"\"\")"
   ]
  },
  {
   "attachments": {},
   "cell_type": "markdown",
   "metadata": {},
   "source": [
    "##### Run the describe keyspaces command again and iterate through the results to check if the midterm keyspace is created or not. "
   ]
  },
  {
   "cell_type": "code",
   "execution_count": 42,
   "metadata": {},
   "outputs": [
    {
     "name": "stdout",
     "output_type": "stream",
     "text": [
      "bd23\n",
      "midterm\n",
      "system\n",
      "system_auth\n",
      "system_distributed\n",
      "system_schema\n",
      "system_traces\n",
      "system_views\n",
      "system_virtual_schema\n"
     ]
    }
   ],
   "source": [
    "rows = session.execute(\"desc keyspaces\")\n",
    "for row in rows:\n",
    "    print(f\"{row[0]}\")"
   ]
  },
  {
   "attachments": {},
   "cell_type": "markdown",
   "metadata": {},
   "source": [
    "##### Now that we have verified the keyspace exists, we can create a table which will house our data. \n",
    "##### I am creating a table called 'songs' inside the keyspace midterm. This table will have 4 variables- songID, title, duration and genre. \n",
    "##### When defining the primary key, I am using genre as the key to determine partition the data, since there is enough diversity in the genre information. The data is equally distributed in the genre category so we can count on the nodes not being overloaded disproportionately and will not impact performance. "
   ]
  },
  {
   "cell_type": "code",
   "execution_count": 43,
   "metadata": {},
   "outputs": [
    {
     "data": {
      "text/plain": [
       "<cassandra.cluster.ResultSet at 0x7ff81c488c50>"
      ]
     },
     "execution_count": 43,
     "metadata": {},
     "output_type": "execute_result"
    }
   ],
   "source": [
    "session.execute(\"\"\"\n",
    "CREATE TABLE IF NOT EXISTS midterm.songs ( \n",
    "    songID INT, \n",
    "    title TEXT, \n",
    "    duration INT, \n",
    "    genre TEXT, \n",
    "    PRIMARY KEY(genre, duration, songID)\n",
    ");\n",
    "\"\"\")"
   ]
  },
  {
   "attachments": {},
   "cell_type": "markdown",
   "metadata": {},
   "source": [
    "##### Now that the table is created, we can read in our data. \n",
    "##### I am using a .csv file which I created to import the data into the table. This csv file is called midtermData.csv. I am using the pandas library to read the data from the csv file into a dataframe called df."
   ]
  },
  {
   "cell_type": "code",
   "execution_count": 44,
   "metadata": {},
   "outputs": [
    {
     "data": {
      "text/html": [
       "<div>\n",
       "<style scoped>\n",
       "    .dataframe tbody tr th:only-of-type {\n",
       "        vertical-align: middle;\n",
       "    }\n",
       "\n",
       "    .dataframe tbody tr th {\n",
       "        vertical-align: top;\n",
       "    }\n",
       "\n",
       "    .dataframe thead th {\n",
       "        text-align: right;\n",
       "    }\n",
       "</style>\n",
       "<table border=\"1\" class=\"dataframe\">\n",
       "  <thead>\n",
       "    <tr style=\"text-align: right;\">\n",
       "      <th></th>\n",
       "      <th>songID</th>\n",
       "      <th>title</th>\n",
       "      <th>duration</th>\n",
       "      <th>genre</th>\n",
       "    </tr>\n",
       "  </thead>\n",
       "  <tbody>\n",
       "    <tr>\n",
       "      <th>0</th>\n",
       "      <td>1000</td>\n",
       "      <td>'Oceans'</td>\n",
       "      <td>300</td>\n",
       "      <td>'pop'</td>\n",
       "    </tr>\n",
       "    <tr>\n",
       "      <th>1</th>\n",
       "      <td>1001</td>\n",
       "      <td>'sand'</td>\n",
       "      <td>200</td>\n",
       "      <td>'pop'</td>\n",
       "    </tr>\n",
       "    <tr>\n",
       "      <th>2</th>\n",
       "      <td>1002</td>\n",
       "      <td>'plant'</td>\n",
       "      <td>380</td>\n",
       "      <td>'pop'</td>\n",
       "    </tr>\n",
       "    <tr>\n",
       "      <th>3</th>\n",
       "      <td>1003</td>\n",
       "      <td>'love'</td>\n",
       "      <td>282</td>\n",
       "      <td>'country'</td>\n",
       "    </tr>\n",
       "    <tr>\n",
       "      <th>4</th>\n",
       "      <td>1004</td>\n",
       "      <td>'cars'</td>\n",
       "      <td>111</td>\n",
       "      <td>'country'</td>\n",
       "    </tr>\n",
       "    <tr>\n",
       "      <th>5</th>\n",
       "      <td>1005</td>\n",
       "      <td>'diamonds'</td>\n",
       "      <td>271</td>\n",
       "      <td>'country'</td>\n",
       "    </tr>\n",
       "    <tr>\n",
       "      <th>6</th>\n",
       "      <td>1006</td>\n",
       "      <td>'sunflower'</td>\n",
       "      <td>981</td>\n",
       "      <td>'classical'</td>\n",
       "    </tr>\n",
       "    <tr>\n",
       "      <th>7</th>\n",
       "      <td>1007</td>\n",
       "      <td>'keyboard'</td>\n",
       "      <td>282</td>\n",
       "      <td>'classical'</td>\n",
       "    </tr>\n",
       "    <tr>\n",
       "      <th>8</th>\n",
       "      <td>1008</td>\n",
       "      <td>'chandelier'</td>\n",
       "      <td>233</td>\n",
       "      <td>'classical'</td>\n",
       "    </tr>\n",
       "    <tr>\n",
       "      <th>9</th>\n",
       "      <td>1009</td>\n",
       "      <td>'samsung'</td>\n",
       "      <td>544</td>\n",
       "      <td>'rock'</td>\n",
       "    </tr>\n",
       "    <tr>\n",
       "      <th>10</th>\n",
       "      <td>1010</td>\n",
       "      <td>'outlook'</td>\n",
       "      <td>171</td>\n",
       "      <td>'rock'</td>\n",
       "    </tr>\n",
       "    <tr>\n",
       "      <th>11</th>\n",
       "      <td>1011</td>\n",
       "      <td>'wonderwall'</td>\n",
       "      <td>152</td>\n",
       "      <td>'rock'</td>\n",
       "    </tr>\n",
       "    <tr>\n",
       "      <th>12</th>\n",
       "      <td>1012</td>\n",
       "      <td>'pink floyd'</td>\n",
       "      <td>181</td>\n",
       "      <td>'rock'</td>\n",
       "    </tr>\n",
       "    <tr>\n",
       "      <th>13</th>\n",
       "      <td>1013</td>\n",
       "      <td>'soup'</td>\n",
       "      <td>656</td>\n",
       "      <td>'rock'</td>\n",
       "    </tr>\n",
       "  </tbody>\n",
       "</table>\n",
       "</div>"
      ],
      "text/plain": [
       "    songID         title  duration        genre\n",
       "0     1000      'Oceans'       300        'pop'\n",
       "1     1001        'sand'       200        'pop'\n",
       "2     1002       'plant'       380        'pop'\n",
       "3     1003        'love'       282    'country'\n",
       "4     1004        'cars'       111    'country'\n",
       "5     1005    'diamonds'       271    'country'\n",
       "6     1006   'sunflower'       981  'classical'\n",
       "7     1007    'keyboard'       282  'classical'\n",
       "8     1008  'chandelier'       233  'classical'\n",
       "9     1009     'samsung'       544       'rock'\n",
       "10    1010     'outlook'       171       'rock'\n",
       "11    1011  'wonderwall'       152       'rock'\n",
       "12    1012  'pink floyd'       181       'rock'\n",
       "13    1013        'soup'       656       'rock'"
      ]
     },
     "execution_count": 44,
     "metadata": {},
     "output_type": "execute_result"
    }
   ],
   "source": [
    "df = pd.read_csv('midtermData.csv')\n",
    "df"
   ]
  },
  {
   "attachments": {},
   "cell_type": "markdown",
   "metadata": {},
   "source": [
    "##### Just to verify that we have the correct information, I am iterating through the dataframe using a for loop and printing the output in each of the variable names. "
   ]
  },
  {
   "cell_type": "code",
   "execution_count": 45,
   "metadata": {},
   "outputs": [
    {
     "name": "stdout",
     "output_type": "stream",
     "text": [
      "songID = 1000, title ='Oceans', duration = 300, genre = 'pop'\n",
      "songID = 1001, title ='sand', duration = 200, genre = 'pop'\n",
      "songID = 1002, title ='plant', duration = 380, genre = 'pop'\n",
      "songID = 1003, title ='love', duration = 282, genre = 'country'\n",
      "songID = 1004, title ='cars', duration = 111, genre = 'country'\n",
      "songID = 1005, title ='diamonds', duration = 271, genre = 'country'\n",
      "songID = 1006, title ='sunflower', duration = 981, genre = 'classical'\n",
      "songID = 1007, title ='keyboard', duration = 282, genre = 'classical'\n",
      "songID = 1008, title ='chandelier', duration = 233, genre = 'classical'\n",
      "songID = 1009, title ='samsung', duration = 544, genre = 'rock'\n",
      "songID = 1010, title ='outlook', duration = 171, genre = 'rock'\n",
      "songID = 1011, title ='wonderwall', duration = 152, genre = 'rock'\n",
      "songID = 1012, title ='pink floyd', duration = 181, genre = 'rock'\n",
      "songID = 1013, title ='soup', duration = 656, genre = 'rock'\n"
     ]
    }
   ],
   "source": [
    "for index, row in df.iterrows():\n",
    "    print(f\"songID = {row.songID}, title ={row.title}, duration = {row.duration}, genre = {row.genre}\")"
   ]
  },
  {
   "attachments": {},
   "cell_type": "markdown",
   "metadata": {},
   "source": [
    "##### Now, again to check the validity and correct-ness of the data, I am printing the Insert statement that I have written before executing it and sending data to the table. For each row, the below code will print the exact insert statement as well as execute it. "
   ]
  },
  {
   "cell_type": "code",
   "execution_count": 46,
   "metadata": {},
   "outputs": [
    {
     "name": "stdout",
     "output_type": "stream",
     "text": [
      "\n",
      "        INSERT INTO midterm.songs (songID, title, duration, genre)     \n",
      "        VALUES (1000, 'Oceans', 300, 'pop');\n",
      "        \n",
      "\n",
      "        INSERT INTO midterm.songs (songID, title, duration, genre)     \n",
      "        VALUES (1001, 'sand', 200, 'pop');\n",
      "        \n",
      "\n",
      "        INSERT INTO midterm.songs (songID, title, duration, genre)     \n",
      "        VALUES (1002, 'plant', 380, 'pop');\n",
      "        \n",
      "\n",
      "        INSERT INTO midterm.songs (songID, title, duration, genre)     \n",
      "        VALUES (1003, 'love', 282, 'country');\n",
      "        \n",
      "\n",
      "        INSERT INTO midterm.songs (songID, title, duration, genre)     \n",
      "        VALUES (1004, 'cars', 111, 'country');\n",
      "        \n",
      "\n",
      "        INSERT INTO midterm.songs (songID, title, duration, genre)     \n",
      "        VALUES (1005, 'diamonds', 271, 'country');\n",
      "        \n",
      "\n",
      "        INSERT INTO midterm.songs (songID, title, duration, genre)     \n",
      "        VALUES (1006, 'sunflower', 981, 'classical');\n",
      "        \n",
      "\n",
      "        INSERT INTO midterm.songs (songID, title, duration, genre)     \n",
      "        VALUES (1007, 'keyboard', 282, 'classical');\n",
      "        \n",
      "\n",
      "        INSERT INTO midterm.songs (songID, title, duration, genre)     \n",
      "        VALUES (1008, 'chandelier', 233, 'classical');\n",
      "        \n",
      "\n",
      "        INSERT INTO midterm.songs (songID, title, duration, genre)     \n",
      "        VALUES (1009, 'samsung', 544, 'rock');\n",
      "        \n",
      "\n",
      "        INSERT INTO midterm.songs (songID, title, duration, genre)     \n",
      "        VALUES (1010, 'outlook', 171, 'rock');\n",
      "        \n",
      "\n",
      "        INSERT INTO midterm.songs (songID, title, duration, genre)     \n",
      "        VALUES (1011, 'wonderwall', 152, 'rock');\n",
      "        \n",
      "\n",
      "        INSERT INTO midterm.songs (songID, title, duration, genre)     \n",
      "        VALUES (1012, 'pink floyd', 181, 'rock');\n",
      "        \n",
      "\n",
      "        INSERT INTO midterm.songs (songID, title, duration, genre)     \n",
      "        VALUES (1013, 'soup', 656, 'rock');\n",
      "        \n"
     ]
    }
   ],
   "source": [
    "for index, row in df.iterrows():\n",
    "    print(f\"\"\"\n",
    "        INSERT INTO midterm.songs (songID, title, duration, genre)     \n",
    "        VALUES ({row.songID}, {row.title}, {row.duration}, {row.genre});\n",
    "        \"\"\"\n",
    "    )\n",
    "    session.execute(f\"\"\"\n",
    "        INSERT INTO midterm.songs (songID, title, duration, genre)     \n",
    "        VALUES ({row.songID}, {row.title}, {row.duration}, {row.genre});\n",
    "        \"\"\"\n",
    "    )"
   ]
  },
  {
   "attachments": {},
   "cell_type": "markdown",
   "metadata": {},
   "source": [
    "##### Now that we have been able to successfully import the data in the table. I will run code to verify that the data is imported or not. "
   ]
  },
  {
   "cell_type": "code",
   "execution_count": 47,
   "metadata": {},
   "outputs": [
    {
     "name": "stdout",
     "output_type": "stream",
     "text": [
      "songID=1008, title=chandelier, duration=233, genre=classical\n",
      "songID=1007, title=keyboard, duration=282, genre=classical\n",
      "songID=1006, title=sunflower, duration=981, genre=classical\n",
      "songID=1011, title=wonderwall, duration=152, genre=rock\n",
      "songID=1010, title=outlook, duration=171, genre=rock\n",
      "songID=1012, title=pink floyd, duration=181, genre=rock\n",
      "songID=1009, title=samsung, duration=544, genre=rock\n",
      "songID=1013, title=soup, duration=656, genre=rock\n",
      "songID=1001, title=sand, duration=200, genre=pop\n",
      "songID=1000, title=Oceans, duration=300, genre=pop\n",
      "songID=1002, title=plant, duration=380, genre=pop\n",
      "songID=1004, title=cars, duration=111, genre=country\n",
      "songID=1005, title=diamonds, duration=271, genre=country\n",
      "songID=1003, title=love, duration=282, genre=country\n"
     ]
    }
   ],
   "source": [
    "rows = session.execute(\"select (songID, title, duration, genre) from midterm.songs\")\n",
    "for row in rows:\n",
    "    print(f\"songID={row[0][0]}, title={row[0][1]}, duration={row[0][2]}, genre={row[0][3]}\")\n"
   ]
  },
  {
   "attachments": {},
   "cell_type": "markdown",
   "metadata": {},
   "source": [
    "##### With the above code, we have been able to verfiy that the data is imported successfully into the table. "
   ]
  },
  {
   "attachments": {},
   "cell_type": "markdown",
   "metadata": {},
   "source": [
    "##### Now, I am demonstrating how to add an additional row of data to the table. \n",
    "##### I will insert a new record called 'christmas' to the table. "
   ]
  },
  {
   "cell_type": "code",
   "execution_count": 48,
   "metadata": {},
   "outputs": [
    {
     "data": {
      "text/plain": [
       "<cassandra.cluster.ResultSet at 0x7ff81c70cc10>"
      ]
     },
     "execution_count": 48,
     "metadata": {},
     "output_type": "execute_result"
    }
   ],
   "source": [
    "#add data\n",
    "\n",
    "session.execute(f\"\"\"\n",
    "        INSERT INTO midterm.songs (songID, title, duration, genre)     \n",
    "        VALUES (2020, 'Christmas', 400, 'pop');\n",
    "        \"\"\"\n",
    "    )\n"
   ]
  },
  {
   "attachments": {},
   "cell_type": "markdown",
   "metadata": {},
   "source": [
    "##### To verify that the code worked, I will print the output again and check if 'Christmas' has been inserted. "
   ]
  },
  {
   "cell_type": "code",
   "execution_count": 49,
   "metadata": {},
   "outputs": [
    {
     "name": "stdout",
     "output_type": "stream",
     "text": [
      "songID=1008, title=chandelier, duration=233, genre=classical\n",
      "songID=1007, title=keyboard, duration=282, genre=classical\n",
      "songID=1006, title=sunflower, duration=981, genre=classical\n",
      "songID=1011, title=wonderwall, duration=152, genre=rock\n",
      "songID=1010, title=outlook, duration=171, genre=rock\n",
      "songID=1012, title=pink floyd, duration=181, genre=rock\n",
      "songID=1009, title=samsung, duration=544, genre=rock\n",
      "songID=1013, title=soup, duration=656, genre=rock\n",
      "songID=1001, title=sand, duration=200, genre=pop\n",
      "songID=1000, title=Oceans, duration=300, genre=pop\n",
      "songID=1002, title=plant, duration=380, genre=pop\n",
      "songID=2020, title=Christmas, duration=400, genre=pop\n",
      "songID=1004, title=cars, duration=111, genre=country\n",
      "songID=1005, title=diamonds, duration=271, genre=country\n",
      "songID=1003, title=love, duration=282, genre=country\n"
     ]
    }
   ],
   "source": [
    "rows = session.execute(\"select (songID, title, duration, genre) from midterm.songs\")\n",
    "for row in rows:\n",
    "    print(f\"songID={row[0][0]}, title={row[0][1]}, duration={row[0][2]}, genre={row[0][3]}\")\n"
   ]
  },
  {
   "attachments": {},
   "cell_type": "markdown",
   "metadata": {},
   "source": [
    "##### With the above output, we have been able to verify that 'Christmas' has been inserted into the table."
   ]
  },
  {
   "attachments": {},
   "cell_type": "markdown",
   "metadata": {},
   "source": [
    "#### Updating a record in the table. \n",
    "##### In case I wanted to update a particular record, I can use the below code to iddntify a song by its songID and update the details like title and genre. "
   ]
  },
  {
   "cell_type": "code",
   "execution_count": 50,
   "metadata": {},
   "outputs": [
    {
     "ename": "InvalidRequest",
     "evalue": "Error from server: code=2200 [Invalid query] message=\"PRIMARY KEY part genre found in SET part\"",
     "output_type": "error",
     "traceback": [
      "\u001b[0;31m---------------------------------------------------------------------------\u001b[0m",
      "\u001b[0;31mInvalidRequest\u001b[0m                            Traceback (most recent call last)",
      "Cell \u001b[0;32mIn[50], line 3\u001b[0m\n\u001b[1;32m      1\u001b[0m \u001b[39m# update existing record\u001b[39;00m\n\u001b[0;32m----> 3\u001b[0m session\u001b[39m.\u001b[39mexecute(\u001b[39mf\u001b[39m\u001b[39m\"\"\"\u001b[39m\n\u001b[1;32m      4\u001b[0m \u001b[39m        UPDATE midterm.songs   \u001b[39m\n\u001b[1;32m      5\u001b[0m \u001b[39m        SET title=\u001b[39m\u001b[39m'\u001b[39m\u001b[39mRaghav\u001b[39m\u001b[39m'\u001b[39m\u001b[39m, genre=\u001b[39m\u001b[39m'\u001b[39m\u001b[39mcountry\u001b[39m\u001b[39m'\u001b[39m\n\u001b[1;32m      6\u001b[0m \u001b[39m        WHERE songID = 1001;\u001b[39m\n\u001b[1;32m      7\u001b[0m \u001b[39m        \u001b[39m\u001b[39m\"\"\"\u001b[39m\n\u001b[1;32m      8\u001b[0m     )\n",
      "File \u001b[0;32m~/miniconda3/envs/bd/lib/python3.11/site-packages/cassandra/cluster.py:2618\u001b[0m, in \u001b[0;36mcassandra.cluster.Session.execute\u001b[0;34m()\u001b[0m\n",
      "File \u001b[0;32m~/miniconda3/envs/bd/lib/python3.11/site-packages/cassandra/cluster.py:4894\u001b[0m, in \u001b[0;36mcassandra.cluster.ResponseFuture.result\u001b[0;34m()\u001b[0m\n",
      "\u001b[0;31mInvalidRequest\u001b[0m: Error from server: code=2200 [Invalid query] message=\"PRIMARY KEY part genre found in SET part\""
     ]
    }
   ],
   "source": [
    "# update existing record\n",
    "\n",
    "session.execute(f\"\"\"\n",
    "        UPDATE midterm.songs   \n",
    "        SET title='Raghav', genre='country'\n",
    "        WHERE songID = 1001;\n",
    "        \"\"\"\n",
    "    )\n",
    "\n",
    "# while this code did not work, this is how i would have done it. "
   ]
  },
  {
   "attachments": {},
   "cell_type": "markdown",
   "metadata": {},
   "source": [
    "#### Deleting a record\n",
    "##### The below code will dempnstrate how to delete a record from the table using songID to identify the record we'd like to delete. "
   ]
  },
  {
   "cell_type": "code",
   "execution_count": null,
   "metadata": {},
   "outputs": [
    {
     "ename": "InvalidRequest",
     "evalue": "Error from server: code=2200 [Invalid query] message=\"Some partition key parts are missing: genre\"",
     "output_type": "error",
     "traceback": [
      "\u001b[0;31m---------------------------------------------------------------------------\u001b[0m",
      "\u001b[0;31mInvalidRequest\u001b[0m                            Traceback (most recent call last)",
      "Cell \u001b[0;32mIn[36], line 3\u001b[0m\n\u001b[1;32m      1\u001b[0m \u001b[39m#Delete record\u001b[39;00m\n\u001b[0;32m----> 3\u001b[0m session\u001b[39m.\u001b[39mexecute(\u001b[39mf\u001b[39m\u001b[39m\"\"\"\u001b[39m\n\u001b[1;32m      4\u001b[0m \u001b[39m        DELETE FROM midterm.songs   \u001b[39m\n\u001b[1;32m      5\u001b[0m \u001b[39m        WHERE songID = 1001;\u001b[39m\n\u001b[1;32m      6\u001b[0m \u001b[39m        \u001b[39m\u001b[39m\"\"\"\u001b[39m\n\u001b[1;32m      7\u001b[0m     )\n",
      "File \u001b[0;32m~/miniconda3/envs/bd/lib/python3.11/site-packages/cassandra/cluster.py:2618\u001b[0m, in \u001b[0;36mcassandra.cluster.Session.execute\u001b[0;34m()\u001b[0m\n",
      "File \u001b[0;32m~/miniconda3/envs/bd/lib/python3.11/site-packages/cassandra/cluster.py:4894\u001b[0m, in \u001b[0;36mcassandra.cluster.ResponseFuture.result\u001b[0;34m()\u001b[0m\n",
      "\u001b[0;31mInvalidRequest\u001b[0m: Error from server: code=2200 [Invalid query] message=\"Some partition key parts are missing: genre\""
     ]
    }
   ],
   "source": [
    "#Delete record\n",
    "\n",
    "session.execute(f\"\"\"\n",
    "        DELETE FROM midterm.songs   \n",
    "        WHERE songID = 1001;\n",
    "        \"\"\"\n",
    "    )\n",
    "\n",
    "# this did not work either. I have forgotten my sql. I'm pretty sure I know how to complete the rest of this assignment but without checking the syntax, I was unable to complete. \n"
   ]
  },
  {
   "attachments": {},
   "cell_type": "markdown",
   "metadata": {},
   "source": [
    "##### Sorry.\n",
    " "
   ]
  },
  {
   "attachments": {},
   "cell_type": "markdown",
   "metadata": {},
   "source": [
    "### With the above notebook, we have been able to create a table, insert data into a table, update a record and delete a record. "
   ]
  }
 ],
 "metadata": {
  "kernelspec": {
   "display_name": "Python 3 (ipykernel)",
   "language": "python",
   "name": "python3"
  },
  "language_info": {
   "codemirror_mode": {
    "name": "ipython",
    "version": 3
   },
   "file_extension": ".py",
   "mimetype": "text/x-python",
   "name": "python",
   "nbconvert_exporter": "python",
   "pygments_lexer": "ipython3",
   "version": "3.11.5"
  }
 },
 "nbformat": 4,
 "nbformat_minor": 2
}
