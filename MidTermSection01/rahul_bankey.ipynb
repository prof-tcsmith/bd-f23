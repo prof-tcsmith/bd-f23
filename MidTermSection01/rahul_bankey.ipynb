{
 "cells": [
  {
   "cell_type": "markdown",
   "metadata": {},
   "source": []
  },
  {
   "attachments": {},
   "cell_type": "markdown",
   "metadata": {},
   "source": [
    "# Mid Term 1 - Part 2"
   ]
  },
  {
   "attachments": {},
   "cell_type": "markdown",
   "metadata": {},
   "source": [
    "### Import packages\n",
    "#### Importing all the necessary packages"
   ]
  },
  {
   "cell_type": "code",
   "execution_count": 65,
   "metadata": {},
   "outputs": [],
   "source": [
    "import pandas as pd\n",
    "from cassandra.cluster import Cluster"
   ]
  },
  {
   "attachments": {},
   "cell_type": "markdown",
   "metadata": {},
   "source": [
    "### Create a session connection to Cassandra cluster"
   ]
  },
  {
   "cell_type": "code",
   "execution_count": 66,
   "metadata": {},
   "outputs": [],
   "source": [
    "clstr = Cluster()\n",
    "session = clstr.connect()"
   ]
  },
  {
   "attachments": {},
   "cell_type": "markdown",
   "metadata": {},
   "source": [
    "### Use session to 'talk' to cassandra\n",
    "\n",
    "#### Drop keyspace if already existing "
   ]
  },
  {
   "cell_type": "code",
   "execution_count": 67,
   "metadata": {},
   "outputs": [
    {
     "data": {
      "text/plain": [
       "<cassandra.cluster.ResultSet at 0x7f3a2c249b40>"
      ]
     },
     "execution_count": 67,
     "metadata": {},
     "output_type": "execute_result"
    }
   ],
   "source": [
    "# We are dropping the keyspace if already existing\n",
    "session.execute(\"DROP KEYSPACE IF EXISTS songs\") "
   ]
  },
  {
   "attachments": {},
   "cell_type": "markdown",
   "metadata": {},
   "source": [
    "#### Checking whether the keyspace has been dropped or not"
   ]
  },
  {
   "cell_type": "code",
   "execution_count": 68,
   "metadata": {},
   "outputs": [
    {
     "name": "stdout",
     "output_type": "stream",
     "text": [
      "bd23\n",
      "system\n",
      "system_auth\n",
      "system_distributed\n",
      "system_schema\n",
      "system_traces\n",
      "system_views\n",
      "system_virtual_schema\n",
      "w04\n",
      "w04python\n"
     ]
    }
   ],
   "source": [
    "rows = session.execute(\"desc keyspaces\")\n",
    "for row in rows:\n",
    "    print(f\"{row[0]}\")  # We see that the keyspace 'songs' is not present "
   ]
  },
  {
   "attachments": {},
   "cell_type": "markdown",
   "metadata": {},
   "source": [
    "### Create a keyspace named 'songs'\n",
    "\n",
    "#### Discussion about rationale for creating a keyspace:\n",
    "#### We are creating a keyspace (schema in RDBMS) as songs with the replication fator as 2, so that we can replicate the data at 2 different nodes.  "
   ]
  },
  {
   "cell_type": "code",
   "execution_count": 69,
   "metadata": {},
   "outputs": [
    {
     "data": {
      "text/plain": [
       "<cassandra.cluster.ResultSet at 0x7f3a2c393d00>"
      ]
     },
     "execution_count": 69,
     "metadata": {},
     "output_type": "execute_result"
    }
   ],
   "source": [
    "# We are creating a keyspace 'songs' with replication factor of 2 \n",
    "session.execute(\"CREATE KEYSPACE IF NOT EXISTS songs WITH REPLICATION = {'class':'SimpleStrategy', 'replication_factor':2}\") "
   ]
  },
  {
   "attachments": {},
   "cell_type": "markdown",
   "metadata": {},
   "source": [
    "#### Check whether the keyspace has been created or not"
   ]
  },
  {
   "cell_type": "code",
   "execution_count": 70,
   "metadata": {},
   "outputs": [
    {
     "name": "stdout",
     "output_type": "stream",
     "text": [
      "bd23\n",
      "songs\n",
      "system\n",
      "system_auth\n",
      "system_distributed\n",
      "system_schema\n",
      "system_traces\n",
      "system_views\n",
      "system_virtual_schema\n",
      "w04\n",
      "w04python\n"
     ]
    }
   ],
   "source": [
    "rows = session.execute(\"desc keyspaces\")\n",
    "for row in rows:\n",
    "    print(f\"{row[0]}\")  #Songs is present here"
   ]
  },
  {
   "attachments": {},
   "cell_type": "markdown",
   "metadata": {},
   "source": [
    "### Create a songs_info table for data for the data storage\n",
    "\n",
    "#### Discussion about rationale for creating keys:\n",
    "#### We are creating keys in the songs_info table as songs_id, title, duration, genre as asked in the question with the primary key as song_id as that is required as a unique attribute in the question.  "
   ]
  },
  {
   "cell_type": "code",
   "execution_count": 71,
   "metadata": {},
   "outputs": [
    {
     "data": {
      "text/plain": [
       "<cassandra.cluster.ResultSet at 0x7f3a2c30b490>"
      ]
     },
     "execution_count": 71,
     "metadata": {},
     "output_type": "execute_result"
    }
   ],
   "source": [
    "session.execute(\"\"\"\n",
    "CREATE TABLE IF NOT EXISTS songs.songs_info ( \n",
    "    song_id INT, \n",
    "    title TEXT, \n",
    "    duration INT, \n",
    "    genre TEXT, \n",
    "    PRIMARY KEY(song_id)\n",
    ");\n",
    "\"\"\")"
   ]
  },
  {
   "attachments": {},
   "cell_type": "markdown",
   "metadata": {},
   "source": [
    "### Load the data created in the data.csv file "
   ]
  },
  {
   "cell_type": "code",
   "execution_count": 72,
   "metadata": {},
   "outputs": [
    {
     "data": {
      "text/html": [
       "<div>\n",
       "<style scoped>\n",
       "    .dataframe tbody tr th:only-of-type {\n",
       "        vertical-align: middle;\n",
       "    }\n",
       "\n",
       "    .dataframe tbody tr th {\n",
       "        vertical-align: top;\n",
       "    }\n",
       "\n",
       "    .dataframe thead th {\n",
       "        text-align: right;\n",
       "    }\n",
       "</style>\n",
       "<table border=\"1\" class=\"dataframe\">\n",
       "  <thead>\n",
       "    <tr style=\"text-align: right;\">\n",
       "      <th></th>\n",
       "      <th>song_id</th>\n",
       "      <th>title</th>\n",
       "      <th>duration</th>\n",
       "      <th>genre</th>\n",
       "    </tr>\n",
       "  </thead>\n",
       "  <tbody>\n",
       "    <tr>\n",
       "      <th>0</th>\n",
       "      <td>1001</td>\n",
       "      <td>'Song A'</td>\n",
       "      <td>10</td>\n",
       "      <td>'pop'</td>\n",
       "    </tr>\n",
       "    <tr>\n",
       "      <th>1</th>\n",
       "      <td>1002</td>\n",
       "      <td>'Song B'</td>\n",
       "      <td>20</td>\n",
       "      <td>'rock'</td>\n",
       "    </tr>\n",
       "    <tr>\n",
       "      <th>2</th>\n",
       "      <td>1003</td>\n",
       "      <td>'Song C'</td>\n",
       "      <td>30</td>\n",
       "      <td>'classical'</td>\n",
       "    </tr>\n",
       "    <tr>\n",
       "      <th>3</th>\n",
       "      <td>1004</td>\n",
       "      <td>'Song D'</td>\n",
       "      <td>40</td>\n",
       "      <td>'country'</td>\n",
       "    </tr>\n",
       "    <tr>\n",
       "      <th>4</th>\n",
       "      <td>1005</td>\n",
       "      <td>'Song E'</td>\n",
       "      <td>50</td>\n",
       "      <td>'pop'</td>\n",
       "    </tr>\n",
       "    <tr>\n",
       "      <th>5</th>\n",
       "      <td>1006</td>\n",
       "      <td>'Song F'</td>\n",
       "      <td>55</td>\n",
       "      <td>'pop'</td>\n",
       "    </tr>\n",
       "    <tr>\n",
       "      <th>6</th>\n",
       "      <td>1007</td>\n",
       "      <td>'Song G'</td>\n",
       "      <td>10</td>\n",
       "      <td>'rock'</td>\n",
       "    </tr>\n",
       "    <tr>\n",
       "      <th>7</th>\n",
       "      <td>1008</td>\n",
       "      <td>'Song H'</td>\n",
       "      <td>20</td>\n",
       "      <td>'classical'</td>\n",
       "    </tr>\n",
       "    <tr>\n",
       "      <th>8</th>\n",
       "      <td>1009</td>\n",
       "      <td>'Song I'</td>\n",
       "      <td>30</td>\n",
       "      <td>'country'</td>\n",
       "    </tr>\n",
       "    <tr>\n",
       "      <th>9</th>\n",
       "      <td>1010</td>\n",
       "      <td>'Song J'</td>\n",
       "      <td>30</td>\n",
       "      <td>'rock'</td>\n",
       "    </tr>\n",
       "  </tbody>\n",
       "</table>\n",
       "</div>"
      ],
      "text/plain": [
       "   song_id     title  duration        genre\n",
       "0     1001  'Song A'        10        'pop'\n",
       "1     1002  'Song B'        20       'rock'\n",
       "2     1003  'Song C'        30  'classical'\n",
       "3     1004  'Song D'        40    'country'\n",
       "4     1005  'Song E'        50        'pop'\n",
       "5     1006  'Song F'        55        'pop'\n",
       "6     1007  'Song G'        10       'rock'\n",
       "7     1008  'Song H'        20  'classical'\n",
       "8     1009  'Song I'        30    'country'\n",
       "9     1010  'Song J'        30       'rock'"
      ]
     },
     "execution_count": 72,
     "metadata": {},
     "output_type": "execute_result"
    }
   ],
   "source": [
    "df = pd.read_csv('data.csv')\n",
    "df #Loading the data into the dataframe first and checking wheteher the data is present or not"
   ]
  },
  {
   "cell_type": "code",
   "execution_count": 73,
   "metadata": {},
   "outputs": [
    {
     "name": "stdout",
     "output_type": "stream",
     "text": [
      "song_id = 1001, title ='Song A', duration = 10, genre = 'pop'\n",
      "song_id = 1002, title ='Song B', duration = 20, genre = 'rock'\n",
      "song_id = 1003, title ='Song C', duration = 30, genre = 'classical'\n",
      "song_id = 1004, title ='Song D', duration = 40, genre = 'country'\n",
      "song_id = 1005, title ='Song E', duration = 50, genre = 'pop'\n",
      "song_id = 1006, title ='Song F', duration = 55, genre = 'pop'\n",
      "song_id = 1007, title ='Song G', duration = 10, genre = 'rock'\n",
      "song_id = 1008, title ='Song H', duration = 20, genre = 'classical'\n",
      "song_id = 1009, title ='Song I', duration = 30, genre = 'country'\n",
      "song_id = 1010, title ='Song J', duration = 30, genre = 'rock'\n"
     ]
    }
   ],
   "source": [
    "for index, row in df.iterrows():\n",
    "    print(f\"song_id = {row.song_id}, title ={row.title}, duration = {row.duration}, genre = {row.genre}\") # Assigning the data from the csv to the variables"
   ]
  },
  {
   "attachments": {},
   "cell_type": "markdown",
   "metadata": {},
   "source": [
    "### Inserting the data loaded into the table from the dataframe"
   ]
  },
  {
   "cell_type": "code",
   "execution_count": 74,
   "metadata": {},
   "outputs": [
    {
     "name": "stdout",
     "output_type": "stream",
     "text": [
      "\n",
      "        INSERT INTO songs.songs_info (song_id,title,duration,genre)     \n",
      "        VALUES (1001, 'Song A', 10, 'pop');\n",
      "        \n",
      "\n",
      "        INSERT INTO songs.songs_info (song_id,title,duration,genre)     \n",
      "        VALUES (1002, 'Song B', 20, 'rock');\n",
      "        \n",
      "\n",
      "        INSERT INTO songs.songs_info (song_id,title,duration,genre)     \n",
      "        VALUES (1003, 'Song C', 30, 'classical');\n",
      "        \n",
      "\n",
      "        INSERT INTO songs.songs_info (song_id,title,duration,genre)     \n",
      "        VALUES (1004, 'Song D', 40, 'country');\n",
      "        \n",
      "\n",
      "        INSERT INTO songs.songs_info (song_id,title,duration,genre)     \n",
      "        VALUES (1005, 'Song E', 50, 'pop');\n",
      "        \n",
      "\n",
      "        INSERT INTO songs.songs_info (song_id,title,duration,genre)     \n",
      "        VALUES (1006, 'Song F', 55, 'pop');\n",
      "        \n",
      "\n",
      "        INSERT INTO songs.songs_info (song_id,title,duration,genre)     \n",
      "        VALUES (1007, 'Song G', 10, 'rock');\n",
      "        \n",
      "\n",
      "        INSERT INTO songs.songs_info (song_id,title,duration,genre)     \n",
      "        VALUES (1008, 'Song H', 20, 'classical');\n",
      "        \n",
      "\n",
      "        INSERT INTO songs.songs_info (song_id,title,duration,genre)     \n",
      "        VALUES (1009, 'Song I', 30, 'country');\n",
      "        \n",
      "\n",
      "        INSERT INTO songs.songs_info (song_id,title,duration,genre)     \n",
      "        VALUES (1010, 'Song J', 30, 'rock');\n",
      "        \n"
     ]
    }
   ],
   "source": [
    "for index, row in df.iterrows():\n",
    "    print(f\"\"\"\n",
    "        INSERT INTO songs.songs_info (song_id,title,duration,genre)     \n",
    "        VALUES ({row[0]}, {row[1]}, {row[2]}, {row[3]});\n",
    "        \"\"\"\n",
    "       ) # printing the query which will be executed\n",
    "    session.execute(f\"\"\"\n",
    "        INSERT INTO songs.songs_info (song_id,title,duration,genre)     \n",
    "        VALUES ({row[0]}, {row[1]}, {row[2]}, {row[3]});\n",
    "        \"\"\"\n",
    "       ) # inserting the data from session.execute"
   ]
  },
  {
   "attachments": {},
   "cell_type": "markdown",
   "metadata": {},
   "source": [
    "### Check the songs data is loaded into the the table or not"
   ]
  },
  {
   "cell_type": "code",
   "execution_count": 75,
   "metadata": {},
   "outputs": [
    {
     "name": "stdout",
     "output_type": "stream",
     "text": [
      "song_id=1009, title=Song I, duration=30, genre=country\n",
      "song_id=1006, title=Song F, duration=55, genre=pop\n",
      "song_id=1008, title=Song H, duration=20, genre=classical\n",
      "song_id=1004, title=Song D, duration=40, genre=country\n",
      "song_id=1007, title=Song G, duration=10, genre=rock\n",
      "song_id=1005, title=Song E, duration=50, genre=pop\n",
      "song_id=1001, title=Song A, duration=10, genre=pop\n",
      "song_id=1003, title=Song C, duration=30, genre=classical\n",
      "song_id=1002, title=Song B, duration=20, genre=rock\n",
      "song_id=1010, title=Song J, duration=30, genre=rock\n"
     ]
    }
   ],
   "source": [
    "rows = session.execute(\"select (song_id,title,duration,genre) from songs.songs_info\")\n",
    "for row in rows:\n",
    "    print(f\"song_id={row[0][0]}, title={row[0][1]}, duration={row[0][2]}, genre={row[0][3]}\")\n"
   ]
  },
  {
   "attachments": {},
   "cell_type": "markdown",
   "metadata": {},
   "source": [
    "### Select rows with where clause to see data based on the condition"
   ]
  },
  {
   "cell_type": "code",
   "execution_count": 76,
   "metadata": {},
   "outputs": [
    {
     "name": "stdout",
     "output_type": "stream",
     "text": [
      "1007, Song G, 10, rock\n",
      "1001, Song A, 10, pop\n"
     ]
    }
   ],
   "source": [
    "rows = session.execute(\"select (song_id,title,duration,genre) from songs.songs_info where duration = 10 ALLOW FILTERING\")\n",
    "for row in rows:\n",
    "    print(f\"{row[0][0]}, {row[0][1]}, {row[0][2]}, {row[0][3]}\")"
   ]
  },
  {
   "attachments": {},
   "cell_type": "markdown",
   "metadata": {},
   "source": [
    "### Insert the value directly to the existing the table"
   ]
  },
  {
   "cell_type": "code",
   "execution_count": 77,
   "metadata": {},
   "outputs": [
    {
     "data": {
      "text/plain": [
       "<cassandra.cluster.ResultSet at 0x7f3a2c276ef0>"
      ]
     },
     "execution_count": 77,
     "metadata": {},
     "output_type": "execute_result"
    }
   ],
   "source": [
    "session.execute(\"\"\"\n",
    "INSERT INTO songs.songs_info (song_id,title,duration,genre)     \n",
    "        VALUES (1011, 'Song K', 10, 'rock');\n",
    "\"\"\")"
   ]
  },
  {
   "attachments": {},
   "cell_type": "markdown",
   "metadata": {},
   "source": [
    "### Check the table whether the value got inserted or not"
   ]
  },
  {
   "cell_type": "code",
   "execution_count": 78,
   "metadata": {},
   "outputs": [
    {
     "name": "stdout",
     "output_type": "stream",
     "text": [
      "1009, Song I, 30, country\n",
      "1006, Song F, 55, pop\n",
      "1008, Song H, 20, classical\n",
      "1011, Song K, 10, rock\n",
      "1004, Song D, 40, country\n",
      "1007, Song G, 10, rock\n",
      "1005, Song E, 50, pop\n",
      "1001, Song A, 10, pop\n",
      "1003, Song C, 30, classical\n",
      "1002, Song B, 20, rock\n",
      "1010, Song J, 30, rock\n"
     ]
    }
   ],
   "source": [
    "rows = session.execute(\"select (song_id,title,duration,genre) from songs.songs_info\")\n",
    "for row in rows:\n",
    "    print(f\"{row[0][0]}, {row[0][1]}, {row[0][2]}, {row[0][3]}\") # The new value inserted is present"
   ]
  },
  {
   "attachments": {},
   "cell_type": "markdown",
   "metadata": {},
   "source": [
    "### Update a row in the existing table"
   ]
  },
  {
   "cell_type": "code",
   "execution_count": 79,
   "metadata": {},
   "outputs": [
    {
     "data": {
      "text/plain": [
       "<cassandra.cluster.ResultSet at 0x7f3a2c3915a0>"
      ]
     },
     "execution_count": 79,
     "metadata": {},
     "output_type": "execute_result"
    }
   ],
   "source": [
    "session.execute(\"\"\"\n",
    "update songs.songs_info set title = 'Updated Song F' where song_id = 1006;\n",
    "\"\"\") # updating the song_id = 1006 with a new name that is Updated Song F"
   ]
  },
  {
   "attachments": {},
   "cell_type": "markdown",
   "metadata": {},
   "source": [
    "### Check whether the row got updated or not"
   ]
  },
  {
   "cell_type": "code",
   "execution_count": 80,
   "metadata": {},
   "outputs": [
    {
     "name": "stdout",
     "output_type": "stream",
     "text": [
      "1009, Song I, 30, country\n",
      "1006, Updated Song F, 55, pop\n",
      "1008, Song H, 20, classical\n",
      "1011, Song K, 10, rock\n",
      "1004, Song D, 40, country\n",
      "1007, Song G, 10, rock\n",
      "1005, Song E, 50, pop\n",
      "1001, Song A, 10, pop\n",
      "1003, Song C, 30, classical\n",
      "1002, Song B, 20, rock\n",
      "1010, Song J, 30, rock\n"
     ]
    }
   ],
   "source": [
    "rows = session.execute(\"select (song_id,title,duration,genre) from songs.songs_info\")\n",
    "for row in rows:\n",
    "    print(f\"{row[0][0]}, {row[0][1]}, {row[0][2]}, {row[0][3]}\") # The row with song id = 1006 got updated with 'Updated Song F'"
   ]
  },
  {
   "attachments": {},
   "cell_type": "markdown",
   "metadata": {},
   "source": [
    "### Delete a row from the existing table"
   ]
  },
  {
   "cell_type": "code",
   "execution_count": 81,
   "metadata": {},
   "outputs": [
    {
     "data": {
      "text/plain": [
       "<cassandra.cluster.ResultSet at 0x7f3a2c3ca440>"
      ]
     },
     "execution_count": 81,
     "metadata": {},
     "output_type": "execute_result"
    }
   ],
   "source": [
    "session.execute(\"\"\"\n",
    "delete from songs.songs_info where song_id = 1008;\n",
    "\"\"\") # Delete the row with song_id = 1008"
   ]
  },
  {
   "attachments": {},
   "cell_type": "markdown",
   "metadata": {},
   "source": [
    "### Check whether the row got deleted or not"
   ]
  },
  {
   "cell_type": "code",
   "execution_count": 82,
   "metadata": {},
   "outputs": [
    {
     "name": "stdout",
     "output_type": "stream",
     "text": [
      "1009, Song I, 30, country\n",
      "1006, Updated Song F, 55, pop\n",
      "1011, Song K, 10, rock\n",
      "1004, Song D, 40, country\n",
      "1007, Song G, 10, rock\n",
      "1005, Song E, 50, pop\n",
      "1001, Song A, 10, pop\n",
      "1003, Song C, 30, classical\n",
      "1002, Song B, 20, rock\n",
      "1010, Song J, 30, rock\n"
     ]
    }
   ],
   "source": [
    "rows = session.execute(\"select (song_id,title,duration,genre) from songs.songs_info\")\n",
    "for row in rows:\n",
    "    print(f\"{row[0][0]}, {row[0][1]}, {row[0][2]}, {row[0][3]}\") # The row got deleted with is = 1008"
   ]
  },
  {
   "attachments": {},
   "cell_type": "markdown",
   "metadata": {},
   "source": [
    "### Clean the things up : Drop Keyspace and exit"
   ]
  },
  {
   "cell_type": "code",
   "execution_count": 83,
   "metadata": {},
   "outputs": [
    {
     "data": {
      "text/plain": [
       "<cassandra.cluster.ResultSet at 0x7f3a2c391000>"
      ]
     },
     "execution_count": 83,
     "metadata": {},
     "output_type": "execute_result"
    }
   ],
   "source": [
    "# Clean things up\n",
    "session.execute(\"\"\"\n",
    "DROP KEYSPACE songs;\n",
    "\"\"\") # The keyspace got dropped\n",
    "\n",
    "# exit cql\n",
    "exit"
   ]
  }
 ],
 "metadata": {
  "kernelspec": {
   "display_name": "base",
   "language": "python",
   "name": "python3"
  },
  "language_info": {
   "codemirror_mode": {
    "name": "ipython",
    "version": 3
   },
   "file_extension": ".py",
   "mimetype": "text/x-python",
   "name": "python",
   "nbconvert_exporter": "python",
   "pygments_lexer": "ipython3",
   "version": "3.10.10"
  },
  "orig_nbformat": 4,
  "vscode": {
   "interpreter": {
    "hash": "c774f5f42cb3e70515ef7cb909d9051370cc09a28b296d74902002ebc2249cb4"
   }
  }
 },
 "nbformat": 4,
 "nbformat_minor": 2
}
