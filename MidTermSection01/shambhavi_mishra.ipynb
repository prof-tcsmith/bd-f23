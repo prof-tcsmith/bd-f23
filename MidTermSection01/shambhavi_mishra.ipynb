{
 "cells": [
  {
   "cell_type": "markdown",
   "metadata": {},
   "source": [
    "## Mid Term Exam\n",
    "#### Shambhavi Mishra"
   ]
  },
  {
   "cell_type": "markdown",
   "metadata": {},
   "source": [
    "### Business Problem: \n",
    "\n",
    "##### Through this notebook, I aim to Create an extention to the existing Song DB Systems by doing the following steps:\n",
    "##### The song table consisit of the following attributes: SongId(text), title(text), duration(int), genre(text)\n",
    "##### Adding a New Record\n",
    "##### Updating the Existing Record\n",
    "##### Deleting the Existing Record"
   ]
  },
  {
   "cell_type": "markdown",
   "metadata": {},
   "source": [
    "#### Importing Packages"
   ]
  },
  {
   "cell_type": "code",
   "execution_count": 1,
   "metadata": {},
   "outputs": [],
   "source": [
    "import pandas as pd\n",
    "from cassandra.cluster import Cluster"
   ]
  },
  {
   "cell_type": "markdown",
   "metadata": {},
   "source": [
    "#### Creating session connection to Casandra Cluster"
   ]
  },
  {
   "cell_type": "code",
   "execution_count": 2,
   "metadata": {},
   "outputs": [],
   "source": [
    "clstr = Cluster()\n",
    "session = clstr.connect()"
   ]
  },
  {
   "cell_type": "markdown",
   "metadata": {},
   "source": [
    "#### Using Session to interact with Casandra"
   ]
  },
  {
   "cell_type": "code",
   "execution_count": 3,
   "metadata": {},
   "outputs": [
    {
     "data": {
      "text/plain": [
       "<cassandra.cluster.ResultSet at 0x7f2d8a3ede10>"
      ]
     },
     "execution_count": 3,
     "metadata": {},
     "output_type": "execute_result"
    }
   ],
   "source": [
    "session.execute(\"DROP KEYSPACE IF EXISTS bd23\")"
   ]
  },
  {
   "cell_type": "markdown",
   "metadata": {},
   "source": [
    "#### Creating a Keyspace bd23"
   ]
  },
  {
   "cell_type": "code",
   "execution_count": 4,
   "metadata": {},
   "outputs": [
    {
     "data": {
      "text/plain": [
       "<cassandra.cluster.ResultSet at 0x7f2d4dfe6350>"
      ]
     },
     "execution_count": 4,
     "metadata": {},
     "output_type": "execute_result"
    }
   ],
   "source": [
    "session.execute(\"CREATE KEYSPACE IF NOT EXISTS bd23 WITH REPLICATION = {'class':'SimpleStrategy', 'replication_factor':2}\")"
   ]
  },
  {
   "cell_type": "code",
   "execution_count": 5,
   "metadata": {},
   "outputs": [
    {
     "name": "stdout",
     "output_type": "stream",
     "text": [
      "bd23\n",
      "system\n",
      "system_auth\n",
      "system_distributed\n",
      "system_schema\n",
      "system_traces\n",
      "system_views\n",
      "system_virtual_schema\n"
     ]
    }
   ],
   "source": [
    "rows = session.execute(\"desc keyspaces\")\n",
    "for row in rows:\n",
    "    print(f\"{row[0]}\")"
   ]
  },
  {
   "cell_type": "code",
   "execution_count": 6,
   "metadata": {},
   "outputs": [
    {
     "data": {
      "text/plain": [
       "<cassandra.cluster.ResultSet at 0x7f2d8a3c1250>"
      ]
     },
     "execution_count": 6,
     "metadata": {},
     "output_type": "execute_result"
    }
   ],
   "source": [
    "session.execute(\"CREATE KEYSPACE IF NOT EXISTS bd23 WITH REPLICATION = {'class':'SimpleStrategy', 'replication_factor':2}\")"
   ]
  },
  {
   "cell_type": "markdown",
   "metadata": {},
   "source": [
    "#### Creating Table for Songs - \"song.csv\""
   ]
  },
  {
   "cell_type": "code",
   "execution_count": 7,
   "metadata": {},
   "outputs": [
    {
     "data": {
      "text/plain": [
       "<cassandra.cluster.ResultSet at 0x7f2d4dfe7150>"
      ]
     },
     "execution_count": 7,
     "metadata": {},
     "output_type": "execute_result"
    }
   ],
   "source": [
    "session.execute(\"\"\"\n",
    "CREATE TABLE IF NOT EXISTS bd23.song ( \n",
    "    songId TEXT, \n",
    "    title TEXT, \n",
    "    duration INT, \n",
    "    Genre TEXT,\n",
    "    PRIMARY KEY(songId)\n",
    ");\n",
    "\"\"\")"
   ]
  },
  {
   "cell_type": "markdown",
   "metadata": {},
   "source": [
    "#### Loading the data from song.csv"
   ]
  },
  {
   "cell_type": "code",
   "execution_count": 8,
   "metadata": {},
   "outputs": [
    {
     "data": {
      "text/html": [
       "<div>\n",
       "<style scoped>\n",
       "    .dataframe tbody tr th:only-of-type {\n",
       "        vertical-align: middle;\n",
       "    }\n",
       "\n",
       "    .dataframe tbody tr th {\n",
       "        vertical-align: top;\n",
       "    }\n",
       "\n",
       "    .dataframe thead th {\n",
       "        text-align: right;\n",
       "    }\n",
       "</style>\n",
       "<table border=\"1\" class=\"dataframe\">\n",
       "  <thead>\n",
       "    <tr style=\"text-align: right;\">\n",
       "      <th></th>\n",
       "      <th>songId</th>\n",
       "      <th>title</th>\n",
       "      <th>duration</th>\n",
       "      <th>Genre</th>\n",
       "    </tr>\n",
       "  </thead>\n",
       "  <tbody>\n",
       "    <tr>\n",
       "      <th>0</th>\n",
       "      <td>'H145'</td>\n",
       "      <td>'HappyBirthday'</td>\n",
       "      <td>180</td>\n",
       "      <td>'country'</td>\n",
       "    </tr>\n",
       "    <tr>\n",
       "      <th>1</th>\n",
       "      <td>'G149'</td>\n",
       "      <td>'YouAreCool'</td>\n",
       "      <td>190</td>\n",
       "      <td>'classical'</td>\n",
       "    </tr>\n",
       "    <tr>\n",
       "      <th>2</th>\n",
       "      <td>'K155'</td>\n",
       "      <td>'BirthdaySong'</td>\n",
       "      <td>198</td>\n",
       "      <td>'rock'</td>\n",
       "    </tr>\n",
       "    <tr>\n",
       "      <th>3</th>\n",
       "      <td>'I178'</td>\n",
       "      <td>'WithYou'</td>\n",
       "      <td>126</td>\n",
       "      <td>'rock'</td>\n",
       "    </tr>\n",
       "    <tr>\n",
       "      <th>4</th>\n",
       "      <td>'B198'</td>\n",
       "      <td>'Promise'</td>\n",
       "      <td>167</td>\n",
       "      <td>'pop'</td>\n",
       "    </tr>\n",
       "    <tr>\n",
       "      <th>5</th>\n",
       "      <td>'C143'</td>\n",
       "      <td>'ToYou'</td>\n",
       "      <td>145</td>\n",
       "      <td>'classical'</td>\n",
       "    </tr>\n",
       "    <tr>\n",
       "      <th>6</th>\n",
       "      <td>'D147'</td>\n",
       "      <td>'HappyDay'</td>\n",
       "      <td>178</td>\n",
       "      <td>'pop'</td>\n",
       "    </tr>\n",
       "    <tr>\n",
       "      <th>7</th>\n",
       "      <td>'E117'</td>\n",
       "      <td>'Love'</td>\n",
       "      <td>182</td>\n",
       "      <td>'country'</td>\n",
       "    </tr>\n",
       "    <tr>\n",
       "      <th>8</th>\n",
       "      <td>'Y123'</td>\n",
       "      <td>'Years'</td>\n",
       "      <td>145</td>\n",
       "      <td>'pop'</td>\n",
       "    </tr>\n",
       "  </tbody>\n",
       "</table>\n",
       "</div>"
      ],
      "text/plain": [
       "   songId            title  duration        Genre\n",
       "0  'H145'  'HappyBirthday'       180    'country'\n",
       "1  'G149'     'YouAreCool'       190  'classical'\n",
       "2  'K155'   'BirthdaySong'       198       'rock'\n",
       "3  'I178'        'WithYou'       126       'rock'\n",
       "4  'B198'        'Promise'       167        'pop'\n",
       "5  'C143'          'ToYou'       145  'classical'\n",
       "6  'D147'       'HappyDay'       178        'pop'\n",
       "7  'E117'           'Love'       182    'country'\n",
       "8  'Y123'          'Years'       145        'pop'"
      ]
     },
     "execution_count": 8,
     "metadata": {},
     "output_type": "execute_result"
    }
   ],
   "source": [
    "df = pd.read_csv('song.csv')\n",
    "df"
   ]
  },
  {
   "cell_type": "markdown",
   "metadata": {},
   "source": [
    "#### Inserting the values in the Song Table"
   ]
  },
  {
   "cell_type": "code",
   "execution_count": 9,
   "metadata": {},
   "outputs": [
    {
     "name": "stdout",
     "output_type": "stream",
     "text": [
      "songId = 'H145', title = 'HappyBirthday', duration = 180, Genre = 'country'\n",
      "songId = 'G149', title = 'YouAreCool', duration = 190, Genre = 'classical'\n",
      "songId = 'K155', title = 'BirthdaySong', duration = 198, Genre = 'rock'\n",
      "songId = 'I178', title = 'WithYou', duration = 126, Genre = 'rock'\n",
      "songId = 'B198', title = 'Promise', duration = 167, Genre = 'pop'\n",
      "songId = 'C143', title = 'ToYou', duration = 145, Genre = 'classical'\n",
      "songId = 'D147', title = 'HappyDay', duration = 178, Genre = 'pop'\n",
      "songId = 'E117', title = 'Love', duration = 182, Genre = 'country'\n",
      "songId = 'Y123', title = 'Years', duration = 145, Genre = 'pop'\n"
     ]
    }
   ],
   "source": [
    "for index, row in df.iterrows():\n",
    "    print(f\"songId = {row.songId}, title = {row.title}, duration = {row.duration}, Genre = {row.Genre}\")"
   ]
  },
  {
   "cell_type": "code",
   "execution_count": 10,
   "metadata": {},
   "outputs": [
    {
     "name": "stdout",
     "output_type": "stream",
     "text": [
      "\n",
      "        INSERT INTO bd23.song (songId, title, duration, Genre)     \n",
      "        VALUES ('H145', 'HappyBirthday', 180, 'country');\n",
      "        \n",
      "\n",
      "        INSERT INTO bd23.song (songId, title, duration, Genre)     \n",
      "        VALUES ('G149', 'YouAreCool', 190, 'classical');\n",
      "        \n",
      "\n",
      "        INSERT INTO bd23.song (songId, title, duration, Genre)     \n",
      "        VALUES ('K155', 'BirthdaySong', 198, 'rock');\n",
      "        \n",
      "\n",
      "        INSERT INTO bd23.song (songId, title, duration, Genre)     \n",
      "        VALUES ('I178', 'WithYou', 126, 'rock');\n",
      "        \n",
      "\n",
      "        INSERT INTO bd23.song (songId, title, duration, Genre)     \n",
      "        VALUES ('B198', 'Promise', 167, 'pop');\n",
      "        \n",
      "\n",
      "        INSERT INTO bd23.song (songId, title, duration, Genre)     \n",
      "        VALUES ('C143', 'ToYou', 145, 'classical');\n",
      "        \n",
      "\n",
      "        INSERT INTO bd23.song (songId, title, duration, Genre)     \n",
      "        VALUES ('D147', 'HappyDay', 178, 'pop');\n",
      "        \n",
      "\n",
      "        INSERT INTO bd23.song (songId, title, duration, Genre)     \n",
      "        VALUES ('E117', 'Love', 182, 'country');\n",
      "        \n",
      "\n",
      "        INSERT INTO bd23.song (songId, title, duration, Genre)     \n",
      "        VALUES ('Y123', 'Years', 145, 'pop');\n",
      "        \n"
     ]
    }
   ],
   "source": [
    "for index, row in df.iterrows():\n",
    "    print(f\"\"\"\n",
    "        INSERT INTO bd23.song (songId, title, duration, Genre)     \n",
    "        VALUES ({row[0]}, {row[1]}, {row[2]}, {row[3]});\n",
    "        \"\"\"\n",
    "       )\n",
    "    session.execute(f\"\"\"\n",
    "        INSERT INTO bd23.song (songId, title, duration, Genre)     \n",
    "        VALUES ({row[0]}, {row[1]}, {row[2]}, {row[3]});\n",
    "        \"\"\"\n",
    "       )"
   ]
  },
  {
   "cell_type": "markdown",
   "metadata": {},
   "source": [
    "#### Adding a New Record (songId:'D167', title:'AllIsWell', duration:198, Genre'rock')\n"
   ]
  },
  {
   "cell_type": "code",
   "execution_count": 11,
   "metadata": {},
   "outputs": [
    {
     "data": {
      "text/plain": [
       "<cassandra.cluster.ResultSet at 0x7f2d4f6da9d0>"
      ]
     },
     "execution_count": 11,
     "metadata": {},
     "output_type": "execute_result"
    }
   ],
   "source": [
    "session.execute(f\"\"\"\n",
    "        INSERT INTO bd23.song (songId, title, duration, Genre)     \n",
    "        VALUES ('D167', 'AllIsWell', 198, 'rock');\n",
    "        \"\"\"\n",
    "       )"
   ]
  },
  {
   "cell_type": "markdown",
   "metadata": {},
   "source": [
    "#### Updating an Existing Record (Genre: 'country' to 'classic')"
   ]
  },
  {
   "cell_type": "code",
   "execution_count": 12,
   "metadata": {},
   "outputs": [
    {
     "data": {
      "text/plain": [
       "<cassandra.cluster.ResultSet at 0x7f2d4dff0cd0>"
      ]
     },
     "execution_count": 12,
     "metadata": {},
     "output_type": "execute_result"
    }
   ],
   "source": [
    "session.execute(f\"\"\"\n",
    "        UPDATE bd23.song \n",
    "        Set Genre='Country'\n",
    "        where songId='G149';\n",
    "        \"\"\"\n",
    "       )"
   ]
  },
  {
   "cell_type": "markdown",
   "metadata": {},
   "source": [
    "#### Deleting an Existing Record (id:C143)"
   ]
  },
  {
   "cell_type": "code",
   "execution_count": 13,
   "metadata": {},
   "outputs": [
    {
     "data": {
      "text/plain": [
       "<cassandra.cluster.ResultSet at 0x7f2d4f164a90>"
      ]
     },
     "execution_count": 13,
     "metadata": {},
     "output_type": "execute_result"
    }
   ],
   "source": [
    "session.execute(f\"\"\"\n",
    "        DELETE FROM bd23.song \n",
    "        Where songId='C143';\n",
    "        \"\"\"\n",
    "       )"
   ]
  },
  {
   "cell_type": "code",
   "execution_count": 14,
   "metadata": {},
   "outputs": [
    {
     "name": "stdout",
     "output_type": "stream",
     "text": [
      "D147, HappyDay, 178, pop\n",
      "B198, Promise, 167, pop\n",
      "D167, AllIsWell, 198, rock\n",
      "G149, YouAreCool, 190, Country\n",
      "E117, Love, 182, country\n",
      "H145, HappyBirthday, 180, country\n",
      "I178, WithYou, 126, rock\n",
      "K155, BirthdaySong, 198, rock\n",
      "Y123, Years, 145, pop\n"
     ]
    }
   ],
   "source": [
    "rows = session.execute(\"SELECT (songId, title, duration, Genre) FROM bd23.song\")\n",
    "for row in rows:\n",
    "    print(f\"{row[0][0]}, {row[0][1]}, {row[0][2]}, {row[0][3]}\")"
   ]
  },
  {
   "cell_type": "markdown",
   "metadata": {},
   "source": [
    "## By the end of this test - I was able to:\n",
    "##### Create session to cassandra cluster\n",
    "##### Create a Keyspace - bd23\n",
    "##### Create a Table - song\n",
    "##### Load the data in the song table\n",
    "##### Add a new record -> songId:'D167', title:'AllIsWell', duration:198, Genre'rock'\n",
    "##### Update an existing record: updated genre to \"country\" from classical for songid - 'G149'\n",
    "##### Delete an existing record: deleted songId \"C143\"\n"
   ]
  }
 ],
 "metadata": {
  "kernelspec": {
   "display_name": "bd",
   "language": "python",
   "name": "python3"
  },
  "language_info": {
   "codemirror_mode": {
    "name": "ipython",
    "version": 3
   },
   "file_extension": ".py",
   "mimetype": "text/x-python",
   "name": "python",
   "nbconvert_exporter": "python",
   "pygments_lexer": "ipython3",
   "version": "3.11.5"
  },
  "orig_nbformat": 4
 },
 "nbformat": 4,
 "nbformat_minor": 2
}
