{
 "cells": [
  {
   "cell_type": "code",
   "execution_count": 2,
   "metadata": {},
   "outputs": [],
   "source": [
    "import pandas as pd\n",
    "\n",
    "from cassandra.cluster import Cluster"
   ]
  },
  {
   "cell_type": "markdown",
   "metadata": {},
   "source": [
    "*** Creating Cluster ***"
   ]
  },
  {
   "cell_type": "code",
   "execution_count": 14,
   "metadata": {},
   "outputs": [],
   "source": [
    "cluster1=Cluster()\n",
    "session=cluster1.connect()"
   ]
  },
  {
   "cell_type": "markdown",
   "metadata": {},
   "source": [
    "***Creating keyspace 'midtrm'***"
   ]
  },
  {
   "cell_type": "code",
   "execution_count": 4,
   "metadata": {},
   "outputs": [
    {
     "data": {
      "text/plain": [
       "<cassandra.cluster.ResultSet at 0x7f15e03c4550>"
      ]
     },
     "execution_count": 4,
     "metadata": {},
     "output_type": "execute_result"
    }
   ],
   "source": [
    "session.execute(\"CREATE KEYSPACE IF NOT EXISTS midtrm WITH REPLICATION = { 'class' : 'SimpleStrategy', 'replication_factor' :2 }\")\n"
   ]
  },
  {
   "cell_type": "markdown",
   "metadata": {},
   "source": [
    "***Creating table 'song'***"
   ]
  },
  {
   "cell_type": "code",
   "execution_count": 6,
   "metadata": {},
   "outputs": [
    {
     "data": {
      "text/plain": [
       "<cassandra.cluster.ResultSet at 0x7f161bca7390>"
      ]
     },
     "execution_count": 6,
     "metadata": {},
     "output_type": "execute_result"
    }
   ],
   "source": [
    "session.execute(\"\"\"\n",
    "                 CREATE TABLE IF NOT EXISTS midtrm.song\n",
    "                (\n",
    "                 \n",
    "                songID INT, \n",
    "                title TEXT, \n",
    "                duration INT, \n",
    "                genre TEXT, \n",
    "                PRIMARY KEY(songID,title,genre)\n",
    "                );      \n",
    "              \"\"\")  "
   ]
  },
  {
   "cell_type": "markdown",
   "metadata": {},
   "source": [
    "***Inserting values in the table***"
   ]
  },
  {
   "cell_type": "code",
   "execution_count": 9,
   "metadata": {},
   "outputs": [
    {
     "data": {
      "text/plain": [
       "<cassandra.cluster.ResultSet at 0x7f15dec25650>"
      ]
     },
     "execution_count": 9,
     "metadata": {},
     "output_type": "execute_result"
    }
   ],
   "source": [
    "session.execute(f\"\"\"\n",
    "INSERT INTO midtrm.song (songID,title,duration,genre)     \n",
    "        VALUES (1,'brit',180,'pop');\n",
    "\n",
    "                \"\"\")\n",
    "session.execute(f\"\"\"\n",
    "INSERT INTO midtrm.song (songID,title,duration,genre)     \n",
    "        VALUES (2,'mk',250,'rock');\n",
    "\n",
    "                \"\"\") \n",
    "session.execute(f\"\"\"\n",
    "INSERT INTO midtrm.song (songID,title,duration,genre)     \n",
    "        VALUES (3,'bts',156,'country');\n",
    "\n",
    "                \"\"\")\n",
    "session.execute(f\"\"\"\n",
    "INSERT INTO midtrm.song (songID,title,duration,genre)     \n",
    "        VALUES (4,'sha',213,'classical');\n",
    "\n",
    "                \"\"\")\n",
    "session.execute(f\"\"\"\n",
    "INSERT INTO midtrm.song (songID,title,duration,genre)     \n",
    "        VALUES (5,'kir',195,'country');\n",
    "\n",
    "                \"\"\")"
   ]
  },
  {
   "cell_type": "markdown",
   "metadata": {},
   "source": [
    "***Updating the value of 'genre' in the record with songID 1***"
   ]
  },
  {
   "cell_type": "code",
   "execution_count": 20,
   "metadata": {},
   "outputs": [
    {
     "ename": "SyntaxException",
     "evalue": "<Error from server: code=2000 [Syntax error in CQL query] message=\"line 2:13 no viable alternative at input '=' (UPDATE [genre] =...)\">",
     "output_type": "error",
     "traceback": [
      "\u001b[0;31m---------------------------------------------------------------------------\u001b[0m",
      "\u001b[0;31mSyntaxException\u001b[0m                           Traceback (most recent call last)",
      "Cell \u001b[0;32mIn[20], line 1\u001b[0m\n\u001b[0;32m----> 1\u001b[0m session\u001b[39m.\u001b[39mexecute(\u001b[39mf\u001b[39m\u001b[39m\"\"\"\u001b[39m\n\u001b[1;32m      2\u001b[0m \u001b[39mUPDATE genre = \u001b[39m\u001b[39m'\u001b[39m\u001b[39mcountry\u001b[39m\u001b[39m'\u001b[39m\n\u001b[1;32m      3\u001b[0m \u001b[39m        in midtrm.song\u001b[39m\n\u001b[1;32m      4\u001b[0m \u001b[39m                where songID=1;\u001b[39m\n\u001b[1;32m      5\u001b[0m \n\u001b[1;32m      6\u001b[0m \u001b[39m                \u001b[39m\u001b[39m\"\"\"\u001b[39m)\n",
      "File \u001b[0;32m~/miniconda3/envs/bd/lib/python3.11/site-packages/cassandra/cluster.py:2618\u001b[0m, in \u001b[0;36mcassandra.cluster.Session.execute\u001b[0;34m()\u001b[0m\n",
      "File \u001b[0;32m~/miniconda3/envs/bd/lib/python3.11/site-packages/cassandra/cluster.py:4894\u001b[0m, in \u001b[0;36mcassandra.cluster.ResponseFuture.result\u001b[0;34m()\u001b[0m\n",
      "\u001b[0;31mSyntaxException\u001b[0m: <Error from server: code=2000 [Syntax error in CQL query] message=\"line 2:13 no viable alternative at input '=' (UPDATE [genre] =...)\">"
     ]
    }
   ],
   "source": [
    "session.execute(f\"\"\"\n",
    "UPDATE genre = 'country'\n",
    "        in midtrm.song\n",
    "                where songID=1;\n",
    "\n",
    "                \"\"\")"
   ]
  }
 ],
 "metadata": {
  "kernelspec": {
   "display_name": "bd",
   "language": "python",
   "name": "python3"
  },
  "language_info": {
   "codemirror_mode": {
    "name": "ipython",
    "version": 3
   },
   "file_extension": ".py",
   "mimetype": "text/x-python",
   "name": "python",
   "nbconvert_exporter": "python",
   "pygments_lexer": "ipython3",
   "version": "3.11.5"
  },
  "orig_nbformat": 4
 },
 "nbformat": 4,
 "nbformat_minor": 2
}
