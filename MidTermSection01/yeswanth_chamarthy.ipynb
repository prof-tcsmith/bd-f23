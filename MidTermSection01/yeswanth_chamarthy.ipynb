{
 "cells": [
  {
   "cell_type": "code",
   "execution_count": 59,
   "metadata": {},
   "outputs": [],
   "source": [
    "import pandas as pd\n",
    "from cassandra.cluster import Cluster"
   ]
  },
  {
   "cell_type": "markdown",
   "metadata": {},
   "source": [
    "Create a session connection to Cassandra cluster"
   ]
  },
  {
   "cell_type": "code",
   "execution_count": 60,
   "metadata": {},
   "outputs": [],
   "source": [
    "clstr = Cluster()\n",
    "session = clstr.connect()"
   ]
  },
  {
   "cell_type": "code",
   "execution_count": 61,
   "metadata": {},
   "outputs": [
    {
     "data": {
      "text/plain": [
       "<cassandra.cluster.ResultSet at 0x7f8f3d546380>"
      ]
     },
     "execution_count": 61,
     "metadata": {},
     "output_type": "execute_result"
    }
   ],
   "source": [
    "session.execute(\"DROP KEYSPACE IF EXISTS songs_db\")"
   ]
  },
  {
   "cell_type": "code",
   "execution_count": 63,
   "metadata": {},
   "outputs": [
    {
     "name": "stdout",
     "output_type": "stream",
     "text": [
      "system\n",
      "system_auth\n",
      "system_distributed\n",
      "system_schema\n",
      "system_traces\n",
      "system_views\n",
      "system_virtual_schema\n"
     ]
    }
   ],
   "source": [
    "rows = session.execute(\"desc keyspaces\")\n",
    "for row in rows:\n",
    "    print(f\"{row[0]}\")"
   ]
  },
  {
   "cell_type": "markdown",
   "metadata": {},
   "source": [
    "Creating keyspace songs_db"
   ]
  },
  {
   "cell_type": "code",
   "execution_count": 64,
   "metadata": {},
   "outputs": [
    {
     "data": {
      "text/plain": [
       "<cassandra.cluster.ResultSet at 0x7f8f343d6bc0>"
      ]
     },
     "execution_count": 64,
     "metadata": {},
     "output_type": "execute_result"
    }
   ],
   "source": [
    "session.execute(\"\"\"\n",
    "    CREATE KEYSPACE IF NOT EXISTS songs_db WITH REPLICATION = {\n",
    "        'class':'SimpleStrategy', \n",
    "        'replication_factor':2\n",
    "    }\n",
    "\"\"\")"
   ]
  },
  {
   "cell_type": "code",
   "execution_count": 65,
   "metadata": {},
   "outputs": [
    {
     "name": "stdout",
     "output_type": "stream",
     "text": [
      "songs_db\n",
      "system\n",
      "system_auth\n",
      "system_distributed\n",
      "system_schema\n",
      "system_traces\n",
      "system_views\n",
      "system_virtual_schema\n"
     ]
    }
   ],
   "source": [
    "rows = session.execute(\"desc keyspaces\")\n",
    "for row in rows:\n",
    "    print(f\"{row[0]}\")"
   ]
  },
  {
   "cell_type": "markdown",
   "metadata": {},
   "source": [
    "Creating Table Users"
   ]
  },
  {
   "cell_type": "code",
   "execution_count": 66,
   "metadata": {},
   "outputs": [
    {
     "data": {
      "text/plain": [
       "<cassandra.cluster.ResultSet at 0x7f8f3659f700>"
      ]
     },
     "execution_count": 66,
     "metadata": {},
     "output_type": "execute_result"
    }
   ],
   "source": [
    "session.execute(\"\"\"\n",
    "CREATE TABLE IF NOT EXISTS songs_db.users ( \n",
    "    SongID INT, \n",
    "    Title TEXT, \n",
    "    Duration FLOAT, \n",
    "    Genre Text,           \n",
    "    PRIMARY KEY(SongID)\n",
    ");\n",
    "\"\"\")"
   ]
  },
  {
   "cell_type": "markdown",
   "metadata": {},
   "source": [
    "Reading Data"
   ]
  },
  {
   "cell_type": "code",
   "execution_count": 67,
   "metadata": {},
   "outputs": [
    {
     "data": {
      "text/html": [
       "<div>\n",
       "<style scoped>\n",
       "    .dataframe tbody tr th:only-of-type {\n",
       "        vertical-align: middle;\n",
       "    }\n",
       "\n",
       "    .dataframe tbody tr th {\n",
       "        vertical-align: top;\n",
       "    }\n",
       "\n",
       "    .dataframe thead th {\n",
       "        text-align: right;\n",
       "    }\n",
       "</style>\n",
       "<table border=\"1\" class=\"dataframe\">\n",
       "  <thead>\n",
       "    <tr style=\"text-align: right;\">\n",
       "      <th></th>\n",
       "      <th>SongID</th>\n",
       "      <th>Title</th>\n",
       "      <th>Duration</th>\n",
       "      <th>Genre</th>\n",
       "      <th>Unnamed: 4</th>\n",
       "    </tr>\n",
       "  </thead>\n",
       "  <tbody>\n",
       "    <tr>\n",
       "      <th>0</th>\n",
       "      <td>1000</td>\n",
       "      <td>'Perfect'</td>\n",
       "      <td>3.3</td>\n",
       "      <td>'Pop'</td>\n",
       "      <td>NaN</td>\n",
       "    </tr>\n",
       "    <tr>\n",
       "      <th>1</th>\n",
       "      <td>1001</td>\n",
       "      <td>'Cool'</td>\n",
       "      <td>2.1</td>\n",
       "      <td>'rock'</td>\n",
       "      <td>NaN</td>\n",
       "    </tr>\n",
       "    <tr>\n",
       "      <th>2</th>\n",
       "      <td>1002</td>\n",
       "      <td>'Hot'</td>\n",
       "      <td>3.0</td>\n",
       "      <td>'classical'</td>\n",
       "      <td>NaN</td>\n",
       "    </tr>\n",
       "    <tr>\n",
       "      <th>3</th>\n",
       "      <td>1003</td>\n",
       "      <td>'Dope'</td>\n",
       "      <td>4.0</td>\n",
       "      <td>'rock'</td>\n",
       "      <td>NaN</td>\n",
       "    </tr>\n",
       "    <tr>\n",
       "      <th>4</th>\n",
       "      <td>1004</td>\n",
       "      <td>'Jim'</td>\n",
       "      <td>2.1</td>\n",
       "      <td>'country'</td>\n",
       "      <td>NaN</td>\n",
       "    </tr>\n",
       "    <tr>\n",
       "      <th>5</th>\n",
       "      <td>1005</td>\n",
       "      <td>'Frank'</td>\n",
       "      <td>4.2</td>\n",
       "      <td>'rock'</td>\n",
       "      <td>NaN</td>\n",
       "    </tr>\n",
       "    <tr>\n",
       "      <th>6</th>\n",
       "      <td>1006</td>\n",
       "      <td>'Judy'</td>\n",
       "      <td>4.0</td>\n",
       "      <td>'classical'</td>\n",
       "      <td>NaN</td>\n",
       "    </tr>\n",
       "    <tr>\n",
       "      <th>7</th>\n",
       "      <td>1007</td>\n",
       "      <td>'Tom'</td>\n",
       "      <td>3.0</td>\n",
       "      <td>'country'</td>\n",
       "      <td>NaN</td>\n",
       "    </tr>\n",
       "    <tr>\n",
       "      <th>8</th>\n",
       "      <td>1008</td>\n",
       "      <td>'Bill'</td>\n",
       "      <td>3.5</td>\n",
       "      <td>'rock'</td>\n",
       "      <td>NaN</td>\n",
       "    </tr>\n",
       "  </tbody>\n",
       "</table>\n",
       "</div>"
      ],
      "text/plain": [
       "   SongID      Title  Duration        Genre  Unnamed: 4\n",
       "0    1000  'Perfect'       3.3        'Pop'         NaN\n",
       "1    1001     'Cool'       2.1       'rock'         NaN\n",
       "2    1002      'Hot'       3.0  'classical'         NaN\n",
       "3    1003     'Dope'       4.0       'rock'         NaN\n",
       "4    1004      'Jim'       2.1    'country'         NaN\n",
       "5    1005    'Frank'       4.2       'rock'         NaN\n",
       "6    1006     'Judy'       4.0  'classical'         NaN\n",
       "7    1007      'Tom'       3.0    'country'         NaN\n",
       "8    1008     'Bill'       3.5       'rock'         NaN"
      ]
     },
     "execution_count": 67,
     "metadata": {},
     "output_type": "execute_result"
    }
   ],
   "source": [
    "df = pd.read_csv('exam.csv')\n",
    "df"
   ]
  },
  {
   "cell_type": "code",
   "execution_count": 68,
   "metadata": {},
   "outputs": [
    {
     "name": "stdout",
     "output_type": "stream",
     "text": [
      "SongID = 1000, Title ='Perfect', Duration = 3.3, Genre = 'Pop'\n",
      "SongID = 1001, Title ='Cool', Duration = 2.1, Genre = 'rock'\n",
      "SongID = 1002, Title ='Hot', Duration = 3.0, Genre = 'classical'\n",
      "SongID = 1003, Title ='Dope', Duration = 4.0, Genre = 'rock'\n",
      "SongID = 1004, Title ='Jim', Duration = 2.1, Genre = 'country'\n",
      "SongID = 1005, Title ='Frank', Duration = 4.2, Genre = 'rock'\n",
      "SongID = 1006, Title ='Judy', Duration = 4.0, Genre = 'classical'\n",
      "SongID = 1007, Title ='Tom', Duration = 3.0, Genre = 'country'\n",
      "SongID = 1008, Title ='Bill', Duration = 3.5, Genre = 'rock'\n"
     ]
    }
   ],
   "source": [
    "for index, row in df.iterrows():\n",
    "    print(f\"SongID = {row.SongID}, Title ={row.Title}, Duration = {row.Duration}, Genre = {row.Genre}\")"
   ]
  },
  {
   "cell_type": "markdown",
   "metadata": {},
   "source": [
    "Inserting into table"
   ]
  },
  {
   "cell_type": "code",
   "execution_count": 70,
   "metadata": {},
   "outputs": [
    {
     "name": "stdout",
     "output_type": "stream",
     "text": [
      "\n",
      "        INSERT INTO songs_db.users (SongID, Title, Duration, Genre)     \n",
      "        VALUES (1000, 'Perfect', 3.3, 'Pop');\n",
      "        \n"
     ]
    },
    {
     "ename": "SyntaxException",
     "evalue": "<Error from server: code=2000 [Syntax error in CQL query] message=\"line 2:67 mismatched input ')' expecting K_VALUES (..., Title, Duration, Genre)[)]...)\">",
     "output_type": "error",
     "traceback": [
      "\u001b[0;31m---------------------------------------------------------------------------\u001b[0m",
      "\u001b[0;31mSyntaxException\u001b[0m                           Traceback (most recent call last)",
      "Cell \u001b[0;32mIn[70], line 7\u001b[0m\n\u001b[1;32m      1\u001b[0m \u001b[39mfor\u001b[39;00m index, row \u001b[39min\u001b[39;00m df\u001b[39m.\u001b[39miterrows():\n\u001b[1;32m      2\u001b[0m     \u001b[39mprint\u001b[39m(\u001b[39mf\u001b[39m\u001b[39m\"\"\"\u001b[39m\n\u001b[1;32m      3\u001b[0m \u001b[39m        INSERT INTO songs_db.users (SongID, Title, Duration, Genre)     \u001b[39m\n\u001b[1;32m      4\u001b[0m \u001b[39m        VALUES (\u001b[39m\u001b[39m{\u001b[39;00mrow\u001b[39m.\u001b[39mSongID\u001b[39m}\u001b[39;00m\u001b[39m, \u001b[39m\u001b[39m{\u001b[39;00mrow\u001b[39m.\u001b[39mTitle\u001b[39m}\u001b[39;00m\u001b[39m, \u001b[39m\u001b[39m{\u001b[39;00mrow\u001b[39m.\u001b[39mDuration\u001b[39m}\u001b[39;00m\u001b[39m, \u001b[39m\u001b[39m{\u001b[39;00mrow\u001b[39m.\u001b[39mGenre\u001b[39m}\u001b[39;00m\u001b[39m);\u001b[39m\n\u001b[1;32m      5\u001b[0m \u001b[39m        \u001b[39m\u001b[39m\"\"\"\u001b[39m\n\u001b[1;32m      6\u001b[0m     )\n\u001b[0;32m----> 7\u001b[0m     session\u001b[39m.\u001b[39;49mexecute(\u001b[39mf\u001b[39;49m\u001b[39m\"\"\"\u001b[39;49m\n\u001b[1;32m      8\u001b[0m \u001b[39m        INSERT INTO songs_db.users (SongID, Title, Duration, Genre))     \u001b[39;49m\n\u001b[1;32m      9\u001b[0m \u001b[39m        VALUES (\u001b[39;49m\u001b[39m{\u001b[39;49;00mrow\u001b[39m.\u001b[39;49mSongID\u001b[39m}\u001b[39;49;00m\u001b[39m, \u001b[39;49m\u001b[39m{\u001b[39;49;00mrow\u001b[39m.\u001b[39;49mTitle\u001b[39m}\u001b[39;49;00m\u001b[39m, \u001b[39;49m\u001b[39m{\u001b[39;49;00mrow\u001b[39m.\u001b[39;49mDuration\u001b[39m}\u001b[39;49;00m\u001b[39m, \u001b[39;49m\u001b[39m{\u001b[39;49;00mrow\u001b[39m.\u001b[39;49mGenre\u001b[39m}\u001b[39;49;00m\u001b[39m);\u001b[39;49m\n\u001b[1;32m     10\u001b[0m \u001b[39m        \u001b[39;49m\u001b[39m\"\"\"\u001b[39;49m\n\u001b[1;32m     11\u001b[0m     )\n",
      "File \u001b[0;32m~/miniconda3/lib/python3.10/site-packages/cassandra/cluster.py:2618\u001b[0m, in \u001b[0;36mcassandra.cluster.Session.execute\u001b[0;34m()\u001b[0m\n",
      "File \u001b[0;32m~/miniconda3/lib/python3.10/site-packages/cassandra/cluster.py:4894\u001b[0m, in \u001b[0;36mcassandra.cluster.ResponseFuture.result\u001b[0;34m()\u001b[0m\n",
      "\u001b[0;31mSyntaxException\u001b[0m: <Error from server: code=2000 [Syntax error in CQL query] message=\"line 2:67 mismatched input ')' expecting K_VALUES (..., Title, Duration, Genre)[)]...)\">"
     ]
    }
   ],
   "source": [
    "for index, row in df.iterrows():\n",
    "    print(f\"\"\"\n",
    "        INSERT INTO songs_db.users (SongID, Title, Duration, Genre)     \n",
    "        VALUES ({row.SongID}, {row.Title}, {row.Duration}, {row.Genre});\n",
    "        \"\"\"\n",
    "    )\n",
    "    session.execute(f\"\"\"\n",
    "        INSERT INTO songs_db.users (SongID, Title, Duration, Genre))     \n",
    "        VALUES ({row.SongID}, {row.Title}, {row.Duration}, {row.Genre});\n",
    "        \"\"\"\n",
    "    )"
   ]
  },
  {
   "cell_type": "code",
   "execution_count": 73,
   "metadata": {},
   "outputs": [],
   "source": [
    "\n",
    "insert_query = \"\"\"\n",
    "INSERT INTO songs_db.users (SongID, Title, Duration, Genre)\n",
    "VALUES (?, ?, ?, ?)\n",
    "\"\"\"\n",
    "\n",
    "prepared_insert = session.prepare(insert_query)\n",
    "\n",
    "\n",
    "data_to_insert = [\n",
    "    (123, 'Pdgsaghace', 345, 'pop'),\n",
    "    (124, 'Ccbhsagcjqn', 201, 'rock'),\n",
    "    (125, 'xfasghcbq', 236.5, 'classical'),\n",
    "    (126, 'Dontcshvajc', 129, 'country'),\n",
    "    (127, 'cvsgahjc', 236, 'pop'),\n",
    "    (128, 'csaghvcja', 212.5, 'rock')\n",
    "]\n",
    "# Insert each row in a loop\n",
    "for row in data_to_insert:\n",
    "    session.execute(prepared_insert, row)"
   ]
  },
  {
   "cell_type": "markdown",
   "metadata": {},
   "source": [
    "Using select statement"
   ]
  },
  {
   "cell_type": "code",
   "execution_count": 74,
   "metadata": {},
   "outputs": [
    {
     "name": "stdout",
     "output_type": "stream",
     "text": [
      "SongID=128, Title=csaghvcja, Duration=212.5, Genre=rock\n",
      "SongID=123, Title=Pdgsaghace, Duration=345.0, Genre=pop\n",
      "SongID=125, Title=xfasghcbq, Duration=236.5, Genre=classical\n",
      "SongID=126, Title=Dontcshvajc, Duration=129.0, Genre=country\n",
      "SongID=127, Title=cvsgahjc, Duration=236.0, Genre=pop\n",
      "SongID=124, Title=Ccbhsagcjqn, Duration=201.0, Genre=rock\n"
     ]
    }
   ],
   "source": [
    "rows = session.execute(\"select (SongID, Title, Duration, Genre) from songs_db.users \")\n",
    "for row in rows:\n",
    "    print(f\"SongID={row[0][0]}, Title={row[0][1]}, Duration={row[0][2]}, Genre={row[0][3]}\")"
   ]
  },
  {
   "cell_type": "markdown",
   "metadata": {},
   "source": [
    "Using update"
   ]
  },
  {
   "cell_type": "code",
   "execution_count": 78,
   "metadata": {},
   "outputs": [],
   "source": [
    "rows = session.execute(\"update songs_db.users set Title = 'flop' where SongId = 123 \") \n",
    "for row in rows:\n",
    "    print(f\"SongID={row[0][0]}, Title={row[0][1]}, Duration={row[0][2]}, Genre={row[0][3]}\")"
   ]
  },
  {
   "cell_type": "markdown",
   "metadata": {},
   "source": [
    "Using delete"
   ]
  },
  {
   "cell_type": "code",
   "execution_count": 81,
   "metadata": {},
   "outputs": [],
   "source": [
    "rows = session.execute(\"Delete from songs_db.users  where SongId = 125  \")\n",
    "for row in rows:\n",
    "    print(row)"
   ]
  },
  {
   "cell_type": "code",
   "execution_count": null,
   "metadata": {},
   "outputs": [],
   "source": []
  },
  {
   "cell_type": "code",
   "execution_count": null,
   "metadata": {},
   "outputs": [],
   "source": []
  }
 ],
 "metadata": {
  "kernelspec": {
   "display_name": "base",
   "language": "python",
   "name": "python3"
  },
  "language_info": {
   "codemirror_mode": {
    "name": "ipython",
    "version": 3
   },
   "file_extension": ".py",
   "mimetype": "text/x-python",
   "name": "python",
   "nbconvert_exporter": "python",
   "pygments_lexer": "ipython3",
   "version": "3.10.12"
  },
  "orig_nbformat": 4
 },
 "nbformat": 4,
 "nbformat_minor": 2
}
