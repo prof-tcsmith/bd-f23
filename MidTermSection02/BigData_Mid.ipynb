{
 "cells": [
  {
   "cell_type": "code",
   "execution_count": 18,
   "metadata": {},
   "outputs": [],
   "source": [
    "import pandas as pd\n",
    "from cassandra.cluster import Cluster"
   ]
  },
  {
   "cell_type": "code",
   "execution_count": 19,
   "metadata": {},
   "outputs": [],
   "source": [
    "clstr = Cluster()\n",
    "session = clstr.connect()"
   ]
  },
  {
   "cell_type": "code",
   "execution_count": 20,
   "metadata": {},
   "outputs": [
    {
     "data": {
      "text/plain": [
       "<cassandra.cluster.ResultSet at 0x7fadcc6df760>"
      ]
     },
     "execution_count": 20,
     "metadata": {},
     "output_type": "execute_result"
    }
   ],
   "source": [
    "session.execute(\"DROP KEYSPACE IF EXISTS w04python\")"
   ]
  },
  {
   "cell_type": "code",
   "execution_count": 21,
   "metadata": {},
   "outputs": [
    {
     "name": "stdout",
     "output_type": "stream",
     "text": [
      "m14\n",
      "system\n",
      "system_auth\n",
      "system_distributed\n",
      "system_schema\n",
      "system_traces\n",
      "system_views\n",
      "system_virtual_schema\n"
     ]
    }
   ],
   "source": [
    "rows = session.execute(\"desc keyspaces\")\n",
    "for row in rows:\n",
    "    print(f\"{row[0]}\")"
   ]
  },
  {
   "cell_type": "code",
   "execution_count": 22,
   "metadata": {},
   "outputs": [
    {
     "data": {
      "text/plain": [
       "<cassandra.cluster.ResultSet at 0x7fadc9c930a0>"
      ]
     },
     "execution_count": 22,
     "metadata": {},
     "output_type": "execute_result"
    }
   ],
   "source": [
    "session.execute(\"\"\"\n",
    "    CREATE KEYSPACE IF NOT EXISTS w04python WITH REPLICATION = {\n",
    "        'class':'SimpleStrategy', \n",
    "        'replication_factor':3\n",
    "    }\n",
    "\"\"\")"
   ]
  },
  {
   "cell_type": "code",
   "execution_count": 24,
   "metadata": {},
   "outputs": [
    {
     "data": {
      "text/plain": [
       "<cassandra.cluster.ResultSet at 0x7fadc9d04d60>"
      ]
     },
     "execution_count": 24,
     "metadata": {},
     "output_type": "execute_result"
    }
   ],
   "source": [
    "session.execute(\"\"\"\n",
    "CREATE TABLE IF NOT EXISTS w04python.system_comp ( \n",
    "    user_id INT, \n",
    "    t_date TEXT,\n",
    "    t_file TEXT, \n",
    "    file TEXT,\n",
    "    PRIMARY KEY(user_id)\n",
    ");\n",
    "\"\"\")"
   ]
  },
  {
   "cell_type": "code",
   "execution_count": 17,
   "metadata": {},
   "outputs": [],
   "source": [
    "with open(\"attachment.txt\" , \"w\") as fout:\n",
    "    fout.write(\"This is a text file. We need to save it as text file\")"
   ]
  },
  {
   "cell_type": "code",
   "execution_count": 15,
   "metadata": {},
   "outputs": [],
   "source": [
    "with open(\"audiofile.mp3\" , \"w\") as fout:\n",
    "    fout.write(\"This is a audio file. We need to save it as audio file\")"
   ]
  },
  {
   "cell_type": "code",
   "execution_count": 16,
   "metadata": {},
   "outputs": [],
   "source": [
    "with open(\"imagefile.img\" , \"w\") as fout:\n",
    "    fout.write(\"This is a image file. We need to save it as image file\")"
   ]
  },
  {
   "cell_type": "code",
   "execution_count": 28,
   "metadata": {},
   "outputs": [
    {
     "data": {
      "text/html": [
       "<div>\n",
       "<style scoped>\n",
       "    .dataframe tbody tr th:only-of-type {\n",
       "        vertical-align: middle;\n",
       "    }\n",
       "\n",
       "    .dataframe tbody tr th {\n",
       "        vertical-align: top;\n",
       "    }\n",
       "\n",
       "    .dataframe thead th {\n",
       "        text-align: right;\n",
       "    }\n",
       "</style>\n",
       "<table border=\"1\" class=\"dataframe\">\n",
       "  <thead>\n",
       "    <tr style=\"text-align: right;\">\n",
       "      <th></th>\n",
       "      <th>user_id</th>\n",
       "      <th>t_date</th>\n",
       "      <th>t_file</th>\n",
       "      <th>file</th>\n",
       "    </tr>\n",
       "  </thead>\n",
       "  <tbody>\n",
       "    <tr>\n",
       "      <th>0</th>\n",
       "      <td>1</td>\n",
       "      <td>'2 Aug'</td>\n",
       "      <td>'Audio'</td>\n",
       "      <td>'audiofile.mp3'</td>\n",
       "    </tr>\n",
       "    <tr>\n",
       "      <th>1</th>\n",
       "      <td>2</td>\n",
       "      <td>'3 Aug'</td>\n",
       "      <td>'Text'</td>\n",
       "      <td>'attachment.txt'</td>\n",
       "    </tr>\n",
       "    <tr>\n",
       "      <th>2</th>\n",
       "      <td>3</td>\n",
       "      <td>'2 Aug'</td>\n",
       "      <td>'Image'</td>\n",
       "      <td>'imagefile.img'</td>\n",
       "    </tr>\n",
       "    <tr>\n",
       "      <th>3</th>\n",
       "      <td>4</td>\n",
       "      <td>'5 May'</td>\n",
       "      <td>'Audio'</td>\n",
       "      <td>'audiofile.mp3'</td>\n",
       "    </tr>\n",
       "    <tr>\n",
       "      <th>4</th>\n",
       "      <td>5</td>\n",
       "      <td>'12 Feb'</td>\n",
       "      <td>'Text'</td>\n",
       "      <td>'attachment.txt'</td>\n",
       "    </tr>\n",
       "    <tr>\n",
       "      <th>5</th>\n",
       "      <td>6</td>\n",
       "      <td>'2 Dec'</td>\n",
       "      <td>'Image'</td>\n",
       "      <td>'imagefile.img'</td>\n",
       "    </tr>\n",
       "    <tr>\n",
       "      <th>6</th>\n",
       "      <td>7</td>\n",
       "      <td>'21 Aug'</td>\n",
       "      <td>'Audio'</td>\n",
       "      <td>'audiofile.mp3'</td>\n",
       "    </tr>\n",
       "    <tr>\n",
       "      <th>7</th>\n",
       "      <td>8</td>\n",
       "      <td>'22 Jan'</td>\n",
       "      <td>'Text'</td>\n",
       "      <td>'attachment.txt'</td>\n",
       "    </tr>\n",
       "    <tr>\n",
       "      <th>8</th>\n",
       "      <td>9</td>\n",
       "      <td>'2 Aug'</td>\n",
       "      <td>'Image'</td>\n",
       "      <td>'imagefile.img'</td>\n",
       "    </tr>\n",
       "    <tr>\n",
       "      <th>9</th>\n",
       "      <td>10</td>\n",
       "      <td>'3 May'</td>\n",
       "      <td>'Audio'</td>\n",
       "      <td>'audiofile.mp3'</td>\n",
       "    </tr>\n",
       "    <tr>\n",
       "      <th>10</th>\n",
       "      <td>11</td>\n",
       "      <td>'24 Jun'</td>\n",
       "      <td>'Text'</td>\n",
       "      <td>'attachment.txt'</td>\n",
       "    </tr>\n",
       "    <tr>\n",
       "      <th>11</th>\n",
       "      <td>12</td>\n",
       "      <td>'12 Sep'</td>\n",
       "      <td>'Image'</td>\n",
       "      <td>'imagefile.img'</td>\n",
       "    </tr>\n",
       "  </tbody>\n",
       "</table>\n",
       "</div>"
      ],
      "text/plain": [
       "    user_id    t_date   t_file              file\n",
       "0         1   '2 Aug'  'Audio'   'audiofile.mp3'\n",
       "1         2   '3 Aug'   'Text'  'attachment.txt'\n",
       "2         3   '2 Aug'  'Image'   'imagefile.img'\n",
       "3         4   '5 May'  'Audio'   'audiofile.mp3'\n",
       "4         5  '12 Feb'   'Text'  'attachment.txt'\n",
       "5         6   '2 Dec'  'Image'   'imagefile.img'\n",
       "6         7  '21 Aug'  'Audio'   'audiofile.mp3'\n",
       "7         8  '22 Jan'   'Text'  'attachment.txt'\n",
       "8         9   '2 Aug'  'Image'   'imagefile.img'\n",
       "9        10   '3 May'  'Audio'   'audiofile.mp3'\n",
       "10       11  '24 Jun'   'Text'  'attachment.txt'\n",
       "11       12  '12 Sep'  'Image'   'imagefile.img'"
      ]
     },
     "execution_count": 28,
     "metadata": {},
     "output_type": "execute_result"
    }
   ],
   "source": [
    "df = pd.read_csv('Systems_Dataset.csv')\n",
    "df"
   ]
  },
  {
   "cell_type": "code",
   "execution_count": 29,
   "metadata": {},
   "outputs": [
    {
     "name": "stdout",
     "output_type": "stream",
     "text": [
      "user_id = 1, t_date ='2 Aug', t_file = 'Audio', file = 'audiofile.mp3'\n",
      "user_id = 2, t_date ='3 Aug', t_file = 'Text', file = 'attachment.txt'\n",
      "user_id = 3, t_date ='2 Aug', t_file = 'Image', file = 'imagefile.img'\n",
      "user_id = 4, t_date ='5 May', t_file = 'Audio', file = 'audiofile.mp3'\n",
      "user_id = 5, t_date ='12 Feb', t_file = 'Text', file = 'attachment.txt'\n",
      "user_id = 6, t_date ='2 Dec', t_file = 'Image', file = 'imagefile.img'\n",
      "user_id = 7, t_date ='21 Aug', t_file = 'Audio', file = 'audiofile.mp3'\n",
      "user_id = 8, t_date ='22 Jan', t_file = 'Text', file = 'attachment.txt'\n",
      "user_id = 9, t_date ='2 Aug', t_file = 'Image', file = 'imagefile.img'\n",
      "user_id = 10, t_date ='3 May', t_file = 'Audio', file = 'audiofile.mp3'\n",
      "user_id = 11, t_date ='24 Jun', t_file = 'Text', file = 'attachment.txt'\n",
      "user_id = 12, t_date ='12 Sep', t_file = 'Image', file = 'imagefile.img'\n"
     ]
    }
   ],
   "source": [
    "for index, row in df.iterrows():\n",
    "    print(f\"user_id = {row.user_id}, t_date ={row.t_date}, t_file = {row.t_file}, file = {row.file}\")"
   ]
  },
  {
   "cell_type": "code",
   "execution_count": 30,
   "metadata": {},
   "outputs": [
    {
     "name": "stdout",
     "output_type": "stream",
     "text": [
      "\n",
      "        INSERT INTO w04python.system_comp (user_id, t_date, t_file, file)     \n",
      "        VALUES (1, '2 Aug', 'Audio', 'audiofile.mp3');\n",
      "        \n",
      "\n",
      "        INSERT INTO w04python.system_comp (user_id, t_date, t_file, file)     \n",
      "        VALUES (2, '3 Aug', 'Text', 'attachment.txt');\n",
      "        \n",
      "\n",
      "        INSERT INTO w04python.system_comp (user_id, t_date, t_file, file)     \n",
      "        VALUES (3, '2 Aug', 'Image', 'imagefile.img');\n",
      "        \n",
      "\n",
      "        INSERT INTO w04python.system_comp (user_id, t_date, t_file, file)     \n",
      "        VALUES (4, '5 May', 'Audio', 'audiofile.mp3');\n",
      "        \n",
      "\n",
      "        INSERT INTO w04python.system_comp (user_id, t_date, t_file, file)     \n",
      "        VALUES (5, '12 Feb', 'Text', 'attachment.txt');\n",
      "        \n",
      "\n",
      "        INSERT INTO w04python.system_comp (user_id, t_date, t_file, file)     \n",
      "        VALUES (6, '2 Dec', 'Image', 'imagefile.img');\n",
      "        \n",
      "\n",
      "        INSERT INTO w04python.system_comp (user_id, t_date, t_file, file)     \n",
      "        VALUES (7, '21 Aug', 'Audio', 'audiofile.mp3');\n",
      "        \n",
      "\n",
      "        INSERT INTO w04python.system_comp (user_id, t_date, t_file, file)     \n",
      "        VALUES (8, '22 Jan', 'Text', 'attachment.txt');\n",
      "        \n",
      "\n",
      "        INSERT INTO w04python.system_comp (user_id, t_date, t_file, file)     \n",
      "        VALUES (9, '2 Aug', 'Image', 'imagefile.img');\n",
      "        \n",
      "\n",
      "        INSERT INTO w04python.system_comp (user_id, t_date, t_file, file)     \n",
      "        VALUES (10, '3 May', 'Audio', 'audiofile.mp3');\n",
      "        \n",
      "\n",
      "        INSERT INTO w04python.system_comp (user_id, t_date, t_file, file)     \n",
      "        VALUES (11, '24 Jun', 'Text', 'attachment.txt');\n",
      "        \n",
      "\n",
      "        INSERT INTO w04python.system_comp (user_id, t_date, t_file, file)     \n",
      "        VALUES (12, '12 Sep', 'Image', 'imagefile.img');\n",
      "        \n"
     ]
    }
   ],
   "source": [
    "for index, row in df.iterrows():\n",
    "    print(f\"\"\"\n",
    "        INSERT INTO w04python.system_comp (user_id, t_date, t_file, file)     \n",
    "        VALUES ({row.user_id}, {row.t_date}, {row.t_file}, {row.file});\n",
    "        \"\"\"\n",
    "    )\n",
    "    session.execute(f\"\"\"\n",
    "        INSERT INTO w04python.system_comp (user_id, t_date, t_file, file)     \n",
    "        VALUES ({row.user_id}, {row.t_date}, {row.t_file}, {row.file});\n",
    "        \"\"\"\n",
    "    )"
   ]
  },
  {
   "cell_type": "code",
   "execution_count": 52,
   "metadata": {},
   "outputs": [],
   "source": [
    "rows = session.execute(\"select(user_id,t_date,t_file,file) from w04python.system_comp where user_id = 1\")\n",
    "for row in rows:\n",
    "   datafile = (f\"user_id={row[0][0]}, , t_date={row[0][1]}, t_file={row[0][2]},file={row[0][3]}\")\n"
   ]
  },
  {
   "cell_type": "code",
   "execution_count": 63,
   "metadata": {},
   "outputs": [
    {
     "data": {
      "text/plain": [
       "'file=audiofile.mp3'"
      ]
     },
     "execution_count": 63,
     "metadata": {},
     "output_type": "execute_result"
    }
   ],
   "source": [
    "rows = session.execute(\"select(user_id,t_date,t_file,file) from w04python.system_comp where user_id = 1\")\n",
    "for row in rows:\n",
    "   datafile = (f\"file={row[0][3]}\")\n",
    "datafile"
   ]
  },
  {
   "cell_type": "code",
   "execution_count": 65,
   "metadata": {},
   "outputs": [
    {
     "ename": "AttributeError",
     "evalue": "'str' object has no attribute 'file'",
     "output_type": "error",
     "traceback": [
      "\u001b[0;31m---------------------------------------------------------------------------\u001b[0m",
      "\u001b[0;31mAttributeError\u001b[0m                            Traceback (most recent call last)",
      "Cell \u001b[0;32mIn[65], line 1\u001b[0m\n\u001b[0;32m----> 1\u001b[0m abc \u001b[39m=\u001b[39m datafile\u001b[39m.\u001b[39;49mfile\n\u001b[1;32m      2\u001b[0m \u001b[39mwith\u001b[39;00m \u001b[39mopen\u001b[39m(abc, \u001b[39m\"\u001b[39m\u001b[39mr\u001b[39m\u001b[39m\"\u001b[39m) \u001b[39mas\u001b[39;00m fin:\n\u001b[1;32m      3\u001b[0m     tmp \u001b[39m=\u001b[39m fin\u001b[39m.\u001b[39mread()\n",
      "\u001b[0;31mAttributeError\u001b[0m: 'str' object has no attribute 'file'"
     ]
    }
   ],
   "source": [
    "abc = datafile.file\n",
    "with open(abc, \"r\") as fin:\n",
    "    tmp = fin.read()"
   ]
  },
  {
   "cell_type": "code",
   "execution_count": 53,
   "metadata": {},
   "outputs": [
    {
     "data": {
      "text/plain": [
       "<cassandra.cluster.ResultSet at 0x7fadab49bf70>"
      ]
     },
     "execution_count": 53,
     "metadata": {},
     "output_type": "execute_result"
    }
   ],
   "source": [
    "insert_query = \"\"\"\n",
    "    INSERT INTO w04python.system_comp (user_id, t_date, t_file, file)\n",
    "    VALUES (%s, %s, %s, %s)\n",
    "\"\"\"\n",
    "\n",
    "# Parameters for the insert\n",
    "user_id = 15\n",
    "t_date = \"29 Feb\"\n",
    "t_file = \"Image\"\n",
    "file = \"imagefile.img\"\n",
    "\n",
    "# Execute the insert query\n",
    "session.execute(insert_query, (user_id, t_date, t_file, file))"
   ]
  },
  {
   "cell_type": "code",
   "execution_count": 58,
   "metadata": {},
   "outputs": [
    {
     "ename": "TypeError",
     "evalue": "not all arguments converted during string formatting",
     "output_type": "error",
     "traceback": [
      "\u001b[0;31m---------------------------------------------------------------------------\u001b[0m",
      "\u001b[0;31mTypeError\u001b[0m                                 Traceback (most recent call last)",
      "Cell \u001b[0;32mIn[58], line 10\u001b[0m\n\u001b[1;32m      7\u001b[0m \u001b[39m# Parameters for the delete\u001b[39;00m\n\u001b[1;32m      8\u001b[0m t_date \u001b[39m=\u001b[39m \u001b[39m'\u001b[39m\u001b[39m3 May\u001b[39m\u001b[39m'\u001b[39m\n\u001b[0;32m---> 10\u001b[0m session\u001b[39m.\u001b[39;49mexecute(delete_query, ( t_date ))\n",
      "File \u001b[0;32m~/miniconda3/lib/python3.10/site-packages/cassandra/cluster.py:2618\u001b[0m, in \u001b[0;36mcassandra.cluster.Session.execute\u001b[0;34m()\u001b[0m\n",
      "File \u001b[0;32m~/miniconda3/lib/python3.10/site-packages/cassandra/cluster.py:2661\u001b[0m, in \u001b[0;36mcassandra.cluster.Session.execute_async\u001b[0;34m()\u001b[0m\n",
      "File \u001b[0;32m~/miniconda3/lib/python3.10/site-packages/cassandra/cluster.py:2920\u001b[0m, in \u001b[0;36mcassandra.cluster.Session._create_response_future\u001b[0;34m()\u001b[0m\n",
      "File \u001b[0;32m~/miniconda3/lib/python3.10/site-packages/cassandra/query.py:896\u001b[0m, in \u001b[0;36mcassandra.query.bind_params\u001b[0;34m()\u001b[0m\n",
      "\u001b[0;31mTypeError\u001b[0m: not all arguments converted during string formatting"
     ]
    }
   ],
   "source": [
    "# Execute the delete query\n",
    "delete_query = \"\"\"\n",
    "    DELETE FROM w04python.system_comp\n",
    "    WHERE t_date = %s\n",
    "\"\"\"\n",
    "\n",
    "# Parameters for the delete\n",
    "t_date = '3 May'\n",
    "\n",
    "session.execute(delete_query, ( t_date ))"
   ]
  },
  {
   "cell_type": "code",
   "execution_count": 55,
   "metadata": {},
   "outputs": [
    {
     "ename": "TypeError",
     "evalue": "'int' object is not iterable",
     "output_type": "error",
     "traceback": [
      "\u001b[0;31m---------------------------------------------------------------------------\u001b[0m",
      "\u001b[0;31mTypeError\u001b[0m                                 Traceback (most recent call last)",
      "Cell \u001b[0;32mIn[55], line 12\u001b[0m\n\u001b[1;32m      8\u001b[0m user_id \u001b[39m=\u001b[39m \u001b[39m11\u001b[39m  \u001b[39m# Replace \u001b[39;00m\n\u001b[1;32m     11\u001b[0m \u001b[39m# Execute the delete query\u001b[39;00m\n\u001b[0;32m---> 12\u001b[0m session\u001b[39m.\u001b[39;49mexecute(delete_query, (user_id))\n",
      "File \u001b[0;32m~/miniconda3/lib/python3.10/site-packages/cassandra/cluster.py:2618\u001b[0m, in \u001b[0;36mcassandra.cluster.Session.execute\u001b[0;34m()\u001b[0m\n",
      "File \u001b[0;32m~/miniconda3/lib/python3.10/site-packages/cassandra/cluster.py:2661\u001b[0m, in \u001b[0;36mcassandra.cluster.Session.execute_async\u001b[0;34m()\u001b[0m\n",
      "File \u001b[0;32m~/miniconda3/lib/python3.10/site-packages/cassandra/cluster.py:2920\u001b[0m, in \u001b[0;36mcassandra.cluster.Session._create_response_future\u001b[0;34m()\u001b[0m\n",
      "File \u001b[0;32m~/miniconda3/lib/python3.10/site-packages/cassandra/query.py:896\u001b[0m, in \u001b[0;36mcassandra.query.bind_params\u001b[0;34m()\u001b[0m\n",
      "File \u001b[0;32m~/miniconda3/lib/python3.10/site-packages/cassandra/query.py:896\u001b[0m, in \u001b[0;36mcassandra.query.bind_params\u001b[0;34m()\u001b[0m\n",
      "\u001b[0;31mTypeError\u001b[0m: 'int' object is not iterable"
     ]
    }
   ],
   "source": [
    "# Define the delete query\n",
    "delete_query = \"\"\"\n",
    "    w04python.system_comp (user_id, t_date, t_file, file)\n",
    "    WHERE user_id = %s \n",
    "\"\"\"\n",
    "\n",
    "# Parameters for the delete\n",
    "user_id = 11  # Replace \n",
    "\n",
    "\n"
   ]
  }
 ],
 "metadata": {
  "kernelspec": {
   "display_name": "base",
   "language": "python",
   "name": "python3"
  },
  "language_info": {
   "codemirror_mode": {
    "name": "ipython",
    "version": 3
   },
   "file_extension": ".py",
   "mimetype": "text/x-python",
   "name": "python",
   "nbconvert_exporter": "python",
   "pygments_lexer": "ipython3",
   "version": "3.10.10"
  },
  "orig_nbformat": 4
 },
 "nbformat": 4,
 "nbformat_minor": 2
}
