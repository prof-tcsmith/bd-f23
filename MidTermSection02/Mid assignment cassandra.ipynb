{
 "cells": [
  {
   "attachments": {},
   "cell_type": "markdown",
   "metadata": {},
   "source": [
    "# Mid assignment - Cassandra\n",
    "## Author: Bhanu Prakash Reddy Konda"
   ]
  },
  {
   "attachments": {},
   "cell_type": "markdown",
   "metadata": {},
   "source": [
    "Hello, I am illustrating a chat system that has new fetaure of attaching files in the chat. I have used Cassandra in python notebooks to test this system"
   ]
  },
  {
   "attachments": {},
   "cell_type": "markdown",
   "metadata": {},
   "source": [
    "I'm using a cassandra clusters with 3 nodes. I have already started running those clusters with command \"docker-compose up\" in the terminal"
   ]
  },
  {
   "cell_type": "markdown",
   "metadata": {},
   "source": [
    "Here, we are importing Cluster module to use the running cassandra clusters"
   ]
  },
  {
   "cell_type": "code",
   "execution_count": 28,
   "metadata": {},
   "outputs": [],
   "source": [
    "from cassandra.cluster import Cluster"
   ]
  },
  {
   "attachments": {},
   "cell_type": "markdown",
   "metadata": {},
   "source": [
    "We created \"session\" object to run the cql commands using python"
   ]
  },
  {
   "cell_type": "code",
   "execution_count": 29,
   "metadata": {},
   "outputs": [],
   "source": [
    "clstr = Cluster()\n",
    "session = clstr.connect()"
   ]
  },
  {
   "attachments": {},
   "cell_type": "markdown",
   "metadata": {},
   "source": [
    "Here, we are checking if there is an already existing KEYSPACE called \"file_store\", so that we won't be facing any issues while creating  a new keyspace"
   ]
  },
  {
   "cell_type": "code",
   "execution_count": 30,
   "metadata": {},
   "outputs": [
    {
     "data": {
      "text/plain": [
       "<cassandra.cluster.ResultSet at 0x7f02bc3ebfa0>"
      ]
     },
     "execution_count": 30,
     "metadata": {},
     "output_type": "execute_result"
    }
   ],
   "source": [
    "session.execute(\"DROP KEYSPACE IF EXISTS file_store\")"
   ]
  },
  {
   "attachments": {},
   "cell_type": "markdown",
   "metadata": {},
   "source": [
    "Using the below commands, we can see the list of keyspaces available in thr system"
   ]
  },
  {
   "cell_type": "code",
   "execution_count": 31,
   "metadata": {},
   "outputs": [
    {
     "name": "stdout",
     "output_type": "stream",
     "text": [
      "m14\n",
      "midcassandra\n",
      "system\n",
      "system_auth\n",
      "system_distributed\n",
      "system_schema\n",
      "system_traces\n",
      "system_views\n",
      "system_virtual_schema\n",
      "w04python\n"
     ]
    }
   ],
   "source": [
    "rows = session.execute(\"desc keyspaces\")\n",
    "for row in rows:\n",
    "    print(f\"{row[0]}\")"
   ]
  },
  {
   "attachments": {},
   "cell_type": "markdown",
   "metadata": {},
   "source": [
    "Now, we are creating a Keyspace called \"file_store\" that has a replication factor of 3. Which means each data item we store, will be copied in 3 different nodes."
   ]
  },
  {
   "cell_type": "code",
   "execution_count": 32,
   "metadata": {},
   "outputs": [
    {
     "data": {
      "text/plain": [
       "<cassandra.cluster.ResultSet at 0x7f02b9717a60>"
      ]
     },
     "execution_count": 32,
     "metadata": {},
     "output_type": "execute_result"
    }
   ],
   "source": [
    "session.execute(\"\"\"\n",
    "    CREATE KEYSPACE IF NOT EXISTS file_store WITH REPLICATION = {\n",
    "        'class':'SimpleStrategy', \n",
    "        'replication_factor':3\n",
    "    }\n",
    "\"\"\")"
   ]
  },
  {
   "attachments": {},
   "cell_type": "markdown",
   "metadata": {},
   "source": [
    "By running below code snippet, we can see that our keyspace \"file_store\" is succesfully created"
   ]
  },
  {
   "cell_type": "code",
   "execution_count": 33,
   "metadata": {},
   "outputs": [
    {
     "name": "stdout",
     "output_type": "stream",
     "text": [
      "file_store\n",
      "m14\n",
      "midcassandra\n",
      "system\n",
      "system_auth\n",
      "system_distributed\n",
      "system_schema\n",
      "system_traces\n",
      "system_views\n",
      "system_virtual_schema\n",
      "w04python\n"
     ]
    }
   ],
   "source": [
    "rows = session.execute(\"desc keyspaces\")\n",
    "for row in rows:\n",
    "    print(f\"{row[0]}\")"
   ]
  },
  {
   "attachments": {},
   "cell_type": "markdown",
   "metadata": {},
   "source": [
    "Now, we are creating a table called file_table that stores all the details of file such as the user_id, uploaded date, file_type, and the file itself"
   ]
  },
  {
   "cell_type": "code",
   "execution_count": 34,
   "metadata": {},
   "outputs": [
    {
     "data": {
      "text/plain": [
       "<cassandra.cluster.ResultSet at 0x7f02b9717940>"
      ]
     },
     "execution_count": 34,
     "metadata": {},
     "output_type": "execute_result"
    }
   ],
   "source": [
    "# Here I'm using the Type 'text' for attched_file' as I have tried using the type 'file' and it fai;ed.\n",
    "\n",
    "session.execute(\"\"\"\n",
    "CREATE TABLE IF NOT EXISTS file_store.file_table ( \n",
    "    user_id INT, \n",
    "    upload_date DATE, \n",
    "    file_type TEXT, \n",
    "    attached_file TEXT,\n",
    "    PRIMARY KEY(user_id, upload_date, file_type)\n",
    ");\n",
    "\"\"\")"
   ]
  },
  {
   "attachments": {},
   "cell_type": "markdown",
   "metadata": {},
   "source": [
    "Here we are creating a file called sample.txt for test purpose. The file contains the text \"Hello World\" 500000 time"
   ]
  },
  {
   "cell_type": "code",
   "execution_count": 25,
   "metadata": {},
   "outputs": [],
   "source": [
    "with open(\"sample.txt\",\"w\") as fout:\n",
    "    for i in range(500000):\n",
    "        fout.write(\"Hello World\\n\")"
   ]
  },
  {
   "attachments": {},
   "cell_type": "markdown",
   "metadata": {},
   "source": [
    "we are setting the variable user_id, upload_date, file_type and file, so that we can use them when we are inserting it in the table"
   ]
  },
  {
   "cell_type": "code",
   "execution_count": 22,
   "metadata": {},
   "outputs": [],
   "source": [
    "user_id=1\n",
    "upload_date=\"09/03/2022\"\n",
    "file_type=\"txt\"\n",
    "with open(\"sample.txt\",\"r\") as fin:\n",
    "    file=fin.read()"
   ]
  },
  {
   "attachments": {},
   "cell_type": "markdown",
   "metadata": {},
   "source": [
    "### Store file\n",
    "With the below code, we insert the data in to the file_table that we created"
   ]
  },
  {
   "cell_type": "code",
   "execution_count": 35,
   "metadata": {},
   "outputs": [
    {
     "ename": "SyntaxException",
     "evalue": "<Error from server: code=2000 [Syntax error in CQL query] message=\"line 3:33 no viable alternative at input ',' (...(1, 09/03/2022,[txt],...)\">",
     "output_type": "error",
     "traceback": [
      "\u001b[0;31m---------------------------------------------------------------------------\u001b[0m",
      "\u001b[0;31mSyntaxException\u001b[0m                           Traceback (most recent call last)",
      "Cell \u001b[0;32mIn[35], line 3\u001b[0m\n\u001b[1;32m      1\u001b[0m \u001b[39m# I'm not able to run this query as I have created the table with attched_file column as Text, and trying to to insert a file\u001b[39;00m\n\u001b[1;32m      2\u001b[0m \u001b[39m# I'm proceeding with notebook, assuming I successfully inserted the record\u001b[39;00m\n\u001b[0;32m----> 3\u001b[0m session\u001b[39m.\u001b[39;49mexecute(\u001b[39mf\u001b[39;49m\u001b[39m\"\"\"\u001b[39;49m\n\u001b[1;32m      4\u001b[0m \u001b[39m        INSERT INTO file_store.file_table (user_id, upload_date, file_type, attached_file)     \u001b[39;49m\n\u001b[1;32m      5\u001b[0m \u001b[39m        VALUES (\u001b[39;49m\u001b[39m{\u001b[39;49;00muser_id\u001b[39m}\u001b[39;49;00m\u001b[39m, \u001b[39;49m\u001b[39m{\u001b[39;49;00mupload_date\u001b[39m}\u001b[39;49;00m\u001b[39m,\u001b[39;49m\u001b[39m{\u001b[39;49;00mfile_type\u001b[39m}\u001b[39;49;00m\u001b[39m,\u001b[39;49m\u001b[39m{\u001b[39;49;00mfile\u001b[39m}\u001b[39;49;00m\u001b[39m);\u001b[39;49m\n\u001b[1;32m      6\u001b[0m \u001b[39m        \u001b[39;49m\u001b[39m\"\"\"\u001b[39;49m\n\u001b[1;32m      7\u001b[0m     )\n",
      "File \u001b[0;32m~/miniconda3/lib/python3.10/site-packages/cassandra/cluster.py:2618\u001b[0m, in \u001b[0;36mcassandra.cluster.Session.execute\u001b[0;34m()\u001b[0m\n",
      "File \u001b[0;32m~/miniconda3/lib/python3.10/site-packages/cassandra/cluster.py:4894\u001b[0m, in \u001b[0;36mcassandra.cluster.ResponseFuture.result\u001b[0;34m()\u001b[0m\n",
      "\u001b[0;31mSyntaxException\u001b[0m: <Error from server: code=2000 [Syntax error in CQL query] message=\"line 3:33 no viable alternative at input ',' (...(1, 09/03/2022,[txt],...)\">"
     ]
    }
   ],
   "source": [
    "\n",
    "# I'm not able to run this query as I have created the table with attched_file column as Text, and trying to to insert a file\n",
    "# I'm proceeding with notebook, assuming I successfully inserted the record\n",
    "session.execute(f\"\"\"\n",
    "        INSERT INTO file_store.file_table (user_id, upload_date, file_type, attached_file)     \n",
    "        VALUES ({user_id}, {upload_date},{file_type},{file});\n",
    "        \"\"\"\n",
    "    )"
   ]
  },
  {
   "attachments": {},
   "cell_type": "markdown",
   "metadata": {},
   "source": [
    "We are repeating the insertion process two times, so that we can more than one row in our table for testing purpose "
   ]
  },
  {
   "cell_type": "code",
   "execution_count": null,
   "metadata": {},
   "outputs": [],
   "source": [
    "user_id=2\n",
    "upload_date=\"02/03/2022\"\n",
    "file_type=\"txt\""
   ]
  },
  {
   "cell_type": "code",
   "execution_count": null,
   "metadata": {},
   "outputs": [],
   "source": [
    "\n",
    "session.execute(f\"\"\"\n",
    "        INSERT INTO file_store.file_table (user_id, upload_date, file_type, attached_file)     \n",
    "        VALUES ({user_id}, {upload_date},{file_type},{file});\n",
    "        \"\"\"\n",
    "    )"
   ]
  },
  {
   "cell_type": "code",
   "execution_count": null,
   "metadata": {},
   "outputs": [],
   "source": [
    "user_id=3\n",
    "upload_date=\"06/03/2022\"\n",
    "file_type=\"txt\""
   ]
  },
  {
   "cell_type": "code",
   "execution_count": null,
   "metadata": {},
   "outputs": [],
   "source": [
    "\n",
    "session.execute(f\"\"\"\n",
    "        INSERT INTO file_store.file_table (user_id, upload_date, file_type, attached_file)     \n",
    "        VALUES ({user_id}, {upload_date},{file_type},{file});\n",
    "        \"\"\"\n",
    "    )"
   ]
  },
  {
   "attachments": {},
   "cell_type": "markdown",
   "metadata": {},
   "source": [
    "## Search File\n",
    "The below code will retrieve file from the table for the particular user id we give in the query"
   ]
  },
  {
   "cell_type": "code",
   "execution_count": null,
   "metadata": {},
   "outputs": [],
   "source": [
    "rows = session.execute(\"select (file) from file_store.file_table where user_id=1\")\n",
    "for row in rows:\n",
    "    print(f\"{row}\")\n"
   ]
  },
  {
   "attachments": {},
   "cell_type": "markdown",
   "metadata": {},
   "source": [
    "## Delete File\n",
    "By running the below code, we can delete the row from the table of the user_id we gave in the query "
   ]
  },
  {
   "cell_type": "code",
   "execution_count": null,
   "metadata": {},
   "outputs": [],
   "source": [
    "rows = session.execute(\"delete from file_store.file_table where user_id=2\")"
   ]
  },
  {
   "attachments": {},
   "cell_type": "markdown",
   "metadata": {},
   "source": [
    "We were able to successfully insert, retrieve and delete the files from the table. "
   ]
  }
 ],
 "metadata": {
  "kernelspec": {
   "display_name": "base",
   "language": "python",
   "name": "python3"
  },
  "language_info": {
   "codemirror_mode": {
    "name": "ipython",
    "version": 3
   },
   "file_extension": ".py",
   "mimetype": "text/x-python",
   "name": "python",
   "nbconvert_exporter": "python",
   "pygments_lexer": "ipython3",
   "version": "3.10.10"
  },
  "orig_nbformat": 4
 },
 "nbformat": 4,
 "nbformat_minor": 2
}
