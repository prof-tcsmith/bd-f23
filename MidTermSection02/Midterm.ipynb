{
 "cells": [
  {
   "cell_type": "markdown",
   "metadata": {},
   "source": []
  },
  {
   "cell_type": "markdown",
   "metadata": {},
   "source": [
    "# MID TERM "
   ]
  },
  {
   "cell_type": "markdown",
   "metadata": {},
   "source": [
    "##### Author: Priyam\n",
    "##### U88016402"
   ]
  },
  {
   "cell_type": "markdown",
   "metadata": {},
   "source": [
    "### Adding a new functionality to chat bot"
   ]
  },
  {
   "attachments": {},
   "cell_type": "markdown",
   "metadata": {},
   "source": [
    "### Import packages"
   ]
  },
  {
   "cell_type": "code",
   "execution_count": 48,
   "metadata": {},
   "outputs": [],
   "source": [
    "import pandas as pd\n",
    "from cassandra.cluster import Cluster"
   ]
  },
  {
   "attachments": {},
   "cell_type": "markdown",
   "metadata": {},
   "source": [
    "### Create a session connection to Cassandra cluster"
   ]
  },
  {
   "cell_type": "code",
   "execution_count": 49,
   "metadata": {},
   "outputs": [],
   "source": [
    "clstr = Cluster()\n",
    "session = clstr.connect()"
   ]
  },
  {
   "attachments": {},
   "cell_type": "markdown",
   "metadata": {},
   "source": [
    "### Use session to 'talk' to cassandra"
   ]
  },
  {
   "cell_type": "markdown",
   "metadata": {},
   "source": [
    "#### Checking if we already have keyspace chat and dropping it if it is available"
   ]
  },
  {
   "cell_type": "code",
   "execution_count": 66,
   "metadata": {},
   "outputs": [
    {
     "data": {
      "text/plain": [
       "<cassandra.cluster.ResultSet at 0x7f48ede66ad0>"
      ]
     },
     "execution_count": 66,
     "metadata": {},
     "output_type": "execute_result"
    }
   ],
   "source": [
    "session.execute(\"DROP KEYSPACE IF EXISTS chat\")"
   ]
  },
  {
   "cell_type": "code",
   "execution_count": 51,
   "metadata": {},
   "outputs": [
    {
     "name": "stdout",
     "output_type": "stream",
     "text": [
      "m14\n",
      "system\n",
      "system_auth\n",
      "system_distributed\n",
      "system_schema\n",
      "system_traces\n",
      "system_views\n",
      "system_virtual_schema\n",
      "w04python\n"
     ]
    }
   ],
   "source": [
    "rows = session.execute(\"desc keyspaces\")\n",
    "for row in rows:\n",
    "    print(f\"{row[0]}\")"
   ]
  },
  {
   "cell_type": "code",
   "execution_count": 67,
   "metadata": {},
   "outputs": [
    {
     "data": {
      "text/plain": [
       "<cassandra.cluster.ResultSet at 0x7f48dee744d0>"
      ]
     },
     "execution_count": 67,
     "metadata": {},
     "output_type": "execute_result"
    }
   ],
   "source": [
    "session.execute(\"\"\"\n",
    "    CREATE KEYSPACE IF NOT EXISTS chat WITH REPLICATION = {\n",
    "        'class':'SimpleStrategy', \n",
    "        'replication_factor':3\n",
    "    }\n",
    "\"\"\")"
   ]
  },
  {
   "cell_type": "code",
   "execution_count": 68,
   "metadata": {},
   "outputs": [
    {
     "name": "stdout",
     "output_type": "stream",
     "text": [
      "chat\n",
      "m14\n",
      "system\n",
      "system_auth\n",
      "system_distributed\n",
      "system_schema\n",
      "system_traces\n",
      "system_views\n",
      "system_virtual_schema\n",
      "w04python\n"
     ]
    }
   ],
   "source": [
    "rows = session.execute(\"desc keyspaces\")\n",
    "for row in rows:\n",
    "    print(f\"{row[0]}\")"
   ]
  },
  {
   "cell_type": "markdown",
   "metadata": {},
   "source": [
    "Create a user table for our task"
   ]
  },
  {
   "cell_type": "code",
   "execution_count": 69,
   "metadata": {},
   "outputs": [
    {
     "data": {
      "text/plain": [
       "<cassandra.cluster.ResultSet at 0x7f48defd2550>"
      ]
     },
     "execution_count": 69,
     "metadata": {},
     "output_type": "execute_result"
    }
   ],
   "source": [
    "session.execute(\"\"\"\n",
    "CREATE TABLE IF NOT EXISTS chat.user ( \n",
    "    user_id INT, \n",
    "    date TEXT, \n",
    "    type TEXT, \n",
    "    file INT, \n",
    "    PRIMARY KEY(user_id, type)\n",
    ");\n",
    "\"\"\")"
   ]
  },
  {
   "cell_type": "markdown",
   "metadata": {},
   "source": [
    "We are taking user _id and type of file as our primary keys as these will help in easier read and write of the data at later stages"
   ]
  },
  {
   "attachments": {},
   "cell_type": "markdown",
   "metadata": {},
   "source": [
    "### Load data"
   ]
  },
  {
   "cell_type": "code",
   "execution_count": 70,
   "metadata": {},
   "outputs": [
    {
     "data": {
      "text/html": [
       "<div>\n",
       "<style scoped>\n",
       "    .dataframe tbody tr th:only-of-type {\n",
       "        vertical-align: middle;\n",
       "    }\n",
       "\n",
       "    .dataframe tbody tr th {\n",
       "        vertical-align: top;\n",
       "    }\n",
       "\n",
       "    .dataframe thead th {\n",
       "        text-align: right;\n",
       "    }\n",
       "</style>\n",
       "<table border=\"1\" class=\"dataframe\">\n",
       "  <thead>\n",
       "    <tr style=\"text-align: right;\">\n",
       "      <th></th>\n",
       "      <th>user_id</th>\n",
       "      <th>date</th>\n",
       "      <th>type</th>\n",
       "      <th>file</th>\n",
       "    </tr>\n",
       "  </thead>\n",
       "  <tbody>\n",
       "    <tr>\n",
       "      <th>0</th>\n",
       "      <td>1</td>\n",
       "      <td>'08-05-2001'</td>\n",
       "      <td>'image'</td>\n",
       "      <td>100112</td>\n",
       "    </tr>\n",
       "    <tr>\n",
       "      <th>1</th>\n",
       "      <td>2</td>\n",
       "      <td>'08-06-2022'</td>\n",
       "      <td>'image'</td>\n",
       "      <td>100117</td>\n",
       "    </tr>\n",
       "    <tr>\n",
       "      <th>2</th>\n",
       "      <td>3</td>\n",
       "      <td>'07-06-2010'</td>\n",
       "      <td>'video'</td>\n",
       "      <td>100119</td>\n",
       "    </tr>\n",
       "    <tr>\n",
       "      <th>3</th>\n",
       "      <td>4</td>\n",
       "      <td>'09-07-2023'</td>\n",
       "      <td>'file'</td>\n",
       "      <td>100113</td>\n",
       "    </tr>\n",
       "    <tr>\n",
       "      <th>4</th>\n",
       "      <td>5</td>\n",
       "      <td>'01-08-1996'</td>\n",
       "      <td>'video'</td>\n",
       "      <td>100115</td>\n",
       "    </tr>\n",
       "    <tr>\n",
       "      <th>5</th>\n",
       "      <td>6</td>\n",
       "      <td>'01-07-1996'</td>\n",
       "      <td>'file'</td>\n",
       "      <td>100485</td>\n",
       "    </tr>\n",
       "    <tr>\n",
       "      <th>6</th>\n",
       "      <td>7</td>\n",
       "      <td>'06-09-2023'</td>\n",
       "      <td>'video</td>\n",
       "      <td>100985</td>\n",
       "    </tr>\n",
       "    <tr>\n",
       "      <th>7</th>\n",
       "      <td>8</td>\n",
       "      <td>'08-06-2022'</td>\n",
       "      <td>'image'</td>\n",
       "      <td>100785</td>\n",
       "    </tr>\n",
       "    <tr>\n",
       "      <th>8</th>\n",
       "      <td>9</td>\n",
       "      <td>'02-05-1996'</td>\n",
       "      <td>'file'</td>\n",
       "      <td>100452</td>\n",
       "    </tr>\n",
       "    <tr>\n",
       "      <th>9</th>\n",
       "      <td>10</td>\n",
       "      <td>'06-07-2022'</td>\n",
       "      <td>'file'</td>\n",
       "      <td>100852</td>\n",
       "    </tr>\n",
       "  </tbody>\n",
       "</table>\n",
       "</div>"
      ],
      "text/plain": [
       "   user_id          date     type    file\n",
       "0        1  '08-05-2001'  'image'  100112\n",
       "1        2  '08-06-2022'  'image'  100117\n",
       "2        3  '07-06-2010'  'video'  100119\n",
       "3        4  '09-07-2023'   'file'  100113\n",
       "4        5  '01-08-1996'  'video'  100115\n",
       "5        6  '01-07-1996'   'file'  100485\n",
       "6        7  '06-09-2023'   'video  100985\n",
       "7        8  '08-06-2022'  'image'  100785\n",
       "8        9  '02-05-1996'   'file'  100452\n",
       "9       10  '06-07-2022'   'file'  100852"
      ]
     },
     "execution_count": 70,
     "metadata": {},
     "output_type": "execute_result"
    }
   ],
   "source": [
    "df = pd.read_csv('data.csv')\n",
    "df"
   ]
  },
  {
   "cell_type": "markdown",
   "metadata": {},
   "source": [
    "#### CHecking if our data is iterable"
   ]
  },
  {
   "cell_type": "code",
   "execution_count": 71,
   "metadata": {},
   "outputs": [
    {
     "name": "stdout",
     "output_type": "stream",
     "text": [
      "user_id = 1, date ='08-05-2001', type = 'image', file = 100112\n",
      "user_id = 2, date ='08-06-2022', type = 'image', file = 100117\n",
      "user_id = 3, date ='07-06-2010', type = 'video', file = 100119\n",
      "user_id = 4, date ='09-07-2023', type = 'file', file = 100113\n",
      "user_id = 5, date ='01-08-1996', type = 'video', file = 100115\n",
      "user_id = 6, date ='01-07-1996', type = 'file', file = 100485\n",
      "user_id = 7, date ='06-09-2023', type = 'video, file = 100985\n",
      "user_id = 8, date ='08-06-2022', type = 'image', file = 100785\n",
      "user_id = 9, date ='02-05-1996', type = 'file', file = 100452\n",
      "user_id = 10, date ='06-07-2022', type = 'file', file = 100852\n"
     ]
    }
   ],
   "source": [
    "for index, row in df.iterrows():\n",
    "    print(f\"user_id = {row.user_id}, date ={row.date}, type = {row.type}, file = {row.file}\")"
   ]
  },
  {
   "cell_type": "markdown",
   "metadata": {},
   "source": [
    "#### Inserting the data into our Table 'user'"
   ]
  },
  {
   "cell_type": "code",
   "execution_count": 72,
   "metadata": {},
   "outputs": [
    {
     "name": "stdout",
     "output_type": "stream",
     "text": [
      "\n",
      "        INSERT INTO chat.user (user_id, date, type, file)     \n",
      "        VALUES (1, '''08-05-2001''', '''image''', 100112);\n",
      "        \n",
      "\n",
      "        INSERT INTO chat.user (user_id, date, type, file)     \n",
      "        VALUES (2, '''08-06-2022''', '''image''', 100117);\n",
      "        \n",
      "\n",
      "        INSERT INTO chat.user (user_id, date, type, file)     \n",
      "        VALUES (3, '''07-06-2010''', '''video''', 100119);\n",
      "        \n",
      "\n",
      "        INSERT INTO chat.user (user_id, date, type, file)     \n",
      "        VALUES (4, '''09-07-2023''', '''file''', 100113);\n",
      "        \n",
      "\n",
      "        INSERT INTO chat.user (user_id, date, type, file)     \n",
      "        VALUES (5, '''01-08-1996''', '''video''', 100115);\n",
      "        \n",
      "\n",
      "        INSERT INTO chat.user (user_id, date, type, file)     \n",
      "        VALUES (6, '''01-07-1996''', '''file''', 100485);\n",
      "        \n",
      "\n",
      "        INSERT INTO chat.user (user_id, date, type, file)     \n",
      "        VALUES (7, '''06-09-2023''', '''video', 100985);\n",
      "        \n",
      "\n",
      "        INSERT INTO chat.user (user_id, date, type, file)     \n",
      "        VALUES (8, '''08-06-2022''', '''image''', 100785);\n",
      "        \n",
      "\n",
      "        INSERT INTO chat.user (user_id, date, type, file)     \n",
      "        VALUES (9, '''02-05-1996''', '''file''', 100452);\n",
      "        \n",
      "\n",
      "        INSERT INTO chat.user (user_id, date, type, file)     \n",
      "        VALUES (10, '''06-07-2022''', '''file''', 100852);\n",
      "        \n"
     ]
    }
   ],
   "source": [
    "for index, row in df.iterrows():\n",
    "    # Properly format and escape the string values\n",
    "    formatted_date = str(row['date']).replace(\"'\", \"''\")  # replace single quote with two single quotes for SQL\n",
    "    formatted_type = str(row['type']).replace(\"'\", \"''\")\n",
    "\n",
    "\n",
    "\n",
    "    # Use the formatted strings in the SQL statement\n",
    "    sql_statement = f\"\"\"\n",
    "        INSERT INTO chat.user (user_id, date, type, file)     \n",
    "        VALUES ({row['user_id']}, '{formatted_date}', '{formatted_type}', {row['file']});\n",
    "        \"\"\"\n",
    "\n",
    "    print(sql_statement)  # For debugging\n",
    "    session.execute(sql_statement)"
   ]
  },
  {
   "cell_type": "markdown",
   "metadata": {},
   "source": [
    "#### Running a Select query to observe our table data"
   ]
  },
  {
   "cell_type": "code",
   "execution_count": 73,
   "metadata": {},
   "outputs": [
    {
     "name": "stdout",
     "output_type": "stream",
     "text": [
      "user_id=5, date='01-08-1996', type='video', file=100115\n",
      "user_id=10, date='06-07-2022', type='file', file=100852\n",
      "user_id=1, date='08-05-2001', type='image', file=100112\n",
      "user_id=8, date='08-06-2022', type='image', file=100785\n",
      "user_id=2, date='08-06-2022', type='image', file=100117\n",
      "user_id=4, date='09-07-2023', type='file', file=100113\n",
      "user_id=7, date='06-09-2023', type='video, file=100985\n",
      "user_id=6, date='01-07-1996', type='file', file=100485\n",
      "user_id=9, date='02-05-1996', type='file', file=100452\n",
      "user_id=3, date='07-06-2010', type='video', file=100119\n"
     ]
    }
   ],
   "source": [
    "rows = session.execute(\"select (user_id, date, type, file) from chat.user\")\n",
    "for row in rows:\n",
    "    print(f\"user_id={row[0][0]}, date={row[0][1]}, type={row[0][2]}, file={row[0][3]}\")\n"
   ]
  },
  {
   "cell_type": "markdown",
   "metadata": {},
   "source": [
    "#### Inserting data into our table"
   ]
  },
  {
   "cell_type": "code",
   "execution_count": 74,
   "metadata": {},
   "outputs": [
    {
     "data": {
      "text/plain": [
       "<cassandra.cluster.ResultSet at 0x7f48deeeb890>"
      ]
     },
     "execution_count": 74,
     "metadata": {},
     "output_type": "execute_result"
    }
   ],
   "source": [
    "rows = f\"\"\"INSERT INTO chat.user (user_id, date, type, file)   \n",
    "        VALUES (12, '10-05-2006', 'image', 100524)\"\"\"\n",
    "session.execute(rows)"
   ]
  },
  {
   "cell_type": "markdown",
   "metadata": {},
   "source": [
    "#### Checking if data has been inserted or not"
   ]
  },
  {
   "cell_type": "code",
   "execution_count": 75,
   "metadata": {},
   "outputs": [
    {
     "name": "stdout",
     "output_type": "stream",
     "text": [
      "user_id=5, date='01-08-1996', type='video', file=100115\n",
      "user_id=10, date='06-07-2022', type='file', file=100852\n",
      "user_id=1, date='08-05-2001', type='image', file=100112\n",
      "user_id=8, date='08-06-2022', type='image', file=100785\n",
      "user_id=2, date='08-06-2022', type='image', file=100117\n",
      "user_id=4, date='09-07-2023', type='file', file=100113\n",
      "user_id=7, date='06-09-2023', type='video, file=100985\n",
      "user_id=6, date='01-07-1996', type='file', file=100485\n",
      "user_id=9, date='02-05-1996', type='file', file=100452\n",
      "user_id=12, date=10-05-2006, type=image, file=100524\n",
      "user_id=3, date='07-06-2010', type='video', file=100119\n"
     ]
    }
   ],
   "source": [
    "rows = session.execute(\"select (user_id, date, type, file) from chat.user\")\n",
    "for row in rows:\n",
    "    print(f\"user_id={row[0][0]}, date={row[0][1]}, type={row[0][2]}, file={row[0][3]}\")\n"
   ]
  },
  {
   "cell_type": "markdown",
   "metadata": {},
   "source": [
    "We can see here that our data has been added database."
   ]
  },
  {
   "cell_type": "markdown",
   "metadata": {},
   "source": [
    "### To search for and return an attachment"
   ]
  },
  {
   "cell_type": "markdown",
   "metadata": {},
   "source": [
    "##### We will create index since it better way without using Allow Filtering. Allow Filtering does a full table scan which is less preferred."
   ]
  },
  {
   "cell_type": "code",
   "execution_count": 76,
   "metadata": {},
   "outputs": [
    {
     "data": {
      "text/plain": [
       "<cassandra.cluster.ResultSet at 0x7f48dee74bd0>"
      ]
     },
     "execution_count": 76,
     "metadata": {},
     "output_type": "execute_result"
    }
   ],
   "source": [
    "# Create an index on type in the user table\n",
    "session.execute(\"\"\"\n",
    "CREATE INDEX IF NOT EXISTS type\n",
    "ON chat.user (type);\n",
    "\"\"\")"
   ]
  },
  {
   "cell_type": "code",
   "execution_count": 77,
   "metadata": {},
   "outputs": [
    {
     "name": "stdout",
     "output_type": "stream",
     "text": [
      "12, 10-05-2006, image, 100524\n"
     ]
    }
   ],
   "source": [
    "rows = session.execute(\"SELECT (user_id, date, type, file) FROM chat.user WHERE type = 'image'\")\n",
    "for row in rows:\n",
    "    print(f\"{row[0][0]}, {row[0][1]}, {row[0][2]}, {row[0][3]}\")\n",
    "    "
   ]
  },
  {
   "cell_type": "markdown",
   "metadata": {},
   "source": [
    "#### We got all the attachments with type 'image'. "
   ]
  },
  {
   "cell_type": "markdown",
   "metadata": {},
   "source": [
    "### Deletion a row from our table"
   ]
  },
  {
   "cell_type": "code",
   "execution_count": 78,
   "metadata": {},
   "outputs": [
    {
     "data": {
      "text/plain": [
       "<cassandra.cluster.ResultSet at 0x7f48dee704d0>"
      ]
     },
     "execution_count": 78,
     "metadata": {},
     "output_type": "execute_result"
    }
   ],
   "source": [
    "rows= ((\"DELETE FROM chat.user  WHERE user_id =12\"))\n",
    "session.execute(rows)\n"
   ]
  },
  {
   "cell_type": "code",
   "execution_count": 79,
   "metadata": {},
   "outputs": [
    {
     "name": "stdout",
     "output_type": "stream",
     "text": [
      "user_id=5, date='01-08-1996', type='video', file=100115\n",
      "user_id=10, date='06-07-2022', type='file', file=100852\n",
      "user_id=1, date='08-05-2001', type='image', file=100112\n",
      "user_id=8, date='08-06-2022', type='image', file=100785\n",
      "user_id=2, date='08-06-2022', type='image', file=100117\n",
      "user_id=4, date='09-07-2023', type='file', file=100113\n",
      "user_id=7, date='06-09-2023', type='video, file=100985\n",
      "user_id=6, date='01-07-1996', type='file', file=100485\n",
      "user_id=9, date='02-05-1996', type='file', file=100452\n",
      "user_id=3, date='07-06-2010', type='video', file=100119\n"
     ]
    }
   ],
   "source": [
    "rows = session.execute(\"select (user_id, date, type, file) from chat.user\")\n",
    "for row in rows:\n",
    "    print(f\"user_id={row[0][0]}, date={row[0][1]}, type={row[0][2]}, file={row[0][3]}\")"
   ]
  },
  {
   "cell_type": "markdown",
   "metadata": {},
   "source": [
    "#### We deleted the user_id '12', so let's search for it if is still available or not"
   ]
  },
  {
   "cell_type": "code",
   "execution_count": 80,
   "metadata": {},
   "outputs": [],
   "source": [
    "rows = session.execute(\"SELECT (user_id, date, type, file) FROM chat.user WHERE user_id = 12 allow filtering\")\n",
    "for row in rows:\n",
    "    print(f\"{row[0][0]}, {row[0][1]}, {row[0][2]}, {row[0][3]}\")"
   ]
  },
  {
   "cell_type": "markdown",
   "metadata": {},
   "source": [
    "#### We don't have it anymore as it has been deleted"
   ]
  }
 ],
 "metadata": {
  "kernelspec": {
   "display_name": "base",
   "language": "python",
   "name": "python3"
  },
  "language_info": {
   "codemirror_mode": {
    "name": "ipython",
    "version": 3
   },
   "file_extension": ".py",
   "mimetype": "text/x-python",
   "name": "python",
   "nbconvert_exporter": "python",
   "pygments_lexer": "ipython3",
   "version": "3.11.5"
  },
  "orig_nbformat": 4,
  "vscode": {
   "interpreter": {
    "hash": "c774f5f42cb3e70515ef7cb909d9051370cc09a28b296d74902002ebc2249cb4"
   }
  }
 },
 "nbformat": 4,
 "nbformat_minor": 2
}
