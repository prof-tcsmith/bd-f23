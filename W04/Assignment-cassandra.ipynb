{
 "cells": [
  {
   "cell_type": "markdown",
   "metadata": {},
   "source": [
    "# Assignment Demonstration\n",
    "\n",
    "#### Shambhavi Mishra"
   ]
  },
  {
   "cell_type": "markdown",
   "metadata": {},
   "source": [
    "### Connecting to Cassandra Database"
   ]
  },
  {
   "cell_type": "markdown",
   "metadata": {},
   "source": [
    "#### Importing Libraries"
   ]
  },
  {
   "cell_type": "code",
   "execution_count": 1,
   "metadata": {},
   "outputs": [],
   "source": [
    "import pandas as pd\n",
    "from cassandra.cluster import Cluster"
   ]
  },
  {
   "cell_type": "markdown",
   "metadata": {},
   "source": [
    "#### Creating a session connection to Cassandra cluster"
   ]
  },
  {
   "cell_type": "code",
   "execution_count": 2,
   "metadata": {},
   "outputs": [
    {
     "ename": "NoHostAvailable",
     "evalue": "('Unable to connect to any servers', {'127.0.0.1:9042': ConnectionRefusedError(111, \"Tried connecting to [('127.0.0.1', 9042)]. Last error: Connection refused\")})",
     "output_type": "error",
     "traceback": [
      "\u001b[0;31m---------------------------------------------------------------------------\u001b[0m",
      "\u001b[0;31mNoHostAvailable\u001b[0m                           Traceback (most recent call last)",
      "Cell \u001b[0;32mIn[2], line 2\u001b[0m\n\u001b[1;32m      1\u001b[0m clstr \u001b[39m=\u001b[39m Cluster()\n\u001b[0;32m----> 2\u001b[0m session \u001b[39m=\u001b[39m clstr\u001b[39m.\u001b[39mconnect()\n",
      "File \u001b[0;32m~/miniconda3/envs/bd/lib/python3.11/site-packages/cassandra/cluster.py:1667\u001b[0m, in \u001b[0;36mcassandra.cluster.Cluster.connect\u001b[0;34m()\u001b[0m\n",
      "File \u001b[0;32m~/miniconda3/envs/bd/lib/python3.11/site-packages/cassandra/cluster.py:1703\u001b[0m, in \u001b[0;36mcassandra.cluster.Cluster.connect\u001b[0;34m()\u001b[0m\n",
      "File \u001b[0;32m~/miniconda3/envs/bd/lib/python3.11/site-packages/cassandra/cluster.py:1690\u001b[0m, in \u001b[0;36mcassandra.cluster.Cluster.connect\u001b[0;34m()\u001b[0m\n",
      "File \u001b[0;32m~/miniconda3/envs/bd/lib/python3.11/site-packages/cassandra/cluster.py:3488\u001b[0m, in \u001b[0;36mcassandra.cluster.ControlConnection.connect\u001b[0;34m()\u001b[0m\n",
      "File \u001b[0;32m~/miniconda3/envs/bd/lib/python3.11/site-packages/cassandra/cluster.py:3533\u001b[0m, in \u001b[0;36mcassandra.cluster.ControlConnection._reconnect_internal\u001b[0;34m()\u001b[0m\n",
      "\u001b[0;31mNoHostAvailable\u001b[0m: ('Unable to connect to any servers', {'127.0.0.1:9042': ConnectionRefusedError(111, \"Tried connecting to [('127.0.0.1', 9042)]. Last error: Connection refused\")})"
     ]
    }
   ],
   "source": [
    "clstr = Cluster()\n",
    "session = clstr.connect()"
   ]
  },
  {
   "cell_type": "markdown",
   "metadata": {},
   "source": [
    "#### Using the session to 'talk' to Cassandra"
   ]
  },
  {
   "cell_type": "code",
   "execution_count": 10,
   "metadata": {},
   "outputs": [
    {
     "data": {
      "text/plain": [
       "<cassandra.cluster.ResultSet at 0x7f81d0b0f850>"
      ]
     },
     "execution_count": 10,
     "metadata": {},
     "output_type": "execute_result"
    }
   ],
   "source": [
    "session.execute(\"DROP KEYSPACE IF EXISTS bd23\")"
   ]
  },
  {
   "cell_type": "markdown",
   "metadata": {},
   "source": [
    "\n",
    "#### Creating a Keyspace - bd23"
   ]
  },
  {
   "cell_type": "code",
   "execution_count": 11,
   "metadata": {},
   "outputs": [
    {
     "data": {
      "text/plain": [
       "<cassandra.cluster.ResultSet at 0x7f820ef33690>"
      ]
     },
     "execution_count": 11,
     "metadata": {},
     "output_type": "execute_result"
    }
   ],
   "source": [
    "session.execute(\"CREATE KEYSPACE IF NOT EXISTS bd23 WITH REPLICATION = {'class':'SimpleStrategy', 'replication_factor':2}\")"
   ]
  },
  {
   "cell_type": "code",
   "execution_count": 12,
   "metadata": {},
   "outputs": [
    {
     "name": "stdout",
     "output_type": "stream",
     "text": [
      "bd23\n",
      "system\n",
      "system_auth\n",
      "system_distributed\n",
      "system_schema\n",
      "system_traces\n",
      "system_views\n",
      "system_virtual_schema\n",
      "w04python\n"
     ]
    }
   ],
   "source": [
    "rows = session.execute(\"desc keyspaces\")\n",
    "for row in rows:\n",
    "    print(f\"{row[0]}\")"
   ]
  },
  {
   "cell_type": "code",
   "execution_count": 13,
   "metadata": {},
   "outputs": [
    {
     "data": {
      "text/plain": [
       "<cassandra.cluster.ResultSet at 0x7f81d0196690>"
      ]
     },
     "execution_count": 13,
     "metadata": {},
     "output_type": "execute_result"
    }
   ],
   "source": [
    "session.execute(\"CREATE KEYSPACE IF NOT EXISTS bd23 WITH REPLICATION = {'class':'SimpleStrategy', 'replication_factor':2}\")"
   ]
  },
  {
   "cell_type": "markdown",
   "metadata": {},
   "source": [
    "#### Creating a table for inventory information"
   ]
  },
  {
   "cell_type": "code",
   "execution_count": 14,
   "metadata": {},
   "outputs": [
    {
     "data": {
      "text/plain": [
       "<cassandra.cluster.ResultSet at 0x7f81d2c7eb50>"
      ]
     },
     "execution_count": 14,
     "metadata": {},
     "output_type": "execute_result"
    }
   ],
   "source": [
    "session.execute(\"\"\"\n",
    "CREATE TABLE IF NOT EXISTS bd23.inventory ( \n",
    "    SKU TEXT, \n",
    "    product_name TEXT, \n",
    "    description TEXT, \n",
    "    warehouse_num INT,\n",
    "    PRIMARY KEY(SKU)\n",
    ");\n",
    "\"\"\")"
   ]
  },
  {
   "cell_type": "markdown",
   "metadata": {},
   "source": [
    "#### Loading the data from 'inventory.csv'"
   ]
  },
  {
   "cell_type": "code",
   "execution_count": 15,
   "metadata": {},
   "outputs": [
    {
     "data": {
      "text/html": [
       "<div>\n",
       "<style scoped>\n",
       "    .dataframe tbody tr th:only-of-type {\n",
       "        vertical-align: middle;\n",
       "    }\n",
       "\n",
       "    .dataframe tbody tr th {\n",
       "        vertical-align: top;\n",
       "    }\n",
       "\n",
       "    .dataframe thead th {\n",
       "        text-align: right;\n",
       "    }\n",
       "</style>\n",
       "<table border=\"1\" class=\"dataframe\">\n",
       "  <thead>\n",
       "    <tr style=\"text-align: right;\">\n",
       "      <th></th>\n",
       "      <th>SKU</th>\n",
       "      <th>product_name</th>\n",
       "      <th>description</th>\n",
       "      <th>warehouse_num</th>\n",
       "    </tr>\n",
       "  </thead>\n",
       "  <tbody>\n",
       "    <tr>\n",
       "      <th>0</th>\n",
       "      <td>'SP5787'</td>\n",
       "      <td>'Prod1'</td>\n",
       "      <td>'Description1'</td>\n",
       "      <td>123</td>\n",
       "    </tr>\n",
       "    <tr>\n",
       "      <th>1</th>\n",
       "      <td>'TR8678'</td>\n",
       "      <td>'Prod2'</td>\n",
       "      <td>'Description2'</td>\n",
       "      <td>151</td>\n",
       "    </tr>\n",
       "    <tr>\n",
       "      <th>2</th>\n",
       "      <td>'MK4556'</td>\n",
       "      <td>'Prod3'</td>\n",
       "      <td>'Description3'</td>\n",
       "      <td>138</td>\n",
       "    </tr>\n",
       "    <tr>\n",
       "      <th>3</th>\n",
       "      <td>'YE8776'</td>\n",
       "      <td>'Prod4'</td>\n",
       "      <td>'Description4'</td>\n",
       "      <td>123</td>\n",
       "    </tr>\n",
       "    <tr>\n",
       "      <th>4</th>\n",
       "      <td>'XR4232'</td>\n",
       "      <td>'Prod5'</td>\n",
       "      <td>'Description5'</td>\n",
       "      <td>128</td>\n",
       "    </tr>\n",
       "    <tr>\n",
       "      <th>5</th>\n",
       "      <td>'BM4867'</td>\n",
       "      <td>'Prod6'</td>\n",
       "      <td>'Description6'</td>\n",
       "      <td>125</td>\n",
       "    </tr>\n",
       "    <tr>\n",
       "      <th>6</th>\n",
       "      <td>'WD4587'</td>\n",
       "      <td>'Prod7'</td>\n",
       "      <td>'Description7'</td>\n",
       "      <td>224</td>\n",
       "    </tr>\n",
       "    <tr>\n",
       "      <th>7</th>\n",
       "      <td>'TS9123'</td>\n",
       "      <td>'Prod8'</td>\n",
       "      <td>'Description8'</td>\n",
       "      <td>123</td>\n",
       "    </tr>\n",
       "  </tbody>\n",
       "</table>\n",
       "</div>"
      ],
      "text/plain": [
       "        SKU product_name     description  warehouse_num\n",
       "0  'SP5787'      'Prod1'  'Description1'            123\n",
       "1  'TR8678'      'Prod2'  'Description2'            151\n",
       "2  'MK4556'      'Prod3'  'Description3'            138\n",
       "3  'YE8776'      'Prod4'  'Description4'            123\n",
       "4  'XR4232'      'Prod5'  'Description5'            128\n",
       "5  'BM4867'      'Prod6'  'Description6'            125\n",
       "6  'WD4587'      'Prod7'  'Description7'            224\n",
       "7  'TS9123'      'Prod8'  'Description8'            123"
      ]
     },
     "execution_count": 15,
     "metadata": {},
     "output_type": "execute_result"
    }
   ],
   "source": [
    "df = pd.read_csv('inventory.csv')\n",
    "df"
   ]
  },
  {
   "cell_type": "markdown",
   "metadata": {},
   "source": [
    "#### Inserting the values in the inventory table"
   ]
  },
  {
   "cell_type": "code",
   "execution_count": 16,
   "metadata": {},
   "outputs": [
    {
     "name": "stdout",
     "output_type": "stream",
     "text": [
      "SKU = 'SP5787', product_name ='Prod1', description = 'Description1', warehouse_num = 123\n",
      "SKU = 'TR8678', product_name ='Prod2', description = 'Description2', warehouse_num = 151\n",
      "SKU = 'MK4556', product_name ='Prod3', description = 'Description3', warehouse_num = 138\n",
      "SKU = 'YE8776', product_name ='Prod4', description = 'Description4', warehouse_num = 123\n",
      "SKU = 'XR4232', product_name ='Prod5', description = 'Description5', warehouse_num = 128\n",
      "SKU = 'BM4867', product_name ='Prod6', description = 'Description6', warehouse_num = 125\n",
      "SKU = 'WD4587', product_name ='Prod7', description = 'Description7', warehouse_num = 224\n",
      "SKU = 'TS9123', product_name ='Prod8', description = 'Description8', warehouse_num = 123\n"
     ]
    }
   ],
   "source": [
    "for index, row in df.iterrows():\n",
    "    print(f\"SKU = {row.SKU}, product_name ={row.product_name}, description = {row.description}, warehouse_num = {row.warehouse_num}\")"
   ]
  },
  {
   "cell_type": "code",
   "execution_count": 17,
   "metadata": {},
   "outputs": [
    {
     "name": "stdout",
     "output_type": "stream",
     "text": [
      "\n",
      "        INSERT INTO bd23.inventory (SKU, product_name, description, warehouse_num)     \n",
      "        VALUES ('SP5787', 'Prod1', 'Description1', 123);\n",
      "        \n",
      "\n",
      "        INSERT INTO bd23.inventory (SKU, product_name, description, warehouse_num)     \n",
      "        VALUES ('TR8678', 'Prod2', 'Description2', 151);\n",
      "        \n",
      "\n",
      "        INSERT INTO bd23.inventory (SKU, product_name, description, warehouse_num)     \n",
      "        VALUES ('MK4556', 'Prod3', 'Description3', 138);\n",
      "        \n",
      "\n",
      "        INSERT INTO bd23.inventory (SKU, product_name, description, warehouse_num)     \n",
      "        VALUES ('YE8776', 'Prod4', 'Description4', 123);\n",
      "        \n",
      "\n",
      "        INSERT INTO bd23.inventory (SKU, product_name, description, warehouse_num)     \n",
      "        VALUES ('XR4232', 'Prod5', 'Description5', 128);\n",
      "        \n",
      "\n",
      "        INSERT INTO bd23.inventory (SKU, product_name, description, warehouse_num)     \n",
      "        VALUES ('BM4867', 'Prod6', 'Description6', 125);\n",
      "        \n",
      "\n",
      "        INSERT INTO bd23.inventory (SKU, product_name, description, warehouse_num)     \n",
      "        VALUES ('WD4587', 'Prod7', 'Description7', 224);\n",
      "        \n",
      "\n",
      "        INSERT INTO bd23.inventory (SKU, product_name, description, warehouse_num)     \n",
      "        VALUES ('TS9123', 'Prod8', 'Description8', 123);\n",
      "        \n"
     ]
    }
   ],
   "source": [
    "for index, row in df.iterrows():\n",
    "    print(f\"\"\"\n",
    "        INSERT INTO bd23.inventory (SKU, product_name, description, warehouse_num)     \n",
    "        VALUES ({row[0]}, {row[1]}, {row[2]}, {row[3]});\n",
    "        \"\"\"\n",
    "       )\n",
    "    session.execute(f\"\"\"\n",
    "        INSERT INTO bd23.inventory (SKU, product_name, description, warehouse_num)    \n",
    "        VALUES ({row[0]}, {row[1]}, {row[2]}, {row[3]});\n",
    "        \"\"\"\n",
    "       )"
   ]
  },
  {
   "cell_type": "code",
   "execution_count": 18,
   "metadata": {},
   "outputs": [
    {
     "name": "stdout",
     "output_type": "stream",
     "text": [
      "TS9123, Prod8, Description8, 123\n",
      "SP5787, Prod1, Description1, 123\n",
      "YE8776, Prod4, Description4, 123\n"
     ]
    }
   ],
   "source": [
    "rows = session.execute(\"SELECT (SKU, product_name, description, warehouse_num) FROM bd23.inventory WHERE warehouse_num=123 ALLOW FILTERING\")\n",
    "for row in rows:\n",
    "    print(f\"{row[0][0]}, {row[0][1]}, {row[0][2]}, {row[0][3]}\")"
   ]
  },
  {
   "cell_type": "markdown",
   "metadata": {},
   "source": [
    "## Learnings :\n",
    "##### 1. Running the Cassandra Clusters\n",
    "##### 2. Creating the table successfully\n",
    "##### 3. Loading the data from csv file\n",
    "##### 4. Running the query with Allow fitering as data has it reduces the run time"
   ]
  }
 ],
 "metadata": {
  "kernelspec": {
   "display_name": "bd",
   "language": "python",
   "name": "python3"
  },
  "language_info": {
   "codemirror_mode": {
    "name": "ipython",
    "version": 3
   },
   "file_extension": ".py",
   "mimetype": "text/x-python",
   "name": "python",
   "nbconvert_exporter": "python",
   "pygments_lexer": "ipython3",
   "version": "3.11.5"
  },
  "orig_nbformat": 4
 },
 "nbformat": 4,
 "nbformat_minor": 2
}
