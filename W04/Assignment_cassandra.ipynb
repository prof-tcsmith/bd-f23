{
 "cells": [
  {
   "cell_type": "markdown",
   "metadata": {},
   "source": [
    "## Assignment Cassandra"
   ]
  },
  {
   "cell_type": "markdown",
   "metadata": {},
   "source": [
    "## Submitted by Aarsha Joji"
   ]
  },
  {
   "cell_type": "markdown",
   "metadata": {},
   "source": [
    "### Import packages"
   ]
  },
  {
   "cell_type": "code",
   "execution_count": 1,
   "metadata": {},
   "outputs": [],
   "source": [
    "import pandas as pd\n",
    "from cassandra.cluster import Cluster"
   ]
  },
  {
   "cell_type": "markdown",
   "metadata": {},
   "source": [
    "### Create a session connection to Cassandra cluster"
   ]
  },
  {
   "cell_type": "code",
   "execution_count": 2,
   "metadata": {},
   "outputs": [],
   "source": [
    "clstr = Cluster()\n",
    "session = clstr.connect()"
   ]
  },
  {
   "cell_type": "markdown",
   "metadata": {},
   "source": [
    "### Use session to 'talk' to cassandra"
   ]
  },
  {
   "cell_type": "code",
   "execution_count": 3,
   "metadata": {},
   "outputs": [
    {
     "data": {
      "text/plain": [
       "<cassandra.cluster.ResultSet at 0x7fe884f5f810>"
      ]
     },
     "execution_count": 3,
     "metadata": {},
     "output_type": "execute_result"
    }
   ],
   "source": [
    "session.execute(\"DROP KEYSPACE IF EXISTS bd23\")"
   ]
  },
  {
   "cell_type": "code",
   "execution_count": 4,
   "metadata": {},
   "outputs": [
    {
     "name": "stdout",
     "output_type": "stream",
     "text": [
      "system\n",
      "system_auth\n",
      "system_distributed\n",
      "system_schema\n",
      "system_traces\n",
      "system_views\n",
      "system_virtual_schema\n"
     ]
    }
   ],
   "source": [
    "rows = session.execute(\"desc keyspaces\")\n",
    "for row in rows:\n",
    "    print(f\"{row[0]}\")"
   ]
  },
  {
   "cell_type": "markdown",
   "metadata": {},
   "source": [
    "### Create a keyspace - bd23"
   ]
  },
  {
   "cell_type": "code",
   "execution_count": 5,
   "metadata": {},
   "outputs": [
    {
     "data": {
      "text/plain": [
       "<cassandra.cluster.ResultSet at 0x7fe8857e2790>"
      ]
     },
     "execution_count": 5,
     "metadata": {},
     "output_type": "execute_result"
    }
   ],
   "source": [
    "session.execute(\"\"\"\n",
    "    CREATE KEYSPACE IF NOT EXISTS bd23 WITH REPLICATION = {\n",
    "        'class':'SimpleStrategy', \n",
    "        'replication_factor':3\n",
    "    }\n",
    "\"\"\")"
   ]
  },
  {
   "cell_type": "code",
   "execution_count": 6,
   "metadata": {},
   "outputs": [
    {
     "name": "stdout",
     "output_type": "stream",
     "text": [
      "bd23\n",
      "system\n",
      "system_auth\n",
      "system_distributed\n",
      "system_schema\n",
      "system_traces\n",
      "system_views\n",
      "system_virtual_schema\n"
     ]
    }
   ],
   "source": [
    "rows = session.execute(\"desc keyspaces\")\n",
    "for row in rows:\n",
    "    print(f\"{row[0]}\")"
   ]
  },
  {
   "cell_type": "markdown",
   "metadata": {},
   "source": [
    "### Create a inventory table for testing"
   ]
  },
  {
   "cell_type": "code",
   "execution_count": 7,
   "metadata": {},
   "outputs": [
    {
     "data": {
      "text/plain": [
       "<cassandra.cluster.ResultSet at 0x7fe884a3fd90>"
      ]
     },
     "execution_count": 7,
     "metadata": {},
     "output_type": "execute_result"
    }
   ],
   "source": [
    "session.execute(\"\"\"\n",
    "CREATE TABLE IF NOT EXISTS bd23.inventory ( \n",
    "    sku TEXT, \n",
    "    name TEXT, \n",
    "    description TEXT, \n",
    "    warehouse_num INT, \n",
    "    PRIMARY KEY(sku)\n",
    ");\n",
    "\"\"\")"
   ]
  },
  {
   "cell_type": "markdown",
   "metadata": {},
   "source": [
    "### Load data"
   ]
  },
  {
   "cell_type": "code",
   "execution_count": 8,
   "metadata": {},
   "outputs": [
    {
     "data": {
      "text/html": [
       "<div>\n",
       "<style scoped>\n",
       "    .dataframe tbody tr th:only-of-type {\n",
       "        vertical-align: middle;\n",
       "    }\n",
       "\n",
       "    .dataframe tbody tr th {\n",
       "        vertical-align: top;\n",
       "    }\n",
       "\n",
       "    .dataframe thead th {\n",
       "        text-align: right;\n",
       "    }\n",
       "</style>\n",
       "<table border=\"1\" class=\"dataframe\">\n",
       "  <thead>\n",
       "    <tr style=\"text-align: right;\">\n",
       "      <th></th>\n",
       "      <th>sku</th>\n",
       "      <th>prod_name</th>\n",
       "      <th>description</th>\n",
       "      <th>warehouse_num</th>\n",
       "    </tr>\n",
       "  </thead>\n",
       "  <tbody>\n",
       "    <tr>\n",
       "      <th>0</th>\n",
       "      <td>'SKU1'</td>\n",
       "      <td>'Product1'</td>\n",
       "      <td>'DESC1'</td>\n",
       "      <td>123</td>\n",
       "    </tr>\n",
       "    <tr>\n",
       "      <th>1</th>\n",
       "      <td>'SKU2'</td>\n",
       "      <td>'Product2'</td>\n",
       "      <td>'DESC2'</td>\n",
       "      <td>125</td>\n",
       "    </tr>\n",
       "    <tr>\n",
       "      <th>2</th>\n",
       "      <td>'SKU3'</td>\n",
       "      <td>'Product3'</td>\n",
       "      <td>'DESC3'</td>\n",
       "      <td>123</td>\n",
       "    </tr>\n",
       "    <tr>\n",
       "      <th>3</th>\n",
       "      <td>'SKU4'</td>\n",
       "      <td>'Product4'</td>\n",
       "      <td>'DESC4'</td>\n",
       "      <td>126</td>\n",
       "    </tr>\n",
       "    <tr>\n",
       "      <th>4</th>\n",
       "      <td>'SKU5'</td>\n",
       "      <td>'Product5'</td>\n",
       "      <td>'DESC5'</td>\n",
       "      <td>123</td>\n",
       "    </tr>\n",
       "    <tr>\n",
       "      <th>5</th>\n",
       "      <td>'SKU6'</td>\n",
       "      <td>'Product6'</td>\n",
       "      <td>'DESC6'</td>\n",
       "      <td>127</td>\n",
       "    </tr>\n",
       "  </tbody>\n",
       "</table>\n",
       "</div>"
      ],
      "text/plain": [
       "      sku   prod_name description  warehouse_num\n",
       "0  'SKU1'  'Product1'     'DESC1'            123\n",
       "1  'SKU2'  'Product2'     'DESC2'            125\n",
       "2  'SKU3'  'Product3'     'DESC3'            123\n",
       "3  'SKU4'  'Product4'     'DESC4'            126\n",
       "4  'SKU5'  'Product5'     'DESC5'            123\n",
       "5  'SKU6'  'Product6'     'DESC6'            127"
      ]
     },
     "execution_count": 8,
     "metadata": {},
     "output_type": "execute_result"
    }
   ],
   "source": [
    "df = pd.read_csv('inventory.csv')\n",
    "df"
   ]
  },
  {
   "cell_type": "code",
   "execution_count": 9,
   "metadata": {},
   "outputs": [
    {
     "name": "stdout",
     "output_type": "stream",
     "text": [
      "sku = 'SKU1', name ='Product1', description = 'DESC1', warehouse_num = 123\n",
      "sku = 'SKU2', name ='Product2', description = 'DESC2', warehouse_num = 125\n",
      "sku = 'SKU3', name ='Product3', description = 'DESC3', warehouse_num = 123\n",
      "sku = 'SKU4', name ='Product4', description = 'DESC4', warehouse_num = 126\n",
      "sku = 'SKU5', name ='Product5', description = 'DESC5', warehouse_num = 123\n",
      "sku = 'SKU6', name ='Product6', description = 'DESC6', warehouse_num = 127\n"
     ]
    }
   ],
   "source": [
    "for index, row in df.iterrows():\n",
    "    print(f\"sku = {row.sku}, name ={row.prod_name}, description = {row.description}, warehouse_num = {row.warehouse_num}\")"
   ]
  },
  {
   "cell_type": "code",
   "execution_count": 10,
   "metadata": {},
   "outputs": [
    {
     "name": "stdout",
     "output_type": "stream",
     "text": [
      "\n",
      "        INSERT INTO bd23.inventory (sku, name, description, warehouse_num)     \n",
      "        VALUES ('SKU1', 'Product1', 'DESC1', 123);\n",
      "        \n",
      "\n",
      "        INSERT INTO bd23.inventory (sku, name, description, warehouse_num)     \n",
      "        VALUES ('SKU2', 'Product2', 'DESC2', 125);\n",
      "        \n",
      "\n",
      "        INSERT INTO bd23.inventory (sku, name, description, warehouse_num)     \n",
      "        VALUES ('SKU3', 'Product3', 'DESC3', 123);\n",
      "        \n",
      "\n",
      "        INSERT INTO bd23.inventory (sku, name, description, warehouse_num)     \n",
      "        VALUES ('SKU4', 'Product4', 'DESC4', 126);\n",
      "        \n",
      "\n",
      "        INSERT INTO bd23.inventory (sku, name, description, warehouse_num)     \n",
      "        VALUES ('SKU5', 'Product5', 'DESC5', 123);\n",
      "        \n",
      "\n",
      "        INSERT INTO bd23.inventory (sku, name, description, warehouse_num)     \n",
      "        VALUES ('SKU6', 'Product6', 'DESC6', 127);\n",
      "        \n"
     ]
    }
   ],
   "source": [
    "for index, row in df.iterrows():\n",
    "    print(f\"\"\"\n",
    "        INSERT INTO bd23.inventory (sku, name, description, warehouse_num)     \n",
    "        VALUES ({row.sku}, {row.prod_name}, {row.description}, {row.warehouse_num});\n",
    "        \"\"\"\n",
    "    )\n",
    "    session.execute(f\"\"\"\n",
    "        INSERT INTO bd23.inventory (sku, name, description, warehouse_num)     \n",
    "        VALUES ({row.sku}, {row.prod_name}, {row.description}, {row.warehouse_num});\n",
    "        \"\"\"\n",
    "    )"
   ]
  },
  {
   "cell_type": "code",
   "execution_count": 11,
   "metadata": {},
   "outputs": [
    {
     "name": "stdout",
     "output_type": "stream",
     "text": [
      "sku=SKU1, prod_name=Product1, description=DESC1, warehouse_num=123\n",
      "sku=SKU2, prod_name=Product2, description=DESC2, warehouse_num=125\n",
      "sku=SKU5, prod_name=Product5, description=DESC5, warehouse_num=123\n",
      "sku=SKU4, prod_name=Product4, description=DESC4, warehouse_num=126\n",
      "sku=SKU6, prod_name=Product6, description=DESC6, warehouse_num=127\n",
      "sku=SKU3, prod_name=Product3, description=DESC3, warehouse_num=123\n"
     ]
    }
   ],
   "source": [
    "rows = session.execute(\"select (sku, name, description, warehouse_num) from bd23.inventory\")\n",
    "for row in rows:\n",
    "    print(f\"sku={row[0][0]}, prod_name={row[0][1]}, description={row[0][2]}, warehouse_num={row[0][3]}\")"
   ]
  },
  {
   "cell_type": "code",
   "execution_count": 12,
   "metadata": {},
   "outputs": [
    {
     "name": "stdout",
     "output_type": "stream",
     "text": [
      "sku=SKU4, prod_name=Product4, description=DESC4, warehouse_num=126\n"
     ]
    }
   ],
   "source": [
    "rows = session.execute(\"select (sku, name, description, warehouse_num) from bd23.inventory where warehouse_num=126 ALLOW FILTERING\")\n",
    "for row in rows:\n",
    "    print(f\"sku={row[0][0]}, prod_name={row[0][1]}, description={row[0][2]}, warehouse_num={row[0][3]}\")"
   ]
  }
 ],
 "metadata": {
  "kernelspec": {
   "display_name": "bd",
   "language": "python",
   "name": "python3"
  },
  "language_info": {
   "codemirror_mode": {
    "name": "ipython",
    "version": 3
   },
   "file_extension": ".py",
   "mimetype": "text/x-python",
   "name": "python",
   "nbconvert_exporter": "python",
   "pygments_lexer": "ipython3",
   "version": "3.11.5"
  },
  "orig_nbformat": 4
 },
 "nbformat": 4,
 "nbformat_minor": 2
}
