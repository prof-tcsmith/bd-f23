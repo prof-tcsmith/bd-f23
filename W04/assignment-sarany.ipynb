{
 "cells": [
  {
   "cell_type": "markdown",
   "metadata": {},
   "source": []
  },
  {
   "attachments": {},
   "cell_type": "markdown",
   "metadata": {},
   "source": [
    "## Cassandra Python Assignment - Saranya Chintalapati\n"
   ]
  },
  {
   "attachments": {},
   "cell_type": "markdown",
   "metadata": {},
   "source": [
    "### Import packages"
   ]
  },
  {
   "cell_type": "code",
   "execution_count": 2,
   "metadata": {},
   "outputs": [],
   "source": [
    "import pandas as pd\n",
    "from cassandra.cluster import Cluster"
   ]
  },
  {
   "attachments": {},
   "cell_type": "markdown",
   "metadata": {},
   "source": [
    "### Create a session connection to Cassandra cluster"
   ]
  },
  {
   "cell_type": "code",
   "execution_count": 3,
   "metadata": {},
   "outputs": [],
   "source": [
    "clstr = Cluster()\n",
    "session = clstr.connect()"
   ]
  },
  {
   "attachments": {},
   "cell_type": "markdown",
   "metadata": {},
   "source": [
    "### Use session to 'talk' to cassandra"
   ]
  },
  {
   "cell_type": "code",
   "execution_count": 4,
   "metadata": {},
   "outputs": [
    {
     "data": {
      "text/plain": [
       "<cassandra.cluster.ResultSet at 0x7fe01cf9f130>"
      ]
     },
     "execution_count": 4,
     "metadata": {},
     "output_type": "execute_result"
    }
   ],
   "source": [
    "session.execute(\"DROP KEYSPACE IF EXISTS bd23\")"
   ]
  },
  {
   "cell_type": "code",
   "execution_count": 5,
   "metadata": {},
   "outputs": [
    {
     "name": "stdout",
     "output_type": "stream",
     "text": [
      "system\n",
      "system_auth\n",
      "system_distributed\n",
      "system_schema\n",
      "system_traces\n",
      "system_views\n",
      "system_virtual_schema\n",
      "w04python\n"
     ]
    }
   ],
   "source": [
    "rows = session.execute(\"desc keyspaces\")\n",
    "for row in rows:\n",
    "    print(f\"{row[0]}\")"
   ]
  },
  {
   "cell_type": "code",
   "execution_count": 6,
   "metadata": {},
   "outputs": [
    {
     "data": {
      "text/plain": [
       "<cassandra.cluster.ResultSet at 0x7fdfe3081c60>"
      ]
     },
     "execution_count": 6,
     "metadata": {},
     "output_type": "execute_result"
    }
   ],
   "source": [
    "session.execute(\"\"\"\n",
    "    CREATE KEYSPACE IF NOT EXISTS bd23 WITH REPLICATION = {\n",
    "        'class':'SimpleStrategy', \n",
    "        'replication_factor':3\n",
    "    }\n",
    "\"\"\")"
   ]
  },
  {
   "cell_type": "code",
   "execution_count": 7,
   "metadata": {},
   "outputs": [
    {
     "name": "stdout",
     "output_type": "stream",
     "text": [
      "bd23\n",
      "system\n",
      "system_auth\n",
      "system_distributed\n",
      "system_schema\n",
      "system_traces\n",
      "system_views\n",
      "system_virtual_schema\n",
      "w04python\n"
     ]
    }
   ],
   "source": [
    "rows = session.execute(\"desc keyspaces\")\n",
    "for row in rows:\n",
    "    print(f\"{row[0]}\")"
   ]
  },
  {
   "attachments": {},
   "cell_type": "markdown",
   "metadata": {},
   "source": [
    "### Create a Inventory table"
   ]
  },
  {
   "cell_type": "code",
   "execution_count": 8,
   "metadata": {},
   "outputs": [
    {
     "data": {
      "text/plain": [
       "<cassandra.cluster.ResultSet at 0x7fdfe2cb0f40>"
      ]
     },
     "execution_count": 8,
     "metadata": {},
     "output_type": "execute_result"
    }
   ],
   "source": [
    "session.execute(\"\"\"\n",
    "CREATE TABLE IF NOT EXISTS bd23.inventory ( \n",
    "    SKU TEXT, \n",
    "    name TEXT, \n",
    "    description TEXT, \n",
    "    warehouse_num INT,\n",
    "    PRIMARY KEY(SKU)\n",
    ");\n",
    "\"\"\")"
   ]
  },
  {
   "attachments": {},
   "cell_type": "markdown",
   "metadata": {},
   "source": [
    "### Insert data to Inventory table\n"
   ]
  },
  {
   "cell_type": "code",
   "execution_count": 9,
   "metadata": {},
   "outputs": [],
   "source": [
    "# CQL INSERT statement\n",
    "insert_query = \"\"\"\n",
    "INSERT INTO bd23.inventory(SKU, name, description, warehouse_num)\n",
    "VALUES (?, ?, ?, ?)\n",
    "\"\"\"\n",
    "\n",
    "prepared_insert = session.prepare(insert_query)\n",
    "\n",
    "# Define the data to insert as a list of tuples\n",
    "data_to_insert = [\n",
    "    ('SKU1001', 'Air Conditioner', 'Keep your home cool and comfortable with our energy-efficient air conditioner.', 123),\n",
    "    ('ADS1002', 'Toaster', 'Blend, mix, and puree with ease using our versatile blender.', 456),\n",
    "    ('BGS1003', 'Dishwasher', 'Experience the convenience of our modern dishwasher.', 123),\n",
    "    ('KJH1004', 'Microwave', 'Power up your kitchen with our high-performance microwave oven.', 789),\n",
    "    ('HGD1005', 'Kettle', 'Efficiency meets style in our sleek electric kettle.', 987),\n",
    "    ('SER1006', 'Washing Machine F', 'Upgrade your laundry game with our top-notch washing machine.', 459)\n",
    "]\n",
    "# Insert each row in a loop\n",
    "for row in data_to_insert:\n",
    "    session.execute(prepared_insert, row)"
   ]
  },
  {
   "cell_type": "code",
   "execution_count": 10,
   "metadata": {},
   "outputs": [
    {
     "name": "stdout",
     "output_type": "stream",
     "text": [
      "SKU=HGD1005, name=Kettle, description=Efficiency meets style in our sleek electric kettle., warehouse_num=987\n",
      "SKU=ADS1002, name=Toaster, description=Blend, mix, and puree with ease using our versatile blender., warehouse_num=456\n",
      "SKU=SER1006, name=Washing Machine F, description=Upgrade your laundry game with our top-notch washing machine., warehouse_num=459\n",
      "SKU=BGS1003, name=Dishwasher, description=Experience the convenience of our modern dishwasher., warehouse_num=123\n",
      "SKU=SKU1001, name=Air Conditioner, description=Keep your home cool and comfortable with our energy-efficient air conditioner., warehouse_num=123\n",
      "SKU=KJH1004, name=Microwave, description=Power up your kitchen with our high-performance microwave oven., warehouse_num=789\n"
     ]
    }
   ],
   "source": [
    "rows = session.execute(\"select (SKU, name, description, warehouse_num) from bd23.inventory\")\n",
    "for row in rows:\n",
    "    print(f\"SKU={row[0][0]}, name={row[0][1]}, description={row[0][2]}, warehouse_num={row[0][3]}\")\n"
   ]
  },
  {
   "attachments": {},
   "cell_type": "markdown",
   "metadata": {},
   "source": [
    "### Select query to seach all products with warehouse_num = 123"
   ]
  },
  {
   "cell_type": "code",
   "execution_count": 12,
   "metadata": {},
   "outputs": [
    {
     "name": "stdout",
     "output_type": "stream",
     "text": [
      "BGS1003, Dishwasher, Experience the convenience of our modern dishwasher., 123\n",
      "SKU1001, Air Conditioner, Keep your home cool and comfortable with our energy-efficient air conditioner., 123\n"
     ]
    }
   ],
   "source": [
    "rows = session.execute(\"select (SKU, name, description, warehouse_num) from bd23.inventory where warehouse_num = 123 ALLOW FILTERING\")\n",
    "for row in rows:\n",
    "    print(f\"{row[0][0]}, {row[0][1]}, {row[0][2]}, {row[0][3]}\")"
   ]
  },
  {
   "cell_type": "code",
   "execution_count": null,
   "metadata": {},
   "outputs": [],
   "source": []
  }
 ],
 "metadata": {
  "kernelspec": {
   "display_name": "base",
   "language": "python",
   "name": "python3"
  },
  "language_info": {
   "codemirror_mode": {
    "name": "ipython",
    "version": 3
   },
   "file_extension": ".py",
   "mimetype": "text/x-python",
   "name": "python",
   "nbconvert_exporter": "python",
   "pygments_lexer": "ipython3",
   "version": "3.10.10"
  },
  "orig_nbformat": 4,
  "vscode": {
   "interpreter": {
    "hash": "c774f5f42cb3e70515ef7cb909d9051370cc09a28b296d74902002ebc2249cb4"
   }
  }
 },
 "nbformat": 4,
 "nbformat_minor": 2
}
