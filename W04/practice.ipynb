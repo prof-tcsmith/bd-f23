{
 "cells": [
  {
   "cell_type": "code",
   "execution_count": 19,
   "metadata": {},
   "outputs": [],
   "source": [
    "import pandas as pd\n",
    "from cassandra.cluster import Cluster"
   ]
  },
  {
   "cell_type": "code",
   "execution_count": 20,
   "metadata": {},
   "outputs": [],
   "source": [
    "clstr = Cluster()\n",
    "session = clstr.connect()"
   ]
  },
  {
   "cell_type": "code",
   "execution_count": 21,
   "metadata": {},
   "outputs": [
    {
     "data": {
      "text/plain": [
       "<cassandra.cluster.ResultSet at 0x7f8ae62c2550>"
      ]
     },
     "execution_count": 21,
     "metadata": {},
     "output_type": "execute_result"
    }
   ],
   "source": [
    "session.execute(\"DROP KEYSPACE IF EXISTS STU\")"
   ]
  },
  {
   "cell_type": "code",
   "execution_count": 22,
   "metadata": {},
   "outputs": [
    {
     "name": "stdout",
     "output_type": "stream",
     "text": [
      "bd23\n",
      "system\n",
      "system_auth\n",
      "system_distributed\n",
      "system_schema\n",
      "system_traces\n",
      "system_views\n",
      "system_virtual_schema\n"
     ]
    }
   ],
   "source": [
    "rows = session.execute(\"desc keyspaces\")\n",
    "for row in rows:\n",
    "    print(f\"{row[0]}\")"
   ]
  },
  {
   "cell_type": "code",
   "execution_count": 23,
   "metadata": {},
   "outputs": [
    {
     "data": {
      "text/plain": [
       "<cassandra.cluster.ResultSet at 0x7f8ad6fa9490>"
      ]
     },
     "execution_count": 23,
     "metadata": {},
     "output_type": "execute_result"
    }
   ],
   "source": [
    "session.execute(\"\"\"\n",
    "    CREATE KEYSPACE IF NOT EXISTS STU WITH REPLICATION = {\n",
    "        'class':'SimpleStrategy', \n",
    "        'replication_factor':3\n",
    "    }\n",
    "\"\"\")"
   ]
  },
  {
   "cell_type": "code",
   "execution_count": 24,
   "metadata": {},
   "outputs": [
    {
     "name": "stdout",
     "output_type": "stream",
     "text": [
      "bd23\n",
      "stu\n",
      "system\n",
      "system_auth\n",
      "system_distributed\n",
      "system_schema\n",
      "system_traces\n",
      "system_views\n",
      "system_virtual_schema\n"
     ]
    }
   ],
   "source": [
    "rows = session.execute(\"desc keyspaces\")\n",
    "for row in rows:\n",
    "    print(f\"{row[0]}\")"
   ]
  },
  {
   "cell_type": "code",
   "execution_count": 25,
   "metadata": {},
   "outputs": [
    {
     "data": {
      "text/plain": [
       "<cassandra.cluster.ResultSet at 0x7f8ad6e9abd0>"
      ]
     },
     "execution_count": 25,
     "metadata": {},
     "output_type": "execute_result"
    }
   ],
   "source": [
    "session.execute(\"\"\"\n",
    "CREATE TABLE IF NOT EXISTS STU.student ( \n",
    "    rollnum INT, \n",
    "    stuname TEXT, \n",
    "    branch TEXT, \n",
    "    mark INT, \n",
    "    PRIMARY KEY(rollnum)\n",
    ");\n",
    "\"\"\")"
   ]
  },
  {
   "cell_type": "code",
   "execution_count": 26,
   "metadata": {},
   "outputs": [
    {
     "data": {
      "text/html": [
       "<div>\n",
       "<style scoped>\n",
       "    .dataframe tbody tr th:only-of-type {\n",
       "        vertical-align: middle;\n",
       "    }\n",
       "\n",
       "    .dataframe tbody tr th {\n",
       "        vertical-align: top;\n",
       "    }\n",
       "\n",
       "    .dataframe thead th {\n",
       "        text-align: right;\n",
       "    }\n",
       "</style>\n",
       "<table border=\"1\" class=\"dataframe\">\n",
       "  <thead>\n",
       "    <tr style=\"text-align: right;\">\n",
       "      <th></th>\n",
       "      <th>rollnum</th>\n",
       "      <th>stuname</th>\n",
       "      <th>branch</th>\n",
       "      <th>mark</th>\n",
       "    </tr>\n",
       "  </thead>\n",
       "  <tbody>\n",
       "    <tr>\n",
       "      <th>0</th>\n",
       "      <td>1</td>\n",
       "      <td>'Aarsha'</td>\n",
       "      <td>'computer'</td>\n",
       "      <td>70</td>\n",
       "    </tr>\n",
       "    <tr>\n",
       "      <th>1</th>\n",
       "      <td>2</td>\n",
       "      <td>'Alaka'</td>\n",
       "      <td>'computer'</td>\n",
       "      <td>60</td>\n",
       "    </tr>\n",
       "    <tr>\n",
       "      <th>2</th>\n",
       "      <td>3</td>\n",
       "      <td>'Anusree'</td>\n",
       "      <td>'electronics'</td>\n",
       "      <td>50</td>\n",
       "    </tr>\n",
       "    <tr>\n",
       "      <th>3</th>\n",
       "      <td>4</td>\n",
       "      <td>'Amal'</td>\n",
       "      <td>'civil'</td>\n",
       "      <td>89</td>\n",
       "    </tr>\n",
       "  </tbody>\n",
       "</table>\n",
       "</div>"
      ],
      "text/plain": [
       "   rollnum    stuname         branch  mark\n",
       "0        1   'Aarsha'     'computer'    70\n",
       "1        2    'Alaka'     'computer'    60\n",
       "2        3  'Anusree'  'electronics'    50\n",
       "3        4     'Amal'        'civil'    89"
      ]
     },
     "execution_count": 26,
     "metadata": {},
     "output_type": "execute_result"
    }
   ],
   "source": [
    "df = pd.read_csv('student.csv')\n",
    "df"
   ]
  },
  {
   "cell_type": "code",
   "execution_count": 27,
   "metadata": {},
   "outputs": [
    {
     "name": "stdout",
     "output_type": "stream",
     "text": [
      "rollnum = 1, stuname ='Aarsha', branch = 'computer', mark = 70\n",
      "rollnum = 2, stuname ='Alaka', branch = 'computer', mark = 60\n",
      "rollnum = 3, stuname ='Anusree', branch = 'electronics', mark = 50\n",
      "rollnum = 4, stuname ='Amal', branch = 'civil', mark = 89\n"
     ]
    }
   ],
   "source": [
    "for index, row in df.iterrows():\n",
    "    print(f\"rollnum = {row.rollnum}, stuname ={row.stuname}, branch = {row.branch}, mark = {row.mark}\")"
   ]
  },
  {
   "cell_type": "code",
   "execution_count": 28,
   "metadata": {},
   "outputs": [
    {
     "name": "stdout",
     "output_type": "stream",
     "text": [
      "\n",
      "        INSERT INTO STU.student (rollnum, stuname, branch, mark)     \n",
      "        VALUES (1, 'Aarsha', 'computer', 70);\n",
      "        \n",
      "\n",
      "        INSERT INTO STU.student (rollnum, stuname, branch, mark)     \n",
      "        VALUES (2, 'Alaka', 'computer', 60);\n",
      "        \n",
      "\n",
      "        INSERT INTO STU.student (rollnum, stuname, branch, mark)     \n",
      "        VALUES (3, 'Anusree', 'electronics', 50);\n",
      "        \n",
      "\n",
      "        INSERT INTO STU.student (rollnum, stuname, branch, mark)     \n",
      "        VALUES (4, 'Amal', 'civil', 89);\n",
      "        \n"
     ]
    }
   ],
   "source": [
    "for index, row in df.iterrows():\n",
    "    print(f\"\"\"\n",
    "        INSERT INTO STU.student (rollnum, stuname, branch, mark)     \n",
    "        VALUES ({row.rollnum}, {row.stuname}, {row.branch}, {row.mark});\n",
    "        \"\"\"\n",
    "    )\n",
    "    session.execute(f\"\"\"\n",
    "        INSERT INTO STU.student (rollnum, stuname, branch, mark)     \n",
    "        VALUES ({row.rollnum}, {row.stuname}, {row.branch}, {row.mark});\n",
    "        \"\"\"\n",
    "    )"
   ]
  },
  {
   "cell_type": "code",
   "execution_count": 29,
   "metadata": {},
   "outputs": [
    {
     "name": "stdout",
     "output_type": "stream",
     "text": [
      "rollnum=1, stuname=Aarsha, branch=computer, mark=70\n",
      "rollnum=2, stuname=Alaka, branch=computer, mark=60\n",
      "rollnum=4, stuname=Amal, branch=civil, mark=89\n",
      "rollnum=3, stuname=Anusree, branch=electronics, mark=50\n"
     ]
    }
   ],
   "source": [
    "rows = session.execute(\"select (rollnum, stuname, branch, mark) from STU.student\")\n",
    "for row in rows:\n",
    "    print(f\"rollnum={row[0][0]}, stuname={row[0][1]}, branch={row[0][2]}, mark={row[0][3]}\")"
   ]
  },
  {
   "cell_type": "code",
   "execution_count": 30,
   "metadata": {},
   "outputs": [
    {
     "name": "stdout",
     "output_type": "stream",
     "text": [
      "rollnum=1, stuname=Aarsha, branch=computer, mark=70\n",
      "rollnum=2, stuname=Alaka, branch=computer, mark=60\n"
     ]
    }
   ],
   "source": [
    "rows = session.execute(\"select (rollnum, stuname, branch, mark) from STU.student where branch='computer' ALLOW FILTERING\")\n",
    "for row in rows:\n",
    "    print(f\"rollnum={row[0][0]}, stuname={row[0][1]}, branch={row[0][2]}, mark={row[0][3]}\")"
   ]
  },
  {
   "cell_type": "code",
   "execution_count": 31,
   "metadata": {},
   "outputs": [
    {
     "name": "stdout",
     "output_type": "stream",
     "text": [
      "rollnum=1, stuname=Aarsha, branch=computer, mark=70\n",
      "rollnum=4, stuname=Amal, branch=civil, mark=89\n"
     ]
    }
   ],
   "source": [
    "rows = session.execute(\"select (rollnum, stuname, branch, mark) from STU.student where mark > 60 ALLOW FILTERING\")\n",
    "for row in rows:\n",
    "    print(f\"rollnum={row[0][0]}, stuname={row[0][1]}, branch={row[0][2]}, mark={row[0][3]}\")"
   ]
  },
  {
   "cell_type": "code",
   "execution_count": 37,
   "metadata": {},
   "outputs": [
    {
     "name": "stdout",
     "output_type": "stream",
     "text": [
      "rollnum=2, stuname=Alaka, branch=computer, mark=60\n"
     ]
    }
   ],
   "source": [
    "rows = session.execute(\"select (rollnum, stuname, branch, mark) from STU.student where mark>50 and mark <70 ALLOW FILTERING\")\n",
    "for row in rows:\n",
    "    print(f\"rollnum={row[0][0]}, stuname={row[0][1]}, branch={row[0][2]}, mark={row[0][3]}\")"
   ]
  }
 ],
 "metadata": {
  "kernelspec": {
   "display_name": "bd",
   "language": "python",
   "name": "python3"
  },
  "language_info": {
   "codemirror_mode": {
    "name": "ipython",
    "version": 3
   },
   "file_extension": ".py",
   "mimetype": "text/x-python",
   "name": "python",
   "nbconvert_exporter": "python",
   "pygments_lexer": "ipython3",
   "version": "3.11.5"
  },
  "orig_nbformat": 4
 },
 "nbformat": 4,
 "nbformat_minor": 2
}
