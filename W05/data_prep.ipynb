{
 "cells": [
  {
   "cell_type": "markdown",
   "metadata": {},
   "source": [
    "## Assignment -3 Chandni Kumari"
   ]
  },
  {
   "cell_type": "markdown",
   "metadata": {},
   "source": [
    "### Data Preparation"
   ]
  },
  {
   "cell_type": "markdown",
   "metadata": {},
   "source": [
    "### Creating a dataset jewelry  and storing it in a JSON file format. The JSON file is named as 'ratings_dataset'"
   ]
  },
  {
   "cell_type": "code",
   "execution_count": 2,
   "metadata": {},
   "outputs": [
    {
     "name": "stdout",
     "output_type": "stream",
     "text": [
      "Dataset created and stored in 'ratings_dataset.json'.\n"
     ]
    }
   ],
   "source": [
    "import json\n",
    "from random import randint\n",
    "\n",
    "# Define the data generation parameters\n",
    "num_items = 20\n",
    "collection_name = 'ratings'\n",
    "output_file = 'ratings_dataset.json'\n",
    "\n",
    "# Lists of items and materials\n",
    "items = ['bracelet', 'ring', 'earring', 'necklace', 'anklet']\n",
    "materials = ['silver', 'gold', 'titanium', 'platinum', 'diamond']\n",
    "\n",
    "# Generate the dataset\n",
    "jewelry = []\n",
    "for _ in range(num_items):\n",
    "    jewel = {\n",
    "        'jewel_name': items[randint(0, len(items) - 1)],\n",
    "        'rating': randint(1, 10),\n",
    "        'jewel_material': materials[randint(0, len(materials) - 1)]\n",
    "    }\n",
    "    jewelry.append(jewel)\n",
    "\n",
    "# Export the dataset to a JSON file\n",
    "with open(output_file, 'w') as json_file:\n",
    "    json.dump(jewelry, json_file, indent=4)\n",
    "\n",
    "print(f\"Dataset created and stored in '{output_file}'.\")\n"
   ]
  }
 ],
 "metadata": {
  "kernelspec": {
   "display_name": "base",
   "language": "python",
   "name": "python3"
  },
  "language_info": {
   "codemirror_mode": {
    "name": "ipython",
    "version": 3
   },
   "file_extension": ".py",
   "mimetype": "text/x-python",
   "name": "python",
   "nbconvert_exporter": "python",
   "pygments_lexer": "ipython3",
   "version": "3.9.12"
  },
  "orig_nbformat": 4
 },
 "nbformat": 4,
 "nbformat_minor": 2
}
