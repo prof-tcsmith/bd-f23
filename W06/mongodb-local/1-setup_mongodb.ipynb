{
 "cells": [
  {
   "cell_type": "markdown",
   "id": "99db02f6-dddf-438a-8fdc-f7739b55d2ad",
   "metadata": {},
   "source": [
    "# Getting started with MongoDB"
   ]
  },
  {
   "attachments": {},
   "cell_type": "markdown",
   "id": "21aa837c",
   "metadata": {},
   "source": [
    "In this notebook we will use a local docker instance of MongDB. \n",
    "\n",
    "We will then connect to the cluster using the Python driver and create a database and a collection.\n",
    "\n",
    "Before you begin, you will need to keep in mind the overall structure of an Atlas MongoDB."
   ]
  },
  {
   "attachments": {},
   "cell_type": "markdown",
   "id": "3efe3d9e-4e5e-42f6-aa07-825c117970d1",
   "metadata": {},
   "source": [
    "## Step 1: Create a MongoDB Atlas account, organization, cluster and database\n",
    "\n",
    "Start the mongoDB server.\n",
    "\n",
    "In your terminal, navigate to the MongoDB-1node folder where you have the docker-compose.yml file and run the following command:\n",
    "\n",
    "```bash\n",
    "docker-compose up\n",
    "```\n",
    "\n",
    "This will download a MongoDB docker image, and start a MongoDB server on your local machine."
   ]
  },
  {
   "attachments": {},
   "cell_type": "markdown",
   "id": "a617ae9d-d6e5-4c42-85b9-1151c245a8d3",
   "metadata": {},
   "source": [
    "## Step 2: Install PyMongo\n",
    "    \n",
    "If you are connecting to a local MongoDB server; you can use conda to install the pymongo module\n",
    "\n",
    "If you do not alread have pymongo installed (for instance, you may have previously installed pymongo for MongoDB atlas, therefore you do not need to reinstall or install it through conda), in your terminal, run:\n",
    "\n",
    "```bash\n",
    "conda install -c conda-forge pymongo\n",
    "```\n",
    "\n",
    "NOTE: If you wish to connect to a MongoDB Atlas server, you need to look at the W05 notebooks which provide information on this. "
   ]
  },
  {
   "attachments": {},
   "cell_type": "markdown",
   "id": "bd52579b-6aea-4a5c-b977-ef8f87be0a35",
   "metadata": {},
   "source": [
    "## Step 3: Test your connection\n",
    "    \n",
    "The following code will connect to your local MongoDB server and create a database called ism6562_w06. If it already exists, it will simply be connected to this existing database."
   ]
  },
  {
   "cell_type": "code",
   "execution_count": 1,
   "id": "989b22ee-c00d-4564-a49a-189fc0f891b0",
   "metadata": {},
   "outputs": [],
   "source": [
    "import pymongo # pymongo is a python driver for MongoDB\n",
    "\n",
    "client = pymongo.MongoClient('mongodb://localhost:27017/')\n",
    "db = client.ism6562\n",
    "collection = db.blogger\n"
   ]
  },
  {
   "attachments": {},
   "cell_type": "markdown",
   "id": "20539d3b",
   "metadata": {},
   "source": [
    "In MongDB, a collection is a group of documents. A document is a set of key-value pairs. These key value pairs are stored as BSON (Binary JSON). JSON looks very much like a Python datastructure you should be familiar with - a dictionary."
   ]
  },
  {
   "attachments": {},
   "cell_type": "markdown",
   "id": "a0209d10",
   "metadata": {},
   "source": [
    "Let's say we are creating an application that allows users to create blog posts...."
   ]
  },
  {
   "cell_type": "code",
   "execution_count": 2,
   "id": "a5302bab",
   "metadata": {},
   "outputs": [],
   "source": [
    "import datetime # datetime is a python module for working with dates and times\n",
    "post = {\"author\": \"Prof Smith\",\n",
    "        \"title\": \"My first blog post!\",\n",
    "        \"tags\": [\"ism6562\", \"Big Data\", \"mongodb\", \"python\", \"pymongo\"],\n",
    "        \"date\": datetime.datetime.utcnow(), # datetime.datetime.utcnow() returns the current date and time\n",
    "        \"text\": \"This is my first blog post. I am excited to be teaching this class!\"\n",
    "}"
   ]
  },
  {
   "attachments": {},
   "cell_type": "markdown",
   "id": "92fbd33e",
   "metadata": {},
   "source": [
    "Let's now store this 'document' in the 'blogger' collection."
   ]
  },
  {
   "cell_type": "code",
   "execution_count": 3,
   "id": "f14ef1f9",
   "metadata": {},
   "outputs": [
    {
     "data": {
      "text/plain": [
       "ObjectId('6513558ef216a0f4f7f8559f')"
      ]
     },
     "execution_count": 3,
     "metadata": {},
     "output_type": "execute_result"
    }
   ],
   "source": [
    "# If you run this notebook multiple times, it will results in the same data being entered multiple times. \n",
    "# To remove any previous data, uncomment the following two lines\n",
    "collection.drop()\n",
    "\n",
    "post_id = collection.insert_one(post).inserted_id # this inserts the post into the collection, then returns the id of the post\n",
    "post_id"
   ]
  },
  {
   "cell_type": "code",
   "execution_count": 4,
   "id": "2349d9ca",
   "metadata": {},
   "outputs": [
    {
     "name": "stdout",
     "output_type": "stream",
     "text": [
      "{'_id': ObjectId('6513558ef216a0f4f7f8559f'), 'author': 'Prof Smith', 'title': 'My first blog post!', 'tags': ['ism6562', 'Big Data', 'mongodb', 'python', 'pymongo'], 'date': datetime.datetime(2023, 9, 26, 22, 5, 2, 5000), 'text': 'This is my first blog post. I am excited to be teaching this class!'}\n"
     ]
    }
   ],
   "source": [
    "results = collection.find() # this returns the first document in the collection 'bloggers'\n",
    "\n",
    "for result in results:\n",
    "    print(result)"
   ]
  },
  {
   "cell_type": "code",
   "execution_count": 5,
   "id": "8e3ec5e5",
   "metadata": {},
   "outputs": [],
   "source": [
    "client.close() # close the connection to the database"
   ]
  },
  {
   "cell_type": "markdown",
   "id": "2ae66d97",
   "metadata": {},
   "source": [
    "![](images/first_insert.png)"
   ]
  }
 ],
 "metadata": {
  "kernelspec": {
   "display_name": "base",
   "language": "python",
   "name": "python3"
  },
  "language_info": {
   "codemirror_mode": {
    "name": "ipython",
    "version": 3
   },
   "file_extension": ".py",
   "mimetype": "text/x-python",
   "name": "python",
   "nbconvert_exporter": "python",
   "pygments_lexer": "ipython3",
   "version": "3.11.5"
  }
 },
 "nbformat": 4,
 "nbformat_minor": 5
}
