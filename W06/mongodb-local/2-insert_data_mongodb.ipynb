{
 "cells": [
  {
   "cell_type": "markdown",
   "id": "5d4e8567-3ee1-4149-808d-aeef4e687751",
   "metadata": {},
   "source": [
    "# Insert data into MongoDB "
   ]
  },
  {
   "attachments": {},
   "cell_type": "markdown",
   "id": "b25dab29",
   "metadata": {},
   "source": [
    "In this section we will insert the data into MongoDB. We will use the `pymongo` library to connect to the database and insert the data."
   ]
  },
  {
   "cell_type": "markdown",
   "id": "cc8d914d-1717-4b10-9b1f-fae87c590165",
   "metadata": {},
   "source": [
    "## Step1: Connect to MongoDB"
   ]
  },
  {
   "cell_type": "code",
   "execution_count": 1,
   "id": "6542966d-e615-4a77-80a6-5b845dff3ec6",
   "metadata": {},
   "outputs": [],
   "source": [
    "import pymongo\n",
    "\n",
    "client = pymongo.MongoClient('mongodb://localhost:27017/')"
   ]
  },
  {
   "cell_type": "code",
   "execution_count": 2,
   "id": "6d5bfd79-95c0-465a-af98-8e5f70605dd6",
   "metadata": {},
   "outputs": [],
   "source": [
    "db = client.companies # companies is the name of the datase we are connecting to. If it doesn't exist, it will be created.\n",
    "# alternatively, you can use the following syntax\n",
    "# db = client['companies']\n",
    "\n",
    "collection = db.reviews # reviews is the name of the collection we are connecting to. If it doesn't exist, it will be created.\n",
    "# alternatively, you can use the following syntax\n",
    "# collection = db['reviews']\n",
    "\n",
    "# note: if you run this notebook multiple times, you will be inserting the same data over and over again.\n",
    "# to avoid this, you can drop the collection before inserting the data\n",
    "collection.drop()"
   ]
  },
  {
   "cell_type": "markdown",
   "id": "e3aebd44-8c50-47b0-84f3-57ca041d0851",
   "metadata": {},
   "source": [
    "## Step2: Synthesize and load data into MongoDB\n",
    "\n",
    "Here we 'synthesize' a set of data about restaurant ratings."
   ]
  },
  {
   "cell_type": "code",
   "execution_count": 3,
   "id": "5b3db8a6-c7de-467f-945f-5cb52f31313c",
   "metadata": {},
   "outputs": [],
   "source": [
    "from random import randint, seed\n",
    "\n",
    "seed(1) # make the data reproducible (which will be important for later querrying)\n",
    "\n",
    "\n",
    "names = ['Kitchen','Animal','State', 'Tastey','Big','City', 'Fish','Pizza','Goat','Salty','Sandwich','Lazy', 'Fun']\n",
    "\n",
    "company_type = ['LLC','Inc','Company','Corporation']\n",
    "\n",
    "company_cuisine = ['Pizza','Bar Food','Fast Food','Italian','Mexican','American', 'Sushi Bar', 'Vegetarian']\n",
    "\n",
    "business = []\n",
    "for x  in range(1, 11):\n",
    "    made_up_business = {\n",
    "        'name': names[randint(0,(len(names)-1))] + ' ' + names[randint(0,(len(names)-1))]+' '+ company_type[randint(0,(len(company_type)-1))], \n",
    "        'rating': randint(1,5),\n",
    "        'cuisine':company_cuisine[randint(0,(len(company_cuisine)-1))] \n",
    "    }\n",
    "    result = collection.insert_one(made_up_business)   # NOTE: 'reviews' here is an existing or new collection. If it doesn't exist, it will be created."
   ]
  },
  {
   "cell_type": "code",
   "execution_count": 4,
   "id": "20e1dd16",
   "metadata": {},
   "outputs": [
    {
     "name": "stdout",
     "output_type": "stream",
     "text": [
      "{'_id': ObjectId('6513555b8c2613e714b1f49a'), 'name': 'State Salty LLC', 'rating': 3, 'cuisine': 'Bar Food'}\n",
      "{'_id': ObjectId('6513555b8c2613e714b1f49b'), 'name': 'Pizza Fun Corporation', 'rating': 4, 'cuisine': 'Sushi Bar'}\n",
      "{'_id': ObjectId('6513555b8c2613e714b1f49c'), 'name': 'Fun Tastey LLC', 'rating': 4, 'cuisine': 'Pizza'}\n",
      "{'_id': ObjectId('6513555b8c2613e714b1f49d'), 'name': 'Fish Fish LLC', 'rating': 4, 'cuisine': 'Mexican'}\n",
      "{'_id': ObjectId('6513555b8c2613e714b1f49e'), 'name': 'Lazy Fun Inc', 'rating': 5, 'cuisine': 'Bar Food'}\n",
      "{'_id': ObjectId('6513555b8c2613e714b1f49f'), 'name': 'City Kitchen LLC', 'rating': 1, 'cuisine': 'Pizza'}\n",
      "{'_id': ObjectId('6513555b8c2613e714b1f4a0'), 'name': 'Fish Sandwich Inc', 'rating': 4, 'cuisine': 'Pizza'}\n",
      "{'_id': ObjectId('6513555b8c2613e714b1f4a1'), 'name': 'Goat Tastey Corporation', 'rating': 4, 'cuisine': 'Italian'}\n",
      "{'_id': ObjectId('6513555b8c2613e714b1f4a2'), 'name': 'City Tastey Inc', 'rating': 4, 'cuisine': 'Mexican'}\n",
      "{'_id': ObjectId('6513555b8c2613e714b1f4a3'), 'name': 'Kitchen Fish LLC', 'rating': 2, 'cuisine': 'Mexican'}\n"
     ]
    }
   ],
   "source": [
    "results = collection.find({})\n",
    "for result in results:\n",
    "    print(result)"
   ]
  },
  {
   "attachments": {},
   "cell_type": "markdown",
   "id": "b7f82768-b078-47e3-985b-b100bd24a38d",
   "metadata": {},
   "source": [
    "![](./images/reviews_list.png)"
   ]
  },
  {
   "attachments": {},
   "cell_type": "markdown",
   "id": "5af77b54",
   "metadata": {},
   "source": [
    "## Step 3: Close the database\n",
    "\n",
    "Though the database should close automatically once your notebook stops running, it is good practice to explicitly close the database connection."
   ]
  },
  {
   "cell_type": "code",
   "execution_count": 5,
   "id": "8a079dc4-7329-4c63-ab67-0bcd7a3066e7",
   "metadata": {},
   "outputs": [],
   "source": [
    "client.close()"
   ]
  }
 ],
 "metadata": {
  "kernelspec": {
   "display_name": "base",
   "language": "python",
   "name": "python3"
  },
  "language_info": {
   "codemirror_mode": {
    "name": "ipython",
    "version": 3
   },
   "file_extension": ".py",
   "mimetype": "text/x-python",
   "name": "python",
   "nbconvert_exporter": "python",
   "pygments_lexer": "ipython3",
   "version": "3.11.5"
  }
 },
 "nbformat": 4,
 "nbformat_minor": 5
}
