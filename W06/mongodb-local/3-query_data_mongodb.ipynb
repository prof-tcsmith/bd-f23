{
 "cells": [
  {
   "cell_type": "markdown",
   "id": "853f04ac-302e-46fd-9d1e-54715e5dcd3b",
   "metadata": {},
   "source": [
    "# Querrying a noSQL db (MongoDB)"
   ]
  },
  {
   "cell_type": "markdown",
   "id": "fd6f886a-7caf-42d8-a427-e1acc4a19a65",
   "metadata": {},
   "source": [
    "## Step 1: Establish a connection to the Database\n",
    "\n",
    "You will need to setup the client so that it connects to your project. \n",
    "\n",
    "Then, you'll need to specify the database within this project.\n",
    "\n",
    "Finally, you'll need to specify the collection within which you wish to make the query.\n"
   ]
  },
  {
   "cell_type": "code",
   "execution_count": 1,
   "id": "f74f5ea4-7ed3-4588-9ae3-8f33ba8c30e7",
   "metadata": {},
   "outputs": [],
   "source": [
    "import pymongo # pymongo is a python driver for MongoDB\n",
    "\n",
    "client = pymongo.MongoClient('mongodb://localhost:27017/')\n",
    "\n",
    "db = client.companies  # this was created in the previous notebook\n",
    "collection = db.reviews  # this was created in the previous notebook"
   ]
  },
  {
   "cell_type": "markdown",
   "id": "db04b74f-a4f7-4405-bda5-e8b0c4bd4696",
   "metadata": {},
   "source": [
    "## Step2: Query the collection\n",
    "\n",
    "You can use many different approaches to querrying the collection. You can simply provide literal values (such aa a rating of 5), or you can do something a bit more complex, such as using a regex query."
   ]
  },
  {
   "cell_type": "code",
   "execution_count": 2,
   "id": "d3284070-82ad-48c7-8747-692b4f425450",
   "metadata": {},
   "outputs": [],
   "source": [
    "query = { \"name\": { \"$regex\": \"^S\" } } # search for any name that starts with S\n",
    "docs = collection.find(query)"
   ]
  },
  {
   "cell_type": "code",
   "execution_count": 3,
   "id": "d14c920d-3f40-4308-87d2-3d2b5921666b",
   "metadata": {},
   "outputs": [
    {
     "name": "stdout",
     "output_type": "stream",
     "text": [
      "{'_id': ObjectId('6513550b0a1b15d9b05fe987'), 'name': 'State Salty LLC', 'rating': 3, 'cuisine': 'Bar Food'}\n",
      "{'_id': ObjectId('651355150a1b15d9b05fe992'), 'name': 'State Salty LLC', 'rating': 3, 'cuisine': 'Bar Food'}\n",
      "{'_id': ObjectId('651355160a1b15d9b05fe99d'), 'name': 'State Salty LLC', 'rating': 3, 'cuisine': 'Bar Food'}\n"
     ]
    }
   ],
   "source": [
    "for record in docs:\n",
    "  print(record)"
   ]
  },
  {
   "cell_type": "code",
   "execution_count": 4,
   "id": "a64acee6-62c5-497b-8c0d-5ecfce1e6a68",
   "metadata": {},
   "outputs": [
    {
     "name": "stdout",
     "output_type": "stream",
     "text": [
      "{'_id': ObjectId('6513550b0a1b15d9b05fe98b'), 'name': 'Lazy Fun Inc', 'rating': 5, 'cuisine': 'Bar Food'}\n",
      "{'_id': ObjectId('651355150a1b15d9b05fe996'), 'name': 'Lazy Fun Inc', 'rating': 5, 'cuisine': 'Bar Food'}\n",
      "{'_id': ObjectId('651355160a1b15d9b05fe9a1'), 'name': 'Lazy Fun Inc', 'rating': 5, 'cuisine': 'Bar Food'}\n"
     ]
    }
   ],
   "source": [
    "query = { \"rating\": 5 } # search for any five star restaurants\n",
    "docs = collection.find(query)\n",
    "\n",
    "for record in docs:\n",
    "  print(record)"
   ]
  },
  {
   "cell_type": "markdown",
   "id": "db6df3f0",
   "metadata": {},
   "source": [
    "## Step 3: Close the connection to the database"
   ]
  },
  {
   "cell_type": "code",
   "execution_count": 5,
   "id": "da0601a8",
   "metadata": {},
   "outputs": [],
   "source": [
    "client.close()"
   ]
  },
  {
   "cell_type": "markdown",
   "id": "bd8273f2-6628-4273-84a5-e2b3b1a2d050",
   "metadata": {},
   "source": [
    "## Step 4: Review other possibly querries\n",
    "\n",
    "There are many ways we could use MongoDB to query the data. See here for more examples https://docs.mongodb.com/manual/tutorial/query-documents/. I'd also encourate you to experiment and try querries through the MongoDB online interface."
   ]
  }
 ],
 "metadata": {
  "kernelspec": {
   "display_name": "base",
   "language": "python",
   "name": "python3"
  },
  "language_info": {
   "codemirror_mode": {
    "name": "ipython",
    "version": 3
   },
   "file_extension": ".py",
   "mimetype": "text/x-python",
   "name": "python",
   "nbconvert_exporter": "python",
   "pygments_lexer": "ipython3",
   "version": "3.11.5"
  }
 },
 "nbformat": 4,
 "nbformat_minor": 5
}
