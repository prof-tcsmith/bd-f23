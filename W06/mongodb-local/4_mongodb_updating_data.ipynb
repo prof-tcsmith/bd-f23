{
 "cells": [
  {
   "cell_type": "markdown",
   "id": "2bab1fbf-2533-4b2d-823d-ac4a939c8677",
   "metadata": {},
   "source": [
    "# Adding and updating documents in MongoDB\n",
    "\n",
    "In this module, you'll practice creating NoSQL documents, learn more about document structures (embedded documents, arrays, and arrays of embedded documents), and how to update documents.\n"
   ]
  },
  {
   "cell_type": "markdown",
   "id": "1d9ca777-b58f-4021-95ec-24596c4fb8da",
   "metadata": {
    "jp-MarkdownHeadingCollapsed": true,
    "tags": []
   },
   "source": [
    "## Projects, Databases and Collections\n",
    "\n",
    "First, let's contrast MongoDB to an RDBMS.\n",
    "\n",
    "### Projects\n",
    "\n",
    "Projects are a concept that MongoDB has - Projects are the server cluster that houses a set of databases. For our local MongoDB installation, we don't have a project.\n",
    "\n",
    "### Databases\n",
    "\n",
    "In a relational database management system, we create objects called databases. \n",
    "\n",
    "The concept of a database also applied to Mongo DB. Using the MongoDB Atlas cloud service, Databases exist within a Project. \n",
    "\n",
    "### Collections (vs Tables)\n",
    "\n",
    "In a RDBMS database, we have a data base structure the contains tables and relationships between tables. Inside these stuctures we store rows of data. Each row typically has multiple-columns. Each columns has an associated type, and all data stored in a columns must conform to this type. \n",
    "\n",
    "MondgoDB stores data records as documents which are gathered together into collections. Thus, a database in MongoDB stores one or more collections of documents. The stucture of each document consists of fields assembled in a JSON like structure.\n",
    "\n",
    "### A mongoDB document\n",
    "\n",
    "A document is a json file. Documents have dynamic schema. Dynamic schema means that documents in the same collection do not need to have the same set of fields or structure, and common fields in a collection's documents may hold different types of data.\n",
    "\n",
    "## Summary\n",
    "\n",
    "The following table shows the relationship of RDBMS terminology with MongoDB.\n",
    "\n",
    "| RDBMS  | MongoDB |\n",
    "| -------| --------|\n",
    "| Database | Database |\n",
    "| Table | Collection |\n",
    "| Tuple/Row | Document |\n",
    "| column | Field |\n",
    "| Table Join | Embedded Documents |\n",
    "| Primary Key | Primary Key* |\n",
    "\n",
    "\\* NOTE: Default key _id provided by MongoDB itself"
   ]
  },
  {
   "cell_type": "markdown",
   "id": "7baaee82-23cd-46fc-bf07-b82b745fa88d",
   "metadata": {
    "tags": []
   },
   "source": [
    "## Creating a database in MongoDB\n",
    "\n",
    "### Activity 1: Create a new database and collection\n",
    "\n",
    "Sign into your account and create a new database called Cardio. In this database we will store collections of documents pertaining cardiology patients. Inside this database, create a collection called patient_monitoring.\n",
    "\n",
    "Once this is done, connect to your database."
   ]
  },
  {
   "cell_type": "code",
   "execution_count": 1,
   "id": "f2e02424-107c-44c4-a3d1-c1159c37a2e6",
   "metadata": {},
   "outputs": [],
   "source": [
    "import pymongo # pymongo is a python driver for MongoDB\n",
    "\n",
    "client = pymongo.MongoClient('mongodb://localhost:27017/')\n",
    "\n",
    "db = client.cardio # this is a 'database'\n",
    "collection = db.patients # this is a 'collection'\n",
    "\n",
    "# note: if you rerun this notebook, you will attempt to write the same documents into the database that already exist. \n",
    "# This will cause an error, as we will be inserting duplicate keys.\n",
    "# To avoid this, you can drop the collection first:\n",
    "collection.drop() # if you rerun this notebook, you'll keep addding to the data - so, drop the collection first\n"
   ]
  },
  {
   "cell_type": "markdown",
   "id": "ae2fd12e-ade3-49f8-aba8-346428d60786",
   "metadata": {},
   "source": [
    "> NOTE: If the database doesn't exist (in this cardio), Mongodb will create it - otherwise, it will be appended"
   ]
  },
  {
   "cell_type": "markdown",
   "id": "c9122314-6769-4f27-b62e-5992b15d3167",
   "metadata": {},
   "source": [
    "### Activity 2: Insert data into database\n",
    "Insert documents into our patient_monitoring collection. We'll synthesize a number of documents using Python."
   ]
  },
  {
   "cell_type": "markdown",
   "id": "029063ff-a233-41d8-b5ec-1e00c1083033",
   "metadata": {},
   "source": [
    "Our document data will look like the following example (note: this is the same structure as dictionaries and lists in Python - but it's not Python, it's JSON):\n",
    "\n",
    "```json\n",
    "{ \n",
    "    patient_info: {\n",
    "        fname: 'Tim', \n",
    "        lname: 'Smith'\n",
    "    }\n",
    "    phone_numbers: [\n",
    "        '555-321-456',\n",
    "        '555-123-456',\n",
    "        '555-222-456'\n",
    "    ]\n",
    "    readings: [\n",
    "        {'Systolic': 125, 'Diastolic': 80, 'Rate': 70 },\n",
    "        {'Systolic': 131, 'Diastolic': 85, 'Rate': 75 },\n",
    "        {'Systolic': 127, 'Diastolic': 79, 'Rate': 78 },\n",
    "        {'Systolic': 121, 'Diastolic': 85, 'Rate': 73 },      \n",
    "    ]\n",
    "}\n",
    "```"
   ]
  },
  {
   "cell_type": "markdown",
   "id": "04761b08",
   "metadata": {},
   "source": [
    "Now, create 50 new patients and insert them into the collection:"
   ]
  },
  {
   "cell_type": "code",
   "execution_count": 2,
   "id": "4ce45c96-f30e-43f7-b581-cb6195446d05",
   "metadata": {},
   "outputs": [],
   "source": [
    "from random import randint, seed\n",
    "import json\n",
    "\n",
    "seed(1) # make the data reproducible (which will be important for later querrying)\n",
    "\n",
    "fnames = ['John','Betty','July', 'James','Richard','Ethan', 'Liam','Jack','Jerry','Jordan','Susan','Elizabeth', 'Tom']\n",
    "lnames = ['Jones', 'Smith', 'Carmichael', 'Granger', ' Fox', 'Madden', 'Hart', 'Boone', 'Hale', 'Langston']\n",
    "\n",
    "for id  in range(1, 51): # id will be used as the _id field in the document. \n",
    "\n",
    "    office_num = randint(1, 10),\n",
    "    \n",
    "    patient_info = {   \n",
    "        'fname': fnames[randint(0,(len(fnames)-1))],\n",
    "        'lname': lnames[randint(0,(len(lnames)-1))],\n",
    "    }    \n",
    "    \n",
    "    phone_numbers = [] \n",
    "    for i in range(randint(2,4)):\n",
    "        phone_number = ''\n",
    "        for j in range(10):\n",
    "            phone_number += str(randint(0,9))\n",
    "            if j == 2 or j == 5 :\n",
    "                phone_number += '-'\n",
    "        phone_numbers.append(phone_number)\n",
    "\n",
    "    weights = [randint(90, 400) for x in range(randint(1,5))]\n",
    "    height = randint(100, 200)\n",
    "\n",
    "    bp_readings = [] \n",
    "    for i  in range(randint(2,10)): \n",
    "        reading = {\n",
    "            'Systolic': randint(100, 150),\n",
    "            'Diastolic':  randint(70, 99),\n",
    "            'Rate': randint(60, 110)\n",
    "        }\n",
    "        bp_readings.append(reading)\n",
    "\n",
    "    patient_doc = { # here will build the final documnet\n",
    "        '_id': id,\n",
    "        'office_num': office_num,\n",
    "        'patient_info': patient_info, # this is an embedded document\n",
    "        'patient_numbers': phone_numbers, # this is an array in the document\n",
    "        'weights': weights, # this is an array in the document\n",
    "        'height': height,\n",
    "        'bp_readings': bp_readings, # this is an array of embedded documents\n",
    "    }\n",
    "    \n",
    "    result = collection.insert_one(patient_doc)   # insert the randomly created document into the collection\n",
    "    \n"
   ]
  },
  {
   "cell_type": "markdown",
   "id": "306b356e-48cb-4092-8aaa-265fbb71909c",
   "metadata": {},
   "source": [
    "> NOTE: If patients collection doesn't exist it will be created, if it does exist, it will be appended."
   ]
  },
  {
   "cell_type": "markdown",
   "id": "c1e851cf-0e8a-4a88-84a2-942e7292b6b6",
   "metadata": {},
   "source": [
    "## Adding data to existing documents"
   ]
  },
  {
   "cell_type": "markdown",
   "id": "56e691f4-7622-444d-80bd-3cbaae5d05a6",
   "metadata": {},
   "source": [
    "### Ex. 1: Adding a new field to the document"
   ]
  },
  {
   "cell_type": "code",
   "execution_count": 3,
   "id": "20c98068-24b7-41c2-95ac-7990bdea85f6",
   "metadata": {},
   "outputs": [
    {
     "data": {
      "text/plain": [
       "<pymongo.results.UpdateResult at 0x112bdbd00>"
      ]
     },
     "execution_count": 3,
     "metadata": {},
     "output_type": "execute_result"
    }
   ],
   "source": [
    "collection.update_one(\n",
    "   { '_id': 1},\n",
    "   { '$set': { 'comments': \"good patient\"}}  # use set when you just want to change/set a new value, push if you wish to add/append a new value to the field (which will result in creating an array)\n",
    ")"
   ]
  },
  {
   "cell_type": "code",
   "execution_count": 4,
   "id": "77f13ee5-c058-4b2c-809d-e02227bf5d33",
   "metadata": {
    "collapsed": true,
    "jupyter": {
     "outputs_hidden": true
    },
    "tags": []
   },
   "outputs": [
    {
     "name": "stdout",
     "output_type": "stream",
     "text": [
      "{\n",
      "    \"_id\": 1,\n",
      "    \"office_num\": [\n",
      "        3\n",
      "    ],\n",
      "    \"patient_info\": {\n",
      "        \"fname\": \"Jordan\",\n",
      "        \"lname\": \"Smith\"\n",
      "    },\n",
      "    \"patient_numbers\": [\n",
      "        \"177-763-1706\",\n",
      "        \"690-743-9150\",\n",
      "        \"008-063-6083\"\n",
      "    ],\n",
      "    \"weights\": [\n",
      "        343,\n",
      "        373,\n",
      "        209,\n",
      "        266\n",
      "    ],\n",
      "    \"height\": 129,\n",
      "    \"bp_readings\": [\n",
      "        {\n",
      "            \"Systolic\": 148,\n",
      "            \"Diastolic\": 84,\n",
      "            \"Rate\": 78\n",
      "        },\n",
      "        {\n",
      "            \"Systolic\": 101,\n",
      "            \"Diastolic\": 83,\n",
      "            \"Rate\": 95\n",
      "        },\n",
      "        {\n",
      "            \"Systolic\": 141,\n",
      "            \"Diastolic\": 73,\n",
      "            \"Rate\": 71\n",
      "        },\n",
      "        {\n",
      "            \"Systolic\": 140,\n",
      "            \"Diastolic\": 93,\n",
      "            \"Rate\": 78\n",
      "        },\n",
      "        {\n",
      "            \"Systolic\": 107,\n",
      "            \"Diastolic\": 93,\n",
      "            \"Rate\": 81\n",
      "        }\n",
      "    ],\n",
      "    \"comments\": \"good patient\"\n",
      "}\n"
     ]
    }
   ],
   "source": [
    "for patient in db.patients.find({'_id': 1}):\n",
    "    print(json.dumps(patient, indent=4)) # json.dumps will format the document in a pretty format"
   ]
  },
  {
   "cell_type": "markdown",
   "id": "54474373-dc42-4157-8689-32858b1c06bf",
   "metadata": {},
   "source": [
    "### Ex. 2: Adding a new field to a embedded document"
   ]
  },
  {
   "cell_type": "code",
   "execution_count": 5,
   "id": "d6155ed3-4bc0-4828-aa1d-6070e9d9ca06",
   "metadata": {},
   "outputs": [
    {
     "data": {
      "text/plain": [
       "<pymongo.results.UpdateResult at 0x112bdbb20>"
      ]
     },
     "execution_count": 5,
     "metadata": {},
     "output_type": "execute_result"
    }
   ],
   "source": [
    "db.patients.update_one(\n",
    "   { '_id': 1},\n",
    "   { '$set': { 'patient_info.mname': 'Jane'}} # we're creating an setting a new field in patient_info called mname\n",
    ")"
   ]
  },
  {
   "cell_type": "code",
   "execution_count": 6,
   "id": "e7283dad-471c-4640-8ccb-4fd4abb25f41",
   "metadata": {},
   "outputs": [
    {
     "name": "stdout",
     "output_type": "stream",
     "text": [
      "{\n",
      "    \"_id\": 1,\n",
      "    \"office_num\": [\n",
      "        3\n",
      "    ],\n",
      "    \"patient_info\": {\n",
      "        \"fname\": \"Jordan\",\n",
      "        \"lname\": \"Smith\",\n",
      "        \"mname\": \"Jane\"\n",
      "    },\n",
      "    \"patient_numbers\": [\n",
      "        \"177-763-1706\",\n",
      "        \"690-743-9150\",\n",
      "        \"008-063-6083\"\n",
      "    ],\n",
      "    \"weights\": [\n",
      "        343,\n",
      "        373,\n",
      "        209,\n",
      "        266\n",
      "    ],\n",
      "    \"height\": 129,\n",
      "    \"bp_readings\": [\n",
      "        {\n",
      "            \"Systolic\": 148,\n",
      "            \"Diastolic\": 84,\n",
      "            \"Rate\": 78\n",
      "        },\n",
      "        {\n",
      "            \"Systolic\": 101,\n",
      "            \"Diastolic\": 83,\n",
      "            \"Rate\": 95\n",
      "        },\n",
      "        {\n",
      "            \"Systolic\": 141,\n",
      "            \"Diastolic\": 73,\n",
      "            \"Rate\": 71\n",
      "        },\n",
      "        {\n",
      "            \"Systolic\": 140,\n",
      "            \"Diastolic\": 93,\n",
      "            \"Rate\": 78\n",
      "        },\n",
      "        {\n",
      "            \"Systolic\": 107,\n",
      "            \"Diastolic\": 93,\n",
      "            \"Rate\": 81\n",
      "        }\n",
      "    ],\n",
      "    \"comments\": \"good patient\"\n",
      "}\n"
     ]
    }
   ],
   "source": [
    "for patient in db.patients.find({'_id': 1}):\n",
    "    print(json.dumps(patient, indent=4))"
   ]
  },
  {
   "cell_type": "markdown",
   "id": "6c46d7eb-fbd5-4a28-9669-7d72428d2044",
   "metadata": {},
   "source": [
    "### Ex. 3: Adding to array of embedded documents"
   ]
  },
  {
   "attachments": {},
   "cell_type": "markdown",
   "id": "a2787501",
   "metadata": {},
   "source": [
    "We're adding a new document to the array, so we use push"
   ]
  },
  {
   "cell_type": "code",
   "execution_count": 7,
   "id": "0b07db06-2feb-495a-97ee-92532860a2d5",
   "metadata": {},
   "outputs": [
    {
     "data": {
      "text/plain": [
       "<pymongo.results.UpdateResult at 0x112bd9630>"
      ]
     },
     "execution_count": 7,
     "metadata": {},
     "output_type": "execute_result"
    }
   ],
   "source": [
    "db.patients.update_one(\n",
    "   { '_id': 1},\n",
    "   { '$push': { 'readings': {\"Systolic\": 999,\"Diastolic\": 999,\"Rate\": 999}}} \n",
    ")"
   ]
  },
  {
   "cell_type": "code",
   "execution_count": 8,
   "id": "0d5416d2-381b-4b9f-be43-ed9b02d7dcf3",
   "metadata": {},
   "outputs": [
    {
     "name": "stdout",
     "output_type": "stream",
     "text": [
      "{\n",
      "    \"_id\": 1,\n",
      "    \"office_num\": [\n",
      "        3\n",
      "    ],\n",
      "    \"patient_info\": {\n",
      "        \"fname\": \"Jordan\",\n",
      "        \"lname\": \"Smith\",\n",
      "        \"mname\": \"Jane\"\n",
      "    },\n",
      "    \"patient_numbers\": [\n",
      "        \"177-763-1706\",\n",
      "        \"690-743-9150\",\n",
      "        \"008-063-6083\"\n",
      "    ],\n",
      "    \"weights\": [\n",
      "        343,\n",
      "        373,\n",
      "        209,\n",
      "        266\n",
      "    ],\n",
      "    \"height\": 129,\n",
      "    \"bp_readings\": [\n",
      "        {\n",
      "            \"Systolic\": 148,\n",
      "            \"Diastolic\": 84,\n",
      "            \"Rate\": 78\n",
      "        },\n",
      "        {\n",
      "            \"Systolic\": 101,\n",
      "            \"Diastolic\": 83,\n",
      "            \"Rate\": 95\n",
      "        },\n",
      "        {\n",
      "            \"Systolic\": 141,\n",
      "            \"Diastolic\": 73,\n",
      "            \"Rate\": 71\n",
      "        },\n",
      "        {\n",
      "            \"Systolic\": 140,\n",
      "            \"Diastolic\": 93,\n",
      "            \"Rate\": 78\n",
      "        },\n",
      "        {\n",
      "            \"Systolic\": 107,\n",
      "            \"Diastolic\": 93,\n",
      "            \"Rate\": 81\n",
      "        }\n",
      "    ],\n",
      "    \"comments\": \"good patient\",\n",
      "    \"readings\": [\n",
      "        {\n",
      "            \"Systolic\": 999,\n",
      "            \"Diastolic\": 999,\n",
      "            \"Rate\": 999\n",
      "        }\n",
      "    ]\n",
      "}\n"
     ]
    }
   ],
   "source": [
    "for patient in db.patients.find({'_id': 1}):\n",
    "    print(json.dumps(patient, indent=4))"
   ]
  },
  {
   "cell_type": "markdown",
   "id": "909aba57-c84d-46d8-8495-d724200c7af7",
   "metadata": {},
   "source": [
    "### Close Database connection\n",
    "\n",
    "Always good to close the database connect when finished."
   ]
  },
  {
   "cell_type": "code",
   "execution_count": 9,
   "id": "1036a5db-8040-43fe-b77a-0c769356af70",
   "metadata": {},
   "outputs": [],
   "source": [
    "client.close()"
   ]
  }
 ],
 "metadata": {
  "kernelspec": {
   "display_name": "base",
   "language": "python",
   "name": "python3"
  },
  "language_info": {
   "codemirror_mode": {
    "name": "ipython",
    "version": 3
   },
   "file_extension": ".py",
   "mimetype": "text/x-python",
   "name": "python",
   "nbconvert_exporter": "python",
   "pygments_lexer": "ipython3",
   "version": "3.11.5"
  }
 },
 "nbformat": 4,
 "nbformat_minor": 5
}
