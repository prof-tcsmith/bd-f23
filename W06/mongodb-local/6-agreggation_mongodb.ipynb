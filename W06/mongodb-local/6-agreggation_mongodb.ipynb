{
 "cells": [
  {
   "attachments": {},
   "cell_type": "markdown",
   "id": "853f04ac-302e-46fd-9d1e-54715e5dcd3b",
   "metadata": {},
   "source": [
    "# Aggregration in MongoDB"
   ]
  },
  {
   "cell_type": "code",
   "execution_count": 1,
   "id": "084122be-af59-4a8d-8d67-ff262a5f193c",
   "metadata": {},
   "outputs": [],
   "source": [
    "import pymongo # pymongo is a python driver for MongoDB\n",
    "\n",
    "client = pymongo.MongoClient('mongodb://localhost:27017/')\n",
    "\n",
    "# cardio and patients were created in a previous notebook (4)\n",
    "cardio_db = client.cardio # this is a 'database'\n",
    "patients_collection = cardio_db.patients # this is a 'collection'\n",
    "\n",
    "# companies and reviews were created in a previous notebook (2)\n",
    "companies_db = client.companies # this is a 'database'\n",
    "reviews_collection = companies_db.reviews # this is a 'collection'"
   ]
  },
  {
   "attachments": {},
   "cell_type": "markdown",
   "id": "db04b74f-a4f7-4405-bda5-e8b0c4bd4696",
   "metadata": {},
   "source": [
    "MapReduce had been a main method for data processing in MongoDB. MapReduce is a programming model for processing and generating large data sets (we will see more later). \n",
    "\n",
    "In MongoDB 5.0, map-reduce is deprecated and replaced by aggregation.\n",
    "\n",
    "https://www.mongodb.com/docs/manual/core/map-reduce/\n",
    "\n",
    "Aggregation is a powerful data processing framework that enables you to perform a variety of data processing operations as a pipeline. \n",
    "\n",
    "https://www.mongodb.com/docs/manual/reference/map-reduce-to-aggregation-pipeline/\n",
    "\n",
    "In this notebook, we will see how to use aggregation in MongoDB. NOTE: This is a rather large topic to cover fully; we will only cover the basics here. This will provide you with a solid foundation for further exploration."
   ]
  },
  {
   "attachments": {},
   "cell_type": "markdown",
   "id": "09d90e31",
   "metadata": {},
   "source": [
    "Let's start by grouping the everage height of patients by office; we will use the aggregation framework to do this."
   ]
  },
  {
   "cell_type": "code",
   "execution_count": 2,
   "id": "df8fe299-735f-4b9e-bc9f-dbb0da9db405",
   "metadata": {},
   "outputs": [
    {
     "data": {
      "text/plain": [
       "[{'_id': [2], 'avg height': 157.33333333333334},\n",
       " {'_id': [9], 'avg height': 156.5},\n",
       " {'_id': [6], 'avg height': 153.6},\n",
       " {'_id': [1], 'avg height': 152.0},\n",
       " {'_id': [5], 'avg height': 146.5},\n",
       " {'_id': [7], 'avg height': 144.25},\n",
       " {'_id': [3], 'avg height': 142.83333333333334},\n",
       " {'_id': [4], 'avg height': 130.25},\n",
       " {'_id': [8], 'avg height': 129.0},\n",
       " {'_id': [10], 'avg height': 102.0}]"
      ]
     },
     "execution_count": 2,
     "metadata": {},
     "output_type": "execute_result"
    }
   ],
   "source": [
    "averages = patients_collection.aggregate( [\n",
    "   {\n",
    "    \"$match\" : \n",
    "        { \"office_num\" : { \"$ne\" : None }}\n",
    "   },\n",
    "   {\n",
    "    \"$group\": \n",
    "        { \"_id\": \"$office_num\", \"avg height\": { \"$avg\": \"$height\" }}\n",
    "   },\n",
    "   { \n",
    "    \"$sort\": \n",
    "        { \"avg height\": -1 }\n",
    "   }\n",
    "])\n",
    "list(averages)"
   ]
  },
  {
   "cell_type": "markdown",
   "id": "6cb9b9d5",
   "metadata": {},
   "source": []
  },
  {
   "attachments": {},
   "cell_type": "markdown",
   "id": "ee6325a6",
   "metadata": {},
   "source": [
    "A more complex problem would be to aggregate the average weights by office. This is due to the fact the each patient has multiple weight readings. To accomplish this type or aggregation, we will use the $project and $group stages. The $project stage will aggregate the weights for each patient and the $group stage will aggregate the average weight for each office."
   ]
  },
  {
   "cell_type": "code",
   "execution_count": 3,
   "id": "890c25c0",
   "metadata": {},
   "outputs": [
    {
     "data": {
      "text/plain": [
       "[{'_id': [1], 'avg weight': 241.17499999999998},\n",
       " {'_id': [2], 'avg weight': 229.35555555555553},\n",
       " {'_id': [3], 'avg weight': 280.5833333333333},\n",
       " {'_id': [4], 'avg weight': 278.0416666666667},\n",
       " {'_id': [5], 'avg weight': 266.96999999999997},\n",
       " {'_id': [6], 'avg weight': 254.81333333333333},\n",
       " {'_id': [7], 'avg weight': 238.7},\n",
       " {'_id': [8], 'avg weight': 303.8},\n",
       " {'_id': [9], 'avg weight': 247.33958333333334},\n",
       " {'_id': [10], 'avg weight': 217.08333333333331}]"
      ]
     },
     "execution_count": 3,
     "metadata": {},
     "output_type": "execute_result"
    }
   ],
   "source": [
    "averages = patients_collection.aggregate( [\n",
    "   {\n",
    "    \"$match\" : \n",
    "        { \"office_num\" : { \"$ne\" : None }}\n",
    "   },\n",
    "   { \n",
    "    \"$project\": \n",
    "        {'office_num':'$office_num',\n",
    "         \"avg weight\" : {\"$avg\":\"$weights\"} }\n",
    "   },\n",
    "   { \n",
    "    \"$group\": \n",
    "        { \"_id\": \"$office_num\", \"avg weight\": { \"$avg\": \"$avg weight\" }}\n",
    "   },\n",
    "   { \n",
    "    \"$sort\": \n",
    "        { \"_id\": 1 }\n",
    "   }\n",
    "])\n",
    "list(averages)"
   ]
  },
  {
   "attachments": {},
   "cell_type": "markdown",
   "id": "d1a582ba",
   "metadata": {},
   "source": [
    "# More information\n",
    "\n",
    "If you are interested in learning more about aggregation, you can read the documentation here: https://www.mongodb.com/docs/manual/core/aggregation-pipeline/ \n",
    "\n",
    "For more advanced aggregation, you can read the documentation here: https://www.mongodb.com/blog/post/advanced-aggregation-with-mongodb\n",
    "\n",
    "It's also recommended that you look at MongoDB Compass. It's a GUI for MongoDB that makes it easy to explore your data and includes an aggregation builder. You can download it here: https://www.mongodb.com/products/compass\n"
   ]
  }
 ],
 "metadata": {
  "kernelspec": {
   "display_name": "base",
   "language": "python",
   "name": "python3"
  },
  "language_info": {
   "codemirror_mode": {
    "name": "ipython",
    "version": 3
   },
   "file_extension": ".py",
   "mimetype": "text/x-python",
   "name": "python",
   "nbconvert_exporter": "python",
   "pygments_lexer": "ipython3",
   "version": "3.11.5"
  }
 },
 "nbformat": 4,
 "nbformat_minor": 5
}
