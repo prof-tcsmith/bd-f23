{
 "cells": [
  {
   "cell_type": "markdown",
   "id": "7e1803b8",
   "metadata": {},
   "source": [
    "## Assignment 3 - Data Synthesis\n",
    "\n",
    "In this notebook, I am writing my data to a JSON file in my local machine. This JSON file will be used as input to the MongoDB collection."
   ]
  },
  {
   "cell_type": "markdown",
   "id": "f7d0f33b",
   "metadata": {},
   "source": [
    "### Import necessary packages"
   ]
  },
  {
   "cell_type": "code",
   "execution_count": 1,
   "id": "2d5457b6",
   "metadata": {},
   "outputs": [],
   "source": [
    "import json"
   ]
  },
  {
   "cell_type": "markdown",
   "id": "836580dc",
   "metadata": {},
   "source": [
    "The providedcontains information about various food items. Each food item is represented as a dictionary with attributes such as \"food_id,\" \"food_name,\" \"category,\" \"calories,\" and \"price_usd.\" My data has 3 cuisines(categories) - Italian, Mexican, and Japanese. "
   ]
  },
  {
   "cell_type": "code",
   "execution_count": 2,
   "id": "6d0e788a",
   "metadata": {},
   "outputs": [],
   "source": [
    "data =   [\n",
    "\n",
    "    {\n",
    "        \"food_id\": 1,\n",
    "        \"food_name\": \"Pizza\",\n",
    "        \"category\": \"Italian\",\n",
    "        \"calories\": 285,\n",
    "        \"price_usd\": 10.99\n",
    "    },\n",
    "    {\n",
    "        \"food_id\": 2,\n",
    "        \"food_name\": \"Sushi\",\n",
    "        \"category\": \"Japanese\",\n",
    "        \"calories\": 200,\n",
    "        \"price_usd\": 15.99\n",
    "    },\n",
    "    {\n",
    "        \"food_id\": 3,\n",
    "        \"food_name\": \"Quesadilla\",\n",
    "        \"category\": \"Mexican\",\n",
    "        \"calories\": 500,\n",
    "        \"price_usd\": 12.89\n",
    "    },\n",
    "    {\n",
    "        \"food_id\": 4,\n",
    "        \"food_name\": \"Quesadilla\",\n",
    "        \"category\": \"Mexican\",\n",
    "        \"calories\": 650,\n",
    "        \"price_usd\": 14.99\n",
    "    },\n",
    "    {\n",
    "        \"food_id\": 5,\n",
    "        \"food_name\": \"Sushi\",\n",
    "        \"category\": \"Japanese\",\n",
    "        \"calories\": 180,\n",
    "        \"price_usd\": 14.99\n",
    "    },\t    {\n",
    "        \"food_id\": 6,\n",
    "        \"food_name\": \"Taco\",\n",
    "        \"category\": \"Mexican\",\n",
    "        \"calories\": 300,\n",
    "        \"price_usd\": 7.99\n",
    "    },\n",
    "    {\n",
    "        \"food_id\": 7,\n",
    "        \"food_name\": \"Pizza\",\n",
    "        \"category\": \"Italian\",\n",
    "        \"calories\": 400,\n",
    "        \"price_usd\": 11.99\n",
    "    },\n",
    "    {\n",
    "        \"food_id\": 8,\n",
    "        \"food_name\": \"Sushi\",\n",
    "        \"category\": \"Japanese\",\n",
    "        \"calories\": 220,\n",
    "        \"price_usd\": 16.99\n",
    "    },\n",
    "    {\n",
    "        \"food_id\": 9,\n",
    "        \"food_name\": \"Taco\",\n",
    "        \"category\": \"Mexican\",\n",
    "        \"calories\": 310,\n",
    "        \"price_usd\": 11.99\n",
    "    },\n",
    "    {\n",
    "        \"food_id\": 10,\n",
    "        \"food_name\": \"Pizza\",\n",
    "        \"category\": \"Italian\",\n",
    "        \"calories\": 350,\n",
    "        \"price_usd\": 13.99\n",
    "    }\n",
    "]"
   ]
  },
  {
   "cell_type": "code",
   "execution_count": 3,
   "id": "4c7ec89f",
   "metadata": {},
   "outputs": [
    {
     "name": "stdout",
     "output_type": "stream",
     "text": [
      "Dataset saved to 'Likhitha_dataset.json'.\n"
     ]
    }
   ],
   "source": [
    "# Save the dataset to a JSON file\n",
    "with open(\"/home/student/Workbench/bd-f23/W06/mongodb-local/data/Likhitha_dataset.json\", \"w\") as json_file:\n",
    "    json.dump(data, json_file, indent=4)\n",
    "\n",
    "print(\"Dataset saved to 'Likhitha_dataset.json'.\")\n"
   ]
  },
  {
   "cell_type": "code",
   "execution_count": null,
   "id": "edaa84d2",
   "metadata": {},
   "outputs": [],
   "source": []
  }
 ],
 "metadata": {
  "kernelspec": {
   "display_name": "Python 3 (ipykernel)",
   "language": "python",
   "name": "python3"
  },
  "language_info": {
   "codemirror_mode": {
    "name": "ipython",
    "version": 3
   },
   "file_extension": ".py",
   "mimetype": "text/x-python",
   "name": "python",
   "nbconvert_exporter": "python",
   "pygments_lexer": "ipython3",
   "version": "3.10.12"
  }
 },
 "nbformat": 4,
 "nbformat_minor": 5
}
