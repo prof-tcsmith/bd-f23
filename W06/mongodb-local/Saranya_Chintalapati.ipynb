{
 "cells": [
  {
   "attachments": {},
   "cell_type": "markdown",
   "metadata": {},
   "source": [
    "## Python Mid term Part B Programming qs\n",
    "\n",
    "## Name: Saranya Chintalapati\n",
    "## Question 2\n",
    "\n",
    "## Song database system\n",
    "\n"
   ]
  },
  {
   "cell_type": "code",
   "execution_count": 2,
   "metadata": {},
   "outputs": [],
   "source": [
    "# import required packages\n",
    "import pandas as pd\n",
    "from cassandra.cluster import Cluster"
   ]
  },
  {
   "attachments": {},
   "cell_type": "markdown",
   "metadata": {},
   "source": [
    "### Create a session connection to Cassandra Cluster\n"
   ]
  },
  {
   "cell_type": "code",
   "execution_count": 4,
   "metadata": {},
   "outputs": [],
   "source": [
    "#use session to talk to cassandra cluster\n",
    "clstr = Cluster()\n",
    "session = clstr.connect()"
   ]
  },
  {
   "attachments": {},
   "cell_type": "markdown",
   "metadata": {},
   "source": [
    "### Checking if there exists a keyspace called music \n",
    "\n",
    "For the requirement of this project, you will be creating a keyspace called \"Music\" in this cassandra-5 node system\n"
   ]
  },
  {
   "cell_type": "code",
   "execution_count": 22,
   "metadata": {},
   "outputs": [
    {
     "data": {
      "text/plain": [
       "<cassandra.cluster.ResultSet at 0x7f74fb68c2e0>"
      ]
     },
     "execution_count": 22,
     "metadata": {},
     "output_type": "execute_result"
    }
   ],
   "source": [
    "session.execute(\"DROP KEYSPACE IF EXISTS music\")"
   ]
  },
  {
   "cell_type": "code",
   "execution_count": 23,
   "metadata": {},
   "outputs": [
    {
     "name": "stdout",
     "output_type": "stream",
     "text": [
      "newpy\n",
      "system\n",
      "system_auth\n",
      "system_distributed\n",
      "system_schema\n",
      "system_traces\n",
      "system_views\n",
      "system_virtual_schema\n"
     ]
    }
   ],
   "source": [
    "rows = session.execute(\"desc keyspaces\")\n",
    "for row in rows:\n",
    "    print(row[0])"
   ]
  },
  {
   "attachments": {},
   "cell_type": "markdown",
   "metadata": {},
   "source": [
    "### Create a new keyspace called music \n",
    "\n",
    "This keyspace is created with replaction factor of 3. Since it a songs database and one primary and 2 secondary nodes are sufficient to store the songs data. The class is chosen SimpleStrategy which specifies a simple replication factor for the cluster."
   ]
  },
  {
   "cell_type": "code",
   "execution_count": 24,
   "metadata": {},
   "outputs": [
    {
     "data": {
      "text/plain": [
       "<cassandra.cluster.ResultSet at 0x7f74fb6873a0>"
      ]
     },
     "execution_count": 24,
     "metadata": {},
     "output_type": "execute_result"
    }
   ],
   "source": [
    "session.execute(\"\"\"\n",
    "    CREATE KEYSPACE IF NOT EXISTS music WITH REPLICATION = {\n",
    "        'class':'SimpleStrategy', \n",
    "        'replication_factor': 3\n",
    "    }\n",
    "\"\"\")"
   ]
  },
  {
   "attachments": {},
   "cell_type": "markdown",
   "metadata": {},
   "source": [
    "### Verify if the music keyspace is succesfully created using desc keyspaces"
   ]
  },
  {
   "cell_type": "code",
   "execution_count": 25,
   "metadata": {},
   "outputs": [
    {
     "name": "stdout",
     "output_type": "stream",
     "text": [
      "music\n",
      "newpy\n",
      "system\n",
      "system_auth\n",
      "system_distributed\n",
      "system_schema\n",
      "system_traces\n",
      "system_views\n",
      "system_virtual_schema\n"
     ]
    }
   ],
   "source": [
    "rows = session.execute(\"desc keyspaces\")\n",
    "for row in rows:\n",
    "    print(row[0])"
   ]
  },
  {
   "attachments": {},
   "cell_type": "markdown",
   "metadata": {},
   "source": [
    "### Create table songs_info to insert all the details required to store songs. \n",
    "\n",
    "The songs_info stores details about the song ID, which genre is it from, it duration and also the title of the song. The structure of the table is as follows:\n",
    "\n",
    "* song_ID - Unique ID of the song\n",
    "* title - title of the song\n",
    "* genre - genre the song belongs to (pop, rock, classcial, country)\n",
    "* duration - length of the song (in seconds)\n",
    "\n",
    "Both title and song_ID are choosen as primary keys since it is easier to search for the songs using title names rather than song IDs. Therefore, title is also included in the primary key creation.\n"
   ]
  },
  {
   "cell_type": "code",
   "execution_count": 32,
   "metadata": {},
   "outputs": [
    {
     "data": {
      "text/plain": [
       "<cassandra.cluster.ResultSet at 0x7f74fb68d4e0>"
      ]
     },
     "execution_count": 32,
     "metadata": {},
     "output_type": "execute_result"
    }
   ],
   "source": [
    "session.execute(\"\"\"\n",
    "CREATE TABLE IF NOT EXISTS music.songs_info ( \n",
    "    song_ID TEXT, \n",
    "    title TEXT, \n",
    "    duration FLOAT, \n",
    "    genre TEXT,\n",
    "    PRIMARY KEY(title, song_ID)\n",
    ");\n",
    "\"\"\")"
   ]
  },
  {
   "attachments": {},
   "cell_type": "markdown",
   "metadata": {},
   "source": [
    "### Insert statement to insert songs data to songs_info table"
   ]
  },
  {
   "cell_type": "code",
   "execution_count": 33,
   "metadata": {},
   "outputs": [],
   "source": [
    "# CQL INSERT statement\n",
    "insert_query = \"\"\"\n",
    "INSERT INTO music.songs_info(song_ID, title, duration, genre)\n",
    "VALUES (?, ?, ?, ?)\n",
    "\"\"\"\n",
    "\n",
    "prepared_insert = session.prepare(insert_query)\n",
    "\n",
    "# Define  data to insert as a list of tuples\n",
    "data_to_insert = [\n",
    "    ('ID001', 'Prayers of the heaven', 180, 'pop'),\n",
    "    ('ID002', 'Chery Chery', 201, 'rock'),\n",
    "    ('ID003', 'Havanna', 236.5, 'classical'),\n",
    "    ('ID004', 'Dont lie', 176, 'country'),\n",
    "    ('ID005', 'Love me', 298, 'pop'),\n",
    "    ('ID006', 'Halo', 278.5, 'rock')\n",
    "]\n",
    "# Insert each row in a loop\n",
    "for row in data_to_insert:\n",
    "    session.execute(prepared_insert, row)"
   ]
  },
  {
   "attachments": {},
   "cell_type": "markdown",
   "metadata": {},
   "source": [
    "### Query to select all the rows from the songs_info table "
   ]
  },
  {
   "cell_type": "code",
   "execution_count": 34,
   "metadata": {},
   "outputs": [
    {
     "name": "stdout",
     "output_type": "stream",
     "text": [
      "song_ID=ID004, title=Dont lie, duration=176.0, genre=country\n",
      "song_ID=ID003, title=Havanna, duration=236.5, genre=classical\n",
      "song_ID=ID005, title=Love me, duration=298.0, genre=pop\n",
      "song_ID=ID006, title=Halo, duration=278.5, genre=rock\n",
      "song_ID=ID002, title=Chery Chery, duration=201.0, genre=rock\n",
      "song_ID=ID001, title=Prayers of the heaven, duration=180.0, genre=pop\n"
     ]
    }
   ],
   "source": [
    "rows = session.execute(\"select (song_ID, title, duration, genre) from music.songs_info\")\n",
    "for row in rows:\n",
    "    print(f\"song_ID={row[0][0]}, title={row[0][1]}, duration={row[0][2]}, genre={row[0][3]}\")"
   ]
  },
  {
   "attachments": {},
   "cell_type": "markdown",
   "metadata": {},
   "source": [
    "### Update the genre of the song Halo to country. "
   ]
  },
  {
   "cell_type": "code",
   "execution_count": 35,
   "metadata": {},
   "outputs": [
    {
     "name": "stdout",
     "output_type": "stream",
     "text": [
      "song_ID=ID006, title=Halo, duration=278.5, genre=rock\n"
     ]
    }
   ],
   "source": [
    "rows = session.execute(\"select (song_ID, title, duration, genre) from music.songs_info where title = 'Halo'\")\n",
    "for row in rows:\n",
    "    print(f\"song_ID={row[0][0]}, title={row[0][1]}, duration={row[0][2]}, genre={row[0][3]}\")"
   ]
  },
  {
   "cell_type": "code",
   "execution_count": 38,
   "metadata": {},
   "outputs": [],
   "source": [
    "rows = session.execute(\"update music.songs_info set genre = 'country' where title = 'Halo' and song_ID = 'ID006'\")"
   ]
  },
  {
   "cell_type": "code",
   "execution_count": 39,
   "metadata": {},
   "outputs": [
    {
     "name": "stdout",
     "output_type": "stream",
     "text": [
      "song_ID=ID006, title=Halo, duration=278.5, genre=country\n"
     ]
    }
   ],
   "source": [
    "rows = session.execute(\"select (song_ID, title, duration, genre) from music.songs_info where title = 'Halo'\")\n",
    "for row in rows:\n",
    "    print(f\"song_ID={row[0][0]}, title={row[0][1]}, duration={row[0][2]}, genre={row[0][3]}\")"
   ]
  },
  {
   "attachments": {},
   "cell_type": "markdown",
   "metadata": {},
   "source": [
    "### Delete statement to delete teh song with title Love me from songs_info table"
   ]
  },
  {
   "cell_type": "code",
   "execution_count": 40,
   "metadata": {},
   "outputs": [],
   "source": [
    "rows = session.execute(\"delete from music.songs_info where song_ID = 'ID005' and title = 'Love me'\")"
   ]
  },
  {
   "cell_type": "code",
   "execution_count": 41,
   "metadata": {},
   "outputs": [],
   "source": [
    "rows = session.execute(\"select (song_ID, title, duration, genre) from music.songs_info where title = 'Love me'\")\n",
    "for row in rows:\n",
    "    print(f\"song_ID={row[0][0]}, title={row[0][1]}, duration={row[0][2]}, genre={row[0][3]}\")"
   ]
  },
  {
   "cell_type": "code",
   "execution_count": 50,
   "metadata": {},
   "outputs": [
    {
     "name": "stdout",
     "output_type": "stream",
     "text": [
      "song_ID=ID004, title=Dont lie, duration=176.0, genre=country\n",
      "song_ID=ID003, title=Havanna, duration=236.5, genre=classical\n",
      "song_ID=ID006, title=Halo, duration=278.5, genre=country\n",
      "song_ID=ID002, title=Chery Chery, duration=201.0, genre=rock\n",
      "song_ID=ID001, title=Prayers of the heaven, duration=180.0, genre=pop\n"
     ]
    }
   ],
   "source": [
    "rows = session.execute(\"select (song_ID, title, duration, genre) from music.songs_info\")\n",
    "for row in rows:\n",
    "    print(f\"song_ID={row[0][0]}, title={row[0][1]}, duration={row[0][2]}, genre={row[0][3]}\")"
   ]
  },
  {
   "attachments": {},
   "cell_type": "markdown",
   "metadata": {},
   "source": [
    "### Create an Index on genre to query songs_info table with genre filter rather than using title or song ID all the time"
   ]
  },
  {
   "cell_type": "code",
   "execution_count": 43,
   "metadata": {},
   "outputs": [
    {
     "data": {
      "text/plain": [
       "<cassandra.cluster.ResultSet at 0x7f7534ed48b0>"
      ]
     },
     "execution_count": 43,
     "metadata": {},
     "output_type": "execute_result"
    }
   ],
   "source": [
    "session.execute('CREATE INDEX ON music.songs_info(genre)')"
   ]
  },
  {
   "cell_type": "code",
   "execution_count": 52,
   "metadata": {},
   "outputs": [
    {
     "name": "stdout",
     "output_type": "stream",
     "text": [
      "song_ID=ID003, title=Havanna, duration=236.5, genre=classical\n"
     ]
    }
   ],
   "source": [
    "rows = session.execute(\"select (song_ID, title, duration, genre) from music.songs_info where genre = 'classical' \")\n",
    "for row in rows:\n",
    "    print(f\"song_ID={row[0][0]}, title={row[0][1]}, duration={row[0][2]}, genre={row[0][3]}\")"
   ]
  },
  {
   "attachments": {},
   "cell_type": "markdown",
   "metadata": {},
   "source": [
    "### Range query to query the songs results with more than 200 seconds duration."
   ]
  },
  {
   "cell_type": "code",
   "execution_count": 54,
   "metadata": {},
   "outputs": [
    {
     "name": "stdout",
     "output_type": "stream",
     "text": [
      "song_ID=ID003, title=Havanna, duration=236.5, genre=classical\n",
      "song_ID=ID006, title=Halo, duration=278.5, genre=country\n",
      "song_ID=ID002, title=Chery Chery, duration=201.0, genre=rock\n"
     ]
    }
   ],
   "source": [
    "rows = session.execute(\"select (song_ID, title, duration, genre) from music.songs_info where duration > 200 ALLOW FILTERING\")\n",
    "for row in rows:\n",
    "    print(f\"song_ID={row[0][0]}, title={row[0][1]}, duration={row[0][2]}, genre={row[0][3]}\")"
   ]
  }
 ],
 "metadata": {
  "kernelspec": {
   "display_name": "base",
   "language": "python",
   "name": "python3"
  },
  "language_info": {
   "codemirror_mode": {
    "name": "ipython",
    "version": 3
   },
   "file_extension": ".py",
   "mimetype": "text/x-python",
   "name": "python",
   "nbconvert_exporter": "python",
   "pygments_lexer": "ipython3",
   "version": "3.10.10"
  },
  "orig_nbformat": 4
 },
 "nbformat": 4,
 "nbformat_minor": 2
}
