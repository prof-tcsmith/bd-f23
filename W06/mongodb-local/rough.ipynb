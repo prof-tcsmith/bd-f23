{
 "cells": [
  {
   "cell_type": "code",
   "execution_count": 1,
   "metadata": {},
   "outputs": [],
   "source": [
    "# TO TEST MONGODB COLLECTIONS"
   ]
  },
  {
   "cell_type": "code",
   "execution_count": 1,
   "metadata": {},
   "outputs": [],
   "source": [
    "import pymongo # pymongo is a python driver for MongoDB\n",
    "import json\n",
    "import bson.json_util as bju"
   ]
  },
  {
   "cell_type": "code",
   "execution_count": 2,
   "metadata": {},
   "outputs": [],
   "source": [
    "client = pymongo.MongoClient('mongodb://localhost:27017/')\n",
    "#client = pymongo.MongoClient('mongodb://localhost:27017/')"
   ]
  },
  {
   "cell_type": "code",
   "execution_count": 3,
   "metadata": {},
   "outputs": [],
   "source": [
    "db = client.Rough # companies is the name of the datase we are connecting to. If it doesn't exist, it will be created.\n",
    "# alternatively, you can use the following syntax\n",
    "# db = client['companies']\n",
    "\n",
    "collection = db.rough_collections # reviews is the name of the collection we are connecting to. If it doesn't exist, it will be created.\n",
    "# alternatively, you can use the following syntax\n",
    "# collection = db['reviews']\n",
    "\n",
    "# note: if you run this notebook multiple times, you will be inserting the same data over and over again.\n",
    "# to avoid this, you can drop the collection before inserting the data\n",
    "collection.drop()"
   ]
  },
  {
   "cell_type": "code",
   "execution_count": 4,
   "metadata": {},
   "outputs": [
    {
     "name": "stdout",
     "output_type": "stream",
     "text": [
      "Data from JSON file inserted into the MongoDB collection.\n"
     ]
    }
   ],
   "source": [
    "# Open and load the JSON file\n",
    "with open(\"/home/student/Workbench/bd-f23/W06/mongodb-local/data/Likhitha_dataset.json\", 'r') as file:\n",
    "    json_data = json.load(file)\n",
    "\n",
    "# Insert the JSON data into the collection\n",
    "collection.insert_many(json_data)\n",
    "\n",
    "print(\"Data from JSON file inserted into the MongoDB collection.\")\n"
   ]
  },
  {
   "cell_type": "code",
   "execution_count": 5,
   "metadata": {},
   "outputs": [],
   "source": [
    "query = { \"food_name\": { \"$regex\": \"^Q\" } } # search for any name that starts with S\n",
    "docs = collection.find(query)"
   ]
  },
  {
   "cell_type": "code",
   "execution_count": 6,
   "metadata": {},
   "outputs": [
    {
     "name": "stdout",
     "output_type": "stream",
     "text": [
      "{'_id': ObjectId('651c2ef7cb6bdf4db2a597bf'), 'food_id': 3, 'food_name': 'Quesadilla', 'category': 'Mexican', 'calories': 500, 'price_usd': 12.89}\n",
      "{'_id': ObjectId('651c2ef7cb6bdf4db2a597c0'), 'food_id': 4, 'food_name': 'Quesadilla', 'category': 'Mexican', 'calories': 650, 'price_usd': 14.99}\n"
     ]
    }
   ],
   "source": [
    "for record in docs:\n",
    "  print(record)"
   ]
  },
  {
   "cell_type": "code",
   "execution_count": 7,
   "metadata": {},
   "outputs": [],
   "source": [
    "query = { \"food_name\": { \"$regex\": \"^S\" } } # search for any name that starts with S\n",
    "docs = collection.find(query)"
   ]
  },
  {
   "cell_type": "code",
   "execution_count": 8,
   "metadata": {},
   "outputs": [
    {
     "name": "stdout",
     "output_type": "stream",
     "text": [
      "{'_id': ObjectId('651c2ef7cb6bdf4db2a597be'), 'food_id': 2, 'food_name': 'Sushi', 'category': 'Japanese', 'calories': 200, 'price_usd': 15.99}\n",
      "{'_id': ObjectId('651c2ef7cb6bdf4db2a597c1'), 'food_id': 5, 'food_name': 'Sushi', 'category': 'Japanese', 'calories': 180, 'price_usd': 14.99}\n",
      "{'_id': ObjectId('651c2ef7cb6bdf4db2a597c4'), 'food_id': 8, 'food_name': 'Sushi', 'category': 'Japanese', 'calories': 220, 'price_usd': 16.99}\n"
     ]
    }
   ],
   "source": [
    "for record in docs:\n",
    "  print(record)"
   ]
  },
  {
   "cell_type": "code",
   "execution_count": 9,
   "metadata": {},
   "outputs": [],
   "source": [
    "query = { \"category\": { \"$regex\": \"^I\" } } # search for any name that starts with S\n",
    "docs = collection.find(query)"
   ]
  },
  {
   "cell_type": "code",
   "execution_count": 10,
   "metadata": {},
   "outputs": [
    {
     "name": "stdout",
     "output_type": "stream",
     "text": [
      "{'_id': ObjectId('651c2ef7cb6bdf4db2a597bd'), 'food_id': 1, 'food_name': 'Pizza', 'category': 'Italian', 'calories': 285, 'price_usd': 10.99}\n",
      "{'_id': ObjectId('651c2ef7cb6bdf4db2a597c3'), 'food_id': 7, 'food_name': 'Pizza', 'category': 'Italian', 'calories': 400, 'price_usd': 11.99}\n",
      "{'_id': ObjectId('651c2ef7cb6bdf4db2a597c6'), 'food_id': 10, 'food_name': 'Pizza', 'category': 'Italian', 'calories': 350, 'price_usd': 13.99}\n"
     ]
    }
   ],
   "source": [
    "for record in docs:\n",
    "  print(record)"
   ]
  },
  {
   "cell_type": "code",
   "execution_count": 11,
   "metadata": {},
   "outputs": [],
   "source": [
    "pipeline = [\n",
    "    {\n",
    "        \"$match\": {\"category\": \"Italian\"}\n",
    "    },\n",
    "    { \n",
    "        \"$group\": {\n",
    "            \"_id\": \"$food_name\",  \n",
    "            \"total_calories\": {\"$sum\": \"$calories\"},\n",
    "            \"average_price_usd\": {\"$avg\": \"$price_usd\"}\n",
    "        }\n",
    "    }\n",
    "]\n",
    "\n",
    "italian_aggregation = collection.aggregate (pipeline, allowDiskUse = True)"
   ]
  },
  {
   "cell_type": "code",
   "execution_count": 12,
   "metadata": {},
   "outputs": [],
   "source": [
    "fin = open(\"/home/student/Workbench/bd-f23/W06/mongodb-local/data/result_italian.json\",\"w\")\n",
    "fin.write(bju.dumps(list(italian_aggregation), indent=2))\n",
    "fin.close()\n"
   ]
  },
  {
   "cell_type": "code",
   "execution_count": null,
   "metadata": {},
   "outputs": [],
   "source": []
  }
 ],
 "metadata": {
  "kernelspec": {
   "display_name": "base",
   "language": "python",
   "name": "python3"
  },
  "language_info": {
   "codemirror_mode": {
    "name": "ipython",
    "version": 3
   },
   "file_extension": ".py",
   "mimetype": "text/x-python",
   "name": "python",
   "nbconvert_exporter": "python",
   "pygments_lexer": "ipython3",
   "version": "3.10.12"
  },
  "orig_nbformat": 4
 },
 "nbformat": 4,
 "nbformat_minor": 2
}
